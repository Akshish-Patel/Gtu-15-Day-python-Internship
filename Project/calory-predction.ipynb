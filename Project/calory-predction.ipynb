{
 "cells": [
  {
   "cell_type": "markdown",
   "metadata": {},
   "source": [
    "Importing the Dependencies"
   ]
  },
  {
   "cell_type": "code",
   "execution_count": 48,
   "metadata": {},
   "outputs": [],
   "source": [
    "import numpy as np\n",
    "import pandas as pd\n",
    "import matplotlib.pyplot as plt\n",
    "import seaborn as sns\n",
    "from sklearn.model_selection import train_test_split\n",
    "from xgboost import XGBRegressor\n",
    "from sklearn.ensemble import RandomForestRegressor\n",
    "from sklearn import metrics\n",
    "from sklearn.metrics import accuracy_score"
   ]
  },
  {
   "cell_type": "markdown",
   "metadata": {},
   "source": [
    "Data Collection & Processing"
   ]
  },
  {
   "cell_type": "code",
   "execution_count": 12,
   "metadata": {},
   "outputs": [],
   "source": [
    "# loading the data from csv file to a Pandas DataFrame\n",
    "calories = pd.read_csv('calories.csv')"
   ]
  },
  {
   "cell_type": "code",
   "execution_count": 14,
   "metadata": {},
   "outputs": [
    {
     "data": {
      "text/html": [
       "<div>\n",
       "<style scoped>\n",
       "    .dataframe tbody tr th:only-of-type {\n",
       "        vertical-align: middle;\n",
       "    }\n",
       "\n",
       "    .dataframe tbody tr th {\n",
       "        vertical-align: top;\n",
       "    }\n",
       "\n",
       "    .dataframe thead th {\n",
       "        text-align: right;\n",
       "    }\n",
       "</style>\n",
       "<table border=\"1\" class=\"dataframe\">\n",
       "  <thead>\n",
       "    <tr style=\"text-align: right;\">\n",
       "      <th></th>\n",
       "      <th>User_ID</th>\n",
       "      <th>Calories</th>\n",
       "    </tr>\n",
       "  </thead>\n",
       "  <tbody>\n",
       "    <tr>\n",
       "      <th>0</th>\n",
       "      <td>14733363</td>\n",
       "      <td>231.0</td>\n",
       "    </tr>\n",
       "    <tr>\n",
       "      <th>1</th>\n",
       "      <td>14861698</td>\n",
       "      <td>66.0</td>\n",
       "    </tr>\n",
       "    <tr>\n",
       "      <th>2</th>\n",
       "      <td>11179863</td>\n",
       "      <td>26.0</td>\n",
       "    </tr>\n",
       "    <tr>\n",
       "      <th>3</th>\n",
       "      <td>16180408</td>\n",
       "      <td>71.0</td>\n",
       "    </tr>\n",
       "    <tr>\n",
       "      <th>4</th>\n",
       "      <td>17771927</td>\n",
       "      <td>35.0</td>\n",
       "    </tr>\n",
       "  </tbody>\n",
       "</table>\n",
       "</div>"
      ],
      "text/plain": [
       "    User_ID  Calories\n",
       "0  14733363     231.0\n",
       "1  14861698      66.0\n",
       "2  11179863      26.0\n",
       "3  16180408      71.0\n",
       "4  17771927      35.0"
      ]
     },
     "execution_count": 14,
     "metadata": {},
     "output_type": "execute_result"
    }
   ],
   "source": [
    "# print the first 5 rows of the dataframe\n",
    "calories.head()"
   ]
  },
  {
   "cell_type": "code",
   "execution_count": 15,
   "metadata": {},
   "outputs": [],
   "source": [
    "exercise_data = pd.read_csv('exercise.csv')"
   ]
  },
  {
   "cell_type": "code",
   "execution_count": 16,
   "metadata": {},
   "outputs": [
    {
     "data": {
      "text/html": [
       "<div>\n",
       "<style scoped>\n",
       "    .dataframe tbody tr th:only-of-type {\n",
       "        vertical-align: middle;\n",
       "    }\n",
       "\n",
       "    .dataframe tbody tr th {\n",
       "        vertical-align: top;\n",
       "    }\n",
       "\n",
       "    .dataframe thead th {\n",
       "        text-align: right;\n",
       "    }\n",
       "</style>\n",
       "<table border=\"1\" class=\"dataframe\">\n",
       "  <thead>\n",
       "    <tr style=\"text-align: right;\">\n",
       "      <th></th>\n",
       "      <th>User_ID</th>\n",
       "      <th>Gender</th>\n",
       "      <th>Age</th>\n",
       "      <th>Height</th>\n",
       "      <th>Weight</th>\n",
       "      <th>Duration</th>\n",
       "      <th>Heart_Rate</th>\n",
       "      <th>Body_Temp</th>\n",
       "    </tr>\n",
       "  </thead>\n",
       "  <tbody>\n",
       "    <tr>\n",
       "      <th>0</th>\n",
       "      <td>14733363</td>\n",
       "      <td>male</td>\n",
       "      <td>68</td>\n",
       "      <td>190.0</td>\n",
       "      <td>94.0</td>\n",
       "      <td>29.0</td>\n",
       "      <td>105.0</td>\n",
       "      <td>40.8</td>\n",
       "    </tr>\n",
       "    <tr>\n",
       "      <th>1</th>\n",
       "      <td>14861698</td>\n",
       "      <td>female</td>\n",
       "      <td>20</td>\n",
       "      <td>166.0</td>\n",
       "      <td>60.0</td>\n",
       "      <td>14.0</td>\n",
       "      <td>94.0</td>\n",
       "      <td>40.3</td>\n",
       "    </tr>\n",
       "    <tr>\n",
       "      <th>2</th>\n",
       "      <td>11179863</td>\n",
       "      <td>male</td>\n",
       "      <td>69</td>\n",
       "      <td>179.0</td>\n",
       "      <td>79.0</td>\n",
       "      <td>5.0</td>\n",
       "      <td>88.0</td>\n",
       "      <td>38.7</td>\n",
       "    </tr>\n",
       "    <tr>\n",
       "      <th>3</th>\n",
       "      <td>16180408</td>\n",
       "      <td>female</td>\n",
       "      <td>34</td>\n",
       "      <td>179.0</td>\n",
       "      <td>71.0</td>\n",
       "      <td>13.0</td>\n",
       "      <td>100.0</td>\n",
       "      <td>40.5</td>\n",
       "    </tr>\n",
       "    <tr>\n",
       "      <th>4</th>\n",
       "      <td>17771927</td>\n",
       "      <td>female</td>\n",
       "      <td>27</td>\n",
       "      <td>154.0</td>\n",
       "      <td>58.0</td>\n",
       "      <td>10.0</td>\n",
       "      <td>81.0</td>\n",
       "      <td>39.8</td>\n",
       "    </tr>\n",
       "  </tbody>\n",
       "</table>\n",
       "</div>"
      ],
      "text/plain": [
       "    User_ID  Gender  Age  Height  Weight  Duration  Heart_Rate  Body_Temp\n",
       "0  14733363    male   68   190.0    94.0      29.0       105.0       40.8\n",
       "1  14861698  female   20   166.0    60.0      14.0        94.0       40.3\n",
       "2  11179863    male   69   179.0    79.0       5.0        88.0       38.7\n",
       "3  16180408  female   34   179.0    71.0      13.0       100.0       40.5\n",
       "4  17771927  female   27   154.0    58.0      10.0        81.0       39.8"
      ]
     },
     "execution_count": 16,
     "metadata": {},
     "output_type": "execute_result"
    }
   ],
   "source": [
    "exercise_data.head()"
   ]
  },
  {
   "cell_type": "markdown",
   "metadata": {},
   "source": [
    "Combining the two Dataframes"
   ]
  },
  {
   "cell_type": "code",
   "execution_count": 17,
   "metadata": {},
   "outputs": [],
   "source": [
    "calories_data = pd.concat([exercise_data, calories['Calories']], axis=1)"
   ]
  },
  {
   "cell_type": "code",
   "execution_count": 18,
   "metadata": {},
   "outputs": [
    {
     "data": {
      "text/html": [
       "<div>\n",
       "<style scoped>\n",
       "    .dataframe tbody tr th:only-of-type {\n",
       "        vertical-align: middle;\n",
       "    }\n",
       "\n",
       "    .dataframe tbody tr th {\n",
       "        vertical-align: top;\n",
       "    }\n",
       "\n",
       "    .dataframe thead th {\n",
       "        text-align: right;\n",
       "    }\n",
       "</style>\n",
       "<table border=\"1\" class=\"dataframe\">\n",
       "  <thead>\n",
       "    <tr style=\"text-align: right;\">\n",
       "      <th></th>\n",
       "      <th>User_ID</th>\n",
       "      <th>Gender</th>\n",
       "      <th>Age</th>\n",
       "      <th>Height</th>\n",
       "      <th>Weight</th>\n",
       "      <th>Duration</th>\n",
       "      <th>Heart_Rate</th>\n",
       "      <th>Body_Temp</th>\n",
       "      <th>Calories</th>\n",
       "    </tr>\n",
       "  </thead>\n",
       "  <tbody>\n",
       "    <tr>\n",
       "      <th>0</th>\n",
       "      <td>14733363</td>\n",
       "      <td>male</td>\n",
       "      <td>68</td>\n",
       "      <td>190.0</td>\n",
       "      <td>94.0</td>\n",
       "      <td>29.0</td>\n",
       "      <td>105.0</td>\n",
       "      <td>40.8</td>\n",
       "      <td>231.0</td>\n",
       "    </tr>\n",
       "    <tr>\n",
       "      <th>1</th>\n",
       "      <td>14861698</td>\n",
       "      <td>female</td>\n",
       "      <td>20</td>\n",
       "      <td>166.0</td>\n",
       "      <td>60.0</td>\n",
       "      <td>14.0</td>\n",
       "      <td>94.0</td>\n",
       "      <td>40.3</td>\n",
       "      <td>66.0</td>\n",
       "    </tr>\n",
       "    <tr>\n",
       "      <th>2</th>\n",
       "      <td>11179863</td>\n",
       "      <td>male</td>\n",
       "      <td>69</td>\n",
       "      <td>179.0</td>\n",
       "      <td>79.0</td>\n",
       "      <td>5.0</td>\n",
       "      <td>88.0</td>\n",
       "      <td>38.7</td>\n",
       "      <td>26.0</td>\n",
       "    </tr>\n",
       "    <tr>\n",
       "      <th>3</th>\n",
       "      <td>16180408</td>\n",
       "      <td>female</td>\n",
       "      <td>34</td>\n",
       "      <td>179.0</td>\n",
       "      <td>71.0</td>\n",
       "      <td>13.0</td>\n",
       "      <td>100.0</td>\n",
       "      <td>40.5</td>\n",
       "      <td>71.0</td>\n",
       "    </tr>\n",
       "    <tr>\n",
       "      <th>4</th>\n",
       "      <td>17771927</td>\n",
       "      <td>female</td>\n",
       "      <td>27</td>\n",
       "      <td>154.0</td>\n",
       "      <td>58.0</td>\n",
       "      <td>10.0</td>\n",
       "      <td>81.0</td>\n",
       "      <td>39.8</td>\n",
       "      <td>35.0</td>\n",
       "    </tr>\n",
       "  </tbody>\n",
       "</table>\n",
       "</div>"
      ],
      "text/plain": [
       "    User_ID  Gender  Age  Height  Weight  Duration  Heart_Rate  Body_Temp  \\\n",
       "0  14733363    male   68   190.0    94.0      29.0       105.0       40.8   \n",
       "1  14861698  female   20   166.0    60.0      14.0        94.0       40.3   \n",
       "2  11179863    male   69   179.0    79.0       5.0        88.0       38.7   \n",
       "3  16180408  female   34   179.0    71.0      13.0       100.0       40.5   \n",
       "4  17771927  female   27   154.0    58.0      10.0        81.0       39.8   \n",
       "\n",
       "   Calories  \n",
       "0     231.0  \n",
       "1      66.0  \n",
       "2      26.0  \n",
       "3      71.0  \n",
       "4      35.0  "
      ]
     },
     "execution_count": 18,
     "metadata": {},
     "output_type": "execute_result"
    }
   ],
   "source": [
    "calories_data.head()"
   ]
  },
  {
   "cell_type": "code",
   "execution_count": 19,
   "metadata": {},
   "outputs": [
    {
     "data": {
      "text/plain": [
       "(15000, 9)"
      ]
     },
     "execution_count": 19,
     "metadata": {},
     "output_type": "execute_result"
    }
   ],
   "source": [
    "# checking the number of rows and columns\n",
    "calories_data.shape"
   ]
  },
  {
   "cell_type": "code",
   "execution_count": 20,
   "metadata": {},
   "outputs": [
    {
     "name": "stdout",
     "output_type": "stream",
     "text": [
      "<class 'pandas.core.frame.DataFrame'>\n",
      "RangeIndex: 15000 entries, 0 to 14999\n",
      "Data columns (total 9 columns):\n",
      " #   Column      Non-Null Count  Dtype  \n",
      "---  ------      --------------  -----  \n",
      " 0   User_ID     15000 non-null  int64  \n",
      " 1   Gender      15000 non-null  object \n",
      " 2   Age         15000 non-null  int64  \n",
      " 3   Height      15000 non-null  float64\n",
      " 4   Weight      15000 non-null  float64\n",
      " 5   Duration    15000 non-null  float64\n",
      " 6   Heart_Rate  15000 non-null  float64\n",
      " 7   Body_Temp   15000 non-null  float64\n",
      " 8   Calories    15000 non-null  float64\n",
      "dtypes: float64(6), int64(2), object(1)\n",
      "memory usage: 1.0+ MB\n"
     ]
    }
   ],
   "source": [
    "# getting some informations about the data\n",
    "calories_data.info()"
   ]
  },
  {
   "cell_type": "code",
   "execution_count": 21,
   "metadata": {},
   "outputs": [
    {
     "data": {
      "text/plain": [
       "User_ID       0\n",
       "Gender        0\n",
       "Age           0\n",
       "Height        0\n",
       "Weight        0\n",
       "Duration      0\n",
       "Heart_Rate    0\n",
       "Body_Temp     0\n",
       "Calories      0\n",
       "dtype: int64"
      ]
     },
     "execution_count": 21,
     "metadata": {},
     "output_type": "execute_result"
    }
   ],
   "source": [
    "# checking for missing values\n",
    "calories_data.isnull().sum()"
   ]
  },
  {
   "cell_type": "markdown",
   "metadata": {},
   "source": [
    "Data Analysis"
   ]
  },
  {
   "cell_type": "code",
   "execution_count": 22,
   "metadata": {},
   "outputs": [
    {
     "data": {
      "text/html": [
       "<div>\n",
       "<style scoped>\n",
       "    .dataframe tbody tr th:only-of-type {\n",
       "        vertical-align: middle;\n",
       "    }\n",
       "\n",
       "    .dataframe tbody tr th {\n",
       "        vertical-align: top;\n",
       "    }\n",
       "\n",
       "    .dataframe thead th {\n",
       "        text-align: right;\n",
       "    }\n",
       "</style>\n",
       "<table border=\"1\" class=\"dataframe\">\n",
       "  <thead>\n",
       "    <tr style=\"text-align: right;\">\n",
       "      <th></th>\n",
       "      <th>User_ID</th>\n",
       "      <th>Age</th>\n",
       "      <th>Height</th>\n",
       "      <th>Weight</th>\n",
       "      <th>Duration</th>\n",
       "      <th>Heart_Rate</th>\n",
       "      <th>Body_Temp</th>\n",
       "      <th>Calories</th>\n",
       "    </tr>\n",
       "  </thead>\n",
       "  <tbody>\n",
       "    <tr>\n",
       "      <th>count</th>\n",
       "      <td>1.500000e+04</td>\n",
       "      <td>15000.000000</td>\n",
       "      <td>15000.000000</td>\n",
       "      <td>15000.000000</td>\n",
       "      <td>15000.000000</td>\n",
       "      <td>15000.000000</td>\n",
       "      <td>15000.000000</td>\n",
       "      <td>15000.000000</td>\n",
       "    </tr>\n",
       "    <tr>\n",
       "      <th>mean</th>\n",
       "      <td>1.497736e+07</td>\n",
       "      <td>42.789800</td>\n",
       "      <td>174.465133</td>\n",
       "      <td>74.966867</td>\n",
       "      <td>15.530600</td>\n",
       "      <td>95.518533</td>\n",
       "      <td>40.025453</td>\n",
       "      <td>89.539533</td>\n",
       "    </tr>\n",
       "    <tr>\n",
       "      <th>std</th>\n",
       "      <td>2.872851e+06</td>\n",
       "      <td>16.980264</td>\n",
       "      <td>14.258114</td>\n",
       "      <td>15.035657</td>\n",
       "      <td>8.319203</td>\n",
       "      <td>9.583328</td>\n",
       "      <td>0.779230</td>\n",
       "      <td>62.456978</td>\n",
       "    </tr>\n",
       "    <tr>\n",
       "      <th>min</th>\n",
       "      <td>1.000116e+07</td>\n",
       "      <td>20.000000</td>\n",
       "      <td>123.000000</td>\n",
       "      <td>36.000000</td>\n",
       "      <td>1.000000</td>\n",
       "      <td>67.000000</td>\n",
       "      <td>37.100000</td>\n",
       "      <td>1.000000</td>\n",
       "    </tr>\n",
       "    <tr>\n",
       "      <th>25%</th>\n",
       "      <td>1.247419e+07</td>\n",
       "      <td>28.000000</td>\n",
       "      <td>164.000000</td>\n",
       "      <td>63.000000</td>\n",
       "      <td>8.000000</td>\n",
       "      <td>88.000000</td>\n",
       "      <td>39.600000</td>\n",
       "      <td>35.000000</td>\n",
       "    </tr>\n",
       "    <tr>\n",
       "      <th>50%</th>\n",
       "      <td>1.499728e+07</td>\n",
       "      <td>39.000000</td>\n",
       "      <td>175.000000</td>\n",
       "      <td>74.000000</td>\n",
       "      <td>16.000000</td>\n",
       "      <td>96.000000</td>\n",
       "      <td>40.200000</td>\n",
       "      <td>79.000000</td>\n",
       "    </tr>\n",
       "    <tr>\n",
       "      <th>75%</th>\n",
       "      <td>1.744928e+07</td>\n",
       "      <td>56.000000</td>\n",
       "      <td>185.000000</td>\n",
       "      <td>87.000000</td>\n",
       "      <td>23.000000</td>\n",
       "      <td>103.000000</td>\n",
       "      <td>40.600000</td>\n",
       "      <td>138.000000</td>\n",
       "    </tr>\n",
       "    <tr>\n",
       "      <th>max</th>\n",
       "      <td>1.999965e+07</td>\n",
       "      <td>79.000000</td>\n",
       "      <td>222.000000</td>\n",
       "      <td>132.000000</td>\n",
       "      <td>30.000000</td>\n",
       "      <td>128.000000</td>\n",
       "      <td>41.500000</td>\n",
       "      <td>314.000000</td>\n",
       "    </tr>\n",
       "  </tbody>\n",
       "</table>\n",
       "</div>"
      ],
      "text/plain": [
       "            User_ID           Age        Height        Weight      Duration  \\\n",
       "count  1.500000e+04  15000.000000  15000.000000  15000.000000  15000.000000   \n",
       "mean   1.497736e+07     42.789800    174.465133     74.966867     15.530600   \n",
       "std    2.872851e+06     16.980264     14.258114     15.035657      8.319203   \n",
       "min    1.000116e+07     20.000000    123.000000     36.000000      1.000000   \n",
       "25%    1.247419e+07     28.000000    164.000000     63.000000      8.000000   \n",
       "50%    1.499728e+07     39.000000    175.000000     74.000000     16.000000   \n",
       "75%    1.744928e+07     56.000000    185.000000     87.000000     23.000000   \n",
       "max    1.999965e+07     79.000000    222.000000    132.000000     30.000000   \n",
       "\n",
       "         Heart_Rate     Body_Temp      Calories  \n",
       "count  15000.000000  15000.000000  15000.000000  \n",
       "mean      95.518533     40.025453     89.539533  \n",
       "std        9.583328      0.779230     62.456978  \n",
       "min       67.000000     37.100000      1.000000  \n",
       "25%       88.000000     39.600000     35.000000  \n",
       "50%       96.000000     40.200000     79.000000  \n",
       "75%      103.000000     40.600000    138.000000  \n",
       "max      128.000000     41.500000    314.000000  "
      ]
     },
     "execution_count": 22,
     "metadata": {},
     "output_type": "execute_result"
    }
   ],
   "source": [
    "# get some statistical measures about the data\n",
    "calories_data.describe()"
   ]
  },
  {
   "cell_type": "markdown",
   "metadata": {},
   "source": [
    "Data Visualization"
   ]
  },
  {
   "cell_type": "code",
   "execution_count": 23,
   "metadata": {},
   "outputs": [],
   "source": [
    "sns.set()"
   ]
  },
  {
   "cell_type": "code",
   "execution_count": 25,
   "metadata": {},
   "outputs": [
    {
     "name": "stderr",
     "output_type": "stream",
     "text": [
      "C:\\Users\\Akshi\\AppData\\Local\\Temp\\ipykernel_34888\\1276426137.py:2: FutureWarning: \n",
      "\n",
      "Passing `palette` without assigning `hue` is deprecated and will be removed in v0.14.0. Assign the `x` variable to `hue` and set `legend=False` for the same effect.\n",
      "\n",
      "  sns.countplot(x='Gender', data=calories_data, palette='cool')\n"
     ]
    },
    {
     "data": {
      "text/plain": [
       "<Axes: xlabel='Gender', ylabel='count'>"
      ]
     },
     "execution_count": 25,
     "metadata": {},
     "output_type": "execute_result"
    },
    {
     "data": {
      "image/png": "[encoded data removed]",
      "text/plain": [
       "<Figure size 640x480 with 1 Axes>"
      ]
     },
     "metadata": {},
     "output_type": "display_data"
    }
   ],
   "source": [
    " #plotting the gender column in count plot\n",
    "sns.countplot(x='Gender', data=calories_data, palette='cool')"
   ]
  },
  {
   "cell_type": "code",
   "execution_count": 26,
   "metadata": {},
   "outputs": [
    {
     "name": "stderr",
     "output_type": "stream",
     "text": [
      "C:\\Users\\Akshi\\AppData\\Local\\Temp\\ipykernel_34888\\2692780257.py:2: UserWarning: \n",
      "\n",
      "`distplot` is a deprecated function and will be removed in seaborn v0.14.0.\n",
      "\n",
      "Please adapt your code to use either `displot` (a figure-level function with\n",
      "similar flexibility) or `histplot` (an axes-level function for histograms).\n",
      "\n",
      "For a guide to updating your code to use the new functions, please see\n",
      "https://gist.github.com/mwaskom/de44147ed2974457ad6372750bbe5751\n",
      "\n",
      "  sns.distplot(calories_data['Age'],  color='g', kde=True)\n"
     ]
    },
    {
     "data": {
      "text/plain": [
       "<Axes: xlabel='Age', ylabel='Density'>"
      ]
     },
     "execution_count": 26,
     "metadata": {},
     "output_type": "execute_result"
    },
    {
     "data": {
      "image/png": "[encoded data removed]",
      "text/plain": [
       "<Figure size 640x480 with 1 Axes>"
      ]
     },
     "metadata": {},
     "output_type": "display_data"
    }
   ],
   "source": [
    "# finding the distribution of \"Age\" column\n",
    "sns.distplot(calories_data['Age'],  color='g', kde=True)"
   ]
  },
  {
   "cell_type": "code",
   "execution_count": 27,
   "metadata": {},
   "outputs": [
    {
     "name": "stderr",
     "output_type": "stream",
     "text": [
      "C:\\Users\\Akshi\\AppData\\Local\\Temp\\ipykernel_34888\\454660312.py:2: UserWarning: \n",
      "\n",
      "`distplot` is a deprecated function and will be removed in seaborn v0.14.0.\n",
      "\n",
      "Please adapt your code to use either `displot` (a figure-level function with\n",
      "similar flexibility) or `histplot` (an axes-level function for histograms).\n",
      "\n",
      "For a guide to updating your code to use the new functions, please see\n",
      "https://gist.github.com/mwaskom/de44147ed2974457ad6372750bbe5751\n",
      "\n",
      "  sns.distplot(calories_data['Height'], color='g', kde=True)\n"
     ]
    },
    {
     "data": {
      "text/plain": [
       "<Axes: xlabel='Height', ylabel='Density'>"
      ]
     },
     "execution_count": 27,
     "metadata": {},
     "output_type": "execute_result"
    },
    {
     "data": {
      "image/png": "[encoded data removed]",
      "text/plain": [
       "<Figure size 640x480 with 1 Axes>"
      ]
     },
     "metadata": {},
     "output_type": "display_data"
    }
   ],
   "source": [
    "# finding the distribution of \"Height\" column\n",
    "sns.distplot(calories_data['Height'], color='g', kde=True)"
   ]
  },
  {
   "cell_type": "code",
   "execution_count": 28,
   "metadata": {},
   "outputs": [
    {
     "name": "stderr",
     "output_type": "stream",
     "text": [
      "C:\\Users\\Akshi\\AppData\\Local\\Temp\\ipykernel_34888\\660631756.py:2: UserWarning: \n",
      "\n",
      "`distplot` is a deprecated function and will be removed in seaborn v0.14.0.\n",
      "\n",
      "Please adapt your code to use either `displot` (a figure-level function with\n",
      "similar flexibility) or `histplot` (an axes-level function for histograms).\n",
      "\n",
      "For a guide to updating your code to use the new functions, please see\n",
      "https://gist.github.com/mwaskom/de44147ed2974457ad6372750bbe5751\n",
      "\n",
      "  sns.distplot(calories_data['Weight'], color='g', kde=True)\n"
     ]
    },
    {
     "data": {
      "text/plain": [
       "<Axes: xlabel='Weight', ylabel='Density'>"
      ]
     },
     "execution_count": 28,
     "metadata": {},
     "output_type": "execute_result"
    },
    {
     "data": {
      "image/png": "[encoded data removed]",
      "text/plain": [
       "<Figure size 640x480 with 1 Axes>"
      ]
     },
     "metadata": {},
     "output_type": "display_data"
    }
   ],
   "source": [
    "# finding the distribution of \"Weight\" column\n",
    "sns.distplot(calories_data['Weight'], color='g', kde=True)"
   ]
  },
  {
   "cell_type": "code",
   "execution_count": 29,
   "metadata": {},
   "outputs": [
    {
     "name": "stderr",
     "output_type": "stream",
     "text": [
      "C:\\Users\\Akshi\\AppData\\Local\\Temp\\ipykernel_34888\\1562101221.py:2: UserWarning: \n",
      "\n",
      "`distplot` is a deprecated function and will be removed in seaborn v0.14.0.\n",
      "\n",
      "Please adapt your code to use either `displot` (a figure-level function with\n",
      "similar flexibility) or `histplot` (an axes-level function for histograms).\n",
      "\n",
      "For a guide to updating your code to use the new functions, please see\n",
      "https://gist.github.com/mwaskom/de44147ed2974457ad6372750bbe5751\n",
      "\n",
      "  sns.distplot(calories_data['Heart_Rate'], color='g', kde=True)\n"
     ]
    },
    {
     "data": {
      "text/plain": [
       "<Axes: xlabel='Heart_Rate', ylabel='Density'>"
      ]
     },
     "execution_count": 29,
     "metadata": {},
     "output_type": "execute_result"
    },
    {
     "data": {
      "image/png": "[encoded data removed]",
      "text/plain": [
       "<Figure size 640x480 with 1 Axes>"
      ]
     },
     "metadata": {},
     "output_type": "display_data"
    }
   ],
   "source": [
    "# finding the distribution of \"Heart_Rate\" column\n",
    "sns.distplot(calories_data['Heart_Rate'], color='g', kde=True)"
   ]
  },
  {
   "cell_type": "markdown",
   "metadata": {},
   "source": [
    "Finding the Correlation in the dataset"
   ]
  },
  {
   "cell_type": "markdown",
   "metadata": {},
   "source": [
    "1. Positive Correlation\n",
    "2. Negative Correlation"
   ]
  },
  {
   "cell_type": "code",
   "execution_count": 30,
   "metadata": {},
   "outputs": [],
   "source": [
    "numeric_data = calories_data.select_dtypes(include=[float, int])\n",
    "correlation = numeric_data.corr()"
   ]
  },
  {
   "cell_type": "code",
   "execution_count": 31,
   "metadata": {},
   "outputs": [
    {
     "data": {
      "text/plain": [
       "<Axes: >"
      ]
     },
     "execution_count": 31,
     "metadata": {},
     "output_type": "execute_result"
    },
    {
     "data": {
      "image/png": "[encoded data removed]",
      "text/plain": [
       "<Figure size 1000x1000 with 2 Axes>"
      ]
     },
     "metadata": {},
     "output_type": "display_data"
    }
   ],
   "source": [
    "# constructing a heatmap to understand the correlation\n",
    "plt.figure(figsize=(10,10))\n",
    "sns.heatmap(correlation, cbar=True, square=True, fmt='.1f', annot=True, annot_kws={'size':8}, cmap='Blues')"
   ]
  },
  {
   "cell_type": "markdown",
   "metadata": {},
   "source": [
    "Converting the text data to numerical values"
   ]
  },
  {
   "cell_type": "code",
   "execution_count": 32,
   "metadata": {},
   "outputs": [
    {
     "name": "stderr",
     "output_type": "stream",
     "text": [
      "C:\\Users\\Akshi\\AppData\\Local\\Temp\\ipykernel_34888\\2713499166.py:1: FutureWarning: Downcasting behavior in `replace` is deprecated and will be removed in a future version. To retain the old behavior, explicitly call `result.infer_objects(copy=False)`. To opt-in to the future behavior, set `pd.set_option('future.no_silent_downcasting', True)`\n",
      "  calories_data.replace({\"Gender\":{'male':0,'female':1}}, inplace=True)\n"
     ]
    }
   ],
   "source": [
    "calories_data.replace({\"Gender\":{'male':0,'female':1}}, inplace=True)"
   ]
  },
  {
   "cell_type": "code",
   "execution_count": 33,
   "metadata": {},
   "outputs": [
    {
     "data": {
      "text/html": [
       "<div>\n",
       "<style scoped>\n",
       "    .dataframe tbody tr th:only-of-type {\n",
       "        vertical-align: middle;\n",
       "    }\n",
       "\n",
       "    .dataframe tbody tr th {\n",
       "        vertical-align: top;\n",
       "    }\n",
       "\n",
       "    .dataframe thead th {\n",
       "        text-align: right;\n",
       "    }\n",
       "</style>\n",
       "<table border=\"1\" class=\"dataframe\">\n",
       "  <thead>\n",
       "    <tr style=\"text-align: right;\">\n",
       "      <th></th>\n",
       "      <th>User_ID</th>\n",
       "      <th>Gender</th>\n",
       "      <th>Age</th>\n",
       "      <th>Height</th>\n",
       "      <th>Weight</th>\n",
       "      <th>Duration</th>\n",
       "      <th>Heart_Rate</th>\n",
       "      <th>Body_Temp</th>\n",
       "      <th>Calories</th>\n",
       "    </tr>\n",
       "  </thead>\n",
       "  <tbody>\n",
       "    <tr>\n",
       "      <th>0</th>\n",
       "      <td>14733363</td>\n",
       "      <td>0</td>\n",
       "      <td>68</td>\n",
       "      <td>190.0</td>\n",
       "      <td>94.0</td>\n",
       "      <td>29.0</td>\n",
       "      <td>105.0</td>\n",
       "      <td>40.8</td>\n",
       "      <td>231.0</td>\n",
       "    </tr>\n",
       "    <tr>\n",
       "      <th>1</th>\n",
       "      <td>14861698</td>\n",
       "      <td>1</td>\n",
       "      <td>20</td>\n",
       "      <td>166.0</td>\n",
       "      <td>60.0</td>\n",
       "      <td>14.0</td>\n",
       "      <td>94.0</td>\n",
       "      <td>40.3</td>\n",
       "      <td>66.0</td>\n",
       "    </tr>\n",
       "    <tr>\n",
       "      <th>2</th>\n",
       "      <td>11179863</td>\n",
       "      <td>0</td>\n",
       "      <td>69</td>\n",
       "      <td>179.0</td>\n",
       "      <td>79.0</td>\n",
       "      <td>5.0</td>\n",
       "      <td>88.0</td>\n",
       "      <td>38.7</td>\n",
       "      <td>26.0</td>\n",
       "    </tr>\n",
       "    <tr>\n",
       "      <th>3</th>\n",
       "      <td>16180408</td>\n",
       "      <td>1</td>\n",
       "      <td>34</td>\n",
       "      <td>179.0</td>\n",
       "      <td>71.0</td>\n",
       "      <td>13.0</td>\n",
       "      <td>100.0</td>\n",
       "      <td>40.5</td>\n",
       "      <td>71.0</td>\n",
       "    </tr>\n",
       "    <tr>\n",
       "      <th>4</th>\n",
       "      <td>17771927</td>\n",
       "      <td>1</td>\n",
       "      <td>27</td>\n",
       "      <td>154.0</td>\n",
       "      <td>58.0</td>\n",
       "      <td>10.0</td>\n",
       "      <td>81.0</td>\n",
       "      <td>39.8</td>\n",
       "      <td>35.0</td>\n",
       "    </tr>\n",
       "  </tbody>\n",
       "</table>\n",
       "</div>"
      ],
      "text/plain": [
       "    User_ID  Gender  Age  Height  Weight  Duration  Heart_Rate  Body_Temp  \\\n",
       "0  14733363       0   68   190.0    94.0      29.0       105.0       40.8   \n",
       "1  14861698       1   20   166.0    60.0      14.0        94.0       40.3   \n",
       "2  11179863       0   69   179.0    79.0       5.0        88.0       38.7   \n",
       "3  16180408       1   34   179.0    71.0      13.0       100.0       40.5   \n",
       "4  17771927       1   27   154.0    58.0      10.0        81.0       39.8   \n",
       "\n",
       "   Calories  \n",
       "0     231.0  \n",
       "1      66.0  \n",
       "2      26.0  \n",
       "3      71.0  \n",
       "4      35.0  "
      ]
     },
     "execution_count": 33,
     "metadata": {},
     "output_type": "execute_result"
    }
   ],
   "source": [
    "calories_data.head()"
   ]
  },
  {
   "cell_type": "markdown",
   "metadata": {},
   "source": [
    "Separating features and Target"
   ]
  },
  {
   "cell_type": "code",
   "execution_count": 34,
   "metadata": {},
   "outputs": [],
   "source": [
    "X = calories_data.drop(columns=['User_ID','Calories'], axis=1)\n",
    "Y = calories_data['Calories']"
   ]
  },
  {
   "cell_type": "code",
   "execution_count": 35,
   "metadata": {},
   "outputs": [
    {
     "name": "stdout",
     "output_type": "stream",
     "text": [
      "       Gender  Age  Height  Weight  Duration  Heart_Rate  Body_Temp\n",
      "0           0   68   190.0    94.0      29.0       105.0       40.8\n",
      "1           1   20   166.0    60.0      14.0        94.0       40.3\n",
      "2           0   69   179.0    79.0       5.0        88.0       38.7\n",
      "3           1   34   179.0    71.0      13.0       100.0       40.5\n",
      "4           1   27   154.0    58.0      10.0        81.0       39.8\n",
      "...       ...  ...     ...     ...       ...         ...        ...\n",
      "14995       1   20   193.0    86.0      11.0        92.0       40.4\n",
      "14996       1   27   165.0    65.0       6.0        85.0       39.2\n",
      "14997       1   43   159.0    58.0      16.0        90.0       40.1\n",
      "14998       0   78   193.0    97.0       2.0        84.0       38.3\n",
      "14999       0   63   173.0    79.0      18.0        92.0       40.5\n",
      "\n",
      "[15000 rows x 7 columns]\n"
     ]
    }
   ],
   "source": [
    "print(X)"
   ]
  },
  {
   "cell_type": "code",
   "execution_count": 36,
   "metadata": {},
   "outputs": [
    {
     "name": "stdout",
     "output_type": "stream",
     "text": [
      "0        231.0\n",
      "1         66.0\n",
      "2         26.0\n",
      "3         71.0\n",
      "4         35.0\n",
      "         ...  \n",
      "14995     45.0\n",
      "14996     23.0\n",
      "14997     75.0\n",
      "14998     11.0\n",
      "14999     98.0\n",
      "Name: Calories, Length: 15000, dtype: float64\n"
     ]
    }
   ],
   "source": [
    "print(Y)"
   ]
  },
  {
   "cell_type": "markdown",
   "metadata": {},
   "source": [
    "Splitting the data into training data and Test data"
   ]
  },
  {
   "cell_type": "code",
   "execution_count": 78,
   "metadata": {},
   "outputs": [],
   "source": [
    "X_train, X_test, Y_train, Y_test = train_test_split(X, Y, test_size=0.2, random_state=80) # test_size=0.2 means 20% data will be test data and 80% data will be train data"
   ]
  },
  {
   "cell_type": "code",
   "execution_count": 79,
   "metadata": {},
   "outputs": [
    {
     "name": "stdout",
     "output_type": "stream",
     "text": [
      "(15000, 7) (12000, 7) (3000, 7)\n"
     ]
    }
   ],
   "source": [
    "print(X.shape, X_train.shape, X_test.shape)"
   ]
  },
  {
   "cell_type": "markdown",
   "metadata": {},
   "source": [
    "Model Training"
   ]
  },
  {
   "cell_type": "markdown",
   "metadata": {},
   "source": [
    "1. RandomForestRegressor"
   ]
  },
  {
   "cell_type": "code",
   "execution_count": 80,
   "metadata": {},
   "outputs": [],
   "source": [
    "# loading the model\n",
    "model = RandomForestRegressor()"
   ]
  },
  {
   "cell_type": "code",
   "execution_count": 81,
   "metadata": {},
   "outputs": [
    {
     "data": {
      "text/html": [
       "<style>#sk-container-id-5 {\n",
       "  /* Definition of color scheme common for light and dark mode */\n",
       "  --sklearn-color-text: black;\n",
       "  --sklearn-color-line: gray;\n",
       "  /* Definition of color scheme for unfitted estimators */\n",
       "  --sklearn-color-unfitted-level-0: #fff5e6;\n",
       "  --sklearn-color-unfitted-level-1: #f6e4d2;\n",
       "  --sklearn-color-unfitted-level-2: #ffe0b3;\n",
       "  --sklearn-color-unfitted-level-3: chocolate;\n",
       "  /* Definition of color scheme for fitted estimators */\n",
       "  --sklearn-color-fitted-level-0: #f0f8ff;\n",
       "  --sklearn-color-fitted-level-1: #d4ebff;\n",
       "  --sklearn-color-fitted-level-2: #b3dbfd;\n",
       "  --sklearn-color-fitted-level-3: cornflowerblue;\n",
       "\n",
       "  /* Specific color for light theme */\n",
       "  --sklearn-color-text-on-default-background: var(--sg-text-color, var(--theme-code-foreground, var(--jp-content-font-color1, black)));\n",
       "  --sklearn-color-background: var(--sg-background-color, var(--theme-background, var(--jp-layout-color0, white)));\n",
       "  --sklearn-color-border-box: var(--sg-text-color, var(--theme-code-foreground, var(--jp-content-font-color1, black)));\n",
       "  --sklearn-color-icon: #696969;\n",
       "\n",
       "  @media (prefers-color-scheme: dark) {\n",
       "    /* Redefinition of color scheme for dark theme */\n",
       "    --sklearn-color-text-on-default-background: var(--sg-text-color, var(--theme-code-foreground, var(--jp-content-font-color1, white)));\n",
       "    --sklearn-color-background: var(--sg-background-color, var(--theme-background, var(--jp-layout-color0, #111)));\n",
       "    --sklearn-color-border-box: var(--sg-text-color, var(--theme-code-foreground, var(--jp-content-font-color1, white)));\n",
       "    --sklearn-color-icon: #878787;\n",
       "  }\n",
       "}\n",
       "\n",
       "#sk-container-id-5 {\n",
       "  color: var(--sklearn-color-text);\n",
       "}\n",
       "\n",
       "#sk-container-id-5 pre {\n",
       "  padding: 0;\n",
       "}\n",
       "\n",
       "#sk-container-id-5 input.sk-hidden--visually {\n",
       "  border: 0;\n",
       "  clip: rect(1px 1px 1px 1px);\n",
       "  clip: rect(1px, 1px, 1px, 1px);\n",
       "  height: 1px;\n",
       "  margin: -1px;\n",
       "  overflow: hidden;\n",
       "  padding: 0;\n",
       "  position: absolute;\n",
       "  width: 1px;\n",
       "}\n",
       "\n",
       "#sk-container-id-5 div.sk-dashed-wrapped {\n",
       "  border: 1px dashed var(--sklearn-color-line);\n",
       "  margin: 0 0.4em 0.5em 0.4em;\n",
       "  box-sizing: border-box;\n",
       "  padding-bottom: 0.4em;\n",
       "  background-color: var(--sklearn-color-background);\n",
       "}\n",
       "\n",
       "#sk-container-id-5 div.sk-container {\n",
       "  /* jupyter's `normalize.less` sets `[hidden] { display: none; }`\n",
       "     but bootstrap.min.css set `[hidden] { display: none !important; }`\n",
       "     so we also need the `!important` here to be able to override the\n",
       "     default hidden behavior on the sphinx rendered scikit-learn.org.\n",
       "     See: https://github.com/scikit-learn/scikit-learn/issues/21755 */\n",
       "  display: inline-block !important;\n",
       "  position: relative;\n",
       "}\n",
       "\n",
       "#sk-container-id-5 div.sk-text-repr-fallback {\n",
       "  display: none;\n",
       "}\n",
       "\n",
       "div.sk-parallel-item,\n",
       "div.sk-serial,\n",
       "div.sk-item {\n",
       "  /* draw centered vertical line to link estimators */\n",
       "  background-image: linear-gradient(var(--sklearn-color-text-on-default-background), var(--sklearn-color-text-on-default-background));\n",
       "  background-size: 2px 100%;\n",
       "  background-repeat: no-repeat;\n",
       "  background-position: center center;\n",
       "}\n",
       "\n",
       "/* Parallel-specific style estimator block */\n",
       "\n",
       "#sk-container-id-5 div.sk-parallel-item::after {\n",
       "  content: \"\";\n",
       "  width: 100%;\n",
       "  border-bottom: 2px solid var(--sklearn-color-text-on-default-background);\n",
       "  flex-grow: 1;\n",
       "}\n",
       "\n",
       "#sk-container-id-5 div.sk-parallel {\n",
       "  display: flex;\n",
       "  align-items: stretch;\n",
       "  justify-content: center;\n",
       "  background-color: var(--sklearn-color-background);\n",
       "  position: relative;\n",
       "}\n",
       "\n",
       "#sk-container-id-5 div.sk-parallel-item {\n",
       "  display: flex;\n",
       "  flex-direction: column;\n",
       "}\n",
       "\n",
       "#sk-container-id-5 div.sk-parallel-item:first-child::after {\n",
       "  align-self: flex-end;\n",
       "  width: 50%;\n",
       "}\n",
       "\n",
       "#sk-container-id-5 div.sk-parallel-item:last-child::after {\n",
       "  align-self: flex-start;\n",
       "  width: 50%;\n",
       "}\n",
       "\n",
       "#sk-container-id-5 div.sk-parallel-item:only-child::after {\n",
       "  width: 0;\n",
       "}\n",
       "\n",
       "/* Serial-specific style estimator block */\n",
       "\n",
       "#sk-container-id-5 div.sk-serial {\n",
       "  display: flex;\n",
       "  flex-direction: column;\n",
       "  align-items: center;\n",
       "  background-color: var(--sklearn-color-background);\n",
       "  padding-right: 1em;\n",
       "  padding-left: 1em;\n",
       "}\n",
       "\n",
       "\n",
       "/* Toggleable style: style used for estimator/Pipeline/ColumnTransformer box that is\n",
       "clickable and can be expanded/collapsed.\n",
       "- Pipeline and ColumnTransformer use this feature and define the default style\n",
       "- Estimators will overwrite some part of the style using the `sk-estimator` class\n",
       "*/\n",
       "\n",
       "/* Pipeline and ColumnTransformer style (default) */\n",
       "\n",
       "#sk-container-id-5 div.sk-toggleable {\n",
       "  /* Default theme specific background. It is overwritten whether we have a\n",
       "  specific estimator or a Pipeline/ColumnTransformer */\n",
       "  background-color: var(--sklearn-color-background);\n",
       "}\n",
       "\n",
       "/* Toggleable label */\n",
       "#sk-container-id-5 label.sk-toggleable__label {\n",
       "  cursor: pointer;\n",
       "  display: block;\n",
       "  width: 100%;\n",
       "  margin-bottom: 0;\n",
       "  padding: 0.5em;\n",
       "  box-sizing: border-box;\n",
       "  text-align: center;\n",
       "}\n",
       "\n",
       "#sk-container-id-5 label.sk-toggleable__label-arrow:before {\n",
       "  /* Arrow on the left of the label */\n",
       "  content: \"▸\";\n",
       "  float: left;\n",
       "  margin-right: 0.25em;\n",
       "  color: var(--sklearn-color-icon);\n",
       "}\n",
       "\n",
       "#sk-container-id-5 label.sk-toggleable__label-arrow:hover:before {\n",
       "  color: var(--sklearn-color-text);\n",
       "}\n",
       "\n",
       "/* Toggleable content - dropdown */\n",
       "\n",
       "#sk-container-id-5 div.sk-toggleable__content {\n",
       "  max-height: 0;\n",
       "  max-width: 0;\n",
       "  overflow: hidden;\n",
       "  text-align: left;\n",
       "  /* unfitted */\n",
       "  background-color: var(--sklearn-color-unfitted-level-0);\n",
       "}\n",
       "\n",
       "#sk-container-id-5 div.sk-toggleable__content.fitted {\n",
       "  /* fitted */\n",
       "  background-color: var(--sklearn-color-fitted-level-0);\n",
       "}\n",
       "\n",
       "#sk-container-id-5 div.sk-toggleable__content pre {\n",
       "  margin: 0.2em;\n",
       "  border-radius: 0.25em;\n",
       "  color: var(--sklearn-color-text);\n",
       "  /* unfitted */\n",
       "  background-color: var(--sklearn-color-unfitted-level-0);\n",
       "}\n",
       "\n",
       "#sk-container-id-5 div.sk-toggleable__content.fitted pre {\n",
       "  /* unfitted */\n",
       "  background-color: var(--sklearn-color-fitted-level-0);\n",
       "}\n",
       "\n",
       "#sk-container-id-5 input.sk-toggleable__control:checked~div.sk-toggleable__content {\n",
       "  /* Expand drop-down */\n",
       "  max-height: 200px;\n",
       "  max-width: 100%;\n",
       "  overflow: auto;\n",
       "}\n",
       "\n",
       "#sk-container-id-5 input.sk-toggleable__control:checked~label.sk-toggleable__label-arrow:before {\n",
       "  content: \"▾\";\n",
       "}\n",
       "\n",
       "/* Pipeline/ColumnTransformer-specific style */\n",
       "\n",
       "#sk-container-id-5 div.sk-label input.sk-toggleable__control:checked~label.sk-toggleable__label {\n",
       "  color: var(--sklearn-color-text);\n",
       "  background-color: var(--sklearn-color-unfitted-level-2);\n",
       "}\n",
       "\n",
       "#sk-container-id-5 div.sk-label.fitted input.sk-toggleable__control:checked~label.sk-toggleable__label {\n",
       "  background-color: var(--sklearn-color-fitted-level-2);\n",
       "}\n",
       "\n",
       "/* Estimator-specific style */\n",
       "\n",
       "/* Colorize estimator box */\n",
       "#sk-container-id-5 div.sk-estimator input.sk-toggleable__control:checked~label.sk-toggleable__label {\n",
       "  /* unfitted */\n",
       "  background-color: var(--sklearn-color-unfitted-level-2);\n",
       "}\n",
       "\n",
       "#sk-container-id-5 div.sk-estimator.fitted input.sk-toggleable__control:checked~label.sk-toggleable__label {\n",
       "  /* fitted */\n",
       "  background-color: var(--sklearn-color-fitted-level-2);\n",
       "}\n",
       "\n",
       "#sk-container-id-5 div.sk-label label.sk-toggleable__label,\n",
       "#sk-container-id-5 div.sk-label label {\n",
       "  /* The background is the default theme color */\n",
       "  color: var(--sklearn-color-text-on-default-background);\n",
       "}\n",
       "\n",
       "/* On hover, darken the color of the background */\n",
       "#sk-container-id-5 div.sk-label:hover label.sk-toggleable__label {\n",
       "  color: var(--sklearn-color-text);\n",
       "  background-color: var(--sklearn-color-unfitted-level-2);\n",
       "}\n",
       "\n",
       "/* Label box, darken color on hover, fitted */\n",
       "#sk-container-id-5 div.sk-label.fitted:hover label.sk-toggleable__label.fitted {\n",
       "  color: var(--sklearn-color-text);\n",
       "  background-color: var(--sklearn-color-fitted-level-2);\n",
       "}\n",
       "\n",
       "/* Estimator label */\n",
       "\n",
       "#sk-container-id-5 div.sk-label label {\n",
       "  font-family: monospace;\n",
       "  font-weight: bold;\n",
       "  display: inline-block;\n",
       "  line-height: 1.2em;\n",
       "}\n",
       "\n",
       "#sk-container-id-5 div.sk-label-container {\n",
       "  text-align: center;\n",
       "}\n",
       "\n",
       "/* Estimator-specific */\n",
       "#sk-container-id-5 div.sk-estimator {\n",
       "  font-family: monospace;\n",
       "  border: 1px dotted var(--sklearn-color-border-box);\n",
       "  border-radius: 0.25em;\n",
       "  box-sizing: border-box;\n",
       "  margin-bottom: 0.5em;\n",
       "  /* unfitted */\n",
       "  background-color: var(--sklearn-color-unfitted-level-0);\n",
       "}\n",
       "\n",
       "#sk-container-id-5 div.sk-estimator.fitted {\n",
       "  /* fitted */\n",
       "  background-color: var(--sklearn-color-fitted-level-0);\n",
       "}\n",
       "\n",
       "/* on hover */\n",
       "#sk-container-id-5 div.sk-estimator:hover {\n",
       "  /* unfitted */\n",
       "  background-color: var(--sklearn-color-unfitted-level-2);\n",
       "}\n",
       "\n",
       "#sk-container-id-5 div.sk-estimator.fitted:hover {\n",
       "  /* fitted */\n",
       "  background-color: var(--sklearn-color-fitted-level-2);\n",
       "}\n",
       "\n",
       "/* Specification for estimator info (e.g. \"i\" and \"?\") */\n",
       "\n",
       "/* Common style for \"i\" and \"?\" */\n",
       "\n",
       ".sk-estimator-doc-link,\n",
       "a:link.sk-estimator-doc-link,\n",
       "a:visited.sk-estimator-doc-link {\n",
       "  float: right;\n",
       "  font-size: smaller;\n",
       "  line-height: 1em;\n",
       "  font-family: monospace;\n",
       "  background-color: var(--sklearn-color-background);\n",
       "  border-radius: 1em;\n",
       "  height: 1em;\n",
       "  width: 1em;\n",
       "  text-decoration: none !important;\n",
       "  margin-left: 1ex;\n",
       "  /* unfitted */\n",
       "  border: var(--sklearn-color-unfitted-level-1) 1pt solid;\n",
       "  color: var(--sklearn-color-unfitted-level-1);\n",
       "}\n",
       "\n",
       ".sk-estimator-doc-link.fitted,\n",
       "a:link.sk-estimator-doc-link.fitted,\n",
       "a:visited.sk-estimator-doc-link.fitted {\n",
       "  /* fitted */\n",
       "  border: var(--sklearn-color-fitted-level-1) 1pt solid;\n",
       "  color: var(--sklearn-color-fitted-level-1);\n",
       "}\n",
       "\n",
       "/* On hover */\n",
       "div.sk-estimator:hover .sk-estimator-doc-link:hover,\n",
       ".sk-estimator-doc-link:hover,\n",
       "div.sk-label-container:hover .sk-estimator-doc-link:hover,\n",
       ".sk-estimator-doc-link:hover {\n",
       "  /* unfitted */\n",
       "  background-color: var(--sklearn-color-unfitted-level-3);\n",
       "  color: var(--sklearn-color-background);\n",
       "  text-decoration: none;\n",
       "}\n",
       "\n",
       "div.sk-estimator.fitted:hover .sk-estimator-doc-link.fitted:hover,\n",
       ".sk-estimator-doc-link.fitted:hover,\n",
       "div.sk-label-container:hover .sk-estimator-doc-link.fitted:hover,\n",
       ".sk-estimator-doc-link.fitted:hover {\n",
       "  /* fitted */\n",
       "  background-color: var(--sklearn-color-fitted-level-3);\n",
       "  color: var(--sklearn-color-background);\n",
       "  text-decoration: none;\n",
       "}\n",
       "\n",
       "/* Span, style for the box shown on hovering the info icon */\n",
       ".sk-estimator-doc-link span {\n",
       "  display: none;\n",
       "  z-index: 9999;\n",
       "  position: relative;\n",
       "  font-weight: normal;\n",
       "  right: .2ex;\n",
       "  padding: .5ex;\n",
       "  margin: .5ex;\n",
       "  width: min-content;\n",
       "  min-width: 20ex;\n",
       "  max-width: 50ex;\n",
       "  color: var(--sklearn-color-text);\n",
       "  box-shadow: 2pt 2pt 4pt #999;\n",
       "  /* unfitted */\n",
       "  background: var(--sklearn-color-unfitted-level-0);\n",
       "  border: .5pt solid var(--sklearn-color-unfitted-level-3);\n",
       "}\n",
       "\n",
       ".sk-estimator-doc-link.fitted span {\n",
       "  /* fitted */\n",
       "  background: var(--sklearn-color-fitted-level-0);\n",
       "  border: var(--sklearn-color-fitted-level-3);\n",
       "}\n",
       "\n",
       ".sk-estimator-doc-link:hover span {\n",
       "  display: block;\n",
       "}\n",
       "\n",
       "/* \"?\"-specific style due to the `<a>` HTML tag */\n",
       "\n",
       "#sk-container-id-5 a.estimator_doc_link {\n",
       "  float: right;\n",
       "  font-size: 1rem;\n",
       "  line-height: 1em;\n",
       "  font-family: monospace;\n",
       "  background-color: var(--sklearn-color-background);\n",
       "  border-radius: 1rem;\n",
       "  height: 1rem;\n",
       "  width: 1rem;\n",
       "  text-decoration: none;\n",
       "  /* unfitted */\n",
       "  color: var(--sklearn-color-unfitted-level-1);\n",
       "  border: var(--sklearn-color-unfitted-level-1) 1pt solid;\n",
       "}\n",
       "\n",
       "#sk-container-id-5 a.estimator_doc_link.fitted {\n",
       "  /* fitted */\n",
       "  border: var(--sklearn-color-fitted-level-1) 1pt solid;\n",
       "  color: var(--sklearn-color-fitted-level-1);\n",
       "}\n",
       "\n",
       "/* On hover */\n",
       "#sk-container-id-5 a.estimator_doc_link:hover {\n",
       "  /* unfitted */\n",
       "  background-color: var(--sklearn-color-unfitted-level-3);\n",
       "  color: var(--sklearn-color-background);\n",
       "  text-decoration: none;\n",
       "}\n",
       "\n",
       "#sk-container-id-5 a.estimator_doc_link.fitted:hover {\n",
       "  /* fitted */\n",
       "  background-color: var(--sklearn-color-fitted-level-3);\n",
       "}\n",
       "</style><div id=\"sk-container-id-5\" class=\"sk-top-container\"><div class=\"sk-text-repr-fallback\"><pre>RandomForestRegressor()</pre><b>In a Jupyter environment, please rerun this cell to show the HTML representation or trust the notebook. <br />On GitHub, the HTML representation is unable to render, please try loading this page with nbviewer.org.</b></div><div class=\"sk-container\" hidden><div class=\"sk-item\"><div class=\"sk-estimator fitted sk-toggleable\"><input class=\"sk-toggleable__control sk-hidden--visually\" id=\"sk-estimator-id-5\" type=\"checkbox\" checked><label for=\"sk-estimator-id-5\" class=\"sk-toggleable__label fitted sk-toggleable__label-arrow fitted\">&nbsp;&nbsp;RandomForestRegressor<a class=\"sk-estimator-doc-link fitted\" rel=\"noreferrer\" target=\"_blank\" href=\"https://scikit-learn.org/1.5/modules/generated/sklearn.ensemble.RandomForestRegressor.html\">?<span>Documentation for RandomForestRegressor</span></a><span class=\"sk-estimator-doc-link fitted\">i<span>Fitted</span></span></label><div class=\"sk-toggleable__content fitted\"><pre>RandomForestRegressor()</pre></div> </div></div></div></div>"
      ],
      "text/plain": [
       "RandomForestRegressor()"
      ]
     },
     "execution_count": 81,
     "metadata": {},
     "output_type": "execute_result"
    }
   ],
   "source": [
    "# training the model with X_train\n",
    "model.fit(X_train, Y_train)"
   ]
  },
  {
   "cell_type": "markdown",
   "metadata": {},
   "source": [
    "Evaluation"
   ]
  },
  {
   "cell_type": "markdown",
   "metadata": {},
   "source": [
    "Prediction on Test Data"
   ]
  },
  {
   "cell_type": "code",
   "execution_count": 82,
   "metadata": {},
   "outputs": [],
   "source": [
    "test_data_prediction = model.predict(X_test)"
   ]
  },
  {
   "cell_type": "code",
   "execution_count": 83,
   "metadata": {},
   "outputs": [
    {
     "name": "stdout",
     "output_type": "stream",
     "text": [
      "Predicted Data\n",
      "[5.78, 107.13, 52.7, 96.09, 181.1, 93.44, 20.76, 140.52, 7.31, 30.37, 5.13, 200.45, 60.77, 13.64, 184.95, 42.99, 67.07, 130.32, 112.31, 99.9, 73.61, 141.02, 2.69, 169.77, 94.35, 99.69, 132.03, 19.53, 112.55, 34.93, 29.19, 3.91, 148.44, 177.89, 114.11, 217.58, 124.38, 57.24, 21.64, 113.77, 162.75, 13.27, 223.13, 35.79, 10.63, 43.87, 29.15, 142.46, 7.01, 91.0, 184.46, 153.95, 95.56, 49.06, 144.68, 102.33, 23.43, 9.68, 58.03, 135.27, 9.51, 127.15, 20.41, 19.04, 13.4, 111.62, 165.71, 14.72, 29.98, 3.46, 17.68, 225.67, 114.4, 169.21, 194.8, 81.84, 17.64, 107.35, 79.17, 20.02, 180.18, 31.49, 232.9, 19.81, 144.09, 102.77, 183.84, 37.37, 25.61, 65.0, 42.33, 44.58, 189.19, 56.18, 133.73, 4.23, 11.66, 14.14, 136.6, 136.56, 129.89, 20.64, 127.17, 114.47, 165.66, 40.5, 112.26, 158.51, 63.41, 231.64, 25.63, 202.52, 153.98, 118.72, 123.27, 20.22, 97.25, 87.16, 55.93, 108.87, 154.39, 58.15, 47.31, 191.21, 47.21, 118.96, 78.85, 88.49, 224.55, 209.68, 36.41, 37.25, 83.25, 113.27, 164.02, 43.61, 146.95, 10.97, 157.19, 100.55, 76.87, 60.95, 112.0, 5.98, 72.81, 71.05, 27.23, 66.89, 79.34, 188.36, 100.82, 111.27, 212.59, 32.26, 141.88, 9.97, 139.05, 144.65, 9.0, 9.5, 171.48, 12.93, 129.58, 61.64, 18.29, 222.84, 12.38, 125.74, 133.36, 145.51, 7.09, 112.65, 107.41, 124.9, 33.94, 82.61, 214.18, 83.12, 116.51, 56.96, 147.76, 67.13, 91.89, 152.73, 115.32, 222.4, 28.59, 5.26, 192.24, 210.71, 117.5, 95.88, 181.22, 50.61, 64.27, 90.64, 50.82, 67.38, 10.41, 60.98, 100.29, 132.51, 187.56, 27.54, 56.35, 8.52, 23.27, 37.56, 121.59, 132.66, 38.42, 126.21, 67.1, 2.96, 28.91, 73.47, 213.92, 30.0, 80.02, 20.11, 25.0, 8.15, 138.44, 137.29, 68.37, 206.3, 148.09, 103.87, 136.72, 197.49, 128.89, 200.7, 66.18, 82.32, 40.86, 10.77, 116.08, 70.03, 93.99, 48.24, 23.34, 41.6, 145.18, 52.96, 54.54, 5.99, 40.87, 26.84, 64.22, 43.99, 10.74, 125.5, 103.22, 100.43, 3.97, 79.13, 90.63, 40.3, 85.06, 204.13, 41.34, 11.0, 29.83, 55.14, 128.95, 30.85, 45.53, 135.43, 52.56, 111.26, 124.71, 188.05, 58.38, 21.81, 2.95, 55.64, 54.46, 9.81, 25.2, 99.92, 49.98, 17.99, 158.24, 7.66, 114.38, 5.77, 50.27, 243.88, 82.16, 206.09, 23.13, 49.85, 7.54, 4.77, 141.22, 112.64, 27.1, 80.49, 144.73, 13.36, 119.62, 208.15, 40.07, 52.81, 32.88, 134.76, 10.59, 177.98, 182.46, 96.74, 102.69, 190.87, 99.0, 3.98, 98.44, 117.74, 47.76, 101.89, 8.15, 13.97, 85.13, 200.6, 8.15, 94.24, 59.44, 8.55, 56.87, 39.08, 24.24, 5.04, 78.7, 103.04, 53.69, 152.33, 101.23, 169.94, 159.83, 99.17, 7.06, 49.47, 121.81, 34.65, 172.06, 115.45, 118.86, 9.85, 7.01, 154.38, 23.44, 109.45, 66.22, 168.9, 154.16, 134.94, 43.67, 68.07, 23.66, 235.22, 105.44, 41.73, 102.12, 167.86, 166.27, 58.42, 84.04, 29.49, 8.53, 72.89, 167.85, 187.91, 49.21, 64.92, 187.73, 21.98, 54.02, 2.43, 103.74, 24.15, 4.44, 201.65, 43.23, 51.93, 149.5, 3.38, 69.07, 4.03, 149.55, 105.16, 151.5, 105.35, 80.19, 171.66, 89.23, 11.26, 86.5, 22.86, 51.7, 34.03, 140.16, 112.69, 17.22, 141.02, 104.9, 206.99, 175.61, 95.22, 73.8, 161.93, 20.8, 31.09, 66.39, 245.99, 5.66, 101.57, 129.88, 83.83, 65.71, 29.25, 49.11, 18.12, 145.72, 62.4, 18.43, 131.01, 114.13, 48.49, 92.35, 78.02, 171.66, 111.79, 108.83, 148.73, 157.6, 13.2, 125.2, 1.22, 49.19, 181.59, 195.64, 66.63, 64.21, 66.37, 43.22, 90.77, 176.39, 12.39, 73.51, 109.53, 142.39, 54.46, 169.38, 118.11, 79.44, 84.49, 56.78, 4.61, 19.02, 181.81, 182.62, 173.35, 141.46, 186.03, 38.41, 152.72, 73.81, 215.7, 33.88, 6.85, 168.97, 152.08, 39.97, 198.81, 94.46, 54.15, 150.54, 112.55, 18.93, 127.79, 5.88, 62.95, 40.62, 34.39, 8.5, 159.08, 30.53, 60.37, 44.48, 53.46, 72.58, 62.47, 22.56, 23.62, 141.14, 5.7, 90.22, 45.31, 85.74, 13.13, 185.75, 18.23, 170.38, 115.29, 6.95, 119.84, 8.89, 98.89, 99.9, 27.91, 61.73, 30.21, 236.81, 47.34, 28.79, 2.63, 236.85, 12.67, 14.41, 13.32, 62.77, 11.45, 34.0, 66.73, 78.53, 166.67, 138.7, 100.79, 11.34, 29.57, 164.24, 80.53, 148.68, 120.98, 9.72, 23.92, 8.61, 101.03, 158.45, 8.45, 42.22, 18.56, 37.23, 89.42, 25.79, 158.88, 78.88, 70.53, 39.33, 23.83, 15.23, 63.01, 152.08, 102.83, 113.83, 86.55, 67.15, 28.32, 151.35, 90.91, 185.58, 183.12, 3.97, 189.98, 92.6, 9.1, 97.02, 152.89, 7.7, 173.98, 4.0, 125.46, 158.42, 28.41, 56.43, 78.57, 51.62, 161.74, 6.54, 96.43, 131.98, 149.46, 8.75, 85.09, 71.16, 61.51, 167.54, 95.12, 73.69, 18.34, 12.21, 178.69, 24.44, 124.68, 155.27, 164.06, 13.99, 122.95, 63.51, 37.35, 189.95, 200.42, 79.14, 202.14, 67.36, 8.88, 148.78, 31.41, 35.68, 26.19, 146.53, 8.86, 183.11, 135.9, 208.68, 12.45, 24.99, 96.24, 158.88, 137.44, 209.66, 32.75, 40.05, 24.56, 65.76, 78.28, 41.31, 177.8, 22.94, 81.28, 87.94, 72.91, 76.35, 163.08, 20.63, 181.57, 73.63, 186.8, 193.71, 49.37, 157.84, 10.58, 119.91, 50.8, 99.35, 146.19, 179.75, 16.25, 143.82, 13.47, 169.19, 120.4, 87.67, 165.16, 141.25, 72.87, 140.19, 176.21, 143.58, 13.06, 70.86, 15.5, 102.59, 208.0, 146.09, 222.4, 104.0, 6.99, 126.62, 181.64, 60.86, 194.88, 153.73, 108.96, 15.97, 70.52, 112.64, 131.76, 86.25, 48.13, 70.85, 29.61, 77.01, 61.89, 76.08, 51.52, 98.27, 46.95, 102.29, 53.7, 151.56, 60.68, 16.55, 120.66, 165.97, 4.92, 224.04, 61.15, 126.76, 86.15, 108.5, 37.91, 208.45, 143.09, 43.05, 70.54, 25.69, 42.06, 110.87, 14.78, 170.73, 87.43, 92.21, 143.67, 9.93, 90.66, 28.71, 12.24, 20.1, 4.86, 27.37, 78.32, 41.49, 39.76, 131.01, 238.14, 95.36, 58.1, 157.03, 116.59, 149.33, 101.17, 106.48, 3.87, 10.25, 166.52, 4.93, 77.77, 133.43, 180.77, 13.79, 29.81, 22.81, 33.43, 95.22, 208.78, 185.75, 218.49, 23.6, 126.72, 75.32, 8.36, 196.46, 49.92, 16.96, 4.12, 5.62, 192.13, 23.45, 135.73, 62.03, 63.37, 81.63, 2.51, 81.6, 47.94, 108.2, 160.06, 90.99, 30.92, 86.19, 85.09, 159.68, 202.92, 48.37, 158.53, 227.77, 79.19, 89.7, 15.1, 115.55, 92.88, 38.99, 102.89, 155.78, 187.33, 162.25, 13.75, 213.43, 48.04, 171.99, 26.53, 91.07, 39.07, 48.58, 232.92, 33.51, 18.76, 82.96, 26.22, 66.57, 48.91, 162.52, 52.35, 110.15, 7.21, 217.07, 14.98, 46.61, 74.65, 59.49, 2.99, 51.8, 46.63, 52.83, 83.32, 86.06, 13.39, 100.08, 112.35, 120.51, 90.36, 80.02, 176.92, 29.37, 236.31, 158.31, 106.11, 108.6, 19.21, 128.61, 62.57, 69.98, 54.36, 17.01, 9.23, 74.65, 6.94, 20.89, 134.63, 7.16, 13.94, 7.3, 60.64, 60.87, 165.56, 69.47, 2.69, 25.71, 29.56, 106.81, 20.8, 162.41, 12.14, 18.68, 11.73, 78.13, 136.69, 189.36, 16.97, 69.57, 134.6, 168.43, 118.7, 229.75, 60.97, 41.43, 31.02, 150.83, 35.23, 55.91, 19.48, 12.7, 130.33, 67.08, 22.36, 20.59, 12.17, 58.8, 32.33, 9.69, 42.37, 118.03, 109.69, 182.35, 157.58, 151.77, 44.06, 130.9, 73.01, 72.08, 7.73, 28.34, 81.15, 113.59, 181.91, 37.04, 105.27, 86.93, 68.38, 202.01, 56.91, 42.35, 105.83, 190.2, 109.05, 21.69, 3.3, 5.67, 60.1, 166.37, 117.07, 22.48, 81.25, 210.36, 31.1, 40.1, 20.7, 43.32, 4.23, 104.74, 119.63, 14.0, 9.88, 114.77, 65.57, 10.88, 8.4, 91.68, 140.79, 188.55, 27.45, 89.33, 212.05, 146.98, 63.85, 110.33, 109.74, 45.11, 183.51, 19.54, 118.4, 205.5, 150.25, 64.64, 202.86, 67.47, 61.95, 12.31, 6.13, 142.29, 57.88, 126.06, 59.83, 6.21, 245.53, 195.52, 163.97, 72.26, 6.19, 8.98, 108.65, 220.61, 65.73, 218.9, 50.02, 74.1, 44.84, 155.05, 12.75, 124.84, 39.45, 15.28, 167.27, 185.02, 34.21, 12.54, 90.47, 113.14, 171.61, 135.28, 70.49, 83.16, 56.28, 237.93, 144.55, 88.52, 132.03, 45.31, 16.04, 35.56, 139.71, 184.61, 72.71, 188.88, 109.93, 17.15, 118.4, 51.8, 162.31, 134.84, 170.96, 52.22, 159.36, 135.71, 127.71, 21.67, 25.8, 75.06, 44.57, 105.34, 95.1, 23.09, 178.31, 169.28, 123.02, 9.78, 141.11, 43.11, 15.03, 50.34, 39.13, 28.53, 140.56, 69.84, 71.94, 53.0, 23.33, 57.78, 58.4, 162.99, 23.92, 54.37, 191.28, 117.14, 31.48, 154.74, 18.13, 26.9, 24.48, 13.11, 130.53, 125.19, 15.3, 84.74, 6.27, 137.56, 162.87, 164.49, 24.83, 45.07, 58.44, 45.25, 1.89, 170.87, 24.05, 11.92, 3.97, 123.58, 133.58, 131.31, 95.56, 114.33, 16.95, 33.93, 106.51, 46.38, 102.64, 22.83, 14.96, 8.0, 179.79, 18.59, 198.41, 54.32, 121.48, 103.82, 90.67, 131.66, 166.44, 20.09, 171.92, 168.15, 61.49, 9.15, 59.4, 165.65, 164.41, 140.83, 58.35, 61.28, 23.78, 82.18, 92.59, 136.64, 76.15, 227.48, 7.05, 154.98, 86.23, 151.16, 8.68, 84.57, 39.74, 170.35, 39.04, 35.12, 213.8, 3.4, 104.14, 95.99, 263.36, 174.14, 50.11, 55.39, 193.94, 160.25, 7.04, 109.71, 146.06, 154.91, 192.41, 107.12, 94.22, 76.29, 202.45, 93.16, 165.52, 44.25, 135.2, 157.43, 70.57, 127.0, 154.81, 25.65, 103.11, 116.81, 153.95, 8.93, 20.63, 165.93, 170.89, 65.55, 19.85, 64.76, 111.67, 174.53, 54.8, 135.74, 95.38, 142.69, 100.43, 42.54, 73.08, 17.74, 90.05, 36.95, 67.69, 78.73, 106.89, 156.73, 146.83, 172.24, 188.98, 59.73, 30.36, 59.37, 10.18, 50.95, 126.97, 214.83, 175.11, 74.68, 153.88, 223.17, 58.28, 119.66, 183.19, 37.85, 24.65, 152.51, 183.38, 73.64, 110.82, 5.95, 156.15, 51.47, 4.96, 42.44, 43.28, 129.73, 132.19, 128.34, 128.78, 205.37, 30.84, 121.84, 16.47, 127.38, 181.44, 26.68, 206.96, 64.04, 56.12, 14.48, 102.58, 122.17, 123.46, 126.24, 155.37, 136.93, 112.95, 49.18, 7.21, 15.7, 12.95, 70.05, 25.02, 215.96, 114.62, 155.42, 224.0, 80.12, 91.35, 30.95, 150.65, 70.99, 150.84, 65.31, 40.77, 140.55, 22.41, 56.49, 53.81, 23.49, 172.62, 179.52, 128.01, 22.62, 19.03, 29.93, 214.48, 31.64, 150.58, 12.67, 64.81, 119.82, 134.05, 19.03, 129.69, 163.68, 171.87, 36.24, 18.5, 168.5, 63.05, 70.69, 162.62, 24.46, 72.12, 51.21, 27.98, 152.32, 123.03, 166.47, 21.87, 11.79, 14.79, 87.78, 145.87, 150.98, 30.43, 35.59, 25.77, 159.96, 9.58, 51.59, 61.96, 138.06, 81.06, 140.75, 160.56, 116.21, 118.27, 129.81, 60.06, 35.34, 149.8, 75.51, 184.28, 151.03, 124.02, 34.91, 113.37, 38.37, 85.83, 10.66, 76.26, 153.17, 139.03, 242.26, 18.74, 230.41, 6.57, 66.22, 96.0, 66.81, 31.86, 106.67, 177.56, 19.52, 27.84, 28.3, 4.2, 96.45, 42.65, 6.33, 58.12, 57.44, 23.95, 115.53, 100.48, 162.75, 130.9, 153.95, 190.49, 8.23, 136.39, 91.2, 73.64, 31.51, 120.47, 115.88, 11.37, 77.17, 6.08, 72.8, 15.27, 175.8, 26.37, 54.34, 70.29, 94.73, 55.63, 22.94, 173.38, 75.29, 137.69, 73.66, 21.91, 180.3, 11.65, 138.14, 235.76, 63.58, 14.45, 9.59, 32.62, 110.44, 27.48, 27.57, 17.03, 210.66, 154.6, 142.06, 7.2, 139.37, 99.57, 53.68, 122.51, 178.08, 91.65, 45.03, 124.71, 58.09, 82.83, 40.03, 155.94, 57.6, 177.22, 17.4, 50.16, 74.96, 131.58, 150.91, 59.09, 153.59, 92.34, 10.31, 67.93, 194.21, 158.01, 55.87, 122.71, 23.62, 128.32, 113.16, 162.54, 178.71, 28.72, 127.21, 82.67, 50.02, 24.15, 91.09, 183.78, 23.12, 134.8, 40.41, 13.06, 73.37, 170.38, 115.05, 27.95, 142.37, 58.84, 105.8, 85.72, 34.15, 176.4, 107.52, 177.37, 5.05, 127.67, 184.16, 54.71, 113.95, 123.21, 21.76, 6.89, 241.98, 221.6, 59.63, 64.34, 79.91, 58.75, 3.31, 7.08, 75.26, 59.22, 149.37, 21.86, 32.05, 156.53, 3.96, 161.14, 50.75, 107.08, 117.56, 95.94, 175.2, 103.78, 25.06, 13.33, 18.87, 75.88, 36.04, 12.31, 9.24, 34.12, 100.48, 195.58, 12.03, 88.12, 22.33, 168.38, 57.86, 72.28, 141.41, 27.97, 149.61, 132.24, 79.83, 33.98, 41.17, 49.29, 77.66, 37.39, 81.99, 68.79, 88.71, 92.57, 43.99, 148.99, 71.69, 254.5, 25.87, 28.02, 45.25, 104.89, 53.35, 64.04, 89.85, 27.7, 194.64, 59.8, 11.29, 185.61, 89.76, 108.14, 155.22, 125.17, 96.73, 27.19, 95.13, 217.89, 153.08, 87.47, 154.37, 84.73, 162.31, 107.78, 118.05, 58.04, 40.19, 105.52, 86.69, 73.68, 134.96, 116.48, 199.05, 148.52, 23.01, 47.53, 55.61, 47.08, 165.07, 86.55, 182.8, 87.93, 12.85, 48.2, 178.75, 10.15, 12.73, 61.44, 179.32, 10.79, 26.56, 131.51, 17.99, 150.51, 17.25, 89.71, 96.14, 63.52, 73.15, 7.38, 34.89, 191.0, 69.8, 21.87, 87.57, 18.77, 69.65, 235.27, 73.71, 14.69, 45.26, 184.0, 3.51, 126.14, 21.52, 206.41, 43.54, 104.14, 135.83, 12.91, 63.91, 156.11, 126.98, 16.19, 40.45, 176.75, 143.76, 74.98, 84.93, 46.24, 115.05, 81.38, 17.87, 52.26, 209.21, 81.04, 125.71, 86.95, 10.98, 110.99, 190.52, 115.22, 104.36, 31.08, 35.02, 64.34, 105.51, 54.37, 175.23, 19.87, 123.62, 13.96, 149.43, 47.47, 45.72, 38.1, 105.07, 51.17, 47.71, 69.89, 61.78, 154.91, 179.85, 2.05, 106.44, 31.62, 22.92, 70.31, 105.62, 3.63, 67.46, 105.58, 166.28, 17.02, 146.08, 190.78, 9.19, 98.87, 58.55, 141.54, 64.8, 41.49, 161.43, 133.78, 23.55, 33.81, 72.26, 88.17, 93.25, 28.67, 168.47, 31.74, 61.77, 27.59, 19.85, 32.08, 101.37, 78.46, 29.79, 241.45, 148.63, 225.51, 23.14, 45.84, 5.6, 38.72, 99.4, 34.67, 56.29, 122.94, 12.48, 132.02, 129.37, 171.05, 25.6, 148.4, 16.16, 155.18, 15.85, 184.55, 70.32, 22.99, 6.15, 18.44, 127.19, 26.33, 16.13, 81.54, 201.61, 190.27, 124.28, 20.06, 1.37, 56.08, 46.15, 3.86, 14.54, 111.89, 14.59, 136.44, 123.72, 223.5, 159.43, 200.95, 12.92, 12.08, 8.12, 45.66, 151.3, 147.65, 169.34, 166.71, 28.93, 74.43, 159.84, 179.62, 130.77, 195.56, 14.8, 44.3, 25.73, 151.97, 110.53, 31.35, 9.67, 11.35, 169.32, 212.1, 54.16, 163.89, 147.81, 104.96, 118.21, 118.16, 15.95, 20.36, 93.81, 48.03, 233.22, 29.39, 104.55, 186.31, 106.25, 200.1, 11.9, 79.87, 129.26, 38.64, 103.61, 209.85, 119.17, 35.22, 17.69, 41.59, 16.13, 74.67, 163.25, 177.38, 63.04, 181.45, 39.33, 134.05, 141.78, 147.15, 77.47, 204.8, 33.22, 88.19, 205.4, 116.18, 147.92, 185.19, 31.16, 17.15, 218.12, 89.72, 126.23, 234.64, 20.93, 59.01, 77.69, 5.96, 69.65, 50.99, 76.16, 91.06, 156.29, 166.81, 14.93, 31.34, 87.42, 31.14, 5.46, 56.02, 74.49, 3.97, 100.79, 52.8, 40.14, 136.81, 59.44, 25.68, 187.69, 51.37, 75.54, 114.92, 26.72, 100.45, 55.63, 158.27, 11.8, 19.1, 84.7, 122.41, 7.96, 134.16, 181.98, 189.43, 113.21, 3.55, 167.33, 55.31, 165.92, 206.16, 46.22, 88.63, 56.5, 140.79, 68.9, 261.24, 31.11, 97.76, 9.1, 150.48, 12.93, 150.3, 175.56, 38.51, 98.61, 72.96, 7.83, 132.68, 29.74, 194.44, 166.01, 80.53, 22.53, 95.82, 25.84, 111.58, 37.65, 198.49, 113.08, 169.57, 187.93, 92.56, 42.09, 49.95, 25.07, 59.67, 187.65, 58.43, 75.13, 19.39, 90.75, 44.19, 196.23, 123.74, 67.83, 183.41, 157.05, 11.83, 9.7, 108.63, 96.85, 94.24, 45.68, 16.93, 34.5, 140.23, 37.57, 33.86, 110.5, 117.97, 168.92, 25.84, 82.31, 13.3, 180.35, 73.02, 91.5, 30.24, 119.03, 84.48, 151.48, 13.92, 180.07, 141.66, 165.56, 110.4, 4.56, 79.61, 209.49, 206.71, 18.28, 180.95, 171.09, 35.94, 2.9, 26.15, 117.14, 105.71, 18.46, 154.45, 29.67, 2.91, 11.87, 191.66, 28.68, 180.38, 163.44, 81.17, 116.73, 7.47, 15.89, 116.34, 6.66, 55.38, 184.21, 65.41, 148.7, 67.52, 42.88, 216.83, 64.01, 19.67, 34.98, 45.64, 189.43, 45.02, 53.22, 60.27, 221.37, 166.49, 52.14, 41.42, 100.88, 5.36, 9.61, 64.96, 104.26, 89.21, 13.22, 34.33, 48.29, 9.83, 3.88, 22.74, 86.56, 12.71, 79.14, 133.79, 100.87, 78.78, 105.09, 191.01, 60.77, 109.35, 176.9, 14.1, 164.9, 201.62, 107.01, 83.45, 17.34, 144.58, 47.42, 21.35, 86.84, 146.95, 101.93, 17.27, 65.52, 76.05, 91.53, 9.84, 144.93, 60.52, 32.96, 161.02, 118.14, 79.14, 19.2, 20.62, 86.9, 78.77, 196.56, 221.66, 137.48, 186.35, 61.72, 16.09, 165.07, 92.18, 7.39, 28.99, 144.21, 22.05, 40.38, 43.25, 106.57, 64.21, 16.16, 142.94, 224.48, 148.43, 194.18, 51.66, 83.21, 109.82, 31.95, 30.76, 63.04, 32.33, 12.28, 89.6, 51.89, 72.84, 60.8, 97.39, 9.47, 72.0, 2.87, 47.47, 124.65, 61.47, 69.27, 36.55, 25.21, 42.43, 84.66, 188.12, 69.83, 111.96, 96.83, 190.29, 9.69, 19.78, 48.08, 179.84, 28.97, 11.0, 55.59, 224.12, 60.6, 184.13, 6.12, 192.37, 46.53, 103.59, 72.86, 138.1, 11.1, 85.46, 81.65, 178.44, 164.69, 32.02, 59.58, 142.6, 20.94, 184.87, 7.52, 56.14, 143.64, 44.63, 147.15, 33.61, 142.64, 53.51, 10.32, 32.76, 31.45, 24.86, 109.09, 54.7, 44.52, 96.77, 179.54, 107.23, 61.47, 14.13, 71.12, 181.87, 168.49, 142.3, 16.68, 4.73, 117.17, 78.93, 145.06, 187.22, 220.16, 121.08, 45.11, 86.13, 73.28, 117.8, 3.18, 113.5, 114.28, 153.31, 138.83, 43.87, 203.22, 28.18, 92.75, 93.19, 134.19, 89.52, 5.69, 49.71, 7.05, 231.94, 168.3, 33.19, 57.04, 32.62, 108.58, 12.83, 53.47, 10.6, 30.1, 3.04, 9.09, 80.87, 149.45, 25.83, 9.67, 107.25, 119.13, 13.01, 4.08, 185.51, 44.35, 96.26, 8.51, 91.81, 138.55, 117.6, 105.3, 7.31, 134.14, 85.11, 88.77, 43.01, 242.76, 11.9, 34.83, 37.28, 70.38, 60.12, 79.5, 8.61, 84.19, 3.14, 130.24, 39.53, 19.43, 162.99, 86.27, 120.17, 48.39, 196.28, 42.9, 53.59, 29.47, 14.58, 67.15, 163.48, 6.97, 177.57, 108.11, 13.02, 121.98, 6.15, 141.11, 128.14, 49.34, 37.5, 162.83, 252.28, 180.48, 135.96, 149.51, 23.86, 174.82, 111.32, 172.23, 74.81, 42.5, 130.45, 155.74, 38.86, 123.53, 150.29, 46.24, 125.44, 52.1, 3.33, 134.8, 17.59, 25.54, 206.87, 12.06, 158.13, 150.14, 81.62, 112.38, 74.86, 100.07, 15.22, 37.13, 144.12, 76.69, 181.83, 111.55, 183.79, 10.79, 18.56, 16.81, 132.0, 66.26, 96.31, 20.3, 70.47, 15.38, 38.24, 113.17, 46.99, 20.27, 52.96, 5.79, 20.66, 159.18, 161.01, 63.54, 115.22, 125.97, 111.02, 71.35, 101.76, 61.91, 57.62, 83.68, 5.85, 176.8, 88.09, 194.08, 172.22, 36.5, 34.05, 104.06, 15.28, 176.52, 149.44, 189.61, 3.24, 85.7, 4.76, 147.03, 91.85, 65.93, 51.1, 44.68, 6.62, 186.48, 16.1, 9.34, 166.64, 41.49, 22.74, 35.81, 7.54, 27.8, 105.5, 25.71, 117.45, 20.5, 61.47, 88.95, 141.89, 48.4, 16.05, 24.01, 19.85, 187.1, 79.67, 121.46, 148.84, 130.99, 126.92, 79.27, 47.88, 193.35, 135.26, 15.24, 45.84, 42.96, 66.69, 81.47, 124.68, 83.67, 41.77, 12.43, 137.42, 178.68, 70.2, 112.54, 227.8, 138.52, 42.76, 164.72, 122.36, 44.59, 161.93, 50.36, 8.69, 142.42, 11.01, 122.67, 82.15, 138.54, 128.65, 78.91, 85.86, 143.05, 117.19, 151.95, 37.73, 68.95, 160.67, 25.0, 100.27, 118.69, 35.34, 189.0, 41.6, 14.89, 134.02, 25.22, 140.22, 107.23, 189.29, 167.96, 200.83, 129.91, 55.76, 164.71, 98.09, 141.83, 172.59, 84.78, 133.87, 92.97, 26.04, 67.74, 208.61, 48.87, 25.84, 21.09, 60.36, 8.98, 46.86, 62.34, 6.23, 134.8, 62.92, 73.42, 145.67, 78.9, 227.47, 161.32, 127.22, 64.02, 141.95, 76.54, 141.12, 6.86, 223.53, 52.15, 93.04, 59.27, 201.89, 43.7, 167.78, 47.51, 55.39, 26.84, 126.23, 65.24, 22.63, 40.68, 204.54, 35.46, 104.86, 6.18, 10.3, 169.65, 175.96, 7.24, 11.73, 178.87, 44.15, 133.89, 74.96, 46.52, 22.14, 156.59, 15.66, 183.1, 40.42, 56.94, 114.63, 71.51, 76.42, 174.56, 47.94, 59.89, 53.49, 43.19, 105.56, 95.26, 182.4, 3.99, 50.79, 176.13, 142.37, 73.19, 70.59, 114.91, 16.94, 18.3, 105.77, 234.03, 142.37, 147.68, 30.59, 9.76, 72.07, 110.51, 81.55, 56.72, 108.98, 91.73, 159.77, 142.2, 93.79, 98.6, 3.2, 102.3, 67.73, 29.6, 97.7, 175.94, 9.76, 56.35, 102.37, 3.99, 48.88, 181.82, 24.14, 76.85, 92.39, 26.21, 203.14, 146.59, 40.24, 125.35, 180.88, 7.15, 17.28, 127.12, 14.21, 35.02, 46.03, 154.68, 253.4, 60.36, 31.9, 7.91, 132.95, 39.98, 68.9, 6.51, 173.26, 92.75, 169.8, 159.21, 5.09, 168.66, 210.49, 5.11, 1.98, 9.3, 121.89, 140.93, 12.9, 166.93, 119.91, 15.25, 7.9, 50.88, 204.07, 66.79, 90.12, 20.59, 86.39, 188.96, 53.6, 68.17, 183.15, 27.71, 118.99, 27.89, 59.04, 158.43, 8.9, 34.2, 104.17, 238.92, 12.84, 87.97, 6.06, 194.19, 31.91, 44.83, 50.95, 141.7, 12.26, 33.5, 54.92, 122.26, 95.57, 168.89, 68.52, 85.95, 58.91, 26.93, 13.48, 83.93, 165.6, 31.44, 51.53, 107.7, 143.31, 24.54, 183.69, 46.75, 129.14, 249.23, 25.0, 105.0, 114.39, 83.23, 127.29, 134.46, 177.18, 48.89, 199.53, 40.64, 141.65, 237.08, 53.32, 61.43, 30.22, 192.82, 171.12, 34.47, 152.71, 180.22, 169.81, 140.81, 158.35, 26.12, 80.11, 60.86, 69.22, 12.04, 9.36, 35.46, 78.23, 66.28, 48.92, 56.47, 36.12, 137.25, 30.02, 70.86, 13.73, 51.88, 63.46, 16.29, 85.43, 201.51, 58.24, 57.29, 110.63, 213.19, 34.94, 194.69, 29.4, 173.14, 99.62, 18.95, 55.97, 19.84, 50.0, 105.38, 161.49, 194.01, 14.76, 92.65, 21.37, 44.78, 45.45, 65.52, 34.81, 219.48, 51.81, 104.36, 68.95, 48.7, 56.48, 109.19, 168.28, 10.28, 23.21, 235.49, 24.3, 8.9, 199.65, 136.17, 162.33, 152.69, 46.07, 41.84, 28.82, 38.48, 51.68, 32.4, 76.41, 125.88, 72.5, 85.27, 3.94, 58.34, 105.42, 83.21, 41.21, 66.01, 45.48, 159.29, 19.87, 20.28, 60.62, 16.91, 91.74, 161.6, 169.76, 20.65, 11.46, 184.38, 47.37, 15.49, 8.7, 49.62, 31.76, 60.08, 58.64, 72.17, 112.07, 65.76, 55.59, 50.33, 146.6, 45.55, 24.29, 87.2, 166.67, 169.72, 102.36, 157.15, 97.59, 112.25, 18.11, 17.26, 221.33, 186.2, 53.38, 100.28, 218.75, 12.65, 180.27, 54.29, 108.11, 147.67, 29.3, 18.78, 15.79, 93.86, 90.69, 25.6, 89.8, 161.5, 117.85, 227.91, 112.96, 99.1, 156.71, 80.72, 13.27, 54.48, 100.98, 93.32, 267.57, 49.03, 2.4, 32.63, 32.12, 19.63, 14.45, 42.8, 202.83, 54.47, 148.04, 133.07, 203.66, 6.17, 108.0, 48.82, 57.48, 87.03, 144.16, 64.58, 58.89, 202.67, 128.8, 178.0, 50.51, 27.65, 15.75, 143.71, 137.17, 18.39, 156.73, 27.01, 26.49, 11.81, 148.36, 182.0, 129.61, 72.81, 11.02, 121.95, 122.35, 100.09, 229.16, 92.76, 80.64, 69.47, 137.1, 209.32, 26.13, 151.41, 167.89, 25.82, 18.19, 24.81, 99.12, 59.32, 61.06, 24.57, 19.18, 48.68, 135.46, 41.99, 12.7, 135.56, 149.21, 135.86, 37.24, 127.18, 20.13, 67.86, 23.3, 66.41, 10.94, 136.43, 119.9, 129.29, 72.47, 78.04, 207.58, 57.33, 138.54, 176.65, 21.79, 116.09, 16.4, 93.21, 114.87, 86.89, 157.21, 118.33, 102.77, 76.34, 220.94, 14.81, 207.82, 26.58, 21.41, 101.34, 9.77, 51.02, 53.79, 77.25, 54.36, 15.82, 34.82, 105.05, 12.04, 150.05, 187.7, 88.61, 13.5, 136.92, 146.09, 5.55, 88.21, 50.04, 140.09, 12.92, 83.73, 98.15, 44.89, 14.19, 73.0, 77.5, 104.1, 3.99, 149.51, 191.43, 154.65, 2.56, 130.89, 101.48, 30.11, 26.17, 84.54, 49.74, 109.09, 45.85, 46.51, 175.74, 53.89, 59.65, 137.05, 124.79, 63.38, 19.35, 129.82, 40.29, 3.11, 108.06, 58.98, 183.34, 41.14, 108.33, 48.41, 97.2, 41.09, 47.68, 48.89, 89.47, 70.5, 173.43, 76.99, 10.18, 188.75, 163.37, 19.85, 195.68, 190.74, 44.0, 42.77, 109.5, 66.62, 113.79, 58.75, 83.78, 182.96, 76.84, 120.13, 93.95, 97.08, 177.4, 33.76, 139.7, 163.16, 73.88, 16.12, 78.64, 41.23, 87.89, 19.47, 53.34, 156.46, 147.01, 25.14, 65.9, 138.72, 121.49, 157.61, 146.22, 21.5, 58.7, 148.28, 80.67, 152.47, 5.45, 55.23, 165.29, 36.33, 241.59, 181.68, 204.63, 8.46, 21.35, 109.08, 210.5, 39.49, 162.75, 70.62, 3.37, 88.55, 36.21, 12.95, 22.98, 59.46, 140.28, 58.47, 101.87, 110.88, 91.85, 29.4, 37.26, 171.15, 162.16, 150.0, 2.93, 71.91, 22.78, 52.46, 180.21, 142.8, 93.38, 6.12, 61.61, 112.81, 118.43, 12.28, 75.61, 82.62, 134.56, 102.39, 223.3, 148.31, 53.38, 201.91, 23.48, 191.85, 27.71, 157.98, 59.59, 81.93, 101.07, 109.29, 153.08, 14.84, 189.38, 97.5, 22.51, 124.89, 16.76, 186.38, 26.86, 55.29, 134.43, 32.44, 19.89, 6.96, 39.3, 130.76, 63.45, 189.59, 30.14, 86.36, 42.07, 156.96, 42.44, 28.24, 65.73, 87.35]\n"
     ]
    }
   ],
   "source": [
    "print(\"Predicted Data\")\n",
    "print(test_data_prediction.tolist())"
   ]
  },
  {
   "cell_type": "code",
   "execution_count": 84,
   "metadata": {},
   "outputs": [
    {
     "name": "stdout",
     "output_type": "stream",
     "text": [
      "Original Data\n",
      "\n",
      "[6.0, 108.0, 51.0, 95.0, 183.0, 94.0, 20.0, 140.0, 7.0, 30.0, 5.0, 206.0, 61.0, 14.0, 187.0, 44.0, 65.0, 135.0, 114.0, 99.0, 75.0, 137.0, 3.0, 166.0, 97.0, 99.0, 134.0, 19.0, 113.0, 35.0, 30.0, 4.0, 148.0, 171.0, 115.0, 218.0, 123.0, 58.0, 22.0, 114.0, 166.0, 14.0, 223.0, 37.0, 11.0, 44.0, 30.0, 144.0, 7.0, 89.0, 183.0, 154.0, 99.0, 51.0, 145.0, 97.0, 24.0, 10.0, 59.0, 142.0, 9.0, 129.0, 21.0, 18.0, 13.0, 109.0, 159.0, 14.0, 31.0, 3.0, 18.0, 227.0, 114.0, 170.0, 195.0, 84.0, 19.0, 108.0, 80.0, 19.0, 168.0, 32.0, 226.0, 19.0, 144.0, 107.0, 185.0, 38.0, 25.0, 71.0, 42.0, 43.0, 190.0, 57.0, 134.0, 4.0, 12.0, 14.0, 142.0, 137.0, 130.0, 21.0, 127.0, 111.0, 167.0, 40.0, 109.0, 159.0, 64.0, 238.0, 27.0, 200.0, 142.0, 124.0, 125.0, 20.0, 97.0, 88.0, 58.0, 111.0, 165.0, 57.0, 47.0, 191.0, 49.0, 114.0, 79.0, 87.0, 227.0, 207.0, 37.0, 37.0, 84.0, 108.0, 163.0, 43.0, 147.0, 10.0, 155.0, 106.0, 76.0, 62.0, 109.0, 6.0, 73.0, 73.0, 27.0, 68.0, 79.0, 190.0, 103.0, 112.0, 212.0, 29.0, 141.0, 10.0, 138.0, 145.0, 9.0, 9.0, 163.0, 12.0, 133.0, 62.0, 18.0, 223.0, 13.0, 124.0, 134.0, 145.0, 7.0, 116.0, 110.0, 125.0, 34.0, 83.0, 216.0, 91.0, 115.0, 58.0, 151.0, 67.0, 88.0, 152.0, 114.0, 229.0, 28.0, 4.0, 200.0, 207.0, 119.0, 98.0, 179.0, 49.0, 68.0, 89.0, 47.0, 67.0, 11.0, 62.0, 98.0, 131.0, 187.0, 26.0, 54.0, 9.0, 25.0, 37.0, 124.0, 127.0, 39.0, 128.0, 66.0, 3.0, 30.0, 75.0, 210.0, 30.0, 80.0, 20.0, 26.0, 8.0, 138.0, 138.0, 70.0, 208.0, 149.0, 107.0, 135.0, 193.0, 129.0, 203.0, 63.0, 83.0, 42.0, 8.0, 115.0, 73.0, 95.0, 49.0, 22.0, 43.0, 144.0, 52.0, 63.0, 6.0, 41.0, 26.0, 64.0, 45.0, 11.0, 126.0, 104.0, 103.0, 4.0, 80.0, 90.0, 41.0, 83.0, 219.0, 42.0, 11.0, 30.0, 55.0, 132.0, 30.0, 46.0, 137.0, 53.0, 113.0, 125.0, 190.0, 59.0, 22.0, 3.0, 55.0, 55.0, 9.0, 26.0, 99.0, 49.0, 17.0, 155.0, 8.0, 117.0, 5.0, 51.0, 246.0, 82.0, 209.0, 24.0, 47.0, 7.0, 5.0, 142.0, 112.0, 27.0, 78.0, 146.0, 14.0, 118.0, 202.0, 42.0, 51.0, 35.0, 121.0, 11.0, 177.0, 180.0, 96.0, 107.0, 194.0, 102.0, 4.0, 97.0, 118.0, 48.0, 100.0, 8.0, 14.0, 87.0, 205.0, 8.0, 96.0, 56.0, 9.0, 59.0, 39.0, 25.0, 4.0, 82.0, 104.0, 54.0, 150.0, 101.0, 171.0, 160.0, 103.0, 7.0, 52.0, 122.0, 35.0, 172.0, 117.0, 122.0, 10.0, 7.0, 148.0, 24.0, 109.0, 69.0, 171.0, 153.0, 134.0, 44.0, 65.0, 24.0, 238.0, 105.0, 41.0, 100.0, 171.0, 164.0, 61.0, 83.0, 29.0, 8.0, 73.0, 170.0, 189.0, 47.0, 63.0, 186.0, 22.0, 54.0, 2.0, 104.0, 25.0, 4.0, 207.0, 44.0, 51.0, 146.0, 3.0, 69.0, 4.0, 148.0, 103.0, 156.0, 105.0, 81.0, 172.0, 86.0, 12.0, 85.0, 23.0, 52.0, 31.0, 142.0, 111.0, 18.0, 141.0, 103.0, 210.0, 178.0, 96.0, 73.0, 161.0, 22.0, 31.0, 65.0, 250.0, 5.0, 102.0, 123.0, 85.0, 65.0, 30.0, 50.0, 18.0, 146.0, 61.0, 19.0, 130.0, 115.0, 49.0, 93.0, 79.0, 172.0, 112.0, 110.0, 147.0, 157.0, 13.0, 126.0, 1.0, 49.0, 184.0, 196.0, 66.0, 66.0, 67.0, 44.0, 91.0, 174.0, 12.0, 73.0, 108.0, 138.0, 56.0, 174.0, 120.0, 81.0, 86.0, 52.0, 5.0, 19.0, 183.0, 182.0, 174.0, 141.0, 192.0, 37.0, 155.0, 74.0, 225.0, 34.0, 7.0, 164.0, 151.0, 40.0, 195.0, 94.0, 57.0, 150.0, 114.0, 19.0, 127.0, 6.0, 63.0, 42.0, 36.0, 9.0, 160.0, 31.0, 64.0, 45.0, 54.0, 70.0, 62.0, 21.0, 23.0, 140.0, 6.0, 89.0, 47.0, 84.0, 13.0, 187.0, 18.0, 171.0, 117.0, 7.0, 111.0, 10.0, 99.0, 96.0, 29.0, 63.0, 30.0, 238.0, 48.0, 28.0, 3.0, 249.0, 12.0, 15.0, 11.0, 63.0, 12.0, 35.0, 68.0, 77.0, 175.0, 137.0, 98.0, 11.0, 27.0, 166.0, 82.0, 151.0, 123.0, 9.0, 24.0, 9.0, 102.0, 160.0, 9.0, 41.0, 19.0, 38.0, 98.0, 26.0, 159.0, 79.0, 72.0, 38.0, 23.0, 16.0, 66.0, 149.0, 98.0, 113.0, 88.0, 68.0, 28.0, 149.0, 91.0, 187.0, 184.0, 4.0, 193.0, 94.0, 9.0, 95.0, 158.0, 8.0, 172.0, 4.0, 121.0, 158.0, 29.0, 56.0, 74.0, 52.0, 161.0, 4.0, 97.0, 132.0, 150.0, 9.0, 86.0, 70.0, 60.0, 171.0, 96.0, 73.0, 20.0, 12.0, 178.0, 25.0, 124.0, 157.0, 161.0, 14.0, 125.0, 64.0, 37.0, 192.0, 203.0, 79.0, 205.0, 63.0, 9.0, 151.0, 31.0, 35.0, 27.0, 145.0, 9.0, 191.0, 134.0, 213.0, 12.0, 25.0, 101.0, 158.0, 136.0, 216.0, 34.0, 39.0, 25.0, 67.0, 78.0, 43.0, 182.0, 24.0, 82.0, 87.0, 72.0, 77.0, 169.0, 20.0, 183.0, 74.0, 180.0, 193.0, 50.0, 155.0, 10.0, 120.0, 52.0, 96.0, 153.0, 177.0, 16.0, 142.0, 13.0, 170.0, 120.0, 88.0, 171.0, 143.0, 74.0, 142.0, 175.0, 145.0, 13.0, 70.0, 16.0, 104.0, 217.0, 151.0, 213.0, 101.0, 7.0, 122.0, 184.0, 62.0, 194.0, 153.0, 108.0, 17.0, 71.0, 111.0, 130.0, 86.0, 48.0, 66.0, 30.0, 77.0, 59.0, 76.0, 51.0, 96.0, 44.0, 103.0, 54.0, 154.0, 62.0, 16.0, 108.0, 164.0, 5.0, 223.0, 56.0, 134.0, 90.0, 108.0, 41.0, 207.0, 145.0, 43.0, 72.0, 25.0, 43.0, 112.0, 15.0, 170.0, 86.0, 93.0, 143.0, 10.0, 96.0, 28.0, 12.0, 21.0, 6.0, 28.0, 78.0, 39.0, 40.0, 128.0, 232.0, 95.0, 59.0, 156.0, 113.0, 145.0, 98.0, 104.0, 4.0, 10.0, 157.0, 5.0, 79.0, 132.0, 180.0, 14.0, 29.0, 23.0, 34.0, 96.0, 211.0, 177.0, 220.0, 24.0, 129.0, 70.0, 8.0, 192.0, 51.0, 17.0, 4.0, 6.0, 194.0, 23.0, 134.0, 62.0, 64.0, 82.0, 2.0, 81.0, 49.0, 107.0, 157.0, 91.0, 30.0, 87.0, 84.0, 161.0, 204.0, 50.0, 160.0, 220.0, 78.0, 85.0, 13.0, 122.0, 93.0, 39.0, 104.0, 156.0, 185.0, 158.0, 14.0, 212.0, 48.0, 174.0, 27.0, 91.0, 38.0, 48.0, 239.0, 34.0, 19.0, 85.0, 26.0, 66.0, 49.0, 164.0, 53.0, 110.0, 8.0, 219.0, 15.0, 48.0, 67.0, 58.0, 3.0, 52.0, 46.0, 53.0, 86.0, 86.0, 14.0, 101.0, 113.0, 112.0, 93.0, 82.0, 176.0, 30.0, 247.0, 157.0, 108.0, 113.0, 19.0, 126.0, 64.0, 71.0, 54.0, 16.0, 9.0, 75.0, 7.0, 21.0, 136.0, 7.0, 14.0, 7.0, 62.0, 59.0, 166.0, 66.0, 2.0, 26.0, 30.0, 108.0, 21.0, 160.0, 11.0, 20.0, 12.0, 78.0, 138.0, 191.0, 17.0, 68.0, 135.0, 168.0, 121.0, 232.0, 60.0, 42.0, 30.0, 151.0, 34.0, 56.0, 20.0, 13.0, 133.0, 72.0, 21.0, 20.0, 13.0, 60.0, 32.0, 10.0, 46.0, 117.0, 114.0, 179.0, 152.0, 155.0, 43.0, 137.0, 74.0, 72.0, 8.0, 28.0, 81.0, 113.0, 184.0, 34.0, 105.0, 84.0, 69.0, 201.0, 59.0, 44.0, 104.0, 189.0, 106.0, 22.0, 3.0, 5.0, 62.0, 158.0, 117.0, 24.0, 84.0, 214.0, 32.0, 40.0, 20.0, 43.0, 4.0, 105.0, 120.0, 14.0, 10.0, 116.0, 66.0, 11.0, 8.0, 90.0, 147.0, 190.0, 26.0, 84.0, 211.0, 150.0, 65.0, 112.0, 112.0, 44.0, 183.0, 20.0, 118.0, 201.0, 142.0, 64.0, 210.0, 67.0, 62.0, 13.0, 7.0, 141.0, 56.0, 124.0, 60.0, 5.0, 266.0, 199.0, 165.0, 72.0, 5.0, 9.0, 106.0, 223.0, 65.0, 230.0, 50.0, 77.0, 40.0, 155.0, 13.0, 120.0, 39.0, 16.0, 168.0, 186.0, 33.0, 11.0, 89.0, 109.0, 176.0, 132.0, 70.0, 84.0, 56.0, 241.0, 148.0, 88.0, 140.0, 45.0, 15.0, 36.0, 141.0, 187.0, 74.0, 185.0, 115.0, 18.0, 117.0, 51.0, 161.0, 131.0, 170.0, 51.0, 155.0, 136.0, 128.0, 17.0, 26.0, 79.0, 45.0, 106.0, 96.0, 24.0, 179.0, 173.0, 128.0, 10.0, 140.0, 44.0, 15.0, 51.0, 36.0, 29.0, 139.0, 71.0, 72.0, 53.0, 22.0, 61.0, 56.0, 160.0, 24.0, 53.0, 188.0, 119.0, 32.0, 156.0, 18.0, 26.0, 25.0, 13.0, 131.0, 125.0, 15.0, 82.0, 6.0, 137.0, 161.0, 168.0, 24.0, 45.0, 60.0, 48.0, 2.0, 172.0, 23.0, 12.0, 4.0, 122.0, 126.0, 129.0, 92.0, 111.0, 17.0, 35.0, 107.0, 45.0, 99.0, 22.0, 15.0, 8.0, 177.0, 19.0, 203.0, 55.0, 125.0, 107.0, 91.0, 129.0, 168.0, 21.0, 171.0, 168.0, 64.0, 9.0, 59.0, 160.0, 168.0, 142.0, 58.0, 58.0, 23.0, 82.0, 78.0, 141.0, 77.0, 238.0, 7.0, 151.0, 83.0, 152.0, 9.0, 86.0, 39.0, 172.0, 38.0, 38.0, 222.0, 3.0, 100.0, 102.0, 269.0, 177.0, 51.0, 60.0, 196.0, 162.0, 7.0, 109.0, 146.0, 158.0, 195.0, 107.0, 96.0, 78.0, 205.0, 92.0, 166.0, 44.0, 133.0, 155.0, 72.0, 131.0, 150.0, 26.0, 112.0, 115.0, 156.0, 9.0, 19.0, 165.0, 172.0, 63.0, 20.0, 63.0, 115.0, 174.0, 56.0, 141.0, 99.0, 146.0, 100.0, 44.0, 75.0, 17.0, 92.0, 37.0, 68.0, 81.0, 104.0, 165.0, 147.0, 175.0, 193.0, 60.0, 30.0, 60.0, 10.0, 42.0, 127.0, 230.0, 180.0, 67.0, 154.0, 226.0, 53.0, 125.0, 182.0, 39.0, 24.0, 155.0, 188.0, 75.0, 117.0, 6.0, 159.0, 52.0, 5.0, 43.0, 41.0, 127.0, 134.0, 131.0, 129.0, 205.0, 30.0, 120.0, 16.0, 133.0, 181.0, 26.0, 197.0, 65.0, 55.0, 14.0, 97.0, 126.0, 116.0, 126.0, 152.0, 138.0, 117.0, 50.0, 7.0, 16.0, 14.0, 69.0, 25.0, 220.0, 113.0, 156.0, 230.0, 76.0, 91.0, 32.0, 152.0, 71.0, 150.0, 66.0, 42.0, 142.0, 22.0, 56.0, 53.0, 23.0, 175.0, 184.0, 126.0, 22.0, 18.0, 28.0, 221.0, 32.0, 163.0, 13.0, 65.0, 118.0, 132.0, 19.0, 130.0, 163.0, 172.0, 36.0, 19.0, 170.0, 67.0, 75.0, 155.0, 25.0, 72.0, 49.0, 27.0, 156.0, 120.0, 170.0, 23.0, 11.0, 15.0, 87.0, 147.0, 149.0, 31.0, 35.0, 27.0, 161.0, 10.0, 51.0, 64.0, 139.0, 90.0, 140.0, 162.0, 115.0, 118.0, 135.0, 58.0, 36.0, 149.0, 78.0, 184.0, 148.0, 128.0, 36.0, 112.0, 37.0, 87.0, 11.0, 79.0, 149.0, 140.0, 241.0, 18.0, 238.0, 6.0, 66.0, 92.0, 65.0, 32.0, 111.0, 176.0, 20.0, 28.0, 28.0, 4.0, 97.0, 42.0, 6.0, 57.0, 57.0, 23.0, 116.0, 99.0, 166.0, 133.0, 153.0, 189.0, 7.0, 137.0, 95.0, 75.0, 32.0, 128.0, 117.0, 11.0, 76.0, 6.0, 74.0, 17.0, 179.0, 27.0, 54.0, 70.0, 95.0, 54.0, 22.0, 166.0, 74.0, 136.0, 73.0, 22.0, 183.0, 12.0, 139.0, 240.0, 63.0, 13.0, 9.0, 33.0, 109.0, 26.0, 27.0, 17.0, 210.0, 156.0, 143.0, 8.0, 144.0, 102.0, 54.0, 123.0, 175.0, 87.0, 45.0, 120.0, 60.0, 82.0, 40.0, 156.0, 59.0, 180.0, 17.0, 50.0, 70.0, 134.0, 155.0, 60.0, 154.0, 93.0, 10.0, 69.0, 193.0, 159.0, 56.0, 123.0, 23.0, 124.0, 113.0, 162.0, 183.0, 29.0, 124.0, 84.0, 50.0, 25.0, 91.0, 183.0, 22.0, 136.0, 39.0, 13.0, 72.0, 170.0, 115.0, 29.0, 144.0, 58.0, 104.0, 88.0, 34.0, 175.0, 107.0, 176.0, 5.0, 127.0, 186.0, 52.0, 115.0, 125.0, 22.0, 7.0, 239.0, 222.0, 59.0, 65.0, 81.0, 57.0, 3.0, 6.0, 76.0, 59.0, 152.0, 22.0, 32.0, 159.0, 4.0, 160.0, 51.0, 104.0, 122.0, 98.0, 157.0, 101.0, 24.0, 13.0, 17.0, 76.0, 39.0, 13.0, 9.0, 34.0, 102.0, 193.0, 13.0, 87.0, 18.0, 166.0, 55.0, 71.0, 144.0, 29.0, 147.0, 132.0, 81.0, 36.0, 41.0, 50.0, 76.0, 38.0, 80.0, 69.0, 87.0, 92.0, 44.0, 151.0, 74.0, 259.0, 26.0, 32.0, 45.0, 104.0, 54.0, 63.0, 93.0, 27.0, 196.0, 60.0, 12.0, 187.0, 90.0, 110.0, 156.0, 125.0, 95.0, 27.0, 95.0, 218.0, 156.0, 91.0, 156.0, 83.0, 164.0, 105.0, 123.0, 59.0, 41.0, 105.0, 81.0, 73.0, 133.0, 120.0, 200.0, 153.0, 23.0, 44.0, 55.0, 49.0, 165.0, 90.0, 180.0, 88.0, 12.0, 48.0, 174.0, 10.0, 13.0, 62.0, 180.0, 11.0, 26.0, 134.0, 19.0, 150.0, 18.0, 88.0, 96.0, 62.0, 73.0, 7.0, 34.0, 190.0, 71.0, 22.0, 89.0, 19.0, 71.0, 242.0, 73.0, 14.0, 45.0, 188.0, 4.0, 127.0, 20.0, 213.0, 44.0, 104.0, 135.0, 13.0, 64.0, 155.0, 128.0, 15.0, 41.0, 181.0, 144.0, 73.0, 90.0, 47.0, 116.0, 81.0, 15.0, 53.0, 214.0, 82.0, 127.0, 85.0, 11.0, 112.0, 189.0, 116.0, 101.0, 30.0, 34.0, 65.0, 108.0, 54.0, 176.0, 20.0, 123.0, 15.0, 144.0, 46.0, 48.0, 39.0, 103.0, 53.0, 47.0, 68.0, 58.0, 156.0, 185.0, 2.0, 107.0, 34.0, 24.0, 71.0, 104.0, 4.0, 69.0, 103.0, 163.0, 17.0, 148.0, 189.0, 9.0, 99.0, 60.0, 145.0, 65.0, 42.0, 158.0, 134.0, 24.0, 33.0, 71.0, 88.0, 89.0, 28.0, 170.0, 34.0, 61.0, 24.0, 20.0, 31.0, 102.0, 79.0, 25.0, 245.0, 150.0, 233.0, 23.0, 47.0, 6.0, 39.0, 98.0, 35.0, 56.0, 123.0, 12.0, 136.0, 132.0, 175.0, 28.0, 151.0, 16.0, 154.0, 13.0, 182.0, 75.0, 22.0, 6.0, 19.0, 129.0, 30.0, 16.0, 85.0, 198.0, 182.0, 126.0, 21.0, 1.0, 57.0, 45.0, 4.0, 15.0, 117.0, 14.0, 137.0, 121.0, 223.0, 159.0, 201.0, 13.0, 10.0, 8.0, 46.0, 151.0, 148.0, 175.0, 170.0, 30.0, 70.0, 160.0, 183.0, 128.0, 200.0, 14.0, 45.0, 26.0, 156.0, 98.0, 31.0, 11.0, 10.0, 165.0, 207.0, 58.0, 164.0, 148.0, 106.0, 117.0, 120.0, 17.0, 20.0, 94.0, 49.0, 230.0, 29.0, 111.0, 184.0, 103.0, 201.0, 12.0, 80.0, 131.0, 39.0, 102.0, 211.0, 120.0, 35.0, 17.0, 41.0, 15.0, 77.0, 164.0, 174.0, 64.0, 183.0, 39.0, 138.0, 143.0, 146.0, 79.0, 208.0, 34.0, 87.0, 204.0, 117.0, 144.0, 180.0, 30.0, 17.0, 229.0, 89.0, 125.0, 238.0, 21.0, 62.0, 78.0, 6.0, 70.0, 55.0, 77.0, 91.0, 147.0, 170.0, 15.0, 31.0, 87.0, 31.0, 5.0, 56.0, 77.0, 4.0, 101.0, 54.0, 40.0, 126.0, 60.0, 24.0, 192.0, 51.0, 75.0, 112.0, 27.0, 98.0, 55.0, 162.0, 12.0, 20.0, 86.0, 121.0, 8.0, 135.0, 180.0, 190.0, 113.0, 3.0, 166.0, 53.0, 166.0, 209.0, 47.0, 86.0, 57.0, 137.0, 70.0, 280.0, 29.0, 98.0, 10.0, 152.0, 14.0, 149.0, 177.0, 38.0, 99.0, 71.0, 8.0, 136.0, 30.0, 193.0, 158.0, 82.0, 23.0, 96.0, 27.0, 112.0, 38.0, 198.0, 109.0, 169.0, 193.0, 91.0, 42.0, 50.0, 26.0, 60.0, 187.0, 58.0, 75.0, 19.0, 91.0, 38.0, 191.0, 124.0, 67.0, 183.0, 156.0, 12.0, 10.0, 110.0, 93.0, 95.0, 47.0, 16.0, 35.0, 145.0, 37.0, 34.0, 104.0, 118.0, 173.0, 25.0, 83.0, 13.0, 179.0, 74.0, 91.0, 30.0, 119.0, 85.0, 158.0, 10.0, 179.0, 147.0, 163.0, 109.0, 4.0, 81.0, 202.0, 209.0, 19.0, 177.0, 174.0, 36.0, 3.0, 26.0, 118.0, 104.0, 18.0, 151.0, 28.0, 3.0, 12.0, 192.0, 28.0, 179.0, 165.0, 80.0, 117.0, 7.0, 17.0, 120.0, 7.0, 56.0, 182.0, 66.0, 150.0, 67.0, 44.0, 223.0, 68.0, 19.0, 35.0, 46.0, 190.0, 44.0, 53.0, 60.0, 224.0, 172.0, 54.0, 41.0, 104.0, 5.0, 10.0, 65.0, 107.0, 87.0, 14.0, 29.0, 49.0, 10.0, 3.0, 23.0, 85.0, 12.0, 82.0, 133.0, 112.0, 80.0, 103.0, 190.0, 61.0, 109.0, 175.0, 14.0, 162.0, 203.0, 108.0, 81.0, 17.0, 144.0, 47.0, 23.0, 88.0, 149.0, 105.0, 17.0, 64.0, 77.0, 93.0, 10.0, 145.0, 59.0, 34.0, 159.0, 119.0, 82.0, 18.0, 21.0, 89.0, 76.0, 200.0, 229.0, 138.0, 187.0, 62.0, 17.0, 163.0, 91.0, 8.0, 29.0, 143.0, 23.0, 40.0, 48.0, 106.0, 63.0, 16.0, 146.0, 216.0, 149.0, 196.0, 49.0, 82.0, 111.0, 32.0, 31.0, 63.0, 33.0, 12.0, 90.0, 49.0, 71.0, 62.0, 99.0, 10.0, 73.0, 1.0, 48.0, 124.0, 64.0, 70.0, 35.0, 26.0, 44.0, 85.0, 187.0, 70.0, 112.0, 102.0, 197.0, 10.0, 20.0, 48.0, 180.0, 28.0, 12.0, 55.0, 223.0, 60.0, 181.0, 6.0, 194.0, 45.0, 103.0, 72.0, 140.0, 11.0, 86.0, 82.0, 172.0, 169.0, 33.0, 60.0, 147.0, 21.0, 189.0, 8.0, 58.0, 148.0, 44.0, 146.0, 34.0, 143.0, 55.0, 10.0, 33.0, 31.0, 27.0, 100.0, 54.0, 44.0, 100.0, 179.0, 109.0, 63.0, 14.0, 70.0, 181.0, 176.0, 140.0, 17.0, 5.0, 124.0, 81.0, 145.0, 187.0, 220.0, 125.0, 46.0, 86.0, 74.0, 115.0, 4.0, 114.0, 117.0, 156.0, 142.0, 41.0, 210.0, 27.0, 94.0, 93.0, 134.0, 89.0, 5.0, 50.0, 7.0, 236.0, 176.0, 34.0, 58.0, 32.0, 111.0, 11.0, 52.0, 10.0, 32.0, 3.0, 9.0, 82.0, 152.0, 26.0, 9.0, 106.0, 119.0, 14.0, 4.0, 186.0, 44.0, 101.0, 9.0, 94.0, 144.0, 121.0, 108.0, 8.0, 130.0, 91.0, 87.0, 43.0, 242.0, 12.0, 35.0, 35.0, 71.0, 60.0, 82.0, 8.0, 84.0, 3.0, 130.0, 38.0, 20.0, 161.0, 84.0, 120.0, 44.0, 203.0, 43.0, 54.0, 28.0, 15.0, 67.0, 155.0, 7.0, 178.0, 108.0, 13.0, 121.0, 5.0, 144.0, 129.0, 50.0, 37.0, 164.0, 264.0, 184.0, 134.0, 148.0, 24.0, 174.0, 112.0, 171.0, 76.0, 42.0, 126.0, 156.0, 40.0, 122.0, 149.0, 47.0, 123.0, 53.0, 3.0, 136.0, 17.0, 25.0, 211.0, 11.0, 161.0, 153.0, 81.0, 112.0, 76.0, 98.0, 14.0, 36.0, 145.0, 76.0, 184.0, 111.0, 184.0, 11.0, 17.0, 17.0, 132.0, 67.0, 97.0, 21.0, 71.0, 16.0, 39.0, 114.0, 45.0, 21.0, 51.0, 6.0, 20.0, 156.0, 161.0, 64.0, 114.0, 130.0, 108.0, 71.0, 105.0, 63.0, 58.0, 80.0, 7.0, 177.0, 89.0, 192.0, 172.0, 36.0, 35.0, 103.0, 16.0, 178.0, 149.0, 191.0, 3.0, 86.0, 4.0, 145.0, 92.0, 68.0, 50.0, 44.0, 6.0, 181.0, 18.0, 9.0, 168.0, 42.0, 22.0, 35.0, 7.0, 28.0, 105.0, 25.0, 115.0, 20.0, 68.0, 87.0, 142.0, 48.0, 19.0, 23.0, 20.0, 199.0, 80.0, 123.0, 153.0, 131.0, 127.0, 80.0, 46.0, 196.0, 134.0, 17.0, 46.0, 43.0, 67.0, 81.0, 125.0, 92.0, 42.0, 12.0, 139.0, 177.0, 71.0, 109.0, 225.0, 147.0, 43.0, 169.0, 121.0, 45.0, 147.0, 46.0, 8.0, 142.0, 11.0, 111.0, 84.0, 138.0, 128.0, 80.0, 87.0, 143.0, 118.0, 154.0, 38.0, 70.0, 165.0, 24.0, 104.0, 118.0, 35.0, 190.0, 42.0, 15.0, 129.0, 26.0, 139.0, 108.0, 194.0, 166.0, 200.0, 129.0, 56.0, 167.0, 91.0, 145.0, 168.0, 84.0, 133.0, 94.0, 27.0, 68.0, 237.0, 48.0, 26.0, 21.0, 62.0, 9.0, 48.0, 61.0, 7.0, 135.0, 64.0, 74.0, 150.0, 77.0, 234.0, 162.0, 130.0, 64.0, 142.0, 73.0, 144.0, 6.0, 231.0, 54.0, 92.0, 60.0, 207.0, 47.0, 168.0, 50.0, 57.0, 27.0, 126.0, 65.0, 24.0, 41.0, 207.0, 36.0, 94.0, 6.0, 11.0, 170.0, 178.0, 7.0, 11.0, 172.0, 44.0, 133.0, 78.0, 47.0, 22.0, 155.0, 15.0, 179.0, 39.0, 59.0, 114.0, 72.0, 78.0, 175.0, 48.0, 60.0, 56.0, 45.0, 101.0, 102.0, 182.0, 4.0, 46.0, 174.0, 141.0, 73.0, 71.0, 115.0, 17.0, 17.0, 110.0, 239.0, 141.0, 149.0, 32.0, 10.0, 72.0, 112.0, 88.0, 57.0, 107.0, 95.0, 158.0, 141.0, 93.0, 99.0, 3.0, 106.0, 68.0, 28.0, 97.0, 178.0, 11.0, 57.0, 105.0, 4.0, 50.0, 179.0, 24.0, 77.0, 92.0, 26.0, 211.0, 143.0, 40.0, 130.0, 182.0, 7.0, 17.0, 131.0, 14.0, 34.0, 45.0, 155.0, 264.0, 56.0, 34.0, 8.0, 133.0, 40.0, 67.0, 6.0, 177.0, 95.0, 167.0, 158.0, 5.0, 169.0, 211.0, 5.0, 2.0, 9.0, 119.0, 142.0, 13.0, 173.0, 127.0, 15.0, 8.0, 53.0, 195.0, 66.0, 92.0, 21.0, 91.0, 189.0, 55.0, 72.0, 182.0, 27.0, 117.0, 27.0, 58.0, 156.0, 9.0, 35.0, 106.0, 234.0, 13.0, 87.0, 6.0, 201.0, 33.0, 45.0, 51.0, 146.0, 12.0, 40.0, 54.0, 123.0, 95.0, 159.0, 71.0, 85.0, 60.0, 26.0, 14.0, 83.0, 167.0, 32.0, 55.0, 108.0, 147.0, 24.0, 187.0, 47.0, 134.0, 252.0, 25.0, 106.0, 115.0, 87.0, 130.0, 130.0, 177.0, 43.0, 205.0, 41.0, 146.0, 244.0, 54.0, 61.0, 28.0, 194.0, 173.0, 34.0, 155.0, 179.0, 170.0, 137.0, 147.0, 26.0, 81.0, 61.0, 72.0, 11.0, 10.0, 34.0, 79.0, 67.0, 49.0, 57.0, 34.0, 135.0, 30.0, 75.0, 13.0, 52.0, 62.0, 16.0, 85.0, 202.0, 58.0, 59.0, 109.0, 215.0, 32.0, 197.0, 29.0, 170.0, 101.0, 18.0, 57.0, 20.0, 50.0, 104.0, 162.0, 192.0, 15.0, 88.0, 20.0, 45.0, 45.0, 64.0, 35.0, 221.0, 51.0, 103.0, 69.0, 49.0, 56.0, 110.0, 169.0, 10.0, 23.0, 250.0, 24.0, 9.0, 204.0, 136.0, 163.0, 151.0, 47.0, 42.0, 29.0, 38.0, 50.0, 32.0, 79.0, 128.0, 72.0, 89.0, 4.0, 60.0, 104.0, 81.0, 42.0, 66.0, 47.0, 161.0, 20.0, 19.0, 60.0, 17.0, 92.0, 159.0, 169.0, 20.0, 12.0, 181.0, 46.0, 14.0, 9.0, 55.0, 31.0, 59.0, 59.0, 71.0, 112.0, 65.0, 56.0, 50.0, 149.0, 46.0, 24.0, 90.0, 167.0, 174.0, 101.0, 156.0, 99.0, 118.0, 17.0, 17.0, 223.0, 181.0, 55.0, 101.0, 221.0, 13.0, 179.0, 54.0, 105.0, 150.0, 30.0, 18.0, 16.0, 95.0, 91.0, 26.0, 84.0, 163.0, 120.0, 232.0, 102.0, 102.0, 157.0, 82.0, 13.0, 54.0, 106.0, 95.0, 287.0, 48.0, 3.0, 33.0, 35.0, 20.0, 16.0, 43.0, 201.0, 54.0, 153.0, 131.0, 200.0, 6.0, 110.0, 48.0, 57.0, 90.0, 145.0, 65.0, 59.0, 201.0, 122.0, 174.0, 51.0, 27.0, 15.0, 144.0, 139.0, 19.0, 156.0, 24.0, 28.0, 13.0, 153.0, 186.0, 129.0, 76.0, 11.0, 119.0, 124.0, 101.0, 234.0, 103.0, 81.0, 70.0, 140.0, 211.0, 25.0, 151.0, 169.0, 26.0, 18.0, 23.0, 93.0, 60.0, 56.0, 27.0, 19.0, 48.0, 131.0, 40.0, 12.0, 136.0, 147.0, 138.0, 35.0, 128.0, 21.0, 71.0, 23.0, 71.0, 11.0, 138.0, 120.0, 126.0, 73.0, 79.0, 203.0, 57.0, 137.0, 180.0, 21.0, 117.0, 17.0, 97.0, 114.0, 86.0, 151.0, 117.0, 104.0, 75.0, 219.0, 13.0, 207.0, 27.0, 21.0, 103.0, 10.0, 51.0, 56.0, 78.0, 56.0, 16.0, 34.0, 105.0, 13.0, 151.0, 188.0, 89.0, 14.0, 134.0, 145.0, 5.0, 88.0, 54.0, 139.0, 13.0, 82.0, 99.0, 44.0, 11.0, 74.0, 78.0, 108.0, 4.0, 152.0, 185.0, 155.0, 2.0, 133.0, 101.0, 31.0, 29.0, 84.0, 50.0, 104.0, 45.0, 47.0, 176.0, 54.0, 61.0, 139.0, 127.0, 63.0, 22.0, 130.0, 40.0, 3.0, 110.0, 60.0, 182.0, 41.0, 109.0, 47.0, 97.0, 41.0, 49.0, 48.0, 88.0, 71.0, 169.0, 79.0, 10.0, 187.0, 166.0, 20.0, 196.0, 191.0, 44.0, 43.0, 109.0, 68.0, 112.0, 60.0, 83.0, 181.0, 79.0, 120.0, 95.0, 103.0, 178.0, 35.0, 144.0, 163.0, 74.0, 14.0, 80.0, 43.0, 91.0, 19.0, 55.0, 156.0, 149.0, 26.0, 63.0, 142.0, 121.0, 162.0, 146.0, 22.0, 56.0, 154.0, 79.0, 152.0, 5.0, 54.0, 167.0, 34.0, 243.0, 178.0, 202.0, 8.0, 22.0, 106.0, 214.0, 37.0, 164.0, 71.0, 4.0, 95.0, 36.0, 13.0, 23.0, 59.0, 140.0, 58.0, 101.0, 114.0, 93.0, 30.0, 38.0, 174.0, 162.0, 147.0, 3.0, 72.0, 21.0, 55.0, 182.0, 144.0, 95.0, 6.0, 61.0, 114.0, 119.0, 12.0, 78.0, 90.0, 137.0, 100.0, 221.0, 148.0, 54.0, 201.0, 24.0, 196.0, 28.0, 152.0, 60.0, 81.0, 107.0, 109.0, 149.0, 15.0, 192.0, 99.0, 22.0, 125.0, 17.0, 183.0, 27.0, 56.0, 140.0, 33.0, 20.0, 7.0, 39.0, 130.0, 65.0, 191.0, 31.0, 87.0, 41.0, 161.0, 42.0, 27.0, 65.0, 82.0]\n"
     ]
    }
   ],
   "source": [
    "print(\"Original Data\\n\")\n",
    "print(Y_test.tolist())"
   ]
  },
  {
   "cell_type": "markdown",
   "metadata": {},
   "source": [
    "Mean Absolute Error"
   ]
  },
  {
   "cell_type": "code",
   "execution_count": 85,
   "metadata": {},
   "outputs": [
    {
     "name": "stdout",
     "output_type": "stream",
     "text": [
      "Mean Absolute Error =  1.6964333333333335\n"
     ]
    }
   ],
   "source": [
    "mae = metrics.mean_absolute_error(Y_test, test_data_prediction)\n",
    "print(\"Mean Absolute Error = \", mae)"
   ]
  },
  {
   "cell_type": "markdown",
   "metadata": {},
   "source": [
    "Accuracy of RandomForestRegressor Model"
   ]
  },
  {
   "cell_type": "code",
   "execution_count": 86,
   "metadata": {},
   "outputs": [
    {
     "name": "stdout",
     "output_type": "stream",
     "text": [
      "Accuracy: 30.13%\n"
     ]
    }
   ],
   "source": [
    "test_data_prediction_classes = np.round(test_data_prediction).astype(int)\n",
    "accuracy = accuracy_score(Y_test, test_data_prediction_classes)\n",
    "print(f'Accuracy: {accuracy * 100:.2f}%')"
   ]
  },
  {
   "cell_type": "markdown",
   "metadata": {},
   "source": [
    "2. XGBRegressor"
   ]
  },
  {
   "cell_type": "code",
   "execution_count": 87,
   "metadata": {},
   "outputs": [],
   "source": [
    "# loading the model\n",
    "model = XGBRegressor()"
   ]
  },
  {
   "cell_type": "code",
   "execution_count": 88,
   "metadata": {},
   "outputs": [
    {
     "data": {
      "text/html": [
       "<style>#sk-container-id-6 {\n",
       "  /* Definition of color scheme common for light and dark mode */\n",
       "  --sklearn-color-text: black;\n",
       "  --sklearn-color-line: gray;\n",
       "  /* Definition of color scheme for unfitted estimators */\n",
       "  --sklearn-color-unfitted-level-0: #fff5e6;\n",
       "  --sklearn-color-unfitted-level-1: #f6e4d2;\n",
       "  --sklearn-color-unfitted-level-2: #ffe0b3;\n",
       "  --sklearn-color-unfitted-level-3: chocolate;\n",
       "  /* Definition of color scheme for fitted estimators */\n",
       "  --sklearn-color-fitted-level-0: #f0f8ff;\n",
       "  --sklearn-color-fitted-level-1: #d4ebff;\n",
       "  --sklearn-color-fitted-level-2: #b3dbfd;\n",
       "  --sklearn-color-fitted-level-3: cornflowerblue;\n",
       "\n",
       "  /* Specific color for light theme */\n",
       "  --sklearn-color-text-on-default-background: var(--sg-text-color, var(--theme-code-foreground, var(--jp-content-font-color1, black)));\n",
       "  --sklearn-color-background: var(--sg-background-color, var(--theme-background, var(--jp-layout-color0, white)));\n",
       "  --sklearn-color-border-box: var(--sg-text-color, var(--theme-code-foreground, var(--jp-content-font-color1, black)));\n",
       "  --sklearn-color-icon: #696969;\n",
       "\n",
       "  @media (prefers-color-scheme: dark) {\n",
       "    /* Redefinition of color scheme for dark theme */\n",
       "    --sklearn-color-text-on-default-background: var(--sg-text-color, var(--theme-code-foreground, var(--jp-content-font-color1, white)));\n",
       "    --sklearn-color-background: var(--sg-background-color, var(--theme-background, var(--jp-layout-color0, #111)));\n",
       "    --sklearn-color-border-box: var(--sg-text-color, var(--theme-code-foreground, var(--jp-content-font-color1, white)));\n",
       "    --sklearn-color-icon: #878787;\n",
       "  }\n",
       "}\n",
       "\n",
       "#sk-container-id-6 {\n",
       "  color: var(--sklearn-color-text);\n",
       "}\n",
       "\n",
       "#sk-container-id-6 pre {\n",
       "  padding: 0;\n",
       "}\n",
       "\n",
       "#sk-container-id-6 input.sk-hidden--visually {\n",
       "  border: 0;\n",
       "  clip: rect(1px 1px 1px 1px);\n",
       "  clip: rect(1px, 1px, 1px, 1px);\n",
       "  height: 1px;\n",
       "  margin: -1px;\n",
       "  overflow: hidden;\n",
       "  padding: 0;\n",
       "  position: absolute;\n",
       "  width: 1px;\n",
       "}\n",
       "\n",
       "#sk-container-id-6 div.sk-dashed-wrapped {\n",
       "  border: 1px dashed var(--sklearn-color-line);\n",
       "  margin: 0 0.4em 0.5em 0.4em;\n",
       "  box-sizing: border-box;\n",
       "  padding-bottom: 0.4em;\n",
       "  background-color: var(--sklearn-color-background);\n",
       "}\n",
       "\n",
       "#sk-container-id-6 div.sk-container {\n",
       "  /* jupyter's `normalize.less` sets `[hidden] { display: none; }`\n",
       "     but bootstrap.min.css set `[hidden] { display: none !important; }`\n",
       "     so we also need the `!important` here to be able to override the\n",
       "     default hidden behavior on the sphinx rendered scikit-learn.org.\n",
       "     See: https://github.com/scikit-learn/scikit-learn/issues/21755 */\n",
       "  display: inline-block !important;\n",
       "  position: relative;\n",
       "}\n",
       "\n",
       "#sk-container-id-6 div.sk-text-repr-fallback {\n",
       "  display: none;\n",
       "}\n",
       "\n",
       "div.sk-parallel-item,\n",
       "div.sk-serial,\n",
       "div.sk-item {\n",
       "  /* draw centered vertical line to link estimators */\n",
       "  background-image: linear-gradient(var(--sklearn-color-text-on-default-background), var(--sklearn-color-text-on-default-background));\n",
       "  background-size: 2px 100%;\n",
       "  background-repeat: no-repeat;\n",
       "  background-position: center center;\n",
       "}\n",
       "\n",
       "/* Parallel-specific style estimator block */\n",
       "\n",
       "#sk-container-id-6 div.sk-parallel-item::after {\n",
       "  content: \"\";\n",
       "  width: 100%;\n",
       "  border-bottom: 2px solid var(--sklearn-color-text-on-default-background);\n",
       "  flex-grow: 1;\n",
       "}\n",
       "\n",
       "#sk-container-id-6 div.sk-parallel {\n",
       "  display: flex;\n",
       "  align-items: stretch;\n",
       "  justify-content: center;\n",
       "  background-color: var(--sklearn-color-background);\n",
       "  position: relative;\n",
       "}\n",
       "\n",
       "#sk-container-id-6 div.sk-parallel-item {\n",
       "  display: flex;\n",
       "  flex-direction: column;\n",
       "}\n",
       "\n",
       "#sk-container-id-6 div.sk-parallel-item:first-child::after {\n",
       "  align-self: flex-end;\n",
       "  width: 50%;\n",
       "}\n",
       "\n",
       "#sk-container-id-6 div.sk-parallel-item:last-child::after {\n",
       "  align-self: flex-start;\n",
       "  width: 50%;\n",
       "}\n",
       "\n",
       "#sk-container-id-6 div.sk-parallel-item:only-child::after {\n",
       "  width: 0;\n",
       "}\n",
       "\n",
       "/* Serial-specific style estimator block */\n",
       "\n",
       "#sk-container-id-6 div.sk-serial {\n",
       "  display: flex;\n",
       "  flex-direction: column;\n",
       "  align-items: center;\n",
       "  background-color: var(--sklearn-color-background);\n",
       "  padding-right: 1em;\n",
       "  padding-left: 1em;\n",
       "}\n",
       "\n",
       "\n",
       "/* Toggleable style: style used for estimator/Pipeline/ColumnTransformer box that is\n",
       "clickable and can be expanded/collapsed.\n",
       "- Pipeline and ColumnTransformer use this feature and define the default style\n",
       "- Estimators will overwrite some part of the style using the `sk-estimator` class\n",
       "*/\n",
       "\n",
       "/* Pipeline and ColumnTransformer style (default) */\n",
       "\n",
       "#sk-container-id-6 div.sk-toggleable {\n",
       "  /* Default theme specific background. It is overwritten whether we have a\n",
       "  specific estimator or a Pipeline/ColumnTransformer */\n",
       "  background-color: var(--sklearn-color-background);\n",
       "}\n",
       "\n",
       "/* Toggleable label */\n",
       "#sk-container-id-6 label.sk-toggleable__label {\n",
       "  cursor: pointer;\n",
       "  display: block;\n",
       "  width: 100%;\n",
       "  margin-bottom: 0;\n",
       "  padding: 0.5em;\n",
       "  box-sizing: border-box;\n",
       "  text-align: center;\n",
       "}\n",
       "\n",
       "#sk-container-id-6 label.sk-toggleable__label-arrow:before {\n",
       "  /* Arrow on the left of the label */\n",
       "  content: \"▸\";\n",
       "  float: left;\n",
       "  margin-right: 0.25em;\n",
       "  color: var(--sklearn-color-icon);\n",
       "}\n",
       "\n",
       "#sk-container-id-6 label.sk-toggleable__label-arrow:hover:before {\n",
       "  color: var(--sklearn-color-text);\n",
       "}\n",
       "\n",
       "/* Toggleable content - dropdown */\n",
       "\n",
       "#sk-container-id-6 div.sk-toggleable__content {\n",
       "  max-height: 0;\n",
       "  max-width: 0;\n",
       "  overflow: hidden;\n",
       "  text-align: left;\n",
       "  /* unfitted */\n",
       "  background-color: var(--sklearn-color-unfitted-level-0);\n",
       "}\n",
       "\n",
       "#sk-container-id-6 div.sk-toggleable__content.fitted {\n",
       "  /* fitted */\n",
       "  background-color: var(--sklearn-color-fitted-level-0);\n",
       "}\n",
       "\n",
       "#sk-container-id-6 div.sk-toggleable__content pre {\n",
       "  margin: 0.2em;\n",
       "  border-radius: 0.25em;\n",
       "  color: var(--sklearn-color-text);\n",
       "  /* unfitted */\n",
       "  background-color: var(--sklearn-color-unfitted-level-0);\n",
       "}\n",
       "\n",
       "#sk-container-id-6 div.sk-toggleable__content.fitted pre {\n",
       "  /* unfitted */\n",
       "  background-color: var(--sklearn-color-fitted-level-0);\n",
       "}\n",
       "\n",
       "#sk-container-id-6 input.sk-toggleable__control:checked~div.sk-toggleable__content {\n",
       "  /* Expand drop-down */\n",
       "  max-height: 200px;\n",
       "  max-width: 100%;\n",
       "  overflow: auto;\n",
       "}\n",
       "\n",
       "#sk-container-id-6 input.sk-toggleable__control:checked~label.sk-toggleable__label-arrow:before {\n",
       "  content: \"▾\";\n",
       "}\n",
       "\n",
       "/* Pipeline/ColumnTransformer-specific style */\n",
       "\n",
       "#sk-container-id-6 div.sk-label input.sk-toggleable__control:checked~label.sk-toggleable__label {\n",
       "  color: var(--sklearn-color-text);\n",
       "  background-color: var(--sklearn-color-unfitted-level-2);\n",
       "}\n",
       "\n",
       "#sk-container-id-6 div.sk-label.fitted input.sk-toggleable__control:checked~label.sk-toggleable__label {\n",
       "  background-color: var(--sklearn-color-fitted-level-2);\n",
       "}\n",
       "\n",
       "/* Estimator-specific style */\n",
       "\n",
       "/* Colorize estimator box */\n",
       "#sk-container-id-6 div.sk-estimator input.sk-toggleable__control:checked~label.sk-toggleable__label {\n",
       "  /* unfitted */\n",
       "  background-color: var(--sklearn-color-unfitted-level-2);\n",
       "}\n",
       "\n",
       "#sk-container-id-6 div.sk-estimator.fitted input.sk-toggleable__control:checked~label.sk-toggleable__label {\n",
       "  /* fitted */\n",
       "  background-color: var(--sklearn-color-fitted-level-2);\n",
       "}\n",
       "\n",
       "#sk-container-id-6 div.sk-label label.sk-toggleable__label,\n",
       "#sk-container-id-6 div.sk-label label {\n",
       "  /* The background is the default theme color */\n",
       "  color: var(--sklearn-color-text-on-default-background);\n",
       "}\n",
       "\n",
       "/* On hover, darken the color of the background */\n",
       "#sk-container-id-6 div.sk-label:hover label.sk-toggleable__label {\n",
       "  color: var(--sklearn-color-text);\n",
       "  background-color: var(--sklearn-color-unfitted-level-2);\n",
       "}\n",
       "\n",
       "/* Label box, darken color on hover, fitted */\n",
       "#sk-container-id-6 div.sk-label.fitted:hover label.sk-toggleable__label.fitted {\n",
       "  color: var(--sklearn-color-text);\n",
       "  background-color: var(--sklearn-color-fitted-level-2);\n",
       "}\n",
       "\n",
       "/* Estimator label */\n",
       "\n",
       "#sk-container-id-6 div.sk-label label {\n",
       "  font-family: monospace;\n",
       "  font-weight: bold;\n",
       "  display: inline-block;\n",
       "  line-height: 1.2em;\n",
       "}\n",
       "\n",
       "#sk-container-id-6 div.sk-label-container {\n",
       "  text-align: center;\n",
       "}\n",
       "\n",
       "/* Estimator-specific */\n",
       "#sk-container-id-6 div.sk-estimator {\n",
       "  font-family: monospace;\n",
       "  border: 1px dotted var(--sklearn-color-border-box);\n",
       "  border-radius: 0.25em;\n",
       "  box-sizing: border-box;\n",
       "  margin-bottom: 0.5em;\n",
       "  /* unfitted */\n",
       "  background-color: var(--sklearn-color-unfitted-level-0);\n",
       "}\n",
       "\n",
       "#sk-container-id-6 div.sk-estimator.fitted {\n",
       "  /* fitted */\n",
       "  background-color: var(--sklearn-color-fitted-level-0);\n",
       "}\n",
       "\n",
       "/* on hover */\n",
       "#sk-container-id-6 div.sk-estimator:hover {\n",
       "  /* unfitted */\n",
       "  background-color: var(--sklearn-color-unfitted-level-2);\n",
       "}\n",
       "\n",
       "#sk-container-id-6 div.sk-estimator.fitted:hover {\n",
       "  /* fitted */\n",
       "  background-color: var(--sklearn-color-fitted-level-2);\n",
       "}\n",
       "\n",
       "/* Specification for estimator info (e.g. \"i\" and \"?\") */\n",
       "\n",
       "/* Common style for \"i\" and \"?\" */\n",
       "\n",
       ".sk-estimator-doc-link,\n",
       "a:link.sk-estimator-doc-link,\n",
       "a:visited.sk-estimator-doc-link {\n",
       "  float: right;\n",
       "  font-size: smaller;\n",
       "  line-height: 1em;\n",
       "  font-family: monospace;\n",
       "  background-color: var(--sklearn-color-background);\n",
       "  border-radius: 1em;\n",
       "  height: 1em;\n",
       "  width: 1em;\n",
       "  text-decoration: none !important;\n",
       "  margin-left: 1ex;\n",
       "  /* unfitted */\n",
       "  border: var(--sklearn-color-unfitted-level-1) 1pt solid;\n",
       "  color: var(--sklearn-color-unfitted-level-1);\n",
       "}\n",
       "\n",
       ".sk-estimator-doc-link.fitted,\n",
       "a:link.sk-estimator-doc-link.fitted,\n",
       "a:visited.sk-estimator-doc-link.fitted {\n",
       "  /* fitted */\n",
       "  border: var(--sklearn-color-fitted-level-1) 1pt solid;\n",
       "  color: var(--sklearn-color-fitted-level-1);\n",
       "}\n",
       "\n",
       "/* On hover */\n",
       "div.sk-estimator:hover .sk-estimator-doc-link:hover,\n",
       ".sk-estimator-doc-link:hover,\n",
       "div.sk-label-container:hover .sk-estimator-doc-link:hover,\n",
       ".sk-estimator-doc-link:hover {\n",
       "  /* unfitted */\n",
       "  background-color: var(--sklearn-color-unfitted-level-3);\n",
       "  color: var(--sklearn-color-background);\n",
       "  text-decoration: none;\n",
       "}\n",
       "\n",
       "div.sk-estimator.fitted:hover .sk-estimator-doc-link.fitted:hover,\n",
       ".sk-estimator-doc-link.fitted:hover,\n",
       "div.sk-label-container:hover .sk-estimator-doc-link.fitted:hover,\n",
       ".sk-estimator-doc-link.fitted:hover {\n",
       "  /* fitted */\n",
       "  background-color: var(--sklearn-color-fitted-level-3);\n",
       "  color: var(--sklearn-color-background);\n",
       "  text-decoration: none;\n",
       "}\n",
       "\n",
       "/* Span, style for the box shown on hovering the info icon */\n",
       ".sk-estimator-doc-link span {\n",
       "  display: none;\n",
       "  z-index: 9999;\n",
       "  position: relative;\n",
       "  font-weight: normal;\n",
       "  right: .2ex;\n",
       "  padding: .5ex;\n",
       "  margin: .5ex;\n",
       "  width: min-content;\n",
       "  min-width: 20ex;\n",
       "  max-width: 50ex;\n",
       "  color: var(--sklearn-color-text);\n",
       "  box-shadow: 2pt 2pt 4pt #999;\n",
       "  /* unfitted */\n",
       "  background: var(--sklearn-color-unfitted-level-0);\n",
       "  border: .5pt solid var(--sklearn-color-unfitted-level-3);\n",
       "}\n",
       "\n",
       ".sk-estimator-doc-link.fitted span {\n",
       "  /* fitted */\n",
       "  background: var(--sklearn-color-fitted-level-0);\n",
       "  border: var(--sklearn-color-fitted-level-3);\n",
       "}\n",
       "\n",
       ".sk-estimator-doc-link:hover span {\n",
       "  display: block;\n",
       "}\n",
       "\n",
       "/* \"?\"-specific style due to the `<a>` HTML tag */\n",
       "\n",
       "#sk-container-id-6 a.estimator_doc_link {\n",
       "  float: right;\n",
       "  font-size: 1rem;\n",
       "  line-height: 1em;\n",
       "  font-family: monospace;\n",
       "  background-color: var(--sklearn-color-background);\n",
       "  border-radius: 1rem;\n",
       "  height: 1rem;\n",
       "  width: 1rem;\n",
       "  text-decoration: none;\n",
       "  /* unfitted */\n",
       "  color: var(--sklearn-color-unfitted-level-1);\n",
       "  border: var(--sklearn-color-unfitted-level-1) 1pt solid;\n",
       "}\n",
       "\n",
       "#sk-container-id-6 a.estimator_doc_link.fitted {\n",
       "  /* fitted */\n",
       "  border: var(--sklearn-color-fitted-level-1) 1pt solid;\n",
       "  color: var(--sklearn-color-fitted-level-1);\n",
       "}\n",
       "\n",
       "/* On hover */\n",
       "#sk-container-id-6 a.estimator_doc_link:hover {\n",
       "  /* unfitted */\n",
       "  background-color: var(--sklearn-color-unfitted-level-3);\n",
       "  color: var(--sklearn-color-background);\n",
       "  text-decoration: none;\n",
       "}\n",
       "\n",
       "#sk-container-id-6 a.estimator_doc_link.fitted:hover {\n",
       "  /* fitted */\n",
       "  background-color: var(--sklearn-color-fitted-level-3);\n",
       "}\n",
       "</style><div id=\"sk-container-id-6\" class=\"sk-top-container\"><div class=\"sk-text-repr-fallback\"><pre>XGBRegressor(base_score=None, booster=None, callbacks=None,\n",
       "             colsample_bylevel=None, colsample_bynode=None,\n",
       "             colsample_bytree=None, device=None, early_stopping_rounds=None,\n",
       "             enable_categorical=False, eval_metric=None, feature_types=None,\n",
       "             gamma=None, grow_policy=None, importance_type=None,\n",
       "             interaction_constraints=None, learning_rate=None, max_bin=None,\n",
       "             max_cat_threshold=None, max_cat_to_onehot=None,\n",
       "             max_delta_step=None, max_depth=None, max_leaves=None,\n",
       "             min_child_weight=None, missing=nan, monotone_constraints=None,\n",
       "             multi_strategy=None, n_estimators=None, n_jobs=None,\n",
       "             num_parallel_tree=None, random_state=None, ...)</pre><b>In a Jupyter environment, please rerun this cell to show the HTML representation or trust the notebook. <br />On GitHub, the HTML representation is unable to render, please try loading this page with nbviewer.org.</b></div><div class=\"sk-container\" hidden><div class=\"sk-item\"><div class=\"sk-estimator fitted sk-toggleable\"><input class=\"sk-toggleable__control sk-hidden--visually\" id=\"sk-estimator-id-6\" type=\"checkbox\" checked><label for=\"sk-estimator-id-6\" class=\"sk-toggleable__label fitted sk-toggleable__label-arrow fitted\">&nbsp;XGBRegressor<span class=\"sk-estimator-doc-link fitted\">i<span>Fitted</span></span></label><div class=\"sk-toggleable__content fitted\"><pre>XGBRegressor(base_score=None, booster=None, callbacks=None,\n",
       "             colsample_bylevel=None, colsample_bynode=None,\n",
       "             colsample_bytree=None, device=None, early_stopping_rounds=None,\n",
       "             enable_categorical=False, eval_metric=None, feature_types=None,\n",
       "             gamma=None, grow_policy=None, importance_type=None,\n",
       "             interaction_constraints=None, learning_rate=None, max_bin=None,\n",
       "             max_cat_threshold=None, max_cat_to_onehot=None,\n",
       "             max_delta_step=None, max_depth=None, max_leaves=None,\n",
       "             min_child_weight=None, missing=nan, monotone_constraints=None,\n",
       "             multi_strategy=None, n_estimators=None, n_jobs=None,\n",
       "             num_parallel_tree=None, random_state=None, ...)</pre></div> </div></div></div></div>"
      ],
      "text/plain": [
       "XGBRegressor(base_score=None, booster=None, callbacks=None,\n",
       "             colsample_bylevel=None, colsample_bynode=None,\n",
       "             colsample_bytree=None, device=None, early_stopping_rounds=None,\n",
       "             enable_categorical=False, eval_metric=None, feature_types=None,\n",
       "             gamma=None, grow_policy=None, importance_type=None,\n",
       "             interaction_constraints=None, learning_rate=None, max_bin=None,\n",
       "             max_cat_threshold=None, max_cat_to_onehot=None,\n",
       "             max_delta_step=None, max_depth=None, max_leaves=None,\n",
       "             min_child_weight=None, missing=nan, monotone_constraints=None,\n",
       "             multi_strategy=None, n_estimators=None, n_jobs=None,\n",
       "             num_parallel_tree=None, random_state=None, ...)"
      ]
     },
     "execution_count": 88,
     "metadata": {},
     "output_type": "execute_result"
    }
   ],
   "source": [
    "# training the model with X_train\n",
    "model.fit(X_train, Y_train)"
   ]
  },
  {
   "cell_type": "markdown",
   "metadata": {},
   "source": [
    "Evaluation"
   ]
  },
  {
   "cell_type": "markdown",
   "metadata": {},
   "source": [
    "Prediction on Test Data"
   ]
  },
  {
   "cell_type": "code",
   "execution_count": 89,
   "metadata": {},
   "outputs": [],
   "source": [
    "test_data_prediction = model.predict(X_test)"
   ]
  },
  {
   "cell_type": "code",
   "execution_count": 90,
   "metadata": {},
   "outputs": [
    {
     "name": "stdout",
     "output_type": "stream",
     "text": [
      "Predicted Data\n",
      "[5.843114852905273, 111.78021240234375, 50.151180267333984, 96.17544555664062, 180.92654418945312, 94.42916870117188, 21.110902786254883, 142.60345458984375, 7.091348171234131, 30.86085319519043, 5.576639175415039, 198.99264526367188, 64.40606689453125, 14.307689666748047, 186.46299743652344, 44.74821090698242, 65.51925659179688, 137.1627655029297, 113.51466369628906, 98.81626892089844, 71.58110809326172, 136.24490356445312, 3.187955856323242, 164.27252197265625, 91.45443725585938, 97.6349105834961, 137.13514709472656, 21.144926071166992, 113.71981048583984, 35.449363708496094, 29.60894203186035, 3.9812581539154053, 147.30894470214844, 172.27935791015625, 115.30122375488281, 217.79730224609375, 125.92295837402344, 58.4179801940918, 22.96023941040039, 115.91175079345703, 168.58053588867188, 14.290608406066895, 224.75453186035156, 34.663429260253906, 10.888275146484375, 43.22615051269531, 29.747684478759766, 142.1717987060547, 6.921370029449463, 90.5467529296875, 182.6180877685547, 151.31114196777344, 98.63240814208984, 48.97041320800781, 144.7354736328125, 97.19902801513672, 22.21125602722168, 9.89490795135498, 58.23122024536133, 140.62477111816406, 8.794002532958984, 127.37335968017578, 20.731292724609375, 20.078330993652344, 13.219914436340332, 109.33586120605469, 158.34603881835938, 13.637469291687012, 28.87482452392578, 3.6761300563812256, 17.906963348388672, 228.0492706298828, 119.26927947998047, 170.19912719726562, 196.38197326660156, 83.86198425292969, 19.43918800354004, 107.93144226074219, 80.04326629638672, 17.42094612121582, 167.6887664794922, 30.899921417236328, 230.83883666992188, 18.938718795776367, 143.48973083496094, 108.58806610107422, 182.92092895507812, 39.77326965332031, 25.765432357788086, 70.90027618408203, 42.31230926513672, 44.87969207763672, 185.60740661621094, 55.95232009887695, 134.3817138671875, 5.058958053588867, 11.575522422790527, 14.44118881225586, 145.8458709716797, 133.7980499267578, 128.4986572265625, 20.61309814453125, 128.71299743652344, 117.90457153320312, 165.14111328125, 39.46998596191406, 110.52777862548828, 154.8468475341797, 64.73503112792969, 240.5072021484375, 27.906009674072266, 200.17271423339844, 138.28366088867188, 125.275146484375, 120.4439468383789, 20.911991119384766, 96.44380187988281, 88.6087646484375, 58.444236755371094, 108.5904312133789, 158.25096130371094, 57.6177864074707, 46.5085334777832, 191.0194549560547, 48.01942443847656, 117.52806854248047, 80.28388977050781, 89.86663055419922, 230.27191162109375, 203.62771606445312, 36.426414489746094, 36.99405288696289, 82.40412902832031, 107.76216125488281, 163.621337890625, 41.23917770385742, 147.0811004638672, 10.809645652770996, 156.22772216796875, 100.60395050048828, 75.87759399414062, 60.9246826171875, 110.75730895996094, 6.140351295471191, 72.44307708740234, 74.95771026611328, 27.334243774414062, 69.63512420654297, 79.32047271728516, 188.9401092529297, 101.17416381835938, 110.24498748779297, 213.48312377929688, 29.088899612426758, 146.29014587402344, 10.78421688079834, 137.16844177246094, 143.08563232421875, 8.442986488342285, 8.511458396911621, 166.89993286132812, 12.291206359863281, 132.89414978027344, 62.69953536987305, 18.315040588378906, 226.40213012695312, 12.214862823486328, 121.50469970703125, 134.32130432128906, 141.17190551757812, 6.927711009979248, 115.30939483642578, 110.57322692871094, 120.42259216308594, 33.90642547607422, 83.11288452148438, 218.66648864746094, 93.00794982910156, 112.95603942871094, 56.911678314208984, 148.64585876464844, 66.98271179199219, 89.33544921875, 151.47872924804688, 116.1845703125, 229.986083984375, 27.433122634887695, 4.904153823852539, 200.39508056640625, 212.8654327392578, 117.67964935302734, 99.89022827148438, 177.6038055419922, 49.37742233276367, 65.19770812988281, 89.07035827636719, 45.421356201171875, 69.28279113769531, 10.6340913772583, 59.2637939453125, 101.12478637695312, 131.39706420898438, 188.97520446777344, 26.680200576782227, 50.67304611206055, 9.339962005615234, 25.643707275390625, 38.34975051879883, 125.24369812011719, 128.3086700439453, 38.71708297729492, 127.76571655273438, 62.9004020690918, 2.896200656890869, 30.94989585876465, 72.37457275390625, 216.53273010253906, 31.744070053100586, 80.80496215820312, 20.440298080444336, 26.40157127380371, 7.556357383728027, 139.50418090820312, 140.0634002685547, 70.24472045898438, 210.06259155273438, 150.49484252929688, 107.42620086669922, 135.39315795898438, 189.08877563476562, 132.96981811523438, 194.74212646484375, 60.96757507324219, 83.29389190673828, 40.08448791503906, 9.18889045715332, 113.89877319335938, 72.79306030273438, 95.36297607421875, 50.63698196411133, 22.208053588867188, 41.65338134765625, 144.73846435546875, 51.57389831542969, 64.38580322265625, 5.764196395874023, 41.31279754638672, 24.953519821166992, 64.11693572998047, 44.044158935546875, 11.43608283996582, 119.5707015991211, 100.69622802734375, 103.69217681884766, 4.146218299865723, 80.24929809570312, 90.24702453613281, 39.787837982177734, 81.62010192871094, 222.2860107421875, 42.36275100708008, 11.040254592895508, 29.995759963989258, 56.086238861083984, 134.15771484375, 28.64504051208496, 47.10820770263672, 137.63626098632812, 53.173973083496094, 111.78819274902344, 124.30025482177734, 191.615234375, 59.59573745727539, 22.45786476135254, 2.6521570682525635, 54.09578323364258, 54.11240768432617, 8.597166061401367, 25.042266845703125, 94.60626220703125, 51.07380676269531, 17.41439437866211, 155.19171142578125, 8.399352073669434, 118.43030548095703, 5.233864784240723, 51.09342575073242, 247.8665008544922, 83.2274398803711, 209.91580200195312, 23.962295532226562, 46.78662109375, 7.734766483306885, 3.725045680999756, 141.6477508544922, 112.14289855957031, 27.6568660736084, 82.7142562866211, 146.47222900390625, 14.143065452575684, 117.73989868164062, 206.72552490234375, 40.088802337646484, 50.501304626464844, 32.06441879272461, 125.69361114501953, 10.442532539367676, 178.76779174804688, 179.73129272460938, 92.67585754394531, 105.05923461914062, 191.9003143310547, 98.15668487548828, 4.239443778991699, 103.54402923583984, 119.63951873779297, 49.02316665649414, 100.12798309326172, 7.019704818725586, 14.766225814819336, 90.36654663085938, 204.65597534179688, 8.821331977844238, 95.72444915771484, 55.615028381347656, 8.70008373260498, 55.53650665283203, 39.334110260009766, 25.381196975708008, 4.872010231018066, 80.87847137451172, 103.45142364501953, 53.708431243896484, 150.12869262695312, 102.13839721679688, 170.19137573242188, 156.64093017578125, 102.25418853759766, 7.267784118652344, 47.60915756225586, 124.12474060058594, 35.113990783691406, 171.39537048339844, 119.26192474365234, 120.44794464111328, 11.434500694274902, 7.668705463409424, 154.06126403808594, 25.0654296875, 106.48719024658203, 68.3650131225586, 172.56898498535156, 153.0708770751953, 133.79586791992188, 43.79788589477539, 64.27706146240234, 23.72445297241211, 231.58087158203125, 103.51827239990234, 41.49346160888672, 101.53079986572266, 169.51095581054688, 169.71812438964844, 59.538822174072266, 83.08329772949219, 28.264724731445312, 8.255375862121582, 69.01264190673828, 171.64736938476562, 191.79635620117188, 48.83490753173828, 61.36948776245117, 188.4430694580078, 22.199323654174805, 56.6619873046875, 1.7523947954177856, 103.89836883544922, 25.670438766479492, 4.856762409210205, 210.67457580566406, 42.708106994628906, 48.98295593261719, 146.98431396484375, 4.1110920906066895, 70.02361297607422, 5.0824689865112305, 147.53860473632812, 99.70245361328125, 153.0683135986328, 103.8558349609375, 79.77658081054688, 174.7978057861328, 85.32006072998047, 12.091514587402344, 84.7046890258789, 23.106021881103516, 50.758235931396484, 31.139305114746094, 151.07359313964844, 113.83084869384766, 18.159114837646484, 139.12591552734375, 106.55533599853516, 209.52391052246094, 177.23849487304688, 96.87741088867188, 72.86297607421875, 164.828125, 21.201642990112305, 31.36834716796875, 64.80438995361328, 246.1651611328125, 4.7285990715026855, 106.30802154541016, 123.8201675415039, 87.0678939819336, 63.376102447509766, 31.10169792175293, 48.4512825012207, 18.493267059326172, 148.54273986816406, 60.285404205322266, 17.894458770751953, 131.35287475585938, 115.51171875, 51.11415481567383, 93.58928680419922, 78.5604019165039, 172.70806884765625, 110.38335418701172, 111.22588348388672, 148.71414184570312, 157.70713806152344, 13.193896293640137, 127.74969482421875, 0.4611993730068207, 52.60055923461914, 181.10870361328125, 199.0473175048828, 67.61470031738281, 67.5344467163086, 63.960235595703125, 42.85316467285156, 88.6290054321289, 176.38726806640625, 13.291380882263184, 72.94054412841797, 107.01124572753906, 140.2295379638672, 56.746639251708984, 173.92320251464844, 117.05045318603516, 83.10557556152344, 87.17249298095703, 52.99823760986328, 3.453834056854248, 18.924823760986328, 183.09780883789062, 181.7107696533203, 174.20480346679688, 137.39886474609375, 194.4281005859375, 38.56588363647461, 156.2480010986328, 73.20137786865234, 220.4136199951172, 32.84062957763672, 7.269858360290527, 167.61175537109375, 151.375244140625, 39.5438117980957, 199.22329711914062, 94.6822509765625, 57.63044357299805, 148.17933654785156, 114.06405639648438, 19.159780502319336, 125.72730255126953, 5.627628326416016, 62.5469856262207, 40.51007843017578, 35.80668258666992, 9.28492546081543, 161.63165283203125, 31.528444290161133, 62.466087341308594, 44.292415618896484, 55.42485046386719, 68.624755859375, 61.08263397216797, 19.98118019104004, 25.055591583251953, 138.42503356933594, 5.9850053787231445, 88.56730651855469, 48.09639358520508, 82.06614685058594, 12.468749046325684, 185.4267120361328, 18.161623001098633, 171.23312377929688, 116.33594512939453, 7.39354133605957, 113.22020721435547, 10.629056930541992, 97.09834289550781, 96.473388671875, 27.229345321655273, 56.57130813598633, 29.763126373291016, 240.3973388671875, 48.75369644165039, 28.338912963867188, 1.5178810358047485, 252.01406860351562, 12.954843521118164, 15.757637023925781, 11.464673042297363, 63.48989486694336, 12.520851135253906, 33.28242492675781, 66.22203063964844, 74.9994888305664, 174.1446075439453, 136.63182067871094, 97.1120834350586, 11.877562522888184, 28.15178680419922, 162.15841674804688, 82.06620788574219, 149.64260864257812, 120.55831146240234, 8.636594772338867, 23.846515655517578, 8.398284912109375, 101.58261108398438, 164.2351837158203, 8.490920066833496, 41.521427154541016, 18.080625534057617, 38.56842041015625, 91.03792572021484, 26.247699737548828, 160.49996948242188, 78.29241943359375, 71.9071273803711, 39.684234619140625, 23.342008590698242, 14.903951644897461, 66.05675506591797, 152.3064727783203, 98.49951934814453, 114.0472640991211, 90.703125, 67.5494613647461, 27.279067993164062, 150.42996215820312, 88.55142974853516, 184.1914520263672, 185.21275329589844, 4.159646034240723, 190.19479370117188, 93.16364288330078, 9.062243461608887, 94.9653549194336, 160.85394287109375, 6.536411762237549, 173.23838806152344, 4.808650016784668, 124.50884246826172, 156.760986328125, 28.948043823242188, 55.49750518798828, 73.51261901855469, 53.140682220458984, 160.10516357421875, 5.16815185546875, 96.830078125, 131.9062042236328, 151.6106414794922, 7.675739765167236, 87.37838745117188, 70.73957824707031, 60.92424392700195, 172.42030334472656, 94.53140258789062, 74.26007080078125, 18.751819610595703, 12.322497367858887, 176.19175720214844, 25.3558349609375, 122.8493423461914, 158.78982543945312, 160.07322692871094, 13.938950538635254, 125.7593765258789, 63.538902282714844, 36.110389709472656, 193.6288299560547, 197.99655151367188, 78.63115692138672, 203.72193908691406, 61.59708023071289, 9.260496139526367, 150.56797790527344, 30.533416748046875, 35.922332763671875, 26.56853485107422, 146.7174530029297, 8.687665939331055, 189.1112518310547, 133.93353271484375, 211.83042907714844, 12.14588451385498, 24.57834815979004, 102.24092864990234, 159.83287048339844, 137.9207000732422, 209.24639892578125, 34.07305145263672, 38.7957763671875, 24.125118255615234, 63.22486877441406, 76.16700744628906, 41.78276443481445, 183.54466247558594, 24.899852752685547, 83.75765991210938, 87.91996002197266, 69.79853057861328, 73.47105407714844, 168.81605529785156, 18.817691802978516, 182.4159698486328, 74.7455825805664, 183.50396728515625, 196.4568634033203, 49.634437561035156, 158.70242309570312, 10.31482982635498, 119.8818588256836, 51.28261184692383, 94.8472900390625, 151.51817321777344, 173.03565979003906, 15.975530624389648, 141.34677124023438, 12.756913185119629, 167.4346466064453, 118.14617919921875, 88.81631469726562, 167.7655487060547, 144.13487243652344, 74.86603546142578, 136.4434356689453, 172.33096313476562, 148.49595642089844, 13.935035705566406, 70.27513122558594, 15.386373519897461, 106.46666717529297, 217.76242065429688, 147.01145935058594, 218.5604705810547, 102.51678466796875, 7.235148906707764, 120.36016082763672, 183.1288299560547, 62.62507629394531, 193.9209747314453, 158.03338623046875, 109.4271011352539, 16.659778594970703, 69.51055908203125, 113.02542877197266, 133.3670654296875, 85.42792510986328, 47.70786666870117, 64.66304016113281, 29.776199340820312, 75.05628967285156, 59.55152130126953, 74.47404479980469, 50.516456604003906, 99.07109832763672, 42.999393463134766, 101.98516082763672, 54.01243209838867, 151.5217742919922, 61.252647399902344, 16.03309440612793, 113.12031555175781, 166.1493682861328, 6.757012844085693, 221.0808563232422, 55.0008659362793, 132.8890838623047, 84.924560546875, 107.41084289550781, 37.85009765625, 202.95175170898438, 140.9686279296875, 42.07611083984375, 75.52531433105469, 26.65326690673828, 43.0774040222168, 109.45954895019531, 14.80031681060791, 172.82907104492188, 85.95635223388672, 88.0751724243164, 144.99496459960938, 9.806005477905273, 94.43858337402344, 27.108591079711914, 11.245173454284668, 19.349916458129883, 6.329372882843018, 27.293102264404297, 75.2623062133789, 40.33047103881836, 40.020484924316406, 132.73753356933594, 234.08091735839844, 95.18148040771484, 59.81329345703125, 156.9569549560547, 111.16114044189453, 148.23263549804688, 100.54647827148438, 104.29010772705078, 3.726243257522583, 10.166522979736328, 157.47914123535156, 5.121910572052002, 77.39376831054688, 131.62655639648438, 180.36024475097656, 14.74609375, 30.04145050048828, 23.16651725769043, 32.7519645690918, 96.62358093261719, 213.0416717529297, 180.64230346679688, 216.93130493164062, 24.23336410522461, 129.49810791015625, 72.82091522216797, 8.178719520568848, 195.84478759765625, 49.67103576660156, 17.392860412597656, 5.024204730987549, 6.372524261474609, 193.6434783935547, 23.677040100097656, 133.87652587890625, 62.466392517089844, 65.88176727294922, 83.64571380615234, 1.4485872983932495, 82.3326187133789, 49.31471633911133, 106.717529296875, 154.6096649169922, 97.94954681396484, 30.11530113220215, 85.32878112792969, 84.26522827148438, 156.11622619628906, 203.67776489257812, 50.2238883972168, 165.0596466064453, 219.83926391601562, 76.98545837402344, 89.47181701660156, 13.389893531799316, 124.09288787841797, 91.8845443725586, 38.43998336791992, 102.82424926757812, 156.1371307373047, 184.05938720703125, 160.80517578125, 15.178762435913086, 220.11257934570312, 47.05438995361328, 175.67982482910156, 26.821598052978516, 92.0295181274414, 36.34684371948242, 45.05730056762695, 239.20721435546875, 33.69255447387695, 17.129899978637695, 84.22775268554688, 27.07951545715332, 62.46883773803711, 49.891780853271484, 163.5230255126953, 49.07487106323242, 111.67003631591797, 7.208361625671387, 218.2862091064453, 15.45754623413086, 46.97297668457031, 67.83623504638672, 59.26215362548828, 2.442758560180664, 52.844268798828125, 44.08699417114258, 53.60514831542969, 81.9072265625, 85.15911865234375, 14.338098526000977, 98.96268463134766, 114.6201400756836, 111.6066665649414, 94.14964294433594, 83.66512298583984, 174.0192108154297, 30.404571533203125, 252.56826782226562, 160.3599090576172, 107.45176696777344, 116.44338989257812, 20.170759201049805, 127.03483581542969, 63.65776824951172, 68.90501403808594, 55.1422004699707, 15.861546516418457, 9.491494178771973, 73.52186584472656, 7.370739936828613, 19.8812255859375, 135.8411865234375, 7.265381813049316, 13.995882034301758, 7.843571186065674, 63.62337112426758, 58.94081497192383, 167.13990783691406, 66.7765884399414, 2.5882678031921387, 24.663766860961914, 28.68474006652832, 106.82832336425781, 20.177309036254883, 162.40811157226562, 10.332328796386719, 20.032419204711914, 11.609753608703613, 76.49813079833984, 137.31967163085938, 194.1183319091797, 17.616363525390625, 66.21124267578125, 130.42034912109375, 168.8343963623047, 124.1110610961914, 228.1138458251953, 62.26749801635742, 42.06387710571289, 32.184566497802734, 150.95733642578125, 33.52478790283203, 56.35490798950195, 19.90953254699707, 12.817154884338379, 135.81529235839844, 73.3442611694336, 21.240177154541016, 20.750255584716797, 13.768800735473633, 60.11912536621094, 31.76239013671875, 10.374617576599121, 45.540042877197266, 115.66950988769531, 109.05047607421875, 176.9728546142578, 153.94190979003906, 157.3188018798828, 44.49995040893555, 136.7201385498047, 73.34412384033203, 69.11491394042969, 8.17816162109375, 28.49088478088379, 78.20238494873047, 112.6138916015625, 186.10311889648438, 36.45786666870117, 104.84286499023438, 84.25468444824219, 67.64849090576172, 204.01898193359375, 57.32978057861328, 43.01483917236328, 106.67729949951172, 185.59786987304688, 105.05296325683594, 22.444307327270508, 4.11238431930542, 5.6914849281311035, 62.12333297729492, 160.56381225585938, 118.70376586914062, 23.395980834960938, 82.36135864257812, 207.93109130859375, 30.14659881591797, 39.98991012573242, 21.673742294311523, 42.37102127075195, 4.2562713623046875, 104.34642028808594, 124.36011505126953, 14.439889907836914, 10.028631210327148, 115.26072692871094, 63.62266540527344, 10.898664474487305, 8.62049674987793, 88.7943115234375, 144.1840362548828, 188.54295349121094, 25.942150115966797, 82.25926971435547, 210.4402313232422, 147.9739990234375, 65.22857666015625, 113.9454116821289, 114.22000885009766, 44.021400451660156, 182.953369140625, 19.291162490844727, 117.3324203491211, 201.79786682128906, 140.32606506347656, 65.33641815185547, 208.62770080566406, 66.69383239746094, 60.85810852050781, 12.761109352111816, 6.324928283691406, 142.5101776123047, 58.34275436401367, 125.00847625732422, 59.368621826171875, 5.14454460144043, 260.8458557128906, 192.6109619140625, 166.52011108398438, 72.9497299194336, 5.425769329071045, 9.319035530090332, 108.99541473388672, 223.76695251464844, 65.06568145751953, 223.2902374267578, 49.084041595458984, 76.93721771240234, 43.24846649169922, 155.89620971679688, 12.316025733947754, 118.66978454589844, 39.92788314819336, 17.100284576416016, 169.19668579101562, 187.31903076171875, 32.21063232421875, 12.240425109863281, 91.40111541748047, 110.43488311767578, 168.56759643554688, 130.17787170410156, 71.19313049316406, 85.4435806274414, 56.20979690551758, 241.0288848876953, 146.0987548828125, 89.96168518066406, 136.03573608398438, 43.28946304321289, 14.742264747619629, 34.34711837768555, 141.59300231933594, 188.62127685546875, 73.54706573486328, 186.88925170898438, 111.9539566040039, 17.988590240478516, 118.49615478515625, 50.62725830078125, 162.5509033203125, 130.9313507080078, 170.3011932373047, 50.87306594848633, 151.39718627929688, 134.6098175048828, 125.45195770263672, 17.76661491394043, 25.210979461669922, 76.9089126586914, 43.41288757324219, 104.31326293945312, 95.4228515625, 23.886323928833008, 173.01708984375, 172.49954223632812, 132.5501708984375, 9.69194507598877, 139.36505126953125, 43.73338317871094, 15.000442504882812, 52.56094741821289, 37.69719314575195, 29.26934242248535, 138.72079467773438, 72.70557403564453, 73.99651336669922, 51.97270584106445, 22.090593338012695, 57.58470916748047, 58.08815002441406, 164.76123046875, 23.301557540893555, 53.465091705322266, 187.02267456054688, 121.92720031738281, 30.50675392150879, 158.98655700683594, 17.980384826660156, 26.164430618286133, 24.119279861450195, 13.751861572265625, 132.69375610351562, 125.33348083496094, 16.56032371520996, 83.43424987792969, 6.137544631958008, 139.58114624023438, 161.09527587890625, 162.7383575439453, 24.23295021057129, 44.80670928955078, 59.88468551635742, 45.08209991455078, 1.2576254606246948, 173.9601593017578, 23.85266876220703, 12.49040412902832, 3.950838804244995, 122.81124877929688, 125.19869232177734, 126.91908264160156, 93.1737289428711, 110.97087860107422, 16.967453002929688, 34.7269172668457, 104.20320129394531, 48.28480911254883, 99.81558227539062, 21.849557876586914, 15.360177993774414, 7.981391429901123, 177.5615692138672, 19.3832950592041, 200.36805725097656, 54.79268264770508, 124.14031982421875, 104.41437530517578, 93.13098907470703, 130.1938018798828, 166.7034149169922, 21.668169021606445, 171.78700256347656, 169.47023010253906, 62.76925277709961, 8.973742485046387, 62.04237747192383, 161.79164123535156, 170.7708282470703, 139.06040954589844, 57.320556640625, 59.672183990478516, 26.17298126220703, 80.84698486328125, 82.88223266601562, 142.0420684814453, 76.10761260986328, 234.0866241455078, 7.558365345001221, 156.7355194091797, 84.66437530517578, 153.98388671875, 8.23317813873291, 89.65795135498047, 38.860103607177734, 171.4584197998047, 37.7666130065918, 36.586158752441406, 220.1868133544922, 4.092276573181152, 99.08869171142578, 101.39348602294922, 267.18896484375, 175.8192901611328, 51.08259963989258, 61.35158920288086, 201.25967407226562, 160.49879455566406, 7.24434232711792, 110.44232940673828, 142.21603393554688, 162.8498992919922, 186.226806640625, 107.08158111572266, 94.29698944091797, 77.02725982666016, 200.41603088378906, 91.52996063232422, 163.94215393066406, 44.05276870727539, 133.5635986328125, 156.5037384033203, 69.56844329833984, 131.45590209960938, 154.5544891357422, 25.8892822265625, 110.07772064208984, 113.88130950927734, 156.62411499023438, 10.513367652893066, 18.78531837463379, 166.41952514648438, 172.42466735839844, 64.91718292236328, 21.313547134399414, 62.8547248840332, 113.28251647949219, 171.90170288085938, 58.96828842163086, 138.99020385742188, 97.60294342041016, 150.9542999267578, 100.88316345214844, 44.3737678527832, 78.10494995117188, 14.77621078491211, 88.72045135498047, 36.9929313659668, 67.01771545410156, 82.83915710449219, 103.59613037109375, 162.63990783691406, 140.28890991210938, 175.5270538330078, 196.2536163330078, 58.15147018432617, 28.815584182739258, 59.20726776123047, 10.648271560668945, 45.606597900390625, 126.68132781982422, 232.46804809570312, 181.01895141601562, 68.60542297363281, 151.30738830566406, 227.26983642578125, 53.57363510131836, 120.91353607177734, 184.29649353027344, 39.189727783203125, 24.788766860961914, 153.4995880126953, 190.98641967773438, 78.4136962890625, 109.88380432128906, 6.331789016723633, 153.15008544921875, 54.15790557861328, 4.488527774810791, 42.279605865478516, 42.800743103027344, 128.2688751220703, 132.30775451660156, 129.25718688964844, 128.37564086914062, 206.69558715820312, 31.049184799194336, 116.3668212890625, 17.046642303466797, 129.49172973632812, 181.9384765625, 26.795085906982422, 200.33282470703125, 64.48473358154297, 55.59708786010742, 14.76561164855957, 100.02245330810547, 123.91705322265625, 115.03953552246094, 129.9832763671875, 155.3656768798828, 141.11276245117188, 114.57403564453125, 49.86360168457031, 7.398243427276611, 16.05977439880371, 13.961993217468262, 72.3666000366211, 25.90655517578125, 215.81594848632812, 114.16339874267578, 151.60208129882812, 226.71046447753906, 77.29021453857422, 91.69971466064453, 31.02379608154297, 149.02772521972656, 70.05471801757812, 150.79095458984375, 65.7747802734375, 42.58743667602539, 136.02935791015625, 23.028053283691406, 55.014434814453125, 52.46065139770508, 24.96982765197754, 177.1371307373047, 183.38868713378906, 128.5386505126953, 21.801809310913086, 18.04943084716797, 26.59893035888672, 220.29855346679688, 33.08522415161133, 153.2828369140625, 12.232259750366211, 63.11606979370117, 120.22252655029297, 130.85499572753906, 19.05327606201172, 130.1752471923828, 162.22903442382812, 174.0246124267578, 37.54737091064453, 19.07252311706543, 169.8290252685547, 65.33654022216797, 77.58385467529297, 156.6514434814453, 23.62706756591797, 69.1281509399414, 50.006866455078125, 27.1817569732666, 151.85057067871094, 122.05810546875, 167.6037139892578, 23.252811431884766, 12.077445983886719, 15.216444969177246, 91.75421905517578, 142.28848266601562, 154.07363891601562, 30.55579376220703, 35.93693542480469, 27.399261474609375, 160.70001220703125, 9.878353118896484, 52.089962005615234, 57.920806884765625, 140.42506408691406, 87.62628173828125, 141.07774353027344, 160.70286560058594, 113.27989196777344, 116.4655532836914, 129.69586181640625, 55.76565933227539, 36.72559356689453, 149.31057739257812, 75.81002044677734, 185.35348510742188, 146.89569091796875, 130.32406616210938, 36.24844741821289, 109.24835968017578, 39.080928802490234, 87.08857727050781, 11.656428337097168, 76.89459228515625, 139.86856079101562, 137.5234832763672, 234.2285614013672, 19.75837516784668, 234.5275115966797, 6.649966716766357, 64.15812683105469, 96.45923614501953, 65.26968383789062, 28.988277435302734, 113.807861328125, 176.0796661376953, 19.695194244384766, 28.398895263671875, 28.585941314697266, 3.90555477142334, 96.9155044555664, 42.78709411621094, 6.27657413482666, 57.915260314941406, 54.29367446899414, 20.055011749267578, 115.80890655517578, 99.43170928955078, 166.25491333007812, 132.84764099121094, 150.71554565429688, 189.67263793945312, 7.273259162902832, 134.94882202148438, 93.93515014648438, 75.07772827148438, 32.483150482177734, 126.19049072265625, 112.49728393554688, 11.419220924377441, 77.94393920898438, 5.709015846252441, 72.78833770751953, 16.29572105407715, 175.5649871826172, 27.539033889770508, 53.569091796875, 69.94524383544922, 93.20549011230469, 55.73660659790039, 22.007448196411133, 166.54542541503906, 74.99824523925781, 137.558349609375, 75.59284973144531, 23.138805389404297, 180.8429412841797, 11.579436302185059, 138.9304962158203, 240.9990234375, 63.9732666015625, 13.392226219177246, 9.721948623657227, 33.974788665771484, 110.13024139404297, 25.97274398803711, 26.846052169799805, 17.220911026000977, 209.29563903808594, 155.68959045410156, 141.4623565673828, 7.830224990844727, 145.98464965820312, 107.6283187866211, 54.35887145996094, 124.5949478149414, 178.4153594970703, 87.00634765625, 44.4481086730957, 118.20296478271484, 59.03440475463867, 83.1205825805664, 39.60860824584961, 156.44216918945312, 56.09780502319336, 179.67796325683594, 17.47410774230957, 49.68333053588867, 74.50762939453125, 133.61810302734375, 152.0076141357422, 57.83411407470703, 152.3975830078125, 93.43477630615234, 9.623236656188965, 69.68621063232422, 195.2241973876953, 159.9852294921875, 54.282073974609375, 124.27115631103516, 23.5096492767334, 126.77062225341797, 113.16636657714844, 158.4814453125, 175.81680297851562, 28.752384185791016, 119.81482696533203, 85.01737213134766, 49.41452407836914, 25.08057403564453, 89.52049255371094, 183.79763793945312, 23.774965286254883, 135.54815673828125, 40.55125427246094, 13.190378189086914, 73.59058380126953, 169.32872009277344, 117.56844329833984, 27.561525344848633, 142.13197326660156, 57.282352447509766, 106.2746353149414, 89.37781524658203, 35.38785934448242, 175.41998291015625, 104.67037963867188, 177.13143920898438, 5.500179767608643, 125.32859802246094, 183.66900634765625, 50.229427337646484, 114.65354919433594, 123.93204498291016, 21.62616539001465, 7.285821437835693, 235.5141143798828, 223.47515869140625, 58.550174713134766, 64.04993438720703, 77.88394165039062, 57.29722595214844, 4.7494587898254395, 6.2702131271362305, 76.07783508300781, 59.10495376586914, 151.5904998779297, 22.04265022277832, 31.9554386138916, 161.9690704345703, 4.098481178283691, 158.28346252441406, 52.155433654785156, 106.78140258789062, 119.7808609008789, 97.58868408203125, 166.176025390625, 97.43089294433594, 24.42377281188965, 12.875319480895996, 17.956754684448242, 78.57054138183594, 36.39863204956055, 13.090136528015137, 9.113948822021484, 34.88520050048828, 101.40888214111328, 192.1501922607422, 13.13279914855957, 86.64602661132812, 18.53826904296875, 169.58251953125, 52.52622604370117, 68.23341369628906, 143.46759033203125, 28.127058029174805, 145.21746826171875, 131.77618408203125, 82.18594360351562, 35.65369415283203, 39.47780990600586, 48.825077056884766, 76.87353515625, 36.7104606628418, 80.97258758544922, 69.12451171875, 87.56597900390625, 91.98528289794922, 45.874977111816406, 153.298583984375, 75.37288665771484, 257.6524658203125, 25.644697189331055, 30.381635665893555, 45.77764892578125, 106.1017837524414, 50.62651824951172, 61.55961608886719, 93.37272644042969, 27.409536361694336, 193.34552001953125, 63.63832092285156, 11.950848579406738, 181.46104431152344, 90.9007797241211, 107.79991912841797, 155.48643493652344, 125.84851837158203, 95.62090301513672, 27.46747589111328, 94.70240020751953, 221.06036376953125, 153.50567626953125, 88.77741241455078, 156.96884155273438, 81.23344421386719, 162.15037536621094, 107.08126831054688, 122.38834381103516, 60.352542877197266, 42.58676528930664, 104.53651428222656, 85.20750427246094, 74.07002258300781, 134.43809509277344, 118.9452133178711, 193.47286987304688, 149.09945678710938, 22.854150772094727, 46.7103385925293, 55.78337860107422, 48.428462982177734, 166.08724975585938, 87.90554809570312, 180.1738739013672, 87.29976654052734, 12.052031517028809, 46.3646354675293, 178.3434295654297, 10.224414825439453, 13.725253105163574, 62.62189865112305, 178.6297607421875, 10.727614402770996, 27.671424865722656, 129.94825744628906, 18.996007919311523, 150.6478729248047, 17.968793869018555, 87.78581237792969, 92.46698760986328, 59.015235900878906, 74.0478286743164, 7.760878086090088, 32.69414138793945, 190.32550048828125, 71.493408203125, 23.094741821289062, 87.36927795410156, 18.917375564575195, 71.39954376220703, 232.4064178466797, 68.72896575927734, 13.915817260742188, 44.859188079833984, 188.73074340820312, 3.8579962253570557, 128.69371032714844, 17.416372299194336, 209.43943786621094, 42.419044494628906, 105.28888702392578, 135.12112426757812, 13.383626937866211, 65.44102478027344, 156.47760009765625, 127.96964263916016, 14.718165397644043, 39.90496826171875, 179.72952270507812, 143.90472412109375, 71.87440490722656, 87.50318908691406, 46.87163162231445, 114.68324279785156, 82.16472625732422, 15.18709659576416, 53.321258544921875, 212.2366943359375, 80.52641296386719, 130.07760620117188, 85.54217529296875, 11.469008445739746, 110.8475112915039, 186.94692993164062, 116.61106872558594, 103.74430847167969, 30.035446166992188, 34.42878723144531, 64.46468353271484, 105.93123626708984, 55.04166793823242, 176.67892456054688, 20.004470825195312, 120.78573608398438, 14.179667472839355, 144.59483337402344, 47.83991241455078, 48.58916473388672, 37.611576080322266, 106.26050567626953, 53.376808166503906, 47.7710075378418, 65.80682373046875, 54.0592155456543, 153.6920623779297, 185.66343688964844, 1.7583324909210205, 105.67388916015625, 34.727760314941406, 24.064420700073242, 71.1866455078125, 106.86896514892578, 3.777832269668579, 67.10631561279297, 105.58171081542969, 164.63368225097656, 18.075315475463867, 147.4508819580078, 189.66783142089844, 9.471198081970215, 98.40943908691406, 59.334739685058594, 144.3424835205078, 64.34918212890625, 42.543495178222656, 160.44200134277344, 129.50247192382812, 23.62763023376465, 34.492374420166016, 70.43836975097656, 85.38702392578125, 91.59207153320312, 27.791322708129883, 176.51535034179688, 31.932226181030273, 60.03757858276367, 25.076948165893555, 19.904277801513672, 31.592660903930664, 100.84394836425781, 80.57743835449219, 26.048757553100586, 245.44082641601562, 151.40223693847656, 232.28781127929688, 23.098493576049805, 46.73957443237305, 5.398979663848877, 38.57976531982422, 98.4911117553711, 33.806854248046875, 56.490623474121094, 125.23471069335938, 12.820246696472168, 135.07107543945312, 133.85455322265625, 175.23800659179688, 26.9508113861084, 148.8934326171875, 15.69992733001709, 153.28012084960938, 14.651240348815918, 181.3716278076172, 75.52587890625, 23.129535675048828, 6.825808525085449, 19.08633804321289, 133.51853942871094, 29.83490562438965, 16.381633758544922, 84.4781723022461, 201.79037475585938, 183.1930389404297, 125.57176208496094, 19.770145416259766, -0.04893656075000763, 56.2713737487793, 45.661865234375, 4.256228446960449, 14.654736518859863, 117.16410827636719, 15.048742294311523, 134.19627380371094, 122.7879867553711, 222.5952606201172, 159.37744140625, 200.73585510253906, 12.668462753295898, 11.699824333190918, 8.794687271118164, 46.910011291503906, 151.0955047607422, 147.93960571289062, 172.49978637695312, 168.97410583496094, 29.613277435302734, 74.49351501464844, 159.2899932861328, 185.6642303466797, 130.0928955078125, 198.10792541503906, 14.169967651367188, 43.09752655029297, 26.181732177734375, 154.90882873535156, 104.85357666015625, 30.834043502807617, 10.724020957946777, 11.225176811218262, 163.95138549804688, 211.60475158691406, 58.588783264160156, 165.44989013671875, 147.91201782226562, 106.23238372802734, 120.57227325439453, 121.35676574707031, 16.628597259521484, 21.948816299438477, 96.39234161376953, 46.782161712646484, 230.98561096191406, 28.946231842041016, 103.29607391357422, 188.27471923828125, 112.44805908203125, 208.9520721435547, 11.203341484069824, 80.02985382080078, 124.31375122070312, 39.834415435791016, 103.91028594970703, 214.31517028808594, 118.1123046875, 34.47621536254883, 14.69550609588623, 39.88936233520508, 17.047983169555664, 75.80181121826172, 159.98143005371094, 169.40443420410156, 62.80900573730469, 180.69631958007812, 38.59964370727539, 138.68319702148438, 141.17225646972656, 150.17111206054688, 77.8577880859375, 205.775146484375, 34.950374603271484, 88.55329895019531, 205.79600524902344, 113.42800903320312, 145.77659606933594, 175.8267059326172, 31.708112716674805, 17.127830505371094, 227.97535705566406, 89.54823303222656, 125.82124328613281, 237.52606201171875, 21.892187118530273, 61.71228790283203, 77.43878936767578, 5.227427005767822, 67.94071197509766, 57.89545440673828, 78.03076934814453, 91.8963394165039, 150.278076171875, 168.31333923339844, 15.803844451904297, 32.254295349121094, 86.37543487548828, 30.059057235717773, 3.7206015586853027, 56.042686462402344, 79.10717010498047, 3.9804251194000244, 101.17208862304688, 55.05979919433594, 41.53824234008789, 130.24342346191406, 60.475257873535156, 24.75456428527832, 192.98635864257812, 50.071144104003906, 76.44677734375, 111.98695373535156, 25.010711669921875, 98.85163879394531, 52.43644714355469, 156.73695373535156, 12.170967102050781, 20.159786224365234, 81.40447235107422, 129.38983154296875, 8.090360641479492, 134.88778686523438, 179.1727752685547, 189.95199584960938, 110.88539123535156, 3.495196580886841, 159.558349609375, 50.86482620239258, 164.64224243164062, 212.56094360351562, 46.35490798950195, 85.24708557128906, 57.37956619262695, 139.87840270996094, 70.72491455078125, 278.6526794433594, 30.077497482299805, 97.46109008789062, 9.046438217163086, 149.82069396972656, 13.514655113220215, 151.6436004638672, 175.6669158935547, 38.771419525146484, 98.81420135498047, 69.71347045898438, 9.932530403137207, 134.0503387451172, 29.72381019592285, 196.91796875, 161.33615112304688, 85.26799011230469, 22.218082427978516, 99.42628479003906, 27.205612182617188, 110.30291748046875, 37.03885269165039, 199.30990600585938, 109.23680114746094, 170.3595733642578, 188.87591552734375, 90.90900421142578, 40.81344985961914, 49.30904006958008, 26.580371856689453, 59.127567291259766, 187.60487365722656, 57.633750915527344, 75.91825866699219, 19.204313278198242, 91.6488265991211, 41.22440719604492, 187.9849853515625, 123.38258361816406, 69.37841796875, 183.2554931640625, 156.7019500732422, 12.721047401428223, 8.970410346984863, 110.0344009399414, 93.81629943847656, 93.3734359741211, 44.368736267089844, 16.05622100830078, 33.62312316894531, 144.50205993652344, 34.81227111816406, 33.908287048339844, 105.81156921386719, 115.79658508300781, 169.6011199951172, 23.991191864013672, 84.27413940429688, 10.690423965454102, 177.9069061279297, 70.14076232910156, 88.89897155761719, 29.931812286376953, 118.10868072509766, 83.98918151855469, 157.8128662109375, 11.912593841552734, 177.89923095703125, 151.341064453125, 167.57363891601562, 110.9482192993164, 2.684769868850708, 81.99337768554688, 207.62869262695312, 202.8819122314453, 17.329673767089844, 180.5050506591797, 173.00621032714844, 38.23204803466797, 2.664100170135498, 26.977937698364258, 117.99108123779297, 109.85771179199219, 18.939220428466797, 151.81619262695312, 29.053421020507812, 2.7532808780670166, 11.088929176330566, 191.99461364746094, 27.862873077392578, 180.3671112060547, 171.16799926757812, 83.2139663696289, 116.46946716308594, 5.967893123626709, 17.263652801513672, 119.14421844482422, 4.821237564086914, 56.745845794677734, 184.98463439941406, 65.40081787109375, 154.0387725830078, 64.68244934082031, 43.16469192504883, 222.28863525390625, 69.17742156982422, 18.714202880859375, 33.05094528198242, 46.51577377319336, 193.21408081054688, 44.75416946411133, 52.93013000488281, 61.20817184448242, 224.87086486816406, 168.54132080078125, 54.35994338989258, 41.73908233642578, 102.69490814208984, 4.041541576385498, 9.879446029663086, 64.79515838623047, 105.68040466308594, 88.53634643554688, 14.318111419677734, 30.27788543701172, 50.62895584106445, 9.930994987487793, 3.150362491607666, 23.709896087646484, 88.47137451171875, 12.185592651367188, 85.15744018554688, 130.2360076904297, 104.09687042236328, 80.289306640625, 101.39054870605469, 196.07188415527344, 60.276695251464844, 110.1646728515625, 175.28643798828125, 15.10678768157959, 166.25987243652344, 203.62071228027344, 110.41107177734375, 82.84329223632812, 17.92947006225586, 146.00318908691406, 47.010623931884766, 23.493549346923828, 88.26499938964844, 142.53565979003906, 104.56570434570312, 17.236661911010742, 65.22868347167969, 75.4956283569336, 91.6618881225586, 10.237242698669434, 140.88223266601562, 59.20826721191406, 33.42837142944336, 156.7358856201172, 120.15980529785156, 80.22349548339844, 17.691925048828125, 19.70859146118164, 91.9457778930664, 76.43505096435547, 199.18540954589844, 226.37782287597656, 137.71266174316406, 188.54513549804688, 60.70038986206055, 16.287677764892578, 155.9581298828125, 92.18896484375, 8.211766242980957, 28.86604881286621, 141.92416381835938, 22.902191162109375, 40.54048538208008, 47.02750015258789, 108.43202209472656, 64.9200439453125, 16.050159454345703, 144.51846313476562, 220.06077575683594, 146.97447204589844, 195.79058837890625, 47.15418243408203, 84.55364990234375, 113.04434204101562, 33.6114501953125, 30.73310089111328, 63.273399353027344, 34.026039123535156, 12.833125114440918, 89.95056915283203, 50.726966857910156, 69.63907623291016, 63.845516204833984, 98.31550598144531, 9.768170356750488, 74.88905334472656, 1.883819818496704, 47.61204528808594, 121.2308120727539, 61.316856384277344, 70.88423919677734, 37.43571472167969, 24.297109603881836, 44.715511322021484, 84.12006378173828, 188.4642333984375, 72.22489929199219, 113.58354949951172, 100.12781524658203, 191.59986877441406, 10.588577270507812, 20.52127456665039, 48.298954010009766, 180.357666015625, 28.051904678344727, 9.976866722106934, 55.865638732910156, 224.83645629882812, 59.33571243286133, 183.83956909179688, 6.422327041625977, 198.2515869140625, 47.459869384765625, 104.59468078613281, 75.17727661132812, 141.58847045898438, 11.175663948059082, 84.61914825439453, 83.1131591796875, 177.85586547851562, 168.94879150390625, 32.22416305541992, 61.17716979980469, 145.1385955810547, 20.545597076416016, 190.0945587158203, 7.2467451095581055, 63.36600875854492, 145.1547088623047, 43.39582443237305, 146.95736694335938, 33.603912353515625, 143.322265625, 55.78535842895508, 9.364461898803711, 33.757240295410156, 31.496463775634766, 23.921306610107422, 102.87300109863281, 54.66720199584961, 44.41845703125, 97.21854400634766, 177.12611389160156, 109.0163803100586, 65.05673217773438, 13.563450813293457, 67.80545043945312, 183.31838989257812, 175.3449249267578, 139.45220947265625, 14.895560264587402, 3.325819969177246, 123.47623443603516, 86.26090240478516, 147.41506958007812, 189.31895446777344, 219.5005340576172, 126.80958557128906, 46.94968032836914, 84.60484313964844, 73.54833984375, 113.36500549316406, 3.6457207202911377, 114.60791778564453, 115.04097747802734, 157.55062866210938, 140.86209106445312, 41.83123779296875, 216.9923553466797, 27.301040649414062, 94.7065200805664, 92.51359558105469, 134.6908721923828, 87.30867767333984, 5.4022626876831055, 50.83641052246094, 7.332991600036621, 232.47515869140625, 176.96600341796875, 32.87516403198242, 56.68437194824219, 32.389739990234375, 108.20211029052734, 13.230816841125488, 49.28681945800781, 9.309399604797363, 31.447555541992188, 3.3416237831115723, 9.24612045288086, 82.0190200805664, 150.6564178466797, 24.2244815826416, 9.771646499633789, 107.17605590820312, 119.09249877929688, 14.28942584991455, 4.047043800354004, 184.94076538085938, 44.0020866394043, 99.91160583496094, 8.164969444274902, 94.70100402832031, 142.6182098388672, 118.9365463256836, 105.66943359375, 5.970565319061279, 130.6348114013672, 94.96147155761719, 86.81475830078125, 43.87711715698242, 233.86361694335938, 12.926521301269531, 34.44744110107422, 36.45999526977539, 71.94950866699219, 57.61172866821289, 80.95030212402344, 8.95741081237793, 84.81170654296875, 2.6360132694244385, 127.81475830078125, 36.915287017822266, 21.256040573120117, 163.4650115966797, 85.60240173339844, 123.07185363769531, 45.68712615966797, 206.9535369873047, 43.1591796875, 52.9406623840332, 28.215335845947266, 14.922789573669434, 68.08674621582031, 157.1551971435547, 6.927305698394775, 177.159423828125, 106.26166534423828, 13.26267147064209, 123.0116195678711, 4.714994430541992, 148.2034149169922, 127.72213745117188, 50.7894287109375, 37.08561706542969, 164.49058532714844, 259.6045227050781, 182.65243530273438, 136.57867431640625, 149.0229034423828, 23.40386390686035, 174.6361083984375, 109.2334213256836, 168.57485961914062, 74.50178527832031, 41.57369613647461, 127.4412841796875, 154.46084594726562, 38.44438934326172, 123.66252899169922, 150.64280700683594, 48.259525299072266, 120.65497589111328, 52.71376419067383, 4.006122589111328, 133.50965881347656, 18.191511154174805, 25.22486114501953, 208.25326538085938, 11.787166595458984, 157.62425231933594, 153.6216583251953, 79.11882019042969, 114.06491088867188, 77.0995864868164, 96.68505096435547, 13.490509986877441, 35.945613861083984, 146.5839385986328, 77.37892150878906, 180.0989532470703, 110.15154266357422, 182.96873474121094, 11.7531099319458, 17.912324905395508, 17.46621322631836, 129.70265197753906, 66.57603454589844, 95.99725341796875, 21.541730880737305, 70.65526580810547, 15.528826713562012, 37.49078369140625, 115.52540588378906, 45.52662658691406, 19.59787368774414, 50.573028564453125, 5.605186939239502, 20.50591278076172, 157.23765563964844, 161.93992614746094, 64.90023803710938, 115.29888916015625, 128.8273468017578, 110.49764251708984, 71.89437866210938, 106.34436798095703, 68.15017700195312, 56.97529602050781, 81.70906829833984, 6.283409118652344, 178.39727783203125, 91.4728012084961, 191.44142150878906, 169.23033142089844, 36.30743408203125, 34.4381103515625, 103.4798355102539, 15.864192962646484, 175.58934020996094, 145.94789123535156, 190.4684600830078, 4.144819736480713, 87.59033203125, 3.124295234680176, 147.4248504638672, 93.12100219726562, 66.03548431396484, 50.18855667114258, 46.84677505493164, 6.887653350830078, 185.9610595703125, 17.88201141357422, 8.68748664855957, 167.12208557128906, 40.50790023803711, 21.93248748779297, 37.90097427368164, 7.132883071899414, 27.068002700805664, 103.10313415527344, 25.765432357788086, 117.83541870117188, 20.519418716430664, 69.97540283203125, 86.02495574951172, 143.07815551757812, 47.23958969116211, 18.237024307250977, 22.214040756225586, 20.097402572631836, 198.07855224609375, 80.67679595947266, 121.52696990966797, 151.05899047851562, 131.1090545654297, 122.843994140625, 76.85802459716797, 48.75519943237305, 199.305419921875, 133.99456787109375, 16.520811080932617, 45.21460723876953, 41.76887512207031, 67.36001586914062, 79.35519409179688, 126.73676300048828, 89.71710968017578, 41.68575668334961, 11.824106216430664, 139.09637451171875, 177.5522918701172, 69.64778900146484, 111.09526824951172, 227.51976013183594, 151.59640502929688, 42.93540573120117, 169.19715881347656, 122.81914520263672, 43.69019317626953, 144.1707763671875, 46.58499526977539, 7.4516987800598145, 141.62718200683594, 10.26804256439209, 106.78904724121094, 82.092529296875, 139.76710510253906, 128.4087677001953, 82.70318603515625, 87.0680923461914, 145.1526336669922, 116.06725311279297, 153.0541534423828, 39.57954025268555, 70.72640991210938, 156.41029357910156, 23.312376022338867, 102.9765853881836, 122.237548828125, 35.580543518066406, 188.41275024414062, 41.20182800292969, 15.30963134765625, 131.64437866210938, 24.93016242980957, 143.9657745361328, 108.52923583984375, 193.2782440185547, 170.62696838378906, 198.15011596679688, 133.05020141601562, 56.35327911376953, 169.2082977294922, 96.16561889648438, 141.51710510253906, 170.4695587158203, 86.58238220214844, 132.0845184326172, 90.54705047607422, 26.797658920288086, 69.34320831298828, 226.12078857421875, 47.3709831237793, 26.37854766845703, 21.462560653686523, 62.849674224853516, 9.37472915649414, 46.866031646728516, 62.869720458984375, 6.536419868469238, 135.79222106933594, 65.4100112915039, 74.14253997802734, 153.46327209472656, 79.28656768798828, 234.9297332763672, 160.18466186523438, 130.5558624267578, 63.5330924987793, 144.54515075683594, 74.12236785888672, 143.8407440185547, 6.889761447906494, 227.12222290039062, 52.95846939086914, 91.7166976928711, 58.98527526855469, 211.49452209472656, 46.158267974853516, 168.97804260253906, 48.98231506347656, 56.56440353393555, 26.706893920898438, 126.9735336303711, 67.21519470214844, 23.602195739746094, 42.4139289855957, 203.44464111328125, 35.305198669433594, 93.28174591064453, 6.0084075927734375, 11.059640884399414, 168.17501831054688, 179.25048828125, 7.3311848640441895, 11.83101749420166, 174.869384765625, 42.591896057128906, 132.08837890625, 76.72979736328125, 46.519588470458984, 22.56951904296875, 156.51382446289062, 14.26890754699707, 180.04376220703125, 40.2423210144043, 55.92864227294922, 114.47586059570312, 72.41667175292969, 78.8067626953125, 172.20718383789062, 47.71458053588867, 59.55418395996094, 54.921878814697266, 44.35300064086914, 101.64419555664062, 99.47625732421875, 178.53414916992188, 3.4983601570129395, 49.60002136230469, 174.76585388183594, 141.42926025390625, 72.31424713134766, 72.77751159667969, 115.6994857788086, 17.712169647216797, 16.336669921875, 106.23685455322266, 242.42860412597656, 138.06455993652344, 148.1693572998047, 30.91344451904297, 10.209457397460938, 69.73802947998047, 111.7262954711914, 86.77983093261719, 56.23911666870117, 107.63780212402344, 94.7556381225586, 157.021240234375, 138.77098083496094, 93.89634704589844, 97.9976577758789, 3.603069543838501, 107.41165924072266, 64.6917495727539, 31.479047775268555, 92.2295150756836, 178.91236877441406, 9.738788604736328, 56.98416519165039, 108.50868225097656, 3.5523531436920166, 49.737037658691406, 178.1680450439453, 24.068328857421875, 76.19591522216797, 94.50776672363281, 26.6274471282959, 209.37355041503906, 144.21832275390625, 39.45771026611328, 130.81027221679688, 179.7798309326172, 7.9493632316589355, 18.66190528869629, 128.1169891357422, 14.554943084716797, 34.84926986694336, 45.258052825927734, 155.85760498046875, 260.30126953125, 57.147647857666016, 33.484275817871094, 8.155998229980469, 132.33607482910156, 39.38308334350586, 63.89970779418945, 6.5029296875, 178.17172241210938, 95.34546661376953, 167.3959197998047, 161.46478271484375, 4.755439758300781, 171.00962829589844, 209.97235107421875, 5.924022674560547, 3.185884952545166, 9.261652946472168, 120.6562728881836, 141.49119567871094, 13.659445762634277, 169.01356506347656, 124.32231903076172, 15.452735900878906, 8.37143325805664, 53.07010269165039, 193.99679565429688, 65.42251586914062, 92.18563842773438, 19.740835189819336, 90.08484649658203, 187.97842407226562, 54.28291320800781, 70.69218444824219, 182.20281982421875, 25.802648544311523, 120.55280303955078, 25.531892776489258, 57.6644401550293, 160.37957763671875, 9.497649192810059, 34.34782028198242, 105.40315246582031, 234.92520141601562, 12.865036964416504, 88.9732666015625, 5.191594123840332, 204.7376708984375, 31.77337074279785, 44.1866340637207, 49.672176361083984, 143.60400390625, 12.522385597229004, 35.87074279785156, 55.7074089050293, 123.4319839477539, 96.44886016845703, 161.75967407226562, 68.66468048095703, 86.07669830322266, 60.512474060058594, 26.325347900390625, 13.242250442504883, 84.79764556884766, 166.2025146484375, 32.47263717651367, 51.301063537597656, 107.85609436035156, 150.42994689941406, 24.366680145263672, 186.28382873535156, 45.15330123901367, 130.8045196533203, 248.43228149414062, 26.32903289794922, 103.3770980834961, 115.69990539550781, 86.24717712402344, 128.58909606933594, 130.03988647460938, 175.95338439941406, 45.42832565307617, 204.91351318359375, 42.93028259277344, 145.7436981201172, 240.3803253173828, 51.860687255859375, 61.70454406738281, 28.83448600769043, 198.41188049316406, 171.7272186279297, 35.284996032714844, 153.39312744140625, 177.85064697265625, 167.28839111328125, 138.16046142578125, 150.28846740722656, 25.192264556884766, 80.93329620361328, 59.36882400512695, 76.94993591308594, 11.483260154724121, 9.875663757324219, 35.49561309814453, 80.2274169921875, 67.52882385253906, 47.248680114746094, 55.851295471191406, 35.41364669799805, 134.18031311035156, 29.08559226989746, 71.25314331054688, 12.115079879760742, 50.276851654052734, 62.1725959777832, 15.744751930236816, 84.67098999023438, 202.72808837890625, 58.50957489013672, 60.058448791503906, 108.88176727294922, 213.33099365234375, 32.72885513305664, 202.49261474609375, 29.120145797729492, 170.72520446777344, 100.73987579345703, 18.75693702697754, 58.231204986572266, 18.717561721801758, 50.51561737060547, 102.16424560546875, 161.67347717285156, 195.22999572753906, 15.899112701416016, 90.79644775390625, 20.406980514526367, 45.276065826416016, 44.75625228881836, 65.3943862915039, 33.73286819458008, 219.27728271484375, 51.55258560180664, 103.58634948730469, 68.42481231689453, 47.06977844238281, 56.37932205200195, 108.21017456054688, 170.28347778320312, 10.446952819824219, 23.374649047851562, 248.78402709960938, 23.640178680419922, 9.70407485961914, 207.5364227294922, 138.7198944091797, 161.830810546875, 149.99562072753906, 48.29676818847656, 40.876861572265625, 29.775060653686523, 39.215476989746094, 49.950504302978516, 32.90629577636719, 78.10507202148438, 125.85408782958984, 67.46878814697266, 90.14791107177734, 3.6557579040527344, 59.84765625, 103.63215637207031, 82.27882385253906, 41.40412139892578, 65.22698211669922, 46.735198974609375, 159.65914916992188, 18.8780574798584, 20.336660385131836, 61.27665328979492, 17.838504791259766, 94.39210510253906, 157.75184631347656, 169.8746337890625, 20.464933395385742, 12.58740234375, 179.4113006591797, 48.32451629638672, 14.73515510559082, 9.68947982788086, 55.98857879638672, 29.974523544311523, 61.53140640258789, 59.954986572265625, 72.95463562011719, 108.67137145996094, 66.61927795410156, 53.966217041015625, 48.105712890625, 155.87295532226562, 46.66496658325195, 24.4332275390625, 89.92761993408203, 162.07504272460938, 171.94090270996094, 102.37452697753906, 156.56362915039062, 98.11508178710938, 110.8177719116211, 17.70967674255371, 17.48912811279297, 214.9912872314453, 177.77130126953125, 54.22044372558594, 100.76576232910156, 218.0165252685547, 13.163990020751953, 182.7884979248047, 54.84160614013672, 108.36534118652344, 152.556640625, 26.57691764831543, 17.4363956451416, 15.882492065429688, 96.1683120727539, 92.37327575683594, 26.508895874023438, 87.67719268798828, 164.1952362060547, 126.63545989990234, 226.88417053222656, 101.24687957763672, 101.47161102294922, 154.0983123779297, 82.32792663574219, 13.124595642089844, 54.39051055908203, 102.05138397216797, 93.67771911621094, 285.772216796875, 46.812957763671875, 1.9528214931488037, 33.778560638427734, 32.978782653808594, 20.43744659423828, 14.840609550476074, 46.88241958618164, 199.7187042236328, 53.55174255371094, 148.32186889648438, 128.84535217285156, 202.4292449951172, 6.24503231048584, 109.14459991455078, 46.44285583496094, 58.117557525634766, 92.9303970336914, 140.7274932861328, 63.56968307495117, 60.743309020996094, 201.5388641357422, 123.76404571533203, 178.9683380126953, 52.064666748046875, 26.261507034301758, 14.785998344421387, 145.4154510498047, 137.34481811523438, 17.964885711669922, 159.02166748046875, 26.388427734375, 28.482349395751953, 13.923955917358398, 150.90176391601562, 186.37327575683594, 129.33177185058594, 77.45247650146484, 10.266156196594238, 121.0999755859375, 120.4443359375, 102.11377716064453, 233.3907470703125, 106.53813171386719, 81.13471984863281, 71.75267028808594, 141.44534301757812, 204.79551696777344, 24.665536880493164, 156.9462127685547, 167.21096801757812, 26.973087310791016, 17.807884216308594, 24.17118263244629, 90.24378967285156, 60.52220916748047, 54.7889518737793, 26.716115951538086, 18.492904663085938, 45.34903335571289, 130.07957458496094, 40.43974304199219, 12.194756507873535, 134.80908203125, 149.5508575439453, 135.1477508544922, 36.782691955566406, 127.59188842773438, 20.59674072265625, 67.1893310546875, 24.284400939941406, 72.02152252197266, 10.73876667022705, 141.0048370361328, 123.79560089111328, 123.21834564208984, 71.43148040771484, 78.13768005371094, 211.59292602539062, 55.71863555908203, 137.4644775390625, 182.30287170410156, 21.78925132751465, 115.03309631347656, 17.414487838745117, 95.01083374023438, 114.00035858154297, 84.57223510742188, 154.65640258789062, 118.44078063964844, 109.50226593017578, 75.14488983154297, 219.06985473632812, 13.014100074768066, 207.17678833007812, 26.756921768188477, 21.205812454223633, 101.7527847290039, 9.676623344421387, 50.91864776611328, 54.412330627441406, 79.70413208007812, 54.79621887207031, 15.742610931396484, 35.83622741699219, 105.44393920898438, 12.390355110168457, 149.96730041503906, 189.0773162841797, 89.06330108642578, 14.55053997039795, 129.1243133544922, 144.3968963623047, 4.975139617919922, 88.79976654052734, 54.69340515136719, 138.11508178710938, 12.551983833312988, 81.54822540283203, 101.00033569335938, 44.12038803100586, 13.410168647766113, 72.35873413085938, 78.9988784790039, 108.7908935546875, 4.018273830413818, 154.24571228027344, 186.85324096679688, 157.2222900390625, 2.7938175201416016, 133.5554656982422, 101.00607299804688, 30.432172775268555, 26.71126937866211, 86.12467193603516, 47.95261001586914, 105.88243865966797, 48.24387741088867, 47.001522064208984, 171.17845153808594, 52.46881866455078, 59.216163635253906, 136.19053649902344, 124.61571502685547, 65.03284454345703, 19.822343826293945, 128.4955596923828, 40.48507308959961, 4.08564567565918, 111.89877319335938, 61.01942443847656, 183.36717224121094, 42.90850830078125, 107.46234130859375, 47.03888702392578, 96.08662414550781, 41.911155700683594, 50.102230072021484, 48.35173797607422, 88.01679992675781, 69.49327850341797, 167.50314331054688, 78.36016845703125, 11.401568412780762, 191.65821838378906, 167.7292022705078, 19.073314666748047, 193.94468688964844, 193.07528686523438, 44.91077423095703, 40.70889663696289, 110.16773986816406, 66.43458557128906, 109.58220672607422, 59.01402282714844, 89.1113052368164, 182.3232879638672, 78.49176025390625, 119.72119903564453, 95.78099060058594, 101.28612518310547, 176.00791931152344, 34.88595199584961, 147.2128448486328, 166.17100524902344, 74.98611450195312, 15.03465461730957, 79.3898696899414, 40.9951171875, 87.3141860961914, 18.67599105834961, 54.4823112487793, 155.59190368652344, 148.33700561523438, 24.113523483276367, 66.08748626708984, 141.37942504882812, 122.30441284179688, 155.5369873046875, 148.565673828125, 21.171066284179688, 53.68174743652344, 152.59310913085938, 81.41771697998047, 155.02365112304688, 5.426336765289307, 50.41533660888672, 166.05218505859375, 34.58926010131836, 240.14517211914062, 177.2691650390625, 201.1498565673828, 8.730938911437988, 22.966209411621094, 107.49153900146484, 210.50479125976562, 34.29399490356445, 163.34690856933594, 73.10298156738281, 4.443159580230713, 91.7853012084961, 36.92207336425781, 12.848772048950195, 22.714094161987305, 59.75569152832031, 144.1928253173828, 57.5705680847168, 101.80625915527344, 112.37458801269531, 97.18890380859375, 30.97591781616211, 37.947628021240234, 172.9741668701172, 162.32730102539062, 145.1710205078125, 2.9565021991729736, 72.3863296508789, 21.37738609313965, 53.19570541381836, 181.74441528320312, 141.9553680419922, 93.38522338867188, 4.729077339172363, 61.183013916015625, 116.3640365600586, 119.68045806884766, 11.979674339294434, 77.80577850341797, 89.37059783935547, 137.57467651367188, 102.11921691894531, 223.95188903808594, 147.7095489501953, 54.252681732177734, 198.09022521972656, 23.74300193786621, 196.16915893554688, 27.859420776367188, 152.76712036132812, 59.353477478027344, 83.7512435913086, 108.57775115966797, 109.6280288696289, 149.7038116455078, 14.442750930786133, 188.5059051513672, 97.3452377319336, 22.24773406982422, 124.35823822021484, 17.63583755493164, 182.92633056640625, 28.587810516357422, 56.29282760620117, 132.69189453125, 33.845035552978516, 18.388269424438477, 7.255224704742432, 39.07979965209961, 130.11111450195312, 64.89884948730469, 192.36351013183594, 29.97072982788086, 86.44671630859375, 39.809139251708984, 158.25645446777344, 44.105289459228516, 26.419851303100586, 68.67635345458984, 83.10501861572266]\n"
     ]
    }
   ],
   "source": [
    "print(\"Predicted Data\")\n",
    "print(test_data_prediction.tolist())"
   ]
  },
  {
   "cell_type": "code",
   "execution_count": 91,
   "metadata": {},
   "outputs": [
    {
     "name": "stdout",
     "output_type": "stream",
     "text": [
      "Original Data\n",
      "\n",
      "[6.0, 108.0, 51.0, 95.0, 183.0, 94.0, 20.0, 140.0, 7.0, 30.0, 5.0, 206.0, 61.0, 14.0, 187.0, 44.0, 65.0, 135.0, 114.0, 99.0, 75.0, 137.0, 3.0, 166.0, 97.0, 99.0, 134.0, 19.0, 113.0, 35.0, 30.0, 4.0, 148.0, 171.0, 115.0, 218.0, 123.0, 58.0, 22.0, 114.0, 166.0, 14.0, 223.0, 37.0, 11.0, 44.0, 30.0, 144.0, 7.0, 89.0, 183.0, 154.0, 99.0, 51.0, 145.0, 97.0, 24.0, 10.0, 59.0, 142.0, 9.0, 129.0, 21.0, 18.0, 13.0, 109.0, 159.0, 14.0, 31.0, 3.0, 18.0, 227.0, 114.0, 170.0, 195.0, 84.0, 19.0, 108.0, 80.0, 19.0, 168.0, 32.0, 226.0, 19.0, 144.0, 107.0, 185.0, 38.0, 25.0, 71.0, 42.0, 43.0, 190.0, 57.0, 134.0, 4.0, 12.0, 14.0, 142.0, 137.0, 130.0, 21.0, 127.0, 111.0, 167.0, 40.0, 109.0, 159.0, 64.0, 238.0, 27.0, 200.0, 142.0, 124.0, 125.0, 20.0, 97.0, 88.0, 58.0, 111.0, 165.0, 57.0, 47.0, 191.0, 49.0, 114.0, 79.0, 87.0, 227.0, 207.0, 37.0, 37.0, 84.0, 108.0, 163.0, 43.0, 147.0, 10.0, 155.0, 106.0, 76.0, 62.0, 109.0, 6.0, 73.0, 73.0, 27.0, 68.0, 79.0, 190.0, 103.0, 112.0, 212.0, 29.0, 141.0, 10.0, 138.0, 145.0, 9.0, 9.0, 163.0, 12.0, 133.0, 62.0, 18.0, 223.0, 13.0, 124.0, 134.0, 145.0, 7.0, 116.0, 110.0, 125.0, 34.0, 83.0, 216.0, 91.0, 115.0, 58.0, 151.0, 67.0, 88.0, 152.0, 114.0, 229.0, 28.0, 4.0, 200.0, 207.0, 119.0, 98.0, 179.0, 49.0, 68.0, 89.0, 47.0, 67.0, 11.0, 62.0, 98.0, 131.0, 187.0, 26.0, 54.0, 9.0, 25.0, 37.0, 124.0, 127.0, 39.0, 128.0, 66.0, 3.0, 30.0, 75.0, 210.0, 30.0, 80.0, 20.0, 26.0, 8.0, 138.0, 138.0, 70.0, 208.0, 149.0, 107.0, 135.0, 193.0, 129.0, 203.0, 63.0, 83.0, 42.0, 8.0, 115.0, 73.0, 95.0, 49.0, 22.0, 43.0, 144.0, 52.0, 63.0, 6.0, 41.0, 26.0, 64.0, 45.0, 11.0, 126.0, 104.0, 103.0, 4.0, 80.0, 90.0, 41.0, 83.0, 219.0, 42.0, 11.0, 30.0, 55.0, 132.0, 30.0, 46.0, 137.0, 53.0, 113.0, 125.0, 190.0, 59.0, 22.0, 3.0, 55.0, 55.0, 9.0, 26.0, 99.0, 49.0, 17.0, 155.0, 8.0, 117.0, 5.0, 51.0, 246.0, 82.0, 209.0, 24.0, 47.0, 7.0, 5.0, 142.0, 112.0, 27.0, 78.0, 146.0, 14.0, 118.0, 202.0, 42.0, 51.0, 35.0, 121.0, 11.0, 177.0, 180.0, 96.0, 107.0, 194.0, 102.0, 4.0, 97.0, 118.0, 48.0, 100.0, 8.0, 14.0, 87.0, 205.0, 8.0, 96.0, 56.0, 9.0, 59.0, 39.0, 25.0, 4.0, 82.0, 104.0, 54.0, 150.0, 101.0, 171.0, 160.0, 103.0, 7.0, 52.0, 122.0, 35.0, 172.0, 117.0, 122.0, 10.0, 7.0, 148.0, 24.0, 109.0, 69.0, 171.0, 153.0, 134.0, 44.0, 65.0, 24.0, 238.0, 105.0, 41.0, 100.0, 171.0, 164.0, 61.0, 83.0, 29.0, 8.0, 73.0, 170.0, 189.0, 47.0, 63.0, 186.0, 22.0, 54.0, 2.0, 104.0, 25.0, 4.0, 207.0, 44.0, 51.0, 146.0, 3.0, 69.0, 4.0, 148.0, 103.0, 156.0, 105.0, 81.0, 172.0, 86.0, 12.0, 85.0, 23.0, 52.0, 31.0, 142.0, 111.0, 18.0, 141.0, 103.0, 210.0, 178.0, 96.0, 73.0, 161.0, 22.0, 31.0, 65.0, 250.0, 5.0, 102.0, 123.0, 85.0, 65.0, 30.0, 50.0, 18.0, 146.0, 61.0, 19.0, 130.0, 115.0, 49.0, 93.0, 79.0, 172.0, 112.0, 110.0, 147.0, 157.0, 13.0, 126.0, 1.0, 49.0, 184.0, 196.0, 66.0, 66.0, 67.0, 44.0, 91.0, 174.0, 12.0, 73.0, 108.0, 138.0, 56.0, 174.0, 120.0, 81.0, 86.0, 52.0, 5.0, 19.0, 183.0, 182.0, 174.0, 141.0, 192.0, 37.0, 155.0, 74.0, 225.0, 34.0, 7.0, 164.0, 151.0, 40.0, 195.0, 94.0, 57.0, 150.0, 114.0, 19.0, 127.0, 6.0, 63.0, 42.0, 36.0, 9.0, 160.0, 31.0, 64.0, 45.0, 54.0, 70.0, 62.0, 21.0, 23.0, 140.0, 6.0, 89.0, 47.0, 84.0, 13.0, 187.0, 18.0, 171.0, 117.0, 7.0, 111.0, 10.0, 99.0, 96.0, 29.0, 63.0, 30.0, 238.0, 48.0, 28.0, 3.0, 249.0, 12.0, 15.0, 11.0, 63.0, 12.0, 35.0, 68.0, 77.0, 175.0, 137.0, 98.0, 11.0, 27.0, 166.0, 82.0, 151.0, 123.0, 9.0, 24.0, 9.0, 102.0, 160.0, 9.0, 41.0, 19.0, 38.0, 98.0, 26.0, 159.0, 79.0, 72.0, 38.0, 23.0, 16.0, 66.0, 149.0, 98.0, 113.0, 88.0, 68.0, 28.0, 149.0, 91.0, 187.0, 184.0, 4.0, 193.0, 94.0, 9.0, 95.0, 158.0, 8.0, 172.0, 4.0, 121.0, 158.0, 29.0, 56.0, 74.0, 52.0, 161.0, 4.0, 97.0, 132.0, 150.0, 9.0, 86.0, 70.0, 60.0, 171.0, 96.0, 73.0, 20.0, 12.0, 178.0, 25.0, 124.0, 157.0, 161.0, 14.0, 125.0, 64.0, 37.0, 192.0, 203.0, 79.0, 205.0, 63.0, 9.0, 151.0, 31.0, 35.0, 27.0, 145.0, 9.0, 191.0, 134.0, 213.0, 12.0, 25.0, 101.0, 158.0, 136.0, 216.0, 34.0, 39.0, 25.0, 67.0, 78.0, 43.0, 182.0, 24.0, 82.0, 87.0, 72.0, 77.0, 169.0, 20.0, 183.0, 74.0, 180.0, 193.0, 50.0, 155.0, 10.0, 120.0, 52.0, 96.0, 153.0, 177.0, 16.0, 142.0, 13.0, 170.0, 120.0, 88.0, 171.0, 143.0, 74.0, 142.0, 175.0, 145.0, 13.0, 70.0, 16.0, 104.0, 217.0, 151.0, 213.0, 101.0, 7.0, 122.0, 184.0, 62.0, 194.0, 153.0, 108.0, 17.0, 71.0, 111.0, 130.0, 86.0, 48.0, 66.0, 30.0, 77.0, 59.0, 76.0, 51.0, 96.0, 44.0, 103.0, 54.0, 154.0, 62.0, 16.0, 108.0, 164.0, 5.0, 223.0, 56.0, 134.0, 90.0, 108.0, 41.0, 207.0, 145.0, 43.0, 72.0, 25.0, 43.0, 112.0, 15.0, 170.0, 86.0, 93.0, 143.0, 10.0, 96.0, 28.0, 12.0, 21.0, 6.0, 28.0, 78.0, 39.0, 40.0, 128.0, 232.0, 95.0, 59.0, 156.0, 113.0, 145.0, 98.0, 104.0, 4.0, 10.0, 157.0, 5.0, 79.0, 132.0, 180.0, 14.0, 29.0, 23.0, 34.0, 96.0, 211.0, 177.0, 220.0, 24.0, 129.0, 70.0, 8.0, 192.0, 51.0, 17.0, 4.0, 6.0, 194.0, 23.0, 134.0, 62.0, 64.0, 82.0, 2.0, 81.0, 49.0, 107.0, 157.0, 91.0, 30.0, 87.0, 84.0, 161.0, 204.0, 50.0, 160.0, 220.0, 78.0, 85.0, 13.0, 122.0, 93.0, 39.0, 104.0, 156.0, 185.0, 158.0, 14.0, 212.0, 48.0, 174.0, 27.0, 91.0, 38.0, 48.0, 239.0, 34.0, 19.0, 85.0, 26.0, 66.0, 49.0, 164.0, 53.0, 110.0, 8.0, 219.0, 15.0, 48.0, 67.0, 58.0, 3.0, 52.0, 46.0, 53.0, 86.0, 86.0, 14.0, 101.0, 113.0, 112.0, 93.0, 82.0, 176.0, 30.0, 247.0, 157.0, 108.0, 113.0, 19.0, 126.0, 64.0, 71.0, 54.0, 16.0, 9.0, 75.0, 7.0, 21.0, 136.0, 7.0, 14.0, 7.0, 62.0, 59.0, 166.0, 66.0, 2.0, 26.0, 30.0, 108.0, 21.0, 160.0, 11.0, 20.0, 12.0, 78.0, 138.0, 191.0, 17.0, 68.0, 135.0, 168.0, 121.0, 232.0, 60.0, 42.0, 30.0, 151.0, 34.0, 56.0, 20.0, 13.0, 133.0, 72.0, 21.0, 20.0, 13.0, 60.0, 32.0, 10.0, 46.0, 117.0, 114.0, 179.0, 152.0, 155.0, 43.0, 137.0, 74.0, 72.0, 8.0, 28.0, 81.0, 113.0, 184.0, 34.0, 105.0, 84.0, 69.0, 201.0, 59.0, 44.0, 104.0, 189.0, 106.0, 22.0, 3.0, 5.0, 62.0, 158.0, 117.0, 24.0, 84.0, 214.0, 32.0, 40.0, 20.0, 43.0, 4.0, 105.0, 120.0, 14.0, 10.0, 116.0, 66.0, 11.0, 8.0, 90.0, 147.0, 190.0, 26.0, 84.0, 211.0, 150.0, 65.0, 112.0, 112.0, 44.0, 183.0, 20.0, 118.0, 201.0, 142.0, 64.0, 210.0, 67.0, 62.0, 13.0, 7.0, 141.0, 56.0, 124.0, 60.0, 5.0, 266.0, 199.0, 165.0, 72.0, 5.0, 9.0, 106.0, 223.0, 65.0, 230.0, 50.0, 77.0, 40.0, 155.0, 13.0, 120.0, 39.0, 16.0, 168.0, 186.0, 33.0, 11.0, 89.0, 109.0, 176.0, 132.0, 70.0, 84.0, 56.0, 241.0, 148.0, 88.0, 140.0, 45.0, 15.0, 36.0, 141.0, 187.0, 74.0, 185.0, 115.0, 18.0, 117.0, 51.0, 161.0, 131.0, 170.0, 51.0, 155.0, 136.0, 128.0, 17.0, 26.0, 79.0, 45.0, 106.0, 96.0, 24.0, 179.0, 173.0, 128.0, 10.0, 140.0, 44.0, 15.0, 51.0, 36.0, 29.0, 139.0, 71.0, 72.0, 53.0, 22.0, 61.0, 56.0, 160.0, 24.0, 53.0, 188.0, 119.0, 32.0, 156.0, 18.0, 26.0, 25.0, 13.0, 131.0, 125.0, 15.0, 82.0, 6.0, 137.0, 161.0, 168.0, 24.0, 45.0, 60.0, 48.0, 2.0, 172.0, 23.0, 12.0, 4.0, 122.0, 126.0, 129.0, 92.0, 111.0, 17.0, 35.0, 107.0, 45.0, 99.0, 22.0, 15.0, 8.0, 177.0, 19.0, 203.0, 55.0, 125.0, 107.0, 91.0, 129.0, 168.0, 21.0, 171.0, 168.0, 64.0, 9.0, 59.0, 160.0, 168.0, 142.0, 58.0, 58.0, 23.0, 82.0, 78.0, 141.0, 77.0, 238.0, 7.0, 151.0, 83.0, 152.0, 9.0, 86.0, 39.0, 172.0, 38.0, 38.0, 222.0, 3.0, 100.0, 102.0, 269.0, 177.0, 51.0, 60.0, 196.0, 162.0, 7.0, 109.0, 146.0, 158.0, 195.0, 107.0, 96.0, 78.0, 205.0, 92.0, 166.0, 44.0, 133.0, 155.0, 72.0, 131.0, 150.0, 26.0, 112.0, 115.0, 156.0, 9.0, 19.0, 165.0, 172.0, 63.0, 20.0, 63.0, 115.0, 174.0, 56.0, 141.0, 99.0, 146.0, 100.0, 44.0, 75.0, 17.0, 92.0, 37.0, 68.0, 81.0, 104.0, 165.0, 147.0, 175.0, 193.0, 60.0, 30.0, 60.0, 10.0, 42.0, 127.0, 230.0, 180.0, 67.0, 154.0, 226.0, 53.0, 125.0, 182.0, 39.0, 24.0, 155.0, 188.0, 75.0, 117.0, 6.0, 159.0, 52.0, 5.0, 43.0, 41.0, 127.0, 134.0, 131.0, 129.0, 205.0, 30.0, 120.0, 16.0, 133.0, 181.0, 26.0, 197.0, 65.0, 55.0, 14.0, 97.0, 126.0, 116.0, 126.0, 152.0, 138.0, 117.0, 50.0, 7.0, 16.0, 14.0, 69.0, 25.0, 220.0, 113.0, 156.0, 230.0, 76.0, 91.0, 32.0, 152.0, 71.0, 150.0, 66.0, 42.0, 142.0, 22.0, 56.0, 53.0, 23.0, 175.0, 184.0, 126.0, 22.0, 18.0, 28.0, 221.0, 32.0, 163.0, 13.0, 65.0, 118.0, 132.0, 19.0, 130.0, 163.0, 172.0, 36.0, 19.0, 170.0, 67.0, 75.0, 155.0, 25.0, 72.0, 49.0, 27.0, 156.0, 120.0, 170.0, 23.0, 11.0, 15.0, 87.0, 147.0, 149.0, 31.0, 35.0, 27.0, 161.0, 10.0, 51.0, 64.0, 139.0, 90.0, 140.0, 162.0, 115.0, 118.0, 135.0, 58.0, 36.0, 149.0, 78.0, 184.0, 148.0, 128.0, 36.0, 112.0, 37.0, 87.0, 11.0, 79.0, 149.0, 140.0, 241.0, 18.0, 238.0, 6.0, 66.0, 92.0, 65.0, 32.0, 111.0, 176.0, 20.0, 28.0, 28.0, 4.0, 97.0, 42.0, 6.0, 57.0, 57.0, 23.0, 116.0, 99.0, 166.0, 133.0, 153.0, 189.0, 7.0, 137.0, 95.0, 75.0, 32.0, 128.0, 117.0, 11.0, 76.0, 6.0, 74.0, 17.0, 179.0, 27.0, 54.0, 70.0, 95.0, 54.0, 22.0, 166.0, 74.0, 136.0, 73.0, 22.0, 183.0, 12.0, 139.0, 240.0, 63.0, 13.0, 9.0, 33.0, 109.0, 26.0, 27.0, 17.0, 210.0, 156.0, 143.0, 8.0, 144.0, 102.0, 54.0, 123.0, 175.0, 87.0, 45.0, 120.0, 60.0, 82.0, 40.0, 156.0, 59.0, 180.0, 17.0, 50.0, 70.0, 134.0, 155.0, 60.0, 154.0, 93.0, 10.0, 69.0, 193.0, 159.0, 56.0, 123.0, 23.0, 124.0, 113.0, 162.0, 183.0, 29.0, 124.0, 84.0, 50.0, 25.0, 91.0, 183.0, 22.0, 136.0, 39.0, 13.0, 72.0, 170.0, 115.0, 29.0, 144.0, 58.0, 104.0, 88.0, 34.0, 175.0, 107.0, 176.0, 5.0, 127.0, 186.0, 52.0, 115.0, 125.0, 22.0, 7.0, 239.0, 222.0, 59.0, 65.0, 81.0, 57.0, 3.0, 6.0, 76.0, 59.0, 152.0, 22.0, 32.0, 159.0, 4.0, 160.0, 51.0, 104.0, 122.0, 98.0, 157.0, 101.0, 24.0, 13.0, 17.0, 76.0, 39.0, 13.0, 9.0, 34.0, 102.0, 193.0, 13.0, 87.0, 18.0, 166.0, 55.0, 71.0, 144.0, 29.0, 147.0, 132.0, 81.0, 36.0, 41.0, 50.0, 76.0, 38.0, 80.0, 69.0, 87.0, 92.0, 44.0, 151.0, 74.0, 259.0, 26.0, 32.0, 45.0, 104.0, 54.0, 63.0, 93.0, 27.0, 196.0, 60.0, 12.0, 187.0, 90.0, 110.0, 156.0, 125.0, 95.0, 27.0, 95.0, 218.0, 156.0, 91.0, 156.0, 83.0, 164.0, 105.0, 123.0, 59.0, 41.0, 105.0, 81.0, 73.0, 133.0, 120.0, 200.0, 153.0, 23.0, 44.0, 55.0, 49.0, 165.0, 90.0, 180.0, 88.0, 12.0, 48.0, 174.0, 10.0, 13.0, 62.0, 180.0, 11.0, 26.0, 134.0, 19.0, 150.0, 18.0, 88.0, 96.0, 62.0, 73.0, 7.0, 34.0, 190.0, 71.0, 22.0, 89.0, 19.0, 71.0, 242.0, 73.0, 14.0, 45.0, 188.0, 4.0, 127.0, 20.0, 213.0, 44.0, 104.0, 135.0, 13.0, 64.0, 155.0, 128.0, 15.0, 41.0, 181.0, 144.0, 73.0, 90.0, 47.0, 116.0, 81.0, 15.0, 53.0, 214.0, 82.0, 127.0, 85.0, 11.0, 112.0, 189.0, 116.0, 101.0, 30.0, 34.0, 65.0, 108.0, 54.0, 176.0, 20.0, 123.0, 15.0, 144.0, 46.0, 48.0, 39.0, 103.0, 53.0, 47.0, 68.0, 58.0, 156.0, 185.0, 2.0, 107.0, 34.0, 24.0, 71.0, 104.0, 4.0, 69.0, 103.0, 163.0, 17.0, 148.0, 189.0, 9.0, 99.0, 60.0, 145.0, 65.0, 42.0, 158.0, 134.0, 24.0, 33.0, 71.0, 88.0, 89.0, 28.0, 170.0, 34.0, 61.0, 24.0, 20.0, 31.0, 102.0, 79.0, 25.0, 245.0, 150.0, 233.0, 23.0, 47.0, 6.0, 39.0, 98.0, 35.0, 56.0, 123.0, 12.0, 136.0, 132.0, 175.0, 28.0, 151.0, 16.0, 154.0, 13.0, 182.0, 75.0, 22.0, 6.0, 19.0, 129.0, 30.0, 16.0, 85.0, 198.0, 182.0, 126.0, 21.0, 1.0, 57.0, 45.0, 4.0, 15.0, 117.0, 14.0, 137.0, 121.0, 223.0, 159.0, 201.0, 13.0, 10.0, 8.0, 46.0, 151.0, 148.0, 175.0, 170.0, 30.0, 70.0, 160.0, 183.0, 128.0, 200.0, 14.0, 45.0, 26.0, 156.0, 98.0, 31.0, 11.0, 10.0, 165.0, 207.0, 58.0, 164.0, 148.0, 106.0, 117.0, 120.0, 17.0, 20.0, 94.0, 49.0, 230.0, 29.0, 111.0, 184.0, 103.0, 201.0, 12.0, 80.0, 131.0, 39.0, 102.0, 211.0, 120.0, 35.0, 17.0, 41.0, 15.0, 77.0, 164.0, 174.0, 64.0, 183.0, 39.0, 138.0, 143.0, 146.0, 79.0, 208.0, 34.0, 87.0, 204.0, 117.0, 144.0, 180.0, 30.0, 17.0, 229.0, 89.0, 125.0, 238.0, 21.0, 62.0, 78.0, 6.0, 70.0, 55.0, 77.0, 91.0, 147.0, 170.0, 15.0, 31.0, 87.0, 31.0, 5.0, 56.0, 77.0, 4.0, 101.0, 54.0, 40.0, 126.0, 60.0, 24.0, 192.0, 51.0, 75.0, 112.0, 27.0, 98.0, 55.0, 162.0, 12.0, 20.0, 86.0, 121.0, 8.0, 135.0, 180.0, 190.0, 113.0, 3.0, 166.0, 53.0, 166.0, 209.0, 47.0, 86.0, 57.0, 137.0, 70.0, 280.0, 29.0, 98.0, 10.0, 152.0, 14.0, 149.0, 177.0, 38.0, 99.0, 71.0, 8.0, 136.0, 30.0, 193.0, 158.0, 82.0, 23.0, 96.0, 27.0, 112.0, 38.0, 198.0, 109.0, 169.0, 193.0, 91.0, 42.0, 50.0, 26.0, 60.0, 187.0, 58.0, 75.0, 19.0, 91.0, 38.0, 191.0, 124.0, 67.0, 183.0, 156.0, 12.0, 10.0, 110.0, 93.0, 95.0, 47.0, 16.0, 35.0, 145.0, 37.0, 34.0, 104.0, 118.0, 173.0, 25.0, 83.0, 13.0, 179.0, 74.0, 91.0, 30.0, 119.0, 85.0, 158.0, 10.0, 179.0, 147.0, 163.0, 109.0, 4.0, 81.0, 202.0, 209.0, 19.0, 177.0, 174.0, 36.0, 3.0, 26.0, 118.0, 104.0, 18.0, 151.0, 28.0, 3.0, 12.0, 192.0, 28.0, 179.0, 165.0, 80.0, 117.0, 7.0, 17.0, 120.0, 7.0, 56.0, 182.0, 66.0, 150.0, 67.0, 44.0, 223.0, 68.0, 19.0, 35.0, 46.0, 190.0, 44.0, 53.0, 60.0, 224.0, 172.0, 54.0, 41.0, 104.0, 5.0, 10.0, 65.0, 107.0, 87.0, 14.0, 29.0, 49.0, 10.0, 3.0, 23.0, 85.0, 12.0, 82.0, 133.0, 112.0, 80.0, 103.0, 190.0, 61.0, 109.0, 175.0, 14.0, 162.0, 203.0, 108.0, 81.0, 17.0, 144.0, 47.0, 23.0, 88.0, 149.0, 105.0, 17.0, 64.0, 77.0, 93.0, 10.0, 145.0, 59.0, 34.0, 159.0, 119.0, 82.0, 18.0, 21.0, 89.0, 76.0, 200.0, 229.0, 138.0, 187.0, 62.0, 17.0, 163.0, 91.0, 8.0, 29.0, 143.0, 23.0, 40.0, 48.0, 106.0, 63.0, 16.0, 146.0, 216.0, 149.0, 196.0, 49.0, 82.0, 111.0, 32.0, 31.0, 63.0, 33.0, 12.0, 90.0, 49.0, 71.0, 62.0, 99.0, 10.0, 73.0, 1.0, 48.0, 124.0, 64.0, 70.0, 35.0, 26.0, 44.0, 85.0, 187.0, 70.0, 112.0, 102.0, 197.0, 10.0, 20.0, 48.0, 180.0, 28.0, 12.0, 55.0, 223.0, 60.0, 181.0, 6.0, 194.0, 45.0, 103.0, 72.0, 140.0, 11.0, 86.0, 82.0, 172.0, 169.0, 33.0, 60.0, 147.0, 21.0, 189.0, 8.0, 58.0, 148.0, 44.0, 146.0, 34.0, 143.0, 55.0, 10.0, 33.0, 31.0, 27.0, 100.0, 54.0, 44.0, 100.0, 179.0, 109.0, 63.0, 14.0, 70.0, 181.0, 176.0, 140.0, 17.0, 5.0, 124.0, 81.0, 145.0, 187.0, 220.0, 125.0, 46.0, 86.0, 74.0, 115.0, 4.0, 114.0, 117.0, 156.0, 142.0, 41.0, 210.0, 27.0, 94.0, 93.0, 134.0, 89.0, 5.0, 50.0, 7.0, 236.0, 176.0, 34.0, 58.0, 32.0, 111.0, 11.0, 52.0, 10.0, 32.0, 3.0, 9.0, 82.0, 152.0, 26.0, 9.0, 106.0, 119.0, 14.0, 4.0, 186.0, 44.0, 101.0, 9.0, 94.0, 144.0, 121.0, 108.0, 8.0, 130.0, 91.0, 87.0, 43.0, 242.0, 12.0, 35.0, 35.0, 71.0, 60.0, 82.0, 8.0, 84.0, 3.0, 130.0, 38.0, 20.0, 161.0, 84.0, 120.0, 44.0, 203.0, 43.0, 54.0, 28.0, 15.0, 67.0, 155.0, 7.0, 178.0, 108.0, 13.0, 121.0, 5.0, 144.0, 129.0, 50.0, 37.0, 164.0, 264.0, 184.0, 134.0, 148.0, 24.0, 174.0, 112.0, 171.0, 76.0, 42.0, 126.0, 156.0, 40.0, 122.0, 149.0, 47.0, 123.0, 53.0, 3.0, 136.0, 17.0, 25.0, 211.0, 11.0, 161.0, 153.0, 81.0, 112.0, 76.0, 98.0, 14.0, 36.0, 145.0, 76.0, 184.0, 111.0, 184.0, 11.0, 17.0, 17.0, 132.0, 67.0, 97.0, 21.0, 71.0, 16.0, 39.0, 114.0, 45.0, 21.0, 51.0, 6.0, 20.0, 156.0, 161.0, 64.0, 114.0, 130.0, 108.0, 71.0, 105.0, 63.0, 58.0, 80.0, 7.0, 177.0, 89.0, 192.0, 172.0, 36.0, 35.0, 103.0, 16.0, 178.0, 149.0, 191.0, 3.0, 86.0, 4.0, 145.0, 92.0, 68.0, 50.0, 44.0, 6.0, 181.0, 18.0, 9.0, 168.0, 42.0, 22.0, 35.0, 7.0, 28.0, 105.0, 25.0, 115.0, 20.0, 68.0, 87.0, 142.0, 48.0, 19.0, 23.0, 20.0, 199.0, 80.0, 123.0, 153.0, 131.0, 127.0, 80.0, 46.0, 196.0, 134.0, 17.0, 46.0, 43.0, 67.0, 81.0, 125.0, 92.0, 42.0, 12.0, 139.0, 177.0, 71.0, 109.0, 225.0, 147.0, 43.0, 169.0, 121.0, 45.0, 147.0, 46.0, 8.0, 142.0, 11.0, 111.0, 84.0, 138.0, 128.0, 80.0, 87.0, 143.0, 118.0, 154.0, 38.0, 70.0, 165.0, 24.0, 104.0, 118.0, 35.0, 190.0, 42.0, 15.0, 129.0, 26.0, 139.0, 108.0, 194.0, 166.0, 200.0, 129.0, 56.0, 167.0, 91.0, 145.0, 168.0, 84.0, 133.0, 94.0, 27.0, 68.0, 237.0, 48.0, 26.0, 21.0, 62.0, 9.0, 48.0, 61.0, 7.0, 135.0, 64.0, 74.0, 150.0, 77.0, 234.0, 162.0, 130.0, 64.0, 142.0, 73.0, 144.0, 6.0, 231.0, 54.0, 92.0, 60.0, 207.0, 47.0, 168.0, 50.0, 57.0, 27.0, 126.0, 65.0, 24.0, 41.0, 207.0, 36.0, 94.0, 6.0, 11.0, 170.0, 178.0, 7.0, 11.0, 172.0, 44.0, 133.0, 78.0, 47.0, 22.0, 155.0, 15.0, 179.0, 39.0, 59.0, 114.0, 72.0, 78.0, 175.0, 48.0, 60.0, 56.0, 45.0, 101.0, 102.0, 182.0, 4.0, 46.0, 174.0, 141.0, 73.0, 71.0, 115.0, 17.0, 17.0, 110.0, 239.0, 141.0, 149.0, 32.0, 10.0, 72.0, 112.0, 88.0, 57.0, 107.0, 95.0, 158.0, 141.0, 93.0, 99.0, 3.0, 106.0, 68.0, 28.0, 97.0, 178.0, 11.0, 57.0, 105.0, 4.0, 50.0, 179.0, 24.0, 77.0, 92.0, 26.0, 211.0, 143.0, 40.0, 130.0, 182.0, 7.0, 17.0, 131.0, 14.0, 34.0, 45.0, 155.0, 264.0, 56.0, 34.0, 8.0, 133.0, 40.0, 67.0, 6.0, 177.0, 95.0, 167.0, 158.0, 5.0, 169.0, 211.0, 5.0, 2.0, 9.0, 119.0, 142.0, 13.0, 173.0, 127.0, 15.0, 8.0, 53.0, 195.0, 66.0, 92.0, 21.0, 91.0, 189.0, 55.0, 72.0, 182.0, 27.0, 117.0, 27.0, 58.0, 156.0, 9.0, 35.0, 106.0, 234.0, 13.0, 87.0, 6.0, 201.0, 33.0, 45.0, 51.0, 146.0, 12.0, 40.0, 54.0, 123.0, 95.0, 159.0, 71.0, 85.0, 60.0, 26.0, 14.0, 83.0, 167.0, 32.0, 55.0, 108.0, 147.0, 24.0, 187.0, 47.0, 134.0, 252.0, 25.0, 106.0, 115.0, 87.0, 130.0, 130.0, 177.0, 43.0, 205.0, 41.0, 146.0, 244.0, 54.0, 61.0, 28.0, 194.0, 173.0, 34.0, 155.0, 179.0, 170.0, 137.0, 147.0, 26.0, 81.0, 61.0, 72.0, 11.0, 10.0, 34.0, 79.0, 67.0, 49.0, 57.0, 34.0, 135.0, 30.0, 75.0, 13.0, 52.0, 62.0, 16.0, 85.0, 202.0, 58.0, 59.0, 109.0, 215.0, 32.0, 197.0, 29.0, 170.0, 101.0, 18.0, 57.0, 20.0, 50.0, 104.0, 162.0, 192.0, 15.0, 88.0, 20.0, 45.0, 45.0, 64.0, 35.0, 221.0, 51.0, 103.0, 69.0, 49.0, 56.0, 110.0, 169.0, 10.0, 23.0, 250.0, 24.0, 9.0, 204.0, 136.0, 163.0, 151.0, 47.0, 42.0, 29.0, 38.0, 50.0, 32.0, 79.0, 128.0, 72.0, 89.0, 4.0, 60.0, 104.0, 81.0, 42.0, 66.0, 47.0, 161.0, 20.0, 19.0, 60.0, 17.0, 92.0, 159.0, 169.0, 20.0, 12.0, 181.0, 46.0, 14.0, 9.0, 55.0, 31.0, 59.0, 59.0, 71.0, 112.0, 65.0, 56.0, 50.0, 149.0, 46.0, 24.0, 90.0, 167.0, 174.0, 101.0, 156.0, 99.0, 118.0, 17.0, 17.0, 223.0, 181.0, 55.0, 101.0, 221.0, 13.0, 179.0, 54.0, 105.0, 150.0, 30.0, 18.0, 16.0, 95.0, 91.0, 26.0, 84.0, 163.0, 120.0, 232.0, 102.0, 102.0, 157.0, 82.0, 13.0, 54.0, 106.0, 95.0, 287.0, 48.0, 3.0, 33.0, 35.0, 20.0, 16.0, 43.0, 201.0, 54.0, 153.0, 131.0, 200.0, 6.0, 110.0, 48.0, 57.0, 90.0, 145.0, 65.0, 59.0, 201.0, 122.0, 174.0, 51.0, 27.0, 15.0, 144.0, 139.0, 19.0, 156.0, 24.0, 28.0, 13.0, 153.0, 186.0, 129.0, 76.0, 11.0, 119.0, 124.0, 101.0, 234.0, 103.0, 81.0, 70.0, 140.0, 211.0, 25.0, 151.0, 169.0, 26.0, 18.0, 23.0, 93.0, 60.0, 56.0, 27.0, 19.0, 48.0, 131.0, 40.0, 12.0, 136.0, 147.0, 138.0, 35.0, 128.0, 21.0, 71.0, 23.0, 71.0, 11.0, 138.0, 120.0, 126.0, 73.0, 79.0, 203.0, 57.0, 137.0, 180.0, 21.0, 117.0, 17.0, 97.0, 114.0, 86.0, 151.0, 117.0, 104.0, 75.0, 219.0, 13.0, 207.0, 27.0, 21.0, 103.0, 10.0, 51.0, 56.0, 78.0, 56.0, 16.0, 34.0, 105.0, 13.0, 151.0, 188.0, 89.0, 14.0, 134.0, 145.0, 5.0, 88.0, 54.0, 139.0, 13.0, 82.0, 99.0, 44.0, 11.0, 74.0, 78.0, 108.0, 4.0, 152.0, 185.0, 155.0, 2.0, 133.0, 101.0, 31.0, 29.0, 84.0, 50.0, 104.0, 45.0, 47.0, 176.0, 54.0, 61.0, 139.0, 127.0, 63.0, 22.0, 130.0, 40.0, 3.0, 110.0, 60.0, 182.0, 41.0, 109.0, 47.0, 97.0, 41.0, 49.0, 48.0, 88.0, 71.0, 169.0, 79.0, 10.0, 187.0, 166.0, 20.0, 196.0, 191.0, 44.0, 43.0, 109.0, 68.0, 112.0, 60.0, 83.0, 181.0, 79.0, 120.0, 95.0, 103.0, 178.0, 35.0, 144.0, 163.0, 74.0, 14.0, 80.0, 43.0, 91.0, 19.0, 55.0, 156.0, 149.0, 26.0, 63.0, 142.0, 121.0, 162.0, 146.0, 22.0, 56.0, 154.0, 79.0, 152.0, 5.0, 54.0, 167.0, 34.0, 243.0, 178.0, 202.0, 8.0, 22.0, 106.0, 214.0, 37.0, 164.0, 71.0, 4.0, 95.0, 36.0, 13.0, 23.0, 59.0, 140.0, 58.0, 101.0, 114.0, 93.0, 30.0, 38.0, 174.0, 162.0, 147.0, 3.0, 72.0, 21.0, 55.0, 182.0, 144.0, 95.0, 6.0, 61.0, 114.0, 119.0, 12.0, 78.0, 90.0, 137.0, 100.0, 221.0, 148.0, 54.0, 201.0, 24.0, 196.0, 28.0, 152.0, 60.0, 81.0, 107.0, 109.0, 149.0, 15.0, 192.0, 99.0, 22.0, 125.0, 17.0, 183.0, 27.0, 56.0, 140.0, 33.0, 20.0, 7.0, 39.0, 130.0, 65.0, 191.0, 31.0, 87.0, 41.0, 161.0, 42.0, 27.0, 65.0, 82.0]\n"
     ]
    }
   ],
   "source": [
    "print(\"Original Data\\n\")\n",
    "print(Y_test.tolist())"
   ]
  },
  {
   "cell_type": "code",
   "execution_count": 92,
   "metadata": {},
   "outputs": [
    {
     "name": "stdout",
     "output_type": "stream",
     "text": [
      "Mean Absolute Error =  1.4699064764529466\n"
     ]
    }
   ],
   "source": [
    "mae = metrics.mean_absolute_error(Y_test, test_data_prediction)\n",
    "print(\"Mean Absolute Error = \", mae)"
   ]
  },
  {
   "cell_type": "markdown",
   "metadata": {},
   "source": [
    "Accuracy of XGBRegressor Model"
   ]
  },
  {
   "cell_type": "code",
   "execution_count": 93,
   "metadata": {},
   "outputs": [
    {
     "name": "stdout",
     "output_type": "stream",
     "text": [
      "Accuracy: 27.03%\n"
     ]
    }
   ],
   "source": [
    "test_data_prediction_classes = np.round(test_data_prediction).astype(int)\n",
    "accuracy = accuracy_score(Y_test, test_data_prediction_classes)\n",
    "print(f'Accuracy: {accuracy * 100:.2f}%')"
   ]
  }
 ],
 "metadata": {
  "kernelspec": {
   "display_name": "base",
   "language": "python",
   "name": "python3"
  },
  "language_info": {
   "codemirror_mode": {
    "name": "ipython",
    "version": 3
   },
   "file_extension": ".py",
   "mimetype": "text/x-python",
   "name": "python",
   "nbconvert_exporter": "python",
   "pygments_lexer": "ipython3",
   "version": "3.12.1"
  }
 },
 "nbformat": 4,
 "nbformat_minor": 2
}
