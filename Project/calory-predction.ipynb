{
 "cells": [
  {
   "cell_type": "markdown",
   "metadata": {},
   "source": [
    "Importing the Dependencies"
   ]
  },
  {
   "cell_type": "code",
   "execution_count": 10,
   "metadata": {},
   "outputs": [],
   "source": [
    "import numpy as np\n",
    "import pandas as pd\n",
    "import matplotlib.pyplot as plt\n",
    "import seaborn as sns\n",
    "from sklearn.model_selection import train_test_split\n",
    "from xgboost import XGBRegressor\n",
    "from sklearn import metrics"
   ]
  },
  {
   "cell_type": "markdown",
   "metadata": {},
   "source": [
    "Data Collection & Processing"
   ]
  },
  {
   "cell_type": "code",
   "execution_count": 11,
   "metadata": {},
   "outputs": [],
   "source": [
    "# loading the data from csv file to a Pandas DataFrame\n",
    "calories = pd.read_csv('calories.csv')"
   ]
  },
  {
   "cell_type": "code",
   "execution_count": 12,
   "metadata": {},
   "outputs": [
    {
     "data": {
      "text/html": [
       "<div>\n",
       "<style scoped>\n",
       "    .dataframe tbody tr th:only-of-type {\n",
       "        vertical-align: middle;\n",
       "    }\n",
       "\n",
       "    .dataframe tbody tr th {\n",
       "        vertical-align: top;\n",
       "    }\n",
       "\n",
       "    .dataframe thead th {\n",
       "        text-align: right;\n",
       "    }\n",
       "</style>\n",
       "<table border=\"1\" class=\"dataframe\">\n",
       "  <thead>\n",
       "    <tr style=\"text-align: right;\">\n",
       "      <th></th>\n",
       "      <th>User_ID</th>\n",
       "      <th>Calories</th>\n",
       "    </tr>\n",
       "  </thead>\n",
       "  <tbody>\n",
       "    <tr>\n",
       "      <th>0</th>\n",
       "      <td>14733363</td>\n",
       "      <td>231.0</td>\n",
       "    </tr>\n",
       "    <tr>\n",
       "      <th>1</th>\n",
       "      <td>14861698</td>\n",
       "      <td>66.0</td>\n",
       "    </tr>\n",
       "    <tr>\n",
       "      <th>2</th>\n",
       "      <td>11179863</td>\n",
       "      <td>26.0</td>\n",
       "    </tr>\n",
       "    <tr>\n",
       "      <th>3</th>\n",
       "      <td>16180408</td>\n",
       "      <td>71.0</td>\n",
       "    </tr>\n",
       "    <tr>\n",
       "      <th>4</th>\n",
       "      <td>17771927</td>\n",
       "      <td>35.0</td>\n",
       "    </tr>\n",
       "  </tbody>\n",
       "</table>\n",
       "</div>"
      ],
      "text/plain": [
       "    User_ID  Calories\n",
       "0  14733363     231.0\n",
       "1  14861698      66.0\n",
       "2  11179863      26.0\n",
       "3  16180408      71.0\n",
       "4  17771927      35.0"
      ]
     },
     "execution_count": 12,
     "metadata": {},
     "output_type": "execute_result"
    }
   ],
   "source": [
    "# print the first 5 rows of the dataframe\n",
    "calories.head()"
   ]
  },
  {
   "cell_type": "code",
   "execution_count": 13,
   "metadata": {},
   "outputs": [],
   "source": [
    "exercise_data = pd.read_csv('exercise.csv')"
   ]
  },
  {
   "cell_type": "code",
   "execution_count": 14,
   "metadata": {},
   "outputs": [
    {
     "data": {
      "text/html": [
       "<div>\n",
       "<style scoped>\n",
       "    .dataframe tbody tr th:only-of-type {\n",
       "        vertical-align: middle;\n",
       "    }\n",
       "\n",
       "    .dataframe tbody tr th {\n",
       "        vertical-align: top;\n",
       "    }\n",
       "\n",
       "    .dataframe thead th {\n",
       "        text-align: right;\n",
       "    }\n",
       "</style>\n",
       "<table border=\"1\" class=\"dataframe\">\n",
       "  <thead>\n",
       "    <tr style=\"text-align: right;\">\n",
       "      <th></th>\n",
       "      <th>User_ID</th>\n",
       "      <th>Gender</th>\n",
       "      <th>Age</th>\n",
       "      <th>Height</th>\n",
       "      <th>Weight</th>\n",
       "      <th>Duration</th>\n",
       "      <th>Heart_Rate</th>\n",
       "      <th>Body_Temp</th>\n",
       "    </tr>\n",
       "  </thead>\n",
       "  <tbody>\n",
       "    <tr>\n",
       "      <th>0</th>\n",
       "      <td>14733363</td>\n",
       "      <td>male</td>\n",
       "      <td>68</td>\n",
       "      <td>190.0</td>\n",
       "      <td>94.0</td>\n",
       "      <td>29.0</td>\n",
       "      <td>105.0</td>\n",
       "      <td>40.8</td>\n",
       "    </tr>\n",
       "    <tr>\n",
       "      <th>1</th>\n",
       "      <td>14861698</td>\n",
       "      <td>female</td>\n",
       "      <td>20</td>\n",
       "      <td>166.0</td>\n",
       "      <td>60.0</td>\n",
       "      <td>14.0</td>\n",
       "      <td>94.0</td>\n",
       "      <td>40.3</td>\n",
       "    </tr>\n",
       "    <tr>\n",
       "      <th>2</th>\n",
       "      <td>11179863</td>\n",
       "      <td>male</td>\n",
       "      <td>69</td>\n",
       "      <td>179.0</td>\n",
       "      <td>79.0</td>\n",
       "      <td>5.0</td>\n",
       "      <td>88.0</td>\n",
       "      <td>38.7</td>\n",
       "    </tr>\n",
       "    <tr>\n",
       "      <th>3</th>\n",
       "      <td>16180408</td>\n",
       "      <td>female</td>\n",
       "      <td>34</td>\n",
       "      <td>179.0</td>\n",
       "      <td>71.0</td>\n",
       "      <td>13.0</td>\n",
       "      <td>100.0</td>\n",
       "      <td>40.5</td>\n",
       "    </tr>\n",
       "    <tr>\n",
       "      <th>4</th>\n",
       "      <td>17771927</td>\n",
       "      <td>female</td>\n",
       "      <td>27</td>\n",
       "      <td>154.0</td>\n",
       "      <td>58.0</td>\n",
       "      <td>10.0</td>\n",
       "      <td>81.0</td>\n",
       "      <td>39.8</td>\n",
       "    </tr>\n",
       "  </tbody>\n",
       "</table>\n",
       "</div>"
      ],
      "text/plain": [
       "    User_ID  Gender  Age  Height  Weight  Duration  Heart_Rate  Body_Temp\n",
       "0  14733363    male   68   190.0    94.0      29.0       105.0       40.8\n",
       "1  14861698  female   20   166.0    60.0      14.0        94.0       40.3\n",
       "2  11179863    male   69   179.0    79.0       5.0        88.0       38.7\n",
       "3  16180408  female   34   179.0    71.0      13.0       100.0       40.5\n",
       "4  17771927  female   27   154.0    58.0      10.0        81.0       39.8"
      ]
     },
     "execution_count": 14,
     "metadata": {},
     "output_type": "execute_result"
    }
   ],
   "source": [
    "exercise_data.head()"
   ]
  },
  {
   "cell_type": "markdown",
   "metadata": {},
   "source": [
    "Combining the two Dataframes"
   ]
  },
  {
   "cell_type": "code",
   "execution_count": 15,
   "metadata": {},
   "outputs": [],
   "source": [
    "calories_data = pd.concat([exercise_data, calories['Calories']], axis=1)"
   ]
  },
  {
   "cell_type": "code",
   "execution_count": 16,
   "metadata": {},
   "outputs": [
    {
     "data": {
      "text/html": [
       "<div>\n",
       "<style scoped>\n",
       "    .dataframe tbody tr th:only-of-type {\n",
       "        vertical-align: middle;\n",
       "    }\n",
       "\n",
       "    .dataframe tbody tr th {\n",
       "        vertical-align: top;\n",
       "    }\n",
       "\n",
       "    .dataframe thead th {\n",
       "        text-align: right;\n",
       "    }\n",
       "</style>\n",
       "<table border=\"1\" class=\"dataframe\">\n",
       "  <thead>\n",
       "    <tr style=\"text-align: right;\">\n",
       "      <th></th>\n",
       "      <th>User_ID</th>\n",
       "      <th>Gender</th>\n",
       "      <th>Age</th>\n",
       "      <th>Height</th>\n",
       "      <th>Weight</th>\n",
       "      <th>Duration</th>\n",
       "      <th>Heart_Rate</th>\n",
       "      <th>Body_Temp</th>\n",
       "      <th>Calories</th>\n",
       "    </tr>\n",
       "  </thead>\n",
       "  <tbody>\n",
       "    <tr>\n",
       "      <th>0</th>\n",
       "      <td>14733363</td>\n",
       "      <td>male</td>\n",
       "      <td>68</td>\n",
       "      <td>190.0</td>\n",
       "      <td>94.0</td>\n",
       "      <td>29.0</td>\n",
       "      <td>105.0</td>\n",
       "      <td>40.8</td>\n",
       "      <td>231.0</td>\n",
       "    </tr>\n",
       "    <tr>\n",
       "      <th>1</th>\n",
       "      <td>14861698</td>\n",
       "      <td>female</td>\n",
       "      <td>20</td>\n",
       "      <td>166.0</td>\n",
       "      <td>60.0</td>\n",
       "      <td>14.0</td>\n",
       "      <td>94.0</td>\n",
       "      <td>40.3</td>\n",
       "      <td>66.0</td>\n",
       "    </tr>\n",
       "    <tr>\n",
       "      <th>2</th>\n",
       "      <td>11179863</td>\n",
       "      <td>male</td>\n",
       "      <td>69</td>\n",
       "      <td>179.0</td>\n",
       "      <td>79.0</td>\n",
       "      <td>5.0</td>\n",
       "      <td>88.0</td>\n",
       "      <td>38.7</td>\n",
       "      <td>26.0</td>\n",
       "    </tr>\n",
       "    <tr>\n",
       "      <th>3</th>\n",
       "      <td>16180408</td>\n",
       "      <td>female</td>\n",
       "      <td>34</td>\n",
       "      <td>179.0</td>\n",
       "      <td>71.0</td>\n",
       "      <td>13.0</td>\n",
       "      <td>100.0</td>\n",
       "      <td>40.5</td>\n",
       "      <td>71.0</td>\n",
       "    </tr>\n",
       "    <tr>\n",
       "      <th>4</th>\n",
       "      <td>17771927</td>\n",
       "      <td>female</td>\n",
       "      <td>27</td>\n",
       "      <td>154.0</td>\n",
       "      <td>58.0</td>\n",
       "      <td>10.0</td>\n",
       "      <td>81.0</td>\n",
       "      <td>39.8</td>\n",
       "      <td>35.0</td>\n",
       "    </tr>\n",
       "  </tbody>\n",
       "</table>\n",
       "</div>"
      ],
      "text/plain": [
       "    User_ID  Gender  Age  Height  Weight  Duration  Heart_Rate  Body_Temp  \\\n",
       "0  14733363    male   68   190.0    94.0      29.0       105.0       40.8   \n",
       "1  14861698  female   20   166.0    60.0      14.0        94.0       40.3   \n",
       "2  11179863    male   69   179.0    79.0       5.0        88.0       38.7   \n",
       "3  16180408  female   34   179.0    71.0      13.0       100.0       40.5   \n",
       "4  17771927  female   27   154.0    58.0      10.0        81.0       39.8   \n",
       "\n",
       "   Calories  \n",
       "0     231.0  \n",
       "1      66.0  \n",
       "2      26.0  \n",
       "3      71.0  \n",
       "4      35.0  "
      ]
     },
     "execution_count": 16,
     "metadata": {},
     "output_type": "execute_result"
    }
   ],
   "source": [
    "calories_data.head()"
   ]
  },
  {
   "cell_type": "code",
   "execution_count": 17,
   "metadata": {},
   "outputs": [
    {
     "data": {
      "text/plain": [
       "(15000, 9)"
      ]
     },
     "execution_count": 17,
     "metadata": {},
     "output_type": "execute_result"
    }
   ],
   "source": [
    "# checking the number of rows and columns\n",
    "calories_data.shape"
   ]
  },
  {
   "cell_type": "code",
   "execution_count": 18,
   "metadata": {},
   "outputs": [
    {
     "name": "stdout",
     "output_type": "stream",
     "text": [
      "<class 'pandas.core.frame.DataFrame'>\n",
      "RangeIndex: 15000 entries, 0 to 14999\n",
      "Data columns (total 9 columns):\n",
      " #   Column      Non-Null Count  Dtype  \n",
      "---  ------      --------------  -----  \n",
      " 0   User_ID     15000 non-null  int64  \n",
      " 1   Gender      15000 non-null  object \n",
      " 2   Age         15000 non-null  int64  \n",
      " 3   Height      15000 non-null  float64\n",
      " 4   Weight      15000 non-null  float64\n",
      " 5   Duration    15000 non-null  float64\n",
      " 6   Heart_Rate  15000 non-null  float64\n",
      " 7   Body_Temp   15000 non-null  float64\n",
      " 8   Calories    15000 non-null  float64\n",
      "dtypes: float64(6), int64(2), object(1)\n",
      "memory usage: 1.0+ MB\n"
     ]
    }
   ],
   "source": [
    "# getting some informations about the data\n",
    "calories_data.info()"
   ]
  },
  {
   "cell_type": "code",
   "execution_count": 21,
   "metadata": {},
   "outputs": [
    {
     "data": {
      "text/plain": [
       "User_ID       0\n",
       "Gender        0\n",
       "Age           0\n",
       "Height        0\n",
       "Weight        0\n",
       "Duration      0\n",
       "Heart_Rate    0\n",
       "Body_Temp     0\n",
       "Calories      0\n",
       "dtype: int64"
      ]
     },
     "execution_count": 21,
     "metadata": {},
     "output_type": "execute_result"
    }
   ],
   "source": [
    "# checking for missing values\n",
    "calories_data.isnull().sum()"
   ]
  },
  {
   "cell_type": "markdown",
   "metadata": {},
   "source": [
    "Data Analysis"
   ]
  },
  {
   "cell_type": "code",
   "execution_count": 22,
   "metadata": {},
   "outputs": [
    {
     "data": {
      "text/html": [
       "<div>\n",
       "<style scoped>\n",
       "    .dataframe tbody tr th:only-of-type {\n",
       "        vertical-align: middle;\n",
       "    }\n",
       "\n",
       "    .dataframe tbody tr th {\n",
       "        vertical-align: top;\n",
       "    }\n",
       "\n",
       "    .dataframe thead th {\n",
       "        text-align: right;\n",
       "    }\n",
       "</style>\n",
       "<table border=\"1\" class=\"dataframe\">\n",
       "  <thead>\n",
       "    <tr style=\"text-align: right;\">\n",
       "      <th></th>\n",
       "      <th>User_ID</th>\n",
       "      <th>Age</th>\n",
       "      <th>Height</th>\n",
       "      <th>Weight</th>\n",
       "      <th>Duration</th>\n",
       "      <th>Heart_Rate</th>\n",
       "      <th>Body_Temp</th>\n",
       "      <th>Calories</th>\n",
       "    </tr>\n",
       "  </thead>\n",
       "  <tbody>\n",
       "    <tr>\n",
       "      <th>count</th>\n",
       "      <td>1.500000e+04</td>\n",
       "      <td>15000.000000</td>\n",
       "      <td>15000.000000</td>\n",
       "      <td>15000.000000</td>\n",
       "      <td>15000.000000</td>\n",
       "      <td>15000.000000</td>\n",
       "      <td>15000.000000</td>\n",
       "      <td>15000.000000</td>\n",
       "    </tr>\n",
       "    <tr>\n",
       "      <th>mean</th>\n",
       "      <td>1.497736e+07</td>\n",
       "      <td>42.789800</td>\n",
       "      <td>174.465133</td>\n",
       "      <td>74.966867</td>\n",
       "      <td>15.530600</td>\n",
       "      <td>95.518533</td>\n",
       "      <td>40.025453</td>\n",
       "      <td>89.539533</td>\n",
       "    </tr>\n",
       "    <tr>\n",
       "      <th>std</th>\n",
       "      <td>2.872851e+06</td>\n",
       "      <td>16.980264</td>\n",
       "      <td>14.258114</td>\n",
       "      <td>15.035657</td>\n",
       "      <td>8.319203</td>\n",
       "      <td>9.583328</td>\n",
       "      <td>0.779230</td>\n",
       "      <td>62.456978</td>\n",
       "    </tr>\n",
       "    <tr>\n",
       "      <th>min</th>\n",
       "      <td>1.000116e+07</td>\n",
       "      <td>20.000000</td>\n",
       "      <td>123.000000</td>\n",
       "      <td>36.000000</td>\n",
       "      <td>1.000000</td>\n",
       "      <td>67.000000</td>\n",
       "      <td>37.100000</td>\n",
       "      <td>1.000000</td>\n",
       "    </tr>\n",
       "    <tr>\n",
       "      <th>25%</th>\n",
       "      <td>1.247419e+07</td>\n",
       "      <td>28.000000</td>\n",
       "      <td>164.000000</td>\n",
       "      <td>63.000000</td>\n",
       "      <td>8.000000</td>\n",
       "      <td>88.000000</td>\n",
       "      <td>39.600000</td>\n",
       "      <td>35.000000</td>\n",
       "    </tr>\n",
       "    <tr>\n",
       "      <th>50%</th>\n",
       "      <td>1.499728e+07</td>\n",
       "      <td>39.000000</td>\n",
       "      <td>175.000000</td>\n",
       "      <td>74.000000</td>\n",
       "      <td>16.000000</td>\n",
       "      <td>96.000000</td>\n",
       "      <td>40.200000</td>\n",
       "      <td>79.000000</td>\n",
       "    </tr>\n",
       "    <tr>\n",
       "      <th>75%</th>\n",
       "      <td>1.744928e+07</td>\n",
       "      <td>56.000000</td>\n",
       "      <td>185.000000</td>\n",
       "      <td>87.000000</td>\n",
       "      <td>23.000000</td>\n",
       "      <td>103.000000</td>\n",
       "      <td>40.600000</td>\n",
       "      <td>138.000000</td>\n",
       "    </tr>\n",
       "    <tr>\n",
       "      <th>max</th>\n",
       "      <td>1.999965e+07</td>\n",
       "      <td>79.000000</td>\n",
       "      <td>222.000000</td>\n",
       "      <td>132.000000</td>\n",
       "      <td>30.000000</td>\n",
       "      <td>128.000000</td>\n",
       "      <td>41.500000</td>\n",
       "      <td>314.000000</td>\n",
       "    </tr>\n",
       "  </tbody>\n",
       "</table>\n",
       "</div>"
      ],
      "text/plain": [
       "            User_ID           Age        Height        Weight      Duration  \\\n",
       "count  1.500000e+04  15000.000000  15000.000000  15000.000000  15000.000000   \n",
       "mean   1.497736e+07     42.789800    174.465133     74.966867     15.530600   \n",
       "std    2.872851e+06     16.980264     14.258114     15.035657      8.319203   \n",
       "min    1.000116e+07     20.000000    123.000000     36.000000      1.000000   \n",
       "25%    1.247419e+07     28.000000    164.000000     63.000000      8.000000   \n",
       "50%    1.499728e+07     39.000000    175.000000     74.000000     16.000000   \n",
       "75%    1.744928e+07     56.000000    185.000000     87.000000     23.000000   \n",
       "max    1.999965e+07     79.000000    222.000000    132.000000     30.000000   \n",
       "\n",
       "         Heart_Rate     Body_Temp      Calories  \n",
       "count  15000.000000  15000.000000  15000.000000  \n",
       "mean      95.518533     40.025453     89.539533  \n",
       "std        9.583328      0.779230     62.456978  \n",
       "min       67.000000     37.100000      1.000000  \n",
       "25%       88.000000     39.600000     35.000000  \n",
       "50%       96.000000     40.200000     79.000000  \n",
       "75%      103.000000     40.600000    138.000000  \n",
       "max      128.000000     41.500000    314.000000  "
      ]
     },
     "execution_count": 22,
     "metadata": {},
     "output_type": "execute_result"
    }
   ],
   "source": [
    "# get some statistical measures about the data\n",
    "calories_data.describe()"
   ]
  },
  {
   "cell_type": "markdown",
   "metadata": {},
   "source": [
    "Data Visualization"
   ]
  },
  {
   "cell_type": "code",
   "execution_count": 23,
   "metadata": {},
   "outputs": [],
   "source": [
    "sns.set()"
   ]
  },
  {
   "cell_type": "code",
   "execution_count": 31,
   "metadata": {},
   "outputs": [
    {
     "name": "stderr",
     "output_type": "stream",
     "text": [
      "C:\\Users\\Akshi\\AppData\\Local\\Temp\\ipykernel_13472\\1276426137.py:2: FutureWarning: \n",
      "\n",
      "Passing `palette` without assigning `hue` is deprecated and will be removed in v0.14.0. Assign the `x` variable to `hue` and set `legend=False` for the same effect.\n",
      "\n",
      "  sns.countplot(x='Gender', data=calories_data, palette='cool')\n"
     ]
    },
    {
     "data": {
      "text/plain": [
       "<Axes: xlabel='Gender', ylabel='count'>"
      ]
     },
     "execution_count": 31,
     "metadata": {},
     "output_type": "execute_result"
    },
    {
     "data": {
      "image/png": "[encoded data removed]",
      "text/plain": [
       "<Figure size 640x480 with 1 Axes>"
      ]
     },
     "metadata": {},
     "output_type": "display_data"
    }
   ],
   "source": [
    " #plotting the gender column in count plot\n",
    "sns.countplot(x='Gender', data=calories_data, palette='cool')"
   ]
  },
  {
   "cell_type": "code",
   "execution_count": 39,
   "metadata": {},
   "outputs": [
    {
     "name": "stderr",
     "output_type": "stream",
     "text": [
      "C:\\Users\\Akshi\\AppData\\Local\\Temp\\ipykernel_13472\\2692780257.py:2: UserWarning: \n",
      "\n",
      "`distplot` is a deprecated function and will be removed in seaborn v0.14.0.\n",
      "\n",
      "Please adapt your code to use either `displot` (a figure-level function with\n",
      "similar flexibility) or `histplot` (an axes-level function for histograms).\n",
      "\n",
      "For a guide to updating your code to use the new functions, please see\n",
      "https://gist.github.com/mwaskom/de44147ed2974457ad6372750bbe5751\n",
      "\n",
      "  sns.distplot(calories_data['Age'],  color='g', kde=True)\n"
     ]
    },
    {
     "data": {
      "text/plain": [
       "<Axes: xlabel='Age', ylabel='Density'>"
      ]
     },
     "execution_count": 39,
     "metadata": {},
     "output_type": "execute_result"
    },
    {
     "data": {
      "image/png": "[encoded data removed]",
      "text/plain": [
       "<Figure size 640x480 with 1 Axes>"
      ]
     },
     "metadata": {},
     "output_type": "display_data"
    }
   ],
   "source": [
    "# finding the distribution of \"Age\" column\n",
    "sns.distplot(calories_data['Age'],  color='g', kde=True)"
   ]
  },
  {
   "cell_type": "code",
   "execution_count": 41,
   "metadata": {},
   "outputs": [
    {
     "name": "stderr",
     "output_type": "stream",
     "text": [
      "C:\\Users\\Akshi\\AppData\\Local\\Temp\\ipykernel_13472\\454660312.py:2: UserWarning: \n",
      "\n",
      "`distplot` is a deprecated function and will be removed in seaborn v0.14.0.\n",
      "\n",
      "Please adapt your code to use either `displot` (a figure-level function with\n",
      "similar flexibility) or `histplot` (an axes-level function for histograms).\n",
      "\n",
      "For a guide to updating your code to use the new functions, please see\n",
      "https://gist.github.com/mwaskom/de44147ed2974457ad6372750bbe5751\n",
      "\n",
      "  sns.distplot(calories_data['Height'], color='g', kde=True)\n"
     ]
    },
    {
     "data": {
      "text/plain": [
       "<Axes: xlabel='Height', ylabel='Density'>"
      ]
     },
     "execution_count": 41,
     "metadata": {},
     "output_type": "execute_result"
    },
    {
     "data": {
      "image/png": "[encoded data removed]",
      "text/plain": [
       "<Figure size 640x480 with 1 Axes>"
      ]
     },
     "metadata": {},
     "output_type": "display_data"
    }
   ],
   "source": [
    "# finding the distribution of \"Height\" column\n",
    "sns.distplot(calories_data['Height'], color='g', kde=True)"
   ]
  },
  {
   "cell_type": "code",
   "execution_count": 45,
   "metadata": {},
   "outputs": [
    {
     "name": "stderr",
     "output_type": "stream",
     "text": [
      "C:\\Users\\Akshi\\AppData\\Local\\Temp\\ipykernel_13472\\660631756.py:2: UserWarning: \n",
      "\n",
      "`distplot` is a deprecated function and will be removed in seaborn v0.14.0.\n",
      "\n",
      "Please adapt your code to use either `displot` (a figure-level function with\n",
      "similar flexibility) or `histplot` (an axes-level function for histograms).\n",
      "\n",
      "For a guide to updating your code to use the new functions, please see\n",
      "https://gist.github.com/mwaskom/de44147ed2974457ad6372750bbe5751\n",
      "\n",
      "  sns.distplot(calories_data['Weight'], color='g', kde=True)\n"
     ]
    },
    {
     "data": {
      "text/plain": [
       "<Axes: xlabel='Weight', ylabel='Density'>"
      ]
     },
     "execution_count": 45,
     "metadata": {},
     "output_type": "execute_result"
    },
    {
     "data": {
      "image/png": "[encoded data removed]",
      "text/plain": [
       "<Figure size 640x480 with 1 Axes>"
      ]
     },
     "metadata": {},
     "output_type": "display_data"
    }
   ],
   "source": [
    "# finding the distribution of \"Weight\" column\n",
    "sns.distplot(calories_data['Weight'], color='g', kde=True)"
   ]
  },
  {
   "cell_type": "code",
   "execution_count": 48,
   "metadata": {},
   "outputs": [
    {
     "name": "stderr",
     "output_type": "stream",
     "text": [
      "C:\\Users\\Akshi\\AppData\\Local\\Temp\\ipykernel_13472\\1562101221.py:2: UserWarning: \n",
      "\n",
      "`distplot` is a deprecated function and will be removed in seaborn v0.14.0.\n",
      "\n",
      "Please adapt your code to use either `displot` (a figure-level function with\n",
      "similar flexibility) or `histplot` (an axes-level function for histograms).\n",
      "\n",
      "For a guide to updating your code to use the new functions, please see\n",
      "https://gist.github.com/mwaskom/de44147ed2974457ad6372750bbe5751\n",
      "\n",
      "  sns.distplot(calories_data['Heart_Rate'], color='g', kde=True)\n"
     ]
    },
    {
     "data": {
      "text/plain": [
       "<Axes: xlabel='Heart_Rate', ylabel='Density'>"
      ]
     },
     "execution_count": 48,
     "metadata": {},
     "output_type": "execute_result"
    },
    {
     "data": {
      "image/png": "[encoded data removed]",
      "text/plain": [
       "<Figure size 640x480 with 1 Axes>"
      ]
     },
     "metadata": {},
     "output_type": "display_data"
    }
   ],
   "source": [
    "# finding the distribution of \"Heart_Rate\" column\n",
    "sns.distplot(calories_data['Heart_Rate'], color='g', kde=True)"
   ]
  },
  {
   "cell_type": "markdown",
   "metadata": {},
   "source": [
    "Finding the Correlation in the dataset"
   ]
  },
  {
   "cell_type": "markdown",
   "metadata": {},
   "source": [
    "1. Positive Correlation\n",
    "2. Negative Correlation"
   ]
  },
  {
   "cell_type": "code",
   "execution_count": 53,
   "metadata": {},
   "outputs": [],
   "source": [
    "numeric_data = calories_data.select_dtypes(include=[float, int])\n",
    "correlation = numeric_data.corr()"
   ]
  },
  {
   "cell_type": "code",
   "execution_count": 56,
   "metadata": {},
   "outputs": [
    {
     "data": {
      "text/plain": [
       "<Axes: >"
      ]
     },
     "execution_count": 56,
     "metadata": {},
     "output_type": "execute_result"
    },
    {
     "data": {
      "image/png": "[encoded data removed]",
      "text/plain": [
       "<Figure size 1000x1000 with 2 Axes>"
      ]
     },
     "metadata": {},
     "output_type": "display_data"
    }
   ],
   "source": [
    "# constructing a heatmap to understand the correlation\n",
    "plt.figure(figsize=(10,10))\n",
    "sns.heatmap(correlation, cbar=True, square=True, fmt='.1f', annot=True, annot_kws={'size':8}, cmap='Blues')"
   ]
  },
  {
   "cell_type": "markdown",
   "metadata": {},
   "source": [
    "Converting the text data to numerical values"
   ]
  },
  {
   "cell_type": "code",
   "execution_count": 65,
   "metadata": {},
   "outputs": [],
   "source": [
    "calories_data.replace({\"Gender\":{'male':0,'female':1}}, inplace=True)"
   ]
  },
  {
   "cell_type": "code",
   "execution_count": 66,
   "metadata": {},
   "outputs": [
    {
     "data": {
      "text/html": [
       "<div>\n",
       "<style scoped>\n",
       "    .dataframe tbody tr th:only-of-type {\n",
       "        vertical-align: middle;\n",
       "    }\n",
       "\n",
       "    .dataframe tbody tr th {\n",
       "        vertical-align: top;\n",
       "    }\n",
       "\n",
       "    .dataframe thead th {\n",
       "        text-align: right;\n",
       "    }\n",
       "</style>\n",
       "<table border=\"1\" class=\"dataframe\">\n",
       "  <thead>\n",
       "    <tr style=\"text-align: right;\">\n",
       "      <th></th>\n",
       "      <th>User_ID</th>\n",
       "      <th>Gender</th>\n",
       "      <th>Age</th>\n",
       "      <th>Height</th>\n",
       "      <th>Weight</th>\n",
       "      <th>Duration</th>\n",
       "      <th>Heart_Rate</th>\n",
       "      <th>Body_Temp</th>\n",
       "      <th>Calories</th>\n",
       "    </tr>\n",
       "  </thead>\n",
       "  <tbody>\n",
       "    <tr>\n",
       "      <th>0</th>\n",
       "      <td>14733363</td>\n",
       "      <td>0</td>\n",
       "      <td>68</td>\n",
       "      <td>190.0</td>\n",
       "      <td>94.0</td>\n",
       "      <td>29.0</td>\n",
       "      <td>105.0</td>\n",
       "      <td>40.8</td>\n",
       "      <td>231.0</td>\n",
       "    </tr>\n",
       "    <tr>\n",
       "      <th>1</th>\n",
       "      <td>14861698</td>\n",
       "      <td>1</td>\n",
       "      <td>20</td>\n",
       "      <td>166.0</td>\n",
       "      <td>60.0</td>\n",
       "      <td>14.0</td>\n",
       "      <td>94.0</td>\n",
       "      <td>40.3</td>\n",
       "      <td>66.0</td>\n",
       "    </tr>\n",
       "    <tr>\n",
       "      <th>2</th>\n",
       "      <td>11179863</td>\n",
       "      <td>0</td>\n",
       "      <td>69</td>\n",
       "      <td>179.0</td>\n",
       "      <td>79.0</td>\n",
       "      <td>5.0</td>\n",
       "      <td>88.0</td>\n",
       "      <td>38.7</td>\n",
       "      <td>26.0</td>\n",
       "    </tr>\n",
       "    <tr>\n",
       "      <th>3</th>\n",
       "      <td>16180408</td>\n",
       "      <td>1</td>\n",
       "      <td>34</td>\n",
       "      <td>179.0</td>\n",
       "      <td>71.0</td>\n",
       "      <td>13.0</td>\n",
       "      <td>100.0</td>\n",
       "      <td>40.5</td>\n",
       "      <td>71.0</td>\n",
       "    </tr>\n",
       "    <tr>\n",
       "      <th>4</th>\n",
       "      <td>17771927</td>\n",
       "      <td>1</td>\n",
       "      <td>27</td>\n",
       "      <td>154.0</td>\n",
       "      <td>58.0</td>\n",
       "      <td>10.0</td>\n",
       "      <td>81.0</td>\n",
       "      <td>39.8</td>\n",
       "      <td>35.0</td>\n",
       "    </tr>\n",
       "  </tbody>\n",
       "</table>\n",
       "</div>"
      ],
      "text/plain": [
       "    User_ID  Gender  Age  Height  Weight  Duration  Heart_Rate  Body_Temp  \\\n",
       "0  14733363       0   68   190.0    94.0      29.0       105.0       40.8   \n",
       "1  14861698       1   20   166.0    60.0      14.0        94.0       40.3   \n",
       "2  11179863       0   69   179.0    79.0       5.0        88.0       38.7   \n",
       "3  16180408       1   34   179.0    71.0      13.0       100.0       40.5   \n",
       "4  17771927       1   27   154.0    58.0      10.0        81.0       39.8   \n",
       "\n",
       "   Calories  \n",
       "0     231.0  \n",
       "1      66.0  \n",
       "2      26.0  \n",
       "3      71.0  \n",
       "4      35.0  "
      ]
     },
     "execution_count": 66,
     "metadata": {},
     "output_type": "execute_result"
    }
   ],
   "source": [
    "calories_data.head()"
   ]
  },
  {
   "cell_type": "markdown",
   "metadata": {},
   "source": [
    "Separating features and Target"
   ]
  },
  {
   "cell_type": "code",
   "execution_count": 67,
   "metadata": {},
   "outputs": [],
   "source": [
    "X = calories_data.drop(columns=['User_ID','Calories'], axis=1)\n",
    "Y = calories_data['Calories']"
   ]
  },
  {
   "cell_type": "code",
   "execution_count": 68,
   "metadata": {},
   "outputs": [
    {
     "name": "stdout",
     "output_type": "stream",
     "text": [
      "       Gender  Age  Height  Weight  Duration  Heart_Rate  Body_Temp\n",
      "0           0   68   190.0    94.0      29.0       105.0       40.8\n",
      "1           1   20   166.0    60.0      14.0        94.0       40.3\n",
      "2           0   69   179.0    79.0       5.0        88.0       38.7\n",
      "3           1   34   179.0    71.0      13.0       100.0       40.5\n",
      "4           1   27   154.0    58.0      10.0        81.0       39.8\n",
      "...       ...  ...     ...     ...       ...         ...        ...\n",
      "14995       1   20   193.0    86.0      11.0        92.0       40.4\n",
      "14996       1   27   165.0    65.0       6.0        85.0       39.2\n",
      "14997       1   43   159.0    58.0      16.0        90.0       40.1\n",
      "14998       0   78   193.0    97.0       2.0        84.0       38.3\n",
      "14999       0   63   173.0    79.0      18.0        92.0       40.5\n",
      "\n",
      "[15000 rows x 7 columns]\n"
     ]
    }
   ],
   "source": [
    "print(X)"
   ]
  },
  {
   "cell_type": "code",
   "execution_count": 69,
   "metadata": {},
   "outputs": [
    {
     "name": "stdout",
     "output_type": "stream",
     "text": [
      "0        231.0\n",
      "1         66.0\n",
      "2         26.0\n",
      "3         71.0\n",
      "4         35.0\n",
      "         ...  \n",
      "14995     45.0\n",
      "14996     23.0\n",
      "14997     75.0\n",
      "14998     11.0\n",
      "14999     98.0\n",
      "Name: Calories, Length: 15000, dtype: float64\n"
     ]
    }
   ],
   "source": [
    "print(Y)"
   ]
  },
  {
   "cell_type": "markdown",
   "metadata": {},
   "source": [
    "Splitting the data into training data and Test data"
   ]
  },
  {
   "cell_type": "code",
   "execution_count": 93,
   "metadata": {},
   "outputs": [],
   "source": [
    "X_train, X_test, Y_train, Y_test = train_test_split(X, Y, test_size=0.2, random_state=2) # test_size=0.2 means 20% data will be test data and 80% data will be train data"
   ]
  },
  {
   "cell_type": "code",
   "execution_count": 94,
   "metadata": {},
   "outputs": [
    {
     "name": "stdout",
     "output_type": "stream",
     "text": [
      "(15000, 7) (12000, 7) (3000, 7)\n"
     ]
    }
   ],
   "source": [
    "print(X.shape, X_train.shape, X_test.shape)"
   ]
  },
  {
   "cell_type": "markdown",
   "metadata": {},
   "source": [
    "Model Training"
   ]
  },
  {
   "cell_type": "markdown",
   "metadata": {},
   "source": [
    "XGBoost Regressor"
   ]
  },
  {
   "cell_type": "code",
   "execution_count": 95,
   "metadata": {},
   "outputs": [],
   "source": [
    "# loading the model\n",
    "model = XGBRegressor()"
   ]
  },
  {
   "cell_type": "code",
   "execution_count": 96,
   "metadata": {},
   "outputs": [
    {
     "data": {
      "text/html": [
       "<style>#sk-container-id-4 {\n",
       "  /* Definition of color scheme common for light and dark mode */\n",
       "  --sklearn-color-text: black;\n",
       "  --sklearn-color-line: gray;\n",
       "  /* Definition of color scheme for unfitted estimators */\n",
       "  --sklearn-color-unfitted-level-0: #fff5e6;\n",
       "  --sklearn-color-unfitted-level-1: #f6e4d2;\n",
       "  --sklearn-color-unfitted-level-2: #ffe0b3;\n",
       "  --sklearn-color-unfitted-level-3: chocolate;\n",
       "  /* Definition of color scheme for fitted estimators */\n",
       "  --sklearn-color-fitted-level-0: #f0f8ff;\n",
       "  --sklearn-color-fitted-level-1: #d4ebff;\n",
       "  --sklearn-color-fitted-level-2: #b3dbfd;\n",
       "  --sklearn-color-fitted-level-3: cornflowerblue;\n",
       "\n",
       "  /* Specific color for light theme */\n",
       "  --sklearn-color-text-on-default-background: var(--sg-text-color, var(--theme-code-foreground, var(--jp-content-font-color1, black)));\n",
       "  --sklearn-color-background: var(--sg-background-color, var(--theme-background, var(--jp-layout-color0, white)));\n",
       "  --sklearn-color-border-box: var(--sg-text-color, var(--theme-code-foreground, var(--jp-content-font-color1, black)));\n",
       "  --sklearn-color-icon: #696969;\n",
       "\n",
       "  @media (prefers-color-scheme: dark) {\n",
       "    /* Redefinition of color scheme for dark theme */\n",
       "    --sklearn-color-text-on-default-background: var(--sg-text-color, var(--theme-code-foreground, var(--jp-content-font-color1, white)));\n",
       "    --sklearn-color-background: var(--sg-background-color, var(--theme-background, var(--jp-layout-color0, #111)));\n",
       "    --sklearn-color-border-box: var(--sg-text-color, var(--theme-code-foreground, var(--jp-content-font-color1, white)));\n",
       "    --sklearn-color-icon: #878787;\n",
       "  }\n",
       "}\n",
       "\n",
       "#sk-container-id-4 {\n",
       "  color: var(--sklearn-color-text);\n",
       "}\n",
       "\n",
       "#sk-container-id-4 pre {\n",
       "  padding: 0;\n",
       "}\n",
       "\n",
       "#sk-container-id-4 input.sk-hidden--visually {\n",
       "  border: 0;\n",
       "  clip: rect(1px 1px 1px 1px);\n",
       "  clip: rect(1px, 1px, 1px, 1px);\n",
       "  height: 1px;\n",
       "  margin: -1px;\n",
       "  overflow: hidden;\n",
       "  padding: 0;\n",
       "  position: absolute;\n",
       "  width: 1px;\n",
       "}\n",
       "\n",
       "#sk-container-id-4 div.sk-dashed-wrapped {\n",
       "  border: 1px dashed var(--sklearn-color-line);\n",
       "  margin: 0 0.4em 0.5em 0.4em;\n",
       "  box-sizing: border-box;\n",
       "  padding-bottom: 0.4em;\n",
       "  background-color: var(--sklearn-color-background);\n",
       "}\n",
       "\n",
       "#sk-container-id-4 div.sk-container {\n",
       "  /* jupyter's `normalize.less` sets `[hidden] { display: none; }`\n",
       "     but bootstrap.min.css set `[hidden] { display: none !important; }`\n",
       "     so we also need the `!important` here to be able to override the\n",
       "     default hidden behavior on the sphinx rendered scikit-learn.org.\n",
       "     See: https://github.com/scikit-learn/scikit-learn/issues/21755 */\n",
       "  display: inline-block !important;\n",
       "  position: relative;\n",
       "}\n",
       "\n",
       "#sk-container-id-4 div.sk-text-repr-fallback {\n",
       "  display: none;\n",
       "}\n",
       "\n",
       "div.sk-parallel-item,\n",
       "div.sk-serial,\n",
       "div.sk-item {\n",
       "  /* draw centered vertical line to link estimators */\n",
       "  background-image: linear-gradient(var(--sklearn-color-text-on-default-background), var(--sklearn-color-text-on-default-background));\n",
       "  background-size: 2px 100%;\n",
       "  background-repeat: no-repeat;\n",
       "  background-position: center center;\n",
       "}\n",
       "\n",
       "/* Parallel-specific style estimator block */\n",
       "\n",
       "#sk-container-id-4 div.sk-parallel-item::after {\n",
       "  content: \"\";\n",
       "  width: 100%;\n",
       "  border-bottom: 2px solid var(--sklearn-color-text-on-default-background);\n",
       "  flex-grow: 1;\n",
       "}\n",
       "\n",
       "#sk-container-id-4 div.sk-parallel {\n",
       "  display: flex;\n",
       "  align-items: stretch;\n",
       "  justify-content: center;\n",
       "  background-color: var(--sklearn-color-background);\n",
       "  position: relative;\n",
       "}\n",
       "\n",
       "#sk-container-id-4 div.sk-parallel-item {\n",
       "  display: flex;\n",
       "  flex-direction: column;\n",
       "}\n",
       "\n",
       "#sk-container-id-4 div.sk-parallel-item:first-child::after {\n",
       "  align-self: flex-end;\n",
       "  width: 50%;\n",
       "}\n",
       "\n",
       "#sk-container-id-4 div.sk-parallel-item:last-child::after {\n",
       "  align-self: flex-start;\n",
       "  width: 50%;\n",
       "}\n",
       "\n",
       "#sk-container-id-4 div.sk-parallel-item:only-child::after {\n",
       "  width: 0;\n",
       "}\n",
       "\n",
       "/* Serial-specific style estimator block */\n",
       "\n",
       "#sk-container-id-4 div.sk-serial {\n",
       "  display: flex;\n",
       "  flex-direction: column;\n",
       "  align-items: center;\n",
       "  background-color: var(--sklearn-color-background);\n",
       "  padding-right: 1em;\n",
       "  padding-left: 1em;\n",
       "}\n",
       "\n",
       "\n",
       "/* Toggleable style: style used for estimator/Pipeline/ColumnTransformer box that is\n",
       "clickable and can be expanded/collapsed.\n",
       "- Pipeline and ColumnTransformer use this feature and define the default style\n",
       "- Estimators will overwrite some part of the style using the `sk-estimator` class\n",
       "*/\n",
       "\n",
       "/* Pipeline and ColumnTransformer style (default) */\n",
       "\n",
       "#sk-container-id-4 div.sk-toggleable {\n",
       "  /* Default theme specific background. It is overwritten whether we have a\n",
       "  specific estimator or a Pipeline/ColumnTransformer */\n",
       "  background-color: var(--sklearn-color-background);\n",
       "}\n",
       "\n",
       "/* Toggleable label */\n",
       "#sk-container-id-4 label.sk-toggleable__label {\n",
       "  cursor: pointer;\n",
       "  display: block;\n",
       "  width: 100%;\n",
       "  margin-bottom: 0;\n",
       "  padding: 0.5em;\n",
       "  box-sizing: border-box;\n",
       "  text-align: center;\n",
       "}\n",
       "\n",
       "#sk-container-id-4 label.sk-toggleable__label-arrow:before {\n",
       "  /* Arrow on the left of the label */\n",
       "  content: \"▸\";\n",
       "  float: left;\n",
       "  margin-right: 0.25em;\n",
       "  color: var(--sklearn-color-icon);\n",
       "}\n",
       "\n",
       "#sk-container-id-4 label.sk-toggleable__label-arrow:hover:before {\n",
       "  color: var(--sklearn-color-text);\n",
       "}\n",
       "\n",
       "/* Toggleable content - dropdown */\n",
       "\n",
       "#sk-container-id-4 div.sk-toggleable__content {\n",
       "  max-height: 0;\n",
       "  max-width: 0;\n",
       "  overflow: hidden;\n",
       "  text-align: left;\n",
       "  /* unfitted */\n",
       "  background-color: var(--sklearn-color-unfitted-level-0);\n",
       "}\n",
       "\n",
       "#sk-container-id-4 div.sk-toggleable__content.fitted {\n",
       "  /* fitted */\n",
       "  background-color: var(--sklearn-color-fitted-level-0);\n",
       "}\n",
       "\n",
       "#sk-container-id-4 div.sk-toggleable__content pre {\n",
       "  margin: 0.2em;\n",
       "  border-radius: 0.25em;\n",
       "  color: var(--sklearn-color-text);\n",
       "  /* unfitted */\n",
       "  background-color: var(--sklearn-color-unfitted-level-0);\n",
       "}\n",
       "\n",
       "#sk-container-id-4 div.sk-toggleable__content.fitted pre {\n",
       "  /* unfitted */\n",
       "  background-color: var(--sklearn-color-fitted-level-0);\n",
       "}\n",
       "\n",
       "#sk-container-id-4 input.sk-toggleable__control:checked~div.sk-toggleable__content {\n",
       "  /* Expand drop-down */\n",
       "  max-height: 200px;\n",
       "  max-width: 100%;\n",
       "  overflow: auto;\n",
       "}\n",
       "\n",
       "#sk-container-id-4 input.sk-toggleable__control:checked~label.sk-toggleable__label-arrow:before {\n",
       "  content: \"▾\";\n",
       "}\n",
       "\n",
       "/* Pipeline/ColumnTransformer-specific style */\n",
       "\n",
       "#sk-container-id-4 div.sk-label input.sk-toggleable__control:checked~label.sk-toggleable__label {\n",
       "  color: var(--sklearn-color-text);\n",
       "  background-color: var(--sklearn-color-unfitted-level-2);\n",
       "}\n",
       "\n",
       "#sk-container-id-4 div.sk-label.fitted input.sk-toggleable__control:checked~label.sk-toggleable__label {\n",
       "  background-color: var(--sklearn-color-fitted-level-2);\n",
       "}\n",
       "\n",
       "/* Estimator-specific style */\n",
       "\n",
       "/* Colorize estimator box */\n",
       "#sk-container-id-4 div.sk-estimator input.sk-toggleable__control:checked~label.sk-toggleable__label {\n",
       "  /* unfitted */\n",
       "  background-color: var(--sklearn-color-unfitted-level-2);\n",
       "}\n",
       "\n",
       "#sk-container-id-4 div.sk-estimator.fitted input.sk-toggleable__control:checked~label.sk-toggleable__label {\n",
       "  /* fitted */\n",
       "  background-color: var(--sklearn-color-fitted-level-2);\n",
       "}\n",
       "\n",
       "#sk-container-id-4 div.sk-label label.sk-toggleable__label,\n",
       "#sk-container-id-4 div.sk-label label {\n",
       "  /* The background is the default theme color */\n",
       "  color: var(--sklearn-color-text-on-default-background);\n",
       "}\n",
       "\n",
       "/* On hover, darken the color of the background */\n",
       "#sk-container-id-4 div.sk-label:hover label.sk-toggleable__label {\n",
       "  color: var(--sklearn-color-text);\n",
       "  background-color: var(--sklearn-color-unfitted-level-2);\n",
       "}\n",
       "\n",
       "/* Label box, darken color on hover, fitted */\n",
       "#sk-container-id-4 div.sk-label.fitted:hover label.sk-toggleable__label.fitted {\n",
       "  color: var(--sklearn-color-text);\n",
       "  background-color: var(--sklearn-color-fitted-level-2);\n",
       "}\n",
       "\n",
       "/* Estimator label */\n",
       "\n",
       "#sk-container-id-4 div.sk-label label {\n",
       "  font-family: monospace;\n",
       "  font-weight: bold;\n",
       "  display: inline-block;\n",
       "  line-height: 1.2em;\n",
       "}\n",
       "\n",
       "#sk-container-id-4 div.sk-label-container {\n",
       "  text-align: center;\n",
       "}\n",
       "\n",
       "/* Estimator-specific */\n",
       "#sk-container-id-4 div.sk-estimator {\n",
       "  font-family: monospace;\n",
       "  border: 1px dotted var(--sklearn-color-border-box);\n",
       "  border-radius: 0.25em;\n",
       "  box-sizing: border-box;\n",
       "  margin-bottom: 0.5em;\n",
       "  /* unfitted */\n",
       "  background-color: var(--sklearn-color-unfitted-level-0);\n",
       "}\n",
       "\n",
       "#sk-container-id-4 div.sk-estimator.fitted {\n",
       "  /* fitted */\n",
       "  background-color: var(--sklearn-color-fitted-level-0);\n",
       "}\n",
       "\n",
       "/* on hover */\n",
       "#sk-container-id-4 div.sk-estimator:hover {\n",
       "  /* unfitted */\n",
       "  background-color: var(--sklearn-color-unfitted-level-2);\n",
       "}\n",
       "\n",
       "#sk-container-id-4 div.sk-estimator.fitted:hover {\n",
       "  /* fitted */\n",
       "  background-color: var(--sklearn-color-fitted-level-2);\n",
       "}\n",
       "\n",
       "/* Specification for estimator info (e.g. \"i\" and \"?\") */\n",
       "\n",
       "/* Common style for \"i\" and \"?\" */\n",
       "\n",
       ".sk-estimator-doc-link,\n",
       "a:link.sk-estimator-doc-link,\n",
       "a:visited.sk-estimator-doc-link {\n",
       "  float: right;\n",
       "  font-size: smaller;\n",
       "  line-height: 1em;\n",
       "  font-family: monospace;\n",
       "  background-color: var(--sklearn-color-background);\n",
       "  border-radius: 1em;\n",
       "  height: 1em;\n",
       "  width: 1em;\n",
       "  text-decoration: none !important;\n",
       "  margin-left: 1ex;\n",
       "  /* unfitted */\n",
       "  border: var(--sklearn-color-unfitted-level-1) 1pt solid;\n",
       "  color: var(--sklearn-color-unfitted-level-1);\n",
       "}\n",
       "\n",
       ".sk-estimator-doc-link.fitted,\n",
       "a:link.sk-estimator-doc-link.fitted,\n",
       "a:visited.sk-estimator-doc-link.fitted {\n",
       "  /* fitted */\n",
       "  border: var(--sklearn-color-fitted-level-1) 1pt solid;\n",
       "  color: var(--sklearn-color-fitted-level-1);\n",
       "}\n",
       "\n",
       "/* On hover */\n",
       "div.sk-estimator:hover .sk-estimator-doc-link:hover,\n",
       ".sk-estimator-doc-link:hover,\n",
       "div.sk-label-container:hover .sk-estimator-doc-link:hover,\n",
       ".sk-estimator-doc-link:hover {\n",
       "  /* unfitted */\n",
       "  background-color: var(--sklearn-color-unfitted-level-3);\n",
       "  color: var(--sklearn-color-background);\n",
       "  text-decoration: none;\n",
       "}\n",
       "\n",
       "div.sk-estimator.fitted:hover .sk-estimator-doc-link.fitted:hover,\n",
       ".sk-estimator-doc-link.fitted:hover,\n",
       "div.sk-label-container:hover .sk-estimator-doc-link.fitted:hover,\n",
       ".sk-estimator-doc-link.fitted:hover {\n",
       "  /* fitted */\n",
       "  background-color: var(--sklearn-color-fitted-level-3);\n",
       "  color: var(--sklearn-color-background);\n",
       "  text-decoration: none;\n",
       "}\n",
       "\n",
       "/* Span, style for the box shown on hovering the info icon */\n",
       ".sk-estimator-doc-link span {\n",
       "  display: none;\n",
       "  z-index: 9999;\n",
       "  position: relative;\n",
       "  font-weight: normal;\n",
       "  right: .2ex;\n",
       "  padding: .5ex;\n",
       "  margin: .5ex;\n",
       "  width: min-content;\n",
       "  min-width: 20ex;\n",
       "  max-width: 50ex;\n",
       "  color: var(--sklearn-color-text);\n",
       "  box-shadow: 2pt 2pt 4pt #999;\n",
       "  /* unfitted */\n",
       "  background: var(--sklearn-color-unfitted-level-0);\n",
       "  border: .5pt solid var(--sklearn-color-unfitted-level-3);\n",
       "}\n",
       "\n",
       ".sk-estimator-doc-link.fitted span {\n",
       "  /* fitted */\n",
       "  background: var(--sklearn-color-fitted-level-0);\n",
       "  border: var(--sklearn-color-fitted-level-3);\n",
       "}\n",
       "\n",
       ".sk-estimator-doc-link:hover span {\n",
       "  display: block;\n",
       "}\n",
       "\n",
       "/* \"?\"-specific style due to the `<a>` HTML tag */\n",
       "\n",
       "#sk-container-id-4 a.estimator_doc_link {\n",
       "  float: right;\n",
       "  font-size: 1rem;\n",
       "  line-height: 1em;\n",
       "  font-family: monospace;\n",
       "  background-color: var(--sklearn-color-background);\n",
       "  border-radius: 1rem;\n",
       "  height: 1rem;\n",
       "  width: 1rem;\n",
       "  text-decoration: none;\n",
       "  /* unfitted */\n",
       "  color: var(--sklearn-color-unfitted-level-1);\n",
       "  border: var(--sklearn-color-unfitted-level-1) 1pt solid;\n",
       "}\n",
       "\n",
       "#sk-container-id-4 a.estimator_doc_link.fitted {\n",
       "  /* fitted */\n",
       "  border: var(--sklearn-color-fitted-level-1) 1pt solid;\n",
       "  color: var(--sklearn-color-fitted-level-1);\n",
       "}\n",
       "\n",
       "/* On hover */\n",
       "#sk-container-id-4 a.estimator_doc_link:hover {\n",
       "  /* unfitted */\n",
       "  background-color: var(--sklearn-color-unfitted-level-3);\n",
       "  color: var(--sklearn-color-background);\n",
       "  text-decoration: none;\n",
       "}\n",
       "\n",
       "#sk-container-id-4 a.estimator_doc_link.fitted:hover {\n",
       "  /* fitted */\n",
       "  background-color: var(--sklearn-color-fitted-level-3);\n",
       "}\n",
       "</style><div id=\"sk-container-id-4\" class=\"sk-top-container\"><div class=\"sk-text-repr-fallback\"><pre>XGBRegressor(base_score=None, booster=None, callbacks=None,\n",
       "             colsample_bylevel=None, colsample_bynode=None,\n",
       "             colsample_bytree=None, device=None, early_stopping_rounds=None,\n",
       "             enable_categorical=False, eval_metric=None, feature_types=None,\n",
       "             gamma=None, grow_policy=None, importance_type=None,\n",
       "             interaction_constraints=None, learning_rate=None, max_bin=None,\n",
       "             max_cat_threshold=None, max_cat_to_onehot=None,\n",
       "             max_delta_step=None, max_depth=None, max_leaves=None,\n",
       "             min_child_weight=None, missing=nan, monotone_constraints=None,\n",
       "             multi_strategy=None, n_estimators=None, n_jobs=None,\n",
       "             num_parallel_tree=None, random_state=None, ...)</pre><b>In a Jupyter environment, please rerun this cell to show the HTML representation or trust the notebook. <br />On GitHub, the HTML representation is unable to render, please try loading this page with nbviewer.org.</b></div><div class=\"sk-container\" hidden><div class=\"sk-item\"><div class=\"sk-estimator fitted sk-toggleable\"><input class=\"sk-toggleable__control sk-hidden--visually\" id=\"sk-estimator-id-4\" type=\"checkbox\" checked><label for=\"sk-estimator-id-4\" class=\"sk-toggleable__label fitted sk-toggleable__label-arrow fitted\">&nbsp;XGBRegressor<span class=\"sk-estimator-doc-link fitted\">i<span>Fitted</span></span></label><div class=\"sk-toggleable__content fitted\"><pre>XGBRegressor(base_score=None, booster=None, callbacks=None,\n",
       "             colsample_bylevel=None, colsample_bynode=None,\n",
       "             colsample_bytree=None, device=None, early_stopping_rounds=None,\n",
       "             enable_categorical=False, eval_metric=None, feature_types=None,\n",
       "             gamma=None, grow_policy=None, importance_type=None,\n",
       "             interaction_constraints=None, learning_rate=None, max_bin=None,\n",
       "             max_cat_threshold=None, max_cat_to_onehot=None,\n",
       "             max_delta_step=None, max_depth=None, max_leaves=None,\n",
       "             min_child_weight=None, missing=nan, monotone_constraints=None,\n",
       "             multi_strategy=None, n_estimators=None, n_jobs=None,\n",
       "             num_parallel_tree=None, random_state=None, ...)</pre></div> </div></div></div></div>"
      ],
      "text/plain": [
       "XGBRegressor(base_score=None, booster=None, callbacks=None,\n",
       "             colsample_bylevel=None, colsample_bynode=None,\n",
       "             colsample_bytree=None, device=None, early_stopping_rounds=None,\n",
       "             enable_categorical=False, eval_metric=None, feature_types=None,\n",
       "             gamma=None, grow_policy=None, importance_type=None,\n",
       "             interaction_constraints=None, learning_rate=None, max_bin=None,\n",
       "             max_cat_threshold=None, max_cat_to_onehot=None,\n",
       "             max_delta_step=None, max_depth=None, max_leaves=None,\n",
       "             min_child_weight=None, missing=nan, monotone_constraints=None,\n",
       "             multi_strategy=None, n_estimators=None, n_jobs=None,\n",
       "             num_parallel_tree=None, random_state=None, ...)"
      ]
     },
     "execution_count": 96,
     "metadata": {},
     "output_type": "execute_result"
    }
   ],
   "source": [
    "# training the model with X_train\n",
    "model.fit(X_train, Y_train)"
   ]
  },
  {
   "cell_type": "markdown",
   "metadata": {},
   "source": [
    "Evaluation"
   ]
  },
  {
   "cell_type": "markdown",
   "metadata": {},
   "source": [
    "Prediction on Test Data"
   ]
  },
  {
   "cell_type": "code",
   "execution_count": 97,
   "metadata": {},
   "outputs": [],
   "source": [
    "test_data_prediction = model.predict(X_test)"
   ]
  },
  {
   "cell_type": "code",
   "execution_count": 111,
   "metadata": {},
   "outputs": [
    {
     "name": "stdout",
     "output_type": "stream",
     "text": [
      "Predicted Data\n",
      "[125.5882797241211, 222.11376953125, 38.7259521484375, 5.840023040771484, 137.4347686767578, 28.083532333374023, 60.0933952331543, 57.46415710449219, 106.00545501708984, 29.481611251831055, 95.47076416015625, 116.30296325683594, 115.34098052978516, 8.663312911987305, 92.13306427001953, 48.019775390625, 22.673063278198242, 123.369140625, 30.470664978027344, 90.50189971923828, 23.936866760253906, 3.6387228965759277, 70.1778564453125, 163.10206604003906, 49.06102752685547, 210.35963439941406, 40.015689849853516, 120.84327697753906, 60.01673889160156, 32.966304779052734, 20.0200252532959, 152.05824279785156, 25.075435638427734, 15.074868202209473, 119.39862823486328, 120.53297424316406, 122.43924713134766, 224.02137756347656, 24.754899978637695, 139.2545623779297, 95.81172180175781, 182.38194274902344, 156.48619079589844, 193.9423828125, 62.83922576904297, 66.07576751708984, 55.96635055541992, 187.14013671875, 191.32864379882812, 9.719379425048828, 22.5496768951416, 129.34927368164062, 27.657712936401367, 169.51992797851562, 137.04464721679688, 108.82157135009766, 153.58126831054688, 103.79139709472656, 216.8011016845703, 79.10803985595703, 39.17737579345703, 150.17420959472656, 32.05790328979492, 3.3618035316467285, 25.786502838134766, 262.0646667480469, 22.0487003326416, 63.64200210571289, 66.24714660644531, 236.5684051513672, 98.36358642578125, 19.34706687927246, 113.35540771484375, 23.61741065979004, 108.27531433105469, 195.96705627441406, 247.7060546875, 63.27256393432617, 32.38212585449219, 69.7871322631836, 154.37086486816406, 23.971099853515625, 43.00104522705078, 87.62481689453125, 111.61509704589844, 57.79859924316406, 114.8552474975586, 183.7792510986328, 50.63001251220703, 183.488525390625, 22.62881851196289, 51.73484420776367, 69.84614562988281, 116.80597686767578, 73.77778625488281, 97.2154541015625, 58.88383102416992, 96.9482192993164, 42.19283676147461, 77.78072357177734, 1.1474418640136719, 15.832338333129883, 167.5039520263672, 189.66688537597656, 179.5303955078125, 44.62928771972656, 109.57447052001953, 51.01795959472656, 11.788413047790527, 75.21656036376953, 230.9334259033203, 68.38603973388672, 90.35327911376953, 82.83351135253906, 7.8502607345581055, 101.36282348632812, 112.12938690185547, 34.24613952636719, 85.36051940917969, 183.97276306152344, 126.05244445800781, 36.46516799926758, 83.02510070800781, 56.58396911621094, 43.76261520385742, 59.23340606689453, 36.340049743652344, 78.6970443725586, 178.12120056152344, 92.5044937133789, 133.7158966064453, 36.241363525390625, 140.28515625, 146.25927734375, 290.8511962890625, 92.57788848876953, 11.443394660949707, 47.83223342895508, 180.26858520507812, 199.00538635253906, 159.557373046875, 45.802677154541016, 42.153709411621094, 110.70421600341797, 112.1112289428711, 46.239540100097656, 107.29393005371094, 26.849353790283203, 30.341632843017578, 44.38097381591797, 31.405305862426758, 181.361083984375, 126.02338409423828, 82.40335083007812, 43.58149719238281, 29.268070220947266, 105.06951141357422, 187.28411865234375, 18.841421127319336, 24.738441467285156, 93.05290222167969, 150.4671630859375, 117.23700714111328, 47.892181396484375, 56.897518157958984, 144.36119079589844, 32.25145721435547, 224.13067626953125, 182.02821350097656, 150.16148376464844, 9.963532447814941, 15.19565200805664, 109.7991714477539, 25.460803985595703, 213.45167541503906, 142.865234375, 151.4187469482422, 130.31179809570312, 40.182533264160156, 17.179214477539062, 213.84780883789062, 151.63951110839844, 59.36934280395508, 90.65495300292969, 26.74198341369629, 95.5625991821289, 26.330352783203125, 149.68482971191406, 80.40465545654297, 200.1899871826172, 232.41006469726562, 70.17924499511719, 78.19510650634766, 13.171571731567383, 139.56629943847656, 157.9832305908203, 79.36884307861328, 108.29865264892578, 7.359563827514648, 137.6886749267578, 22.08550262451172, 107.09388732910156, 27.796091079711914, 95.78358459472656, 53.43306350708008, 124.7180404663086, 3.1124610900878906, 61.743064880371094, 13.063936233520508, 22.758459091186523, 12.03917407989502, 123.23976135253906, 57.336280822753906, 117.53402709960938, 125.70518493652344, 65.8638687133789, 153.95120239257812, 98.97264862060547, 12.857891082763672, 9.741595268249512, 179.5602569580078, 59.20142364501953, 125.93029022216797, 24.376567840576172, 103.92237854003906, 60.8497200012207, 63.58811950683594, 64.65867614746094, 48.6894645690918, 73.09892272949219, 8.863178253173828, 103.72210693359375, 113.76581573486328, 40.694671630859375, 16.441450119018555, 94.42725372314453, 72.10990905761719, 235.1177978515625, 227.7650604248047, 60.49260711669922, 49.41981506347656, 158.80540466308594, 8.748394966125488, 171.42013549804688, 145.29127502441406, 230.61973571777344, 50.71671676635742, 44.24688720703125, 141.20066833496094, 96.93479919433594, 5.258105754852295, 175.51522827148438, 35.18779754638672, 73.8509292602539, 109.1050796508789, 38.492313385009766, 69.7117919921875, 53.69158935546875, 66.98795318603516, 132.2897186279297, 202.86314392089844, 123.70846557617188, 70.01252746582031, 200.943359375, 153.82754516601562, 102.1351089477539, 60.57461166381836, 51.65023422241211, 141.46408081054688, 101.43661499023438, 105.37984466552734, 28.363882064819336, 160.64500427246094, 59.09732437133789, 68.95220184326172, 82.91529846191406, 159.946044921875, 152.32252502441406, 174.80223083496094, 261.304931640625, 89.06581115722656, 63.17661666870117, 60.02556228637695, 19.933382034301758, 14.37350082397461, 32.10015869140625, 50.48825454711914, 184.98233032226562, 98.25594329833984, 16.9644832611084, 42.77123260498047, 131.10101318359375, 36.39299774169922, 184.46897888183594, 141.72076416015625, 159.543212890625, 131.9822998046875, 36.116355895996094, 139.11077880859375, 38.537986755371094, 88.05167388916016, 230.35494995117188, 117.2804946899414, 15.763514518737793, 107.71983337402344, 69.2360610961914, 59.93352508544922, 47.987342834472656, 66.90122985839844, 40.474117279052734, 100.03252410888672, 208.56126403808594, 23.06959342956543, 100.92119598388672, 28.110050201416016, 100.43092346191406, 19.907730102539062, 107.88658905029297, 27.67308235168457, 145.34521484375, 76.78874206542969, 15.336400985717773, 51.76179122924805, 50.5451774597168, 40.39371871948242, 129.8701629638672, 28.76650047302246, 15.116765022277832, 55.6536979675293, 118.65325164794922, 85.60861206054688, 53.755638122558594, 25.512035369873047, 52.31391143798828, 100.48590087890625, 192.42063903808594, 139.3495330810547, 76.71725463867188, 157.31399536132812, 85.14944458007812, 93.51579284667969, 55.08958053588867, 210.44805908203125, 58.23295211791992, 102.52977752685547, 206.82907104492188, 153.01795959472656, 210.3663787841797, 197.7923126220703, 17.984277725219727, 138.248779296875, 102.8371810913086, 163.56417846679688, 188.50323486328125, 22.532875061035156, 68.57052612304688, 11.245827674865723, 54.71442794799805, 43.75455093383789, 79.00848388671875, 136.73822021484375, 104.55218505859375, 205.30081176757812, 94.2286148071289, 6.791221618652344, 184.1561737060547, 32.46005630493164, 134.66969299316406, 96.03536987304688, 101.78578186035156, 54.59336471557617, 131.55369567871094, 256.8047180175781, 209.51519775390625, 71.31036376953125, 54.72900390625, 40.654998779296875, 195.84730529785156, 70.41301727294922, 131.2025604248047, 12.294753074645996, 159.7457275390625, 28.760988235473633, 21.491552352905273, 194.46319580078125, 207.39578247070312, 22.104021072387695, 126.46221160888672, 28.06465721130371, 12.01157283782959, 182.57830810546875, 25.20835304260254, 128.4490509033203, 53.87188720703125, 112.0087661743164, 84.81925964355469, 120.09078979492188, 30.56324005126953, 46.36925506591797, 23.36540985107422, 21.073436737060547, 20.32146453857422, 49.764549255371094, 202.7687225341797, 167.97500610351562, 255.33309936523438, 193.61614990234375, 36.643882751464844, 22.6330623626709, 57.47677230834961, 61.59794235229492, 91.0478744506836, 8.799236297607422, 201.241455078125, 93.1861572265625, 49.745399475097656, 34.47876739501953, 62.04011917114258, 133.5447235107422, 53.949676513671875, 107.33308410644531, 111.6488037109375, 138.74188232421875, 28.617446899414062, 44.75956344604492, 200.64649963378906, 89.11502838134766, 52.430416107177734, 126.90904235839844, 141.100341796875, 170.09524536132812, 190.619140625, 66.42118835449219, 96.5560302734375, 64.53077697753906, 165.4772186279297, 46.67606735229492, 15.656500816345215, 11.539596557617188, 6.667228698730469, 168.4454345703125, 47.11044692993164, 127.17803192138672, 128.30995178222656, 21.369651794433594, 10.338580131530762, 36.94834518432617, 121.53981018066406, 127.3199462890625, 158.63755798339844, 109.13301849365234, 8.39958381652832, 43.65200424194336, 109.44767761230469, 80.61666870117188, 20.132320404052734, 187.33688354492188, 134.05027770996094, 112.35684967041016, 178.91651916503906, 60.61804962158203, 64.4548568725586, 39.40716552734375, 96.43558502197266, 88.85013580322266, 99.72420501708984, 2.0562961101531982, 175.7139892578125, 76.66301727294922, 30.071561813354492, 4.719622611999512, 18.06791877746582, 164.15127563476562, 28.673614501953125, 73.50039672851562, 13.675374984741211, 191.93014526367188, 74.51106262207031, 18.96465301513672, 141.33250427246094, 115.07588195800781, 8.045160293579102, 90.8054428100586, 15.196172714233398, 130.25889587402344, 36.39626693725586, 17.270591735839844, 86.24168395996094, 101.7187271118164, 163.47894287109375, 51.07767868041992, 18.01956558227539, 10.840540885925293, 44.925514221191406, 129.42660522460938, 2.7440338134765625, 3.6593880653381348, 115.66722869873047, 94.26687622070312, 47.33454895019531, 112.02112579345703, 51.40296936035156, 215.66171264648438, 10.714447975158691, 172.82183837890625, 50.841182708740234, 196.3878173828125, 8.960264205932617, 9.700545310974121, 130.24176025390625, 6.153908729553223, 12.525912284851074, 21.937772750854492, 80.674072265625, 78.29312133789062, 107.22364044189453, 156.5035858154297, 63.44862747192383, 29.879871368408203, 52.908050537109375, 74.33366394042969, 17.908021926879883, 10.46629810333252, 25.629779815673828, 127.64122009277344, 13.598299026489258, 66.06085968017578, 123.38824462890625, 197.32286071777344, 130.6078643798828, 207.7041473388672, 16.098817825317383, 234.3495330810547, 20.465444564819336, 136.32363891601562, 12.14657974243164, 35.47089767456055, 33.807369232177734, 38.56855392456055, 21.269866943359375, 117.663330078125, 131.62355041503906, 127.84214782714844, 143.18907165527344, 0.9479662179946899, 7.102248668670654, 37.23982620239258, 12.742403984069824, 12.84805679321289, 86.67469024658203, 146.64694213867188, 13.272673606872559, 112.21731567382812, 178.60337829589844, 62.882877349853516, 101.1793212890625, 164.47630310058594, 18.104299545288086, 212.55104064941406, 78.79821014404297, 76.40089416503906, 17.98719024658203, 170.21824645996094, 230.41342163085938, 22.530948638916016, 4.476923942565918, 103.94505310058594, 17.141292572021484, 15.447295188903809, 33.83637237548828, 58.736942291259766, 8.644935607910156, 43.58576583862305, 126.5634765625, 15.588140487670898, 60.396636962890625, 194.83245849609375, 54.02285385131836, 164.76052856445312, 169.59471130371094, 94.78734588623047, 219.19590759277344, 62.82779312133789, 137.51319885253906, 145.38665771484375, 46.9996337890625, 211.37451171875, 69.02052307128906, 119.8648452758789, 66.37855529785156, 116.34443664550781, 35.65421676635742, 22.747310638427734, 25.03985595703125, 143.44801330566406, 28.379121780395508, 211.80909729003906, 64.02056884765625, 19.78580093383789, 79.5823745727539, 139.99081420898438, 27.68178939819336, 81.17000579833984, 157.1455841064453, 47.57224655151367, -0.5064266324043274, 271.752197265625, 134.2268829345703, 105.05552673339844, 90.4583511352539, 106.69690704345703, 205.2836151123047, 103.78028869628906, 152.41363525390625, 51.767601013183594, 117.4928207397461, 59.2803840637207, 132.19973754882812, 136.58001708984375, 120.7106704711914, 88.27820587158203, 90.51453399658203, 75.61612701416016, 199.95982360839844, 131.4010009765625, 16.288158416748047, 118.59571838378906, 27.23848533630371, 149.017578125, 84.72663116455078, 172.93394470214844, 88.9405517578125, 45.78874588012695, 31.489736557006836, 146.44357299804688, 158.35240173339844, 20.008586883544922, 65.07133483886719, 98.7691879272461, 201.5961151123047, 12.10867691040039, 85.5787582397461, 41.595359802246094, 81.83998107910156, 27.705263137817383, 28.999881744384766, 52.69194793701172, 59.78570556640625, 50.10615539550781, 153.60585021972656, 99.45848846435547, 5.274273872375488, 106.88035583496094, 50.33143615722656, 6.597740173339844, 148.43592834472656, 94.271728515625, 80.63543701171875, 115.40637969970703, 20.311389923095703, 79.10689544677734, 68.60747528076172, 17.95547103881836, 12.506460189819336, 202.3686981201172, 189.19798278808594, 81.40837860107422, 107.48539733886719, 3.7777676582336426, 5.465896129608154, 171.1903076171875, 161.62208557128906, 2.4151484966278076, 243.5800323486328, 53.75643539428711, 105.80745697021484, 63.355289459228516, 64.71466827392578, 43.311458587646484, 160.32504272460938, 48.493865966796875, 123.4170150756836, 177.0872039794922, 29.637134552001953, 29.33772087097168, 33.346012115478516, 149.94259643554688, 95.95498657226562, 64.71590423583984, 131.49917602539062, 134.5928955078125, 138.0406494140625, 146.69200134277344, 118.15227508544922, 112.41250610351562, 97.6697998046875, 56.026790618896484, 65.57977294921875, 163.7228240966797, 93.21707153320312, 100.57987976074219, 141.1660919189453, 75.63754272460938, 30.09330177307129, 144.9652099609375, 37.09576416015625, 45.7041015625, 46.71036148071289, 161.87286376953125, 106.50499725341797, 99.2610855102539, 42.89806365966797, 117.9738540649414, 38.11083984375, 178.65440368652344, 37.81736373901367, 88.90342712402344, 34.1121826171875, 132.71762084960938, 118.3094711303711, 158.82379150390625, 42.263282775878906, 155.13723754882812, 119.53569030761719, 190.89332580566406, 96.0551986694336, 144.3522186279297, 67.75238037109375, 7.141973495483398, 190.47525024414062, 181.6547088623047, 3.326186180114746, 8.787031173706055, 44.16712951660156, 39.78803253173828, 159.2666473388672, 56.03911590576172, 152.64178466796875, 98.1208724975586, 168.50074768066406, 58.455528259277344, 143.8831787109375, 71.33806610107422, 129.90869140625, 187.10067749023438, 12.29215145111084, 121.62706756591797, 8.134140968322754, 42.13698959350586, 27.02707862854004, 118.10372924804688, 21.274404525756836, 228.74468994140625, 99.0691146850586, 67.69829559326172, 174.66552734375, 15.015164375305176, 100.3466796875, 70.76448822021484, 64.19351959228516, 44.20864486694336, 22.853260040283203, 109.09986877441406, 31.916000366210938, 147.65371704101562, 14.416863441467285, 187.13302612304688, 27.974281311035156, 99.11308288574219, 91.4867172241211, 108.90169525146484, 201.95889282226562, 64.7275161743164, 148.19522094726562, 75.53710174560547, 21.46222496032715, 43.22977828979492, 142.41513061523438, 116.71351623535156, 4.23838996887207, 53.78919219970703, 29.664188385009766, 183.1841278076172, 159.31178283691406, 77.4393310546875, 84.4017562866211, 145.52919006347656, 78.40265655517578, 4.719890594482422, 3.7591021060943604, 145.64967346191406, 104.14691162109375, 110.7813720703125, 121.74475860595703, 147.88787841796875, 234.13926696777344, 21.81789207458496, 72.36547088623047, 21.679691314697266, 95.68341827392578, 41.63386154174805, 65.44005584716797, 5.472782611846924, 30.15974998474121, 102.8392562866211, 58.60982894897461, 157.9907989501953, 81.3602066040039, 101.73197937011719, 83.3716049194336, 134.9459228515625, 53.41946029663086, 13.027106285095215, 72.54136657714844, 200.66802978515625, 100.46065521240234, 192.82247924804688, 109.09717559814453, 119.63495635986328, 15.586572647094727, 17.22901725769043, 56.190547943115234, 166.94883728027344, 195.94000244140625, 92.89575958251953, 181.98863220214844, 34.58953094482422, 15.432733535766602, 17.89281463623047, 235.96206665039062, 20.029085159301758, 123.41490173339844, 20.810745239257812, 89.4004898071289, 102.62100219726562, 148.28662109375, 129.0553741455078, 31.826974868774414, 44.55838394165039, 124.48889923095703, 79.06475830078125, 49.75773620605469, 86.10720825195312, 67.35787963867188, 43.994911193847656, 132.98802185058594, 79.06155395507812, 220.70941162109375, 177.45651245117188, 184.32716369628906, 11.364761352539062, 78.8486328125, 132.21107482910156, 8.600886344909668, 47.44087600708008, 153.1203155517578, 29.306692123413086, 137.03353881835938, 129.12908935546875, 97.90188598632812, 72.75637817382812, 40.120052337646484, 18.62151527404785, 48.49267578125, 47.16597366333008, 76.80392456054688, 130.68824768066406, 125.58360290527344, 139.39813232421875, 15.898223876953125, 37.04720687866211, 156.74830627441406, 82.46537017822266, 200.44271850585938, 110.00727844238281, 188.15206909179688, 126.09539794921875, 159.71144104003906, 39.03453826904297, 43.25961685180664, 62.749061584472656, 150.5407257080078, 239.3337860107422, 74.7904281616211, 84.87535858154297, 120.80484771728516, 18.348926544189453, 167.60536193847656, 13.004816055297852, 24.139394760131836, 32.005332946777344, 57.97409439086914, 170.50099182128906, 43.665382385253906, 150.08987426757812, 70.37142181396484, 93.53324127197266, 41.86958694458008, 102.71102905273438, 197.69949340820312, 167.13941955566406, 38.10371398925781, 157.91590881347656, 132.4041748046875, 186.9130859375, 130.22300720214844, 170.03585815429688, 42.60558319091797, 84.39688110351562, 64.9122314453125, 24.34865951538086, 6.7525248527526855, 25.868412017822266, 198.68234252929688, 221.6215362548828, 174.74844360351562, 169.98077392578125, 135.64903259277344, 83.83653259277344, 148.3144073486328, 120.0173568725586, 39.816707611083984, 168.5320587158203, 228.41737365722656, 163.45941162109375, 23.19515609741211, 49.8255500793457, 22.50391960144043, 30.37194061279297, 182.4297332763672, 79.3088150024414, 153.13192749023438, 80.09333801269531, 91.95117950439453, 53.2979621887207, 20.42993927001953, 31.884748458862305, 29.86012077331543, 144.8739471435547, 118.88754272460938, 26.753822326660156, 70.21554565429688, 95.24960327148438, 13.131752014160156, 68.20622253417969, 63.454280853271484, 68.82969665527344, 113.87590789794922, 24.12920379638672, 213.6065673828125, 160.79421997070312, 130.2440643310547, 130.84292602539062, 3.9514827728271484, 143.45008850097656, 104.96229553222656, 17.475324630737305, 153.83692932128906, 188.4037322998047, 59.01192855834961, 26.991985321044922, 50.020362854003906, 32.98131561279297, 107.97325134277344, 158.23252868652344, 34.213409423828125, 147.47120666503906, 180.1393585205078, 10.82331371307373, 212.3464813232422, 173.4834442138672, 62.16339874267578, 111.37786865234375, 110.85108947753906, 169.86871337890625, 52.89584732055664, 45.726253509521484, 72.79962921142578, 116.73469543457031, 22.07977867126465, 101.05117797851562, 7.105520725250244, 30.702219009399414, 50.41466522216797, 107.39395141601562, 122.48834228515625, 61.64282989501953, 15.848103523254395, 49.20098876953125, 138.24349975585938, 194.8564910888672, 201.78460693359375, 177.8856658935547, 23.827463150024414, 6.608025074005127, 72.79747009277344, 23.44554901123047, 107.55919647216797, 189.35585021972656, 40.468536376953125, 172.30523681640625, 115.787109375, 198.697998046875, 83.21630859375, 22.73578643798828, 101.47453308105469, 71.42595672607422, 64.90135955810547, 104.37419891357422, 14.394671440124512, 135.69674682617188, 141.5445556640625, 65.42330169677734, 80.19612121582031, 55.87600326538086, 203.82264709472656, 16.185604095458984, 169.2506561279297, 23.029037475585938, 132.35023498535156, 188.2511749267578, 42.983604431152344, 125.2248306274414, 21.836280822753906, 79.4673843383789, 60.40450668334961, 38.54551315307617, 58.051692962646484, 17.717336654663086, 110.5667724609375, 103.97027587890625, 75.46841430664062, 53.37166976928711, 225.1770477294922, 187.18408203125, 104.01252746582031, 86.28521728515625, 17.147254943847656, 35.220638275146484, 53.21505355834961, 32.485782623291016, 111.26895904541016, 17.358688354492188, 132.17372131347656, 103.84410858154297, 39.460975646972656, 166.66673278808594, 103.49942779541016, 112.74832153320312, 10.756590843200684, 204.63047790527344, 37.83787536621094, 40.872676849365234, 9.568388938903809, 81.21324157714844, 88.74713897705078, 16.45785903930664, 202.740966796875, 209.7391357421875, 113.04642486572266, 10.938943862915039, 1.8469778299331665, 172.1198272705078, 23.468215942382812, 49.11568069458008, 3.9196183681488037, 30.71561050415039, 64.1669921875, 6.532905101776123, 113.65457916259766, 52.7611083984375, 205.9707489013672, 26.407669067382812, 44.592369079589844, 89.50439453125, 69.17282104492188, 106.50770568847656, 197.7656707763672, 108.6301040649414, 55.81512451171875, 40.630558013916016, 68.12406921386719, 55.956119537353516, 31.45435333251953, 48.17109298706055, 6.937156677246094, 79.52037048339844, 158.00035095214844, 82.85721588134766, 99.02201843261719, 61.590633392333984, 160.26763916015625, 112.03750610351562, 168.66964721679688, 99.50133514404297, 75.91617584228516, 75.64653778076172, 143.8404083251953, 28.284177780151367, 65.5935287475586, 118.39095306396484, 68.20465850830078, 78.2424545288086, 190.55612182617188, 111.75373840332031, 140.86375427246094, 242.80496215820312, 114.19026947021484, 23.130535125732422, 45.98522186279297, 108.74482727050781, 189.78150939941406, 0.9685834050178528, 111.419921875, 31.931543350219727, 5.963434219360352, 116.28656005859375, 221.8973846435547, 235.6800537109375, 94.22259521484375, 133.1045684814453, 60.50027847290039, 16.96509552001953, 22.253219604492188, 54.96799087524414, 69.503662109375, 103.03312683105469, 102.87857818603516, 44.41514587402344, 90.01972961425781, 198.12623596191406, 127.51283264160156, 33.56959915161133, 15.441651344299316, 178.81460571289062, 106.41206359863281, 34.30581283569336, 10.17416000366211, 97.24605560302734, 70.45069885253906, 3.9649925231933594, 19.137590408325195, 94.2569351196289, 144.62242126464844, 6.028325080871582, 46.651222229003906, 8.378156661987305, 36.8532829284668, 220.21746826171875, 75.04622650146484, 81.3478775024414, 123.55577087402344, 40.331298828125, 35.252479553222656, 62.35325241088867, 147.82106018066406, 11.7615327835083, 36.73019027709961, 66.20269775390625, 60.99100112915039, 179.63450622558594, 124.51779174804688, 168.8914794921875, 116.22117614746094, 18.420557022094727, 11.95366382598877, 73.64828491210938, 124.90660095214844, 174.43228149414062, 48.98178482055664, 9.941889762878418, 107.97665405273438, 38.682865142822266, 91.96572875976562, 107.1767578125, 2.918353319168091, 147.29498291015625, 15.460166931152344, 65.2049560546875, 56.39737319946289, 39.666908264160156, 9.613533020019531, 79.1235122680664, 144.4364471435547, 148.05860900878906, 66.57862854003906, 77.28533935546875, 117.22622680664062, 7.435837268829346, 158.75851440429688, 111.25225067138672, 94.47628021240234, 77.3016586303711, 136.4324188232422, 124.25481414794922, 163.91587829589844, 58.281394958496094, 34.24567794799805, 21.59343910217285, 132.2041015625, 79.71971893310547, 123.25037384033203, 25.517580032348633, 27.96036148071289, 150.5283203125, 94.16898345947266, 210.4528045654297, 33.778602600097656, 44.44976806640625, 88.69244384765625, 39.220340728759766, 139.55653381347656, 29.912078857421875, 4.8200154304504395, 156.8386688232422, 134.67372131347656, 163.57400512695312, 93.36101531982422, 35.35871124267578, 51.3814582824707, 59.168617248535156, 55.3907356262207, 57.15501022338867, 202.21835327148438, 13.271312713623047, 169.64212036132812, 169.58876037597656, 146.15650939941406, 237.83670043945312, 160.5382537841797, 153.08718872070312, 3.7232768535614014, 20.461071014404297, 34.517398834228516, 40.078975677490234, 189.31295776367188, 177.66751098632812, 83.87071990966797, 172.63040161132812, 208.36911010742188, 9.679984092712402, 13.184396743774414, 52.43464279174805, 40.096126556396484, 189.22926330566406, 6.080440521240234, 27.159778594970703, 118.62333679199219, 184.1266326904297, 141.66152954101562, 74.52562713623047, 152.15176391601562, 17.04535484313965, 231.23643493652344, 134.669189453125, 134.55726623535156, 118.40642547607422, 67.27903747558594, 40.1856575012207, 136.7138671875, 13.358613967895508, 56.31915283203125, 186.15386962890625, 9.389366149902344, 94.22454833984375, 155.30352783203125, 18.759611129760742, 132.98193359375, 17.617883682250977, 41.30746841430664, 115.51215362548828, 23.257671356201172, 42.575660705566406, 32.61943817138672, 218.25112915039062, 42.286041259765625, 123.8408432006836, 84.41549682617188, 16.37967872619629, 46.7007942199707, 148.3196258544922, 12.429474830627441, 79.85867309570312, 35.393524169921875, 185.39852905273438, 65.31089782714844, 33.63127517700195, 50.94056701660156, 189.0160369873047, 192.67333984375, 172.28880310058594, 59.644771575927734, 167.7735137939453, 17.6043758392334, 12.08130931854248, 157.82276916503906, 181.16526794433594, 178.36654663085938, 19.226213455200195, 86.47573852539062, 165.08132934570312, 124.03994750976562, 171.2808380126953, 52.670040130615234, 102.7494888305664, 128.19140625, 12.491476058959961, 9.780145645141602, 79.1843490600586, 161.49911499023438, 122.18594360351562, 113.63326263427734, 54.55217742919922, 11.14795970916748, 193.4500732421875, 87.26068115234375, 7.181430339813232, 47.391021728515625, 48.94340896606445, 19.975725173950195, 55.81553649902344, 203.7107696533203, 27.718090057373047, 191.9107666015625, 84.06661987304688, 193.43026733398438, 110.49519348144531, 91.50023651123047, 104.61432647705078, 242.2275848388672, 200.58526611328125, 7.462804317474365, 7.033951282501221, 16.874862670898438, 25.987525939941406, 149.31253051757812, 21.157085418701172, 6.268049716949463, 117.1693115234375, 28.375253677368164, 64.2412338256836, 10.20606517791748, 171.3071746826172, 85.59185028076172, 23.718990325927734, 114.38626861572266, 122.1231689453125, 171.22637939453125, 96.75202941894531, 125.08931732177734, 29.3445987701416, 93.27200317382812, 23.487407684326172, 84.93062591552734, 31.872146606445312, 135.9270477294922, 31.12397575378418, 180.1619110107422, 29.43148422241211, 20.964731216430664, 77.15908813476562, 81.31773376464844, 26.76861000061035, 58.02428436279297, 129.1871337890625, 150.99403381347656, 14.221956253051758, 29.510969161987305, 156.84881591796875, 120.3872299194336, 51.1170654296875, 52.19476318359375, 54.081520080566406, 92.00296783447266, 163.79058837890625, 19.642332077026367, 162.18124389648438, 81.01255798339844, 9.364585876464844, 198.78121948242188, 40.273841857910156, 139.5498504638672, 7.372430801391602, 51.88973617553711, 37.38833999633789, 46.628684997558594, 167.3954315185547, 53.57323455810547, 13.5592041015625, 43.477046966552734, 72.62517547607422, 180.23374938964844, 112.91210174560547, 22.767948150634766, 78.20474243164062, 66.39425659179688, 140.4469757080078, 85.80377960205078, 21.22388458251953, 25.806331634521484, 12.48331356048584, 63.74717712402344, 144.72923278808594, 99.474853515625, 24.70698356628418, 61.34928894042969, 30.44333839416504, 39.38631820678711, 58.526100158691406, 96.63807678222656, 107.25920867919922, 185.39173889160156, 76.68289184570312, 3.351224184036255, 207.49868774414062, 155.80166625976562, 28.718128204345703, 63.811073303222656, 206.04925537109375, 45.19630432128906, 78.80329895019531, 41.2399787902832, 167.97970581054688, 5.29179048538208, 189.94068908691406, 9.918519020080566, 91.37899780273438, 170.96432495117188, 19.796581268310547, 19.98161506652832, 225.97250366210938, 36.3291015625, 52.519203186035156, 11.192662239074707, 92.68649291992188, 94.44482421875, 61.52921676635742, 124.21495056152344, 144.19454956054688, 53.89239501953125, 74.41474151611328, 86.82951354980469, 184.15110778808594, 112.90493774414062, 62.39932632446289, 141.34896850585938, 101.49883270263672, 90.24832916259766, 53.20841598510742, 100.29960632324219, 129.093994140625, 24.54960060119629, 111.21214294433594, 98.64823150634766, 159.2262420654297, 75.95808410644531, 28.62834930419922, 3.651803493499756, 148.60986328125, 23.867887496948242, 21.930803298950195, 184.5885009765625, 12.811567306518555, 31.56430435180664, 101.57634735107422, 6.444660186767578, 0.8903917670249939, 182.0072784423828, 97.17913055419922, 9.174127578735352, 7.142773151397705, 16.7132625579834, 12.395036697387695, 52.205780029296875, 21.07159996032715, 39.71175765991211, 182.3087615966797, 103.60607147216797, 90.05221557617188, 125.86563110351562, 123.95537567138672, 186.8247833251953, 80.94513702392578, 102.08145141601562, 86.757568359375, 144.26425170898438, 132.48814392089844, 59.17314147949219, 48.469482421875, 61.998165130615234, 44.00266647338867, 141.43441772460938, 106.74848937988281, 223.8568572998047, 76.65162658691406, 7.420910358428955, 103.58515930175781, 55.96408462524414, 69.64018249511719, 179.96754455566406, 13.387187004089355, 100.21964263916016, 14.973447799682617, 43.74618911743164, 111.99697875976562, 20.601715087890625, 121.00468444824219, 47.05335998535156, 59.45109939575195, 70.11602020263672, 71.34651947021484, 95.63751220703125, 238.31784057617188, 48.69434356689453, 11.710990905761719, 10.346624374389648, 20.280914306640625, 128.2184295654297, 150.2743377685547, 134.41680908203125, 43.49990463256836, 139.13528442382812, 28.37656021118164, 71.95402526855469, 29.20178985595703, 214.5428466796875, 68.4344711303711, 56.952415466308594, 121.34207153320312, 44.98847961425781, 92.94176483154297, 63.31337356567383, 177.91465759277344, 46.709930419921875, 23.391098022460938, 153.8223114013672, 30.066478729248047, 31.538423538208008, 169.7266845703125, 38.38526153564453, 12.934795379638672, 15.225166320800781, 30.39096450805664, 29.736845016479492, 14.903789520263672, 132.3287353515625, 24.77416229248047, 221.86123657226562, 67.87788391113281, 59.835758209228516, 83.21807098388672, 102.41496276855469, 143.5209197998047, 176.0108184814453, 49.83673095703125, 12.468473434448242, 101.78656005859375, 33.65506362915039, 126.08351135253906, 208.661865234375, 74.77545928955078, 73.56758117675781, 183.2301483154297, 83.72396087646484, 20.760963439941406, 101.58482360839844, 31.066951751708984, 41.900115966796875, 68.24693298339844, 147.38783264160156, 64.00060272216797, 215.0126953125, 132.0850830078125, 48.54854965209961, 37.075294494628906, 29.152400970458984, 159.41305541992188, 66.95191192626953, 119.59976959228516, 172.21588134765625, 16.68134117126465, 24.862882614135742, 43.879486083984375, 10.28956127166748, 7.673893928527832, 164.86727905273438, 142.01101684570312, 88.03607177734375, 5.292767524719238, 49.6448860168457, 36.729042053222656, 74.13516235351562, 89.14183044433594, 48.322906494140625, 89.78799438476562, 31.211225509643555, 8.302266120910645, 20.802148818969727, 117.18545532226562, 160.37025451660156, 23.812294006347656, 183.92413330078125, 98.80708312988281, 57.569061279296875, 79.46656799316406, 29.507482528686523, 75.93991088867188, 98.67568969726562, 20.1928768157959, 13.517186164855957, 185.9849090576172, 102.56334686279297, 134.58221435546875, 46.445343017578125, 64.14746856689453, 15.55638599395752, 188.08273315429688, 37.699275970458984, 160.306640625, 90.95040130615234, 214.68215942382812, 109.19742584228516, 11.228869438171387, 68.98404693603516, 177.86825561523438, 59.920753479003906, 106.7060317993164, 144.35769653320312, 122.96147918701172, 82.12294006347656, 201.21954345703125, 86.58245086669922, 40.40890884399414, 31.47739601135254, 182.71798706054688, 133.86326599121094, 128.74951171875, 148.19732666015625, 28.976722717285156, 211.86990356445312, 13.92154598236084, 34.36206817626953, 52.932777404785156, 129.69923400878906, 108.37641906738281, 49.43193435668945, 23.302873611450195, 116.86293029785156, 36.147090911865234, 41.11940383911133, 108.6592025756836, 34.150421142578125, 135.5712127685547, 16.98281478881836, 61.12763595581055, 133.20704650878906, 172.46495056152344, 9.94822883605957, 101.78856658935547, 147.8336944580078, 22.180564880371094, 151.14486694335938, 24.01821517944336, 201.12200927734375, 74.5593032836914, 176.37535095214844, 10.668956756591797, 90.21792602539062, 42.15398025512695, 47.71537399291992, 106.41416931152344, 129.2191619873047, 56.54467010498047, 133.33367919921875, 59.662559509277344, 76.47266387939453, 15.847495079040527, 48.40394592285156, 181.71873474121094, 24.1133975982666, 91.13372802734375, 131.30348205566406, 148.03106689453125, 141.38404846191406, 70.79905700683594, 172.35382080078125, 81.99278259277344, 24.973974227905273, 62.576446533203125, 26.09029197692871, 55.50642776489258, 106.15137481689453, 55.06703567504883, 196.93988037109375, 229.95050048828125, 142.21060180664062, 170.4808349609375, 5.453855514526367, 42.885066986083984, 92.09032440185547, 55.843902587890625, 72.52168273925781, 15.696271896362305, 75.72303771972656, 0.5365718603134155, 122.62825775146484, 18.771602630615234, 229.10983276367188, 70.14559173583984, 48.612091064453125, 83.4620590209961, 19.926280975341797, 87.35897064208984, 16.415390014648438, 58.053707122802734, 196.8636932373047, 166.11331176757812, 144.01663208007812, 171.96240234375, 35.85877227783203, 9.835808753967285, 99.84893798828125, 6.339564323425293, 58.87739562988281, 115.99678039550781, 181.56231689453125, 165.70179748535156, 174.77476501464844, 103.93824005126953, 25.545522689819336, 20.17841148376465, 42.55328369140625, 213.67535400390625, 36.02719497680664, 106.89252471923828, 77.84912872314453, 57.37763977050781, 80.56388854980469, 13.013943672180176, 165.34437561035156, 126.45721435546875, 131.73068237304688, 19.85635757446289, 244.74549865722656, 16.49745750427246, 16.200759887695312, 180.9593963623047, 149.51498413085938, 174.3462371826172, 119.22948455810547, 148.55328369140625, 177.56690979003906, 10.19707202911377, 30.73906707763672, 150.65415954589844, 68.53923034667969, 120.29108428955078, 102.64436340332031, 13.487860679626465, 39.82447052001953, 122.1973648071289, 10.779041290283203, 17.724119186401367, 82.4142074584961, 73.58284759521484, 35.62331771850586, 183.60255432128906, 219.01007080078125, 180.5970916748047, 51.52357482910156, 44.95863342285156, 37.83421325683594, 33.6649169921875, 42.56965637207031, 111.97588348388672, 63.24690246582031, 4.311611175537109, 81.07839965820312, 69.47119140625, 83.0645523071289, 148.2506561279297, 35.052284240722656, 225.22531127929688, 108.33174133300781, 63.52633285522461, 176.58395385742188, 35.07903289794922, 60.47060012817383, 80.8204116821289, 42.050865173339844, 163.6339569091797, 25.109779357910156, 18.063251495361328, 19.178495407104492, 115.93102264404297, 240.38900756835938, 65.85917663574219, 104.33778381347656, 38.2383918762207, 169.5189208984375, 109.12619018554688, 41.09944534301758, 10.212435722351074, 4.225750923156738, 41.78178405761719, 180.2747344970703, 73.99459838867188, 218.7647247314453, 135.00204467773438, 109.37501525878906, 50.094940185546875, 26.400094985961914, 19.410972595214844, 145.58853149414062, 10.24129581451416, 85.57527160644531, 70.43769836425781, 183.84254455566406, 172.0831298828125, 15.812609672546387, 225.2530059814453, 209.80227661132812, 28.497739791870117, 57.34772491455078, 62.72779083251953, 98.07353973388672, 149.96090698242188, 145.0021514892578, 59.64411926269531, 145.62828063964844, 28.274883270263672, 23.946104049682617, 8.414105415344238, 44.93490219116211, 194.0988006591797, 122.92670440673828, 145.65701293945312, 143.3809814453125, 213.53268432617188, 49.97563934326172, 131.2563934326172, 78.88433074951172, 10.996646881103516, 63.63140106201172, 91.58045196533203, 21.715866088867188, 154.94789123535156, 30.769563674926758, 98.0855712890625, 143.01004028320312, 121.32433319091797, 37.13756561279297, 237.86923217773438, 29.2794246673584, 180.20144653320312, 175.55865478515625, 118.77053833007812, 51.08921813964844, 130.84938049316406, 8.22446060180664, 61.822017669677734, 8.324651718139648, 23.829065322875977, 213.0766143798828, 144.6005096435547, 32.89687728881836, 107.06104278564453, 169.84596252441406, 181.4673309326172, 6.523685932159424, 106.0911636352539, 149.8376007080078, 58.644287109375, 132.3212432861328, 68.63214111328125, 44.0128059387207, 113.04435729980469, 94.02024841308594, 37.18729782104492, 203.05445861816406, 10.660795211791992, 13.476812362670898, 171.98077392578125, 41.659637451171875, 13.298919677734375, 72.83924865722656, 138.5758056640625, 59.04991912841797, 70.11543273925781, 132.4435577392578, 89.65402221679688, 77.80349731445312, 149.8602294921875, 111.91022491455078, 138.55699157714844, 79.93464660644531, 122.26651000976562, 101.33148193359375, 6.653042793273926, 57.024078369140625, 119.99148559570312, 157.45278930664062, 141.8129425048828, 146.00941467285156, 71.7532958984375, 44.62831115722656, 227.4654541015625, 13.098371505737305, 152.18963623046875, 90.60645294189453, 40.96211624145508, 6.97645378112793, 82.5624771118164, 8.241857528686523, 121.05101013183594, 20.734466552734375, 65.21354675292969, 45.34614562988281, 84.20067596435547, 4.563404083251953, 156.4046630859375, 17.069650650024414, 6.643416881561279, 94.70604705810547, 134.2490692138672, 170.45712280273438, 160.4755401611328, 26.051610946655273, 102.74357604980469, 51.331993103027344, 192.863525390625, 28.86354637145996, 87.06990814208984, 62.57780075073242, 6.377410888671875, 91.83721923828125, 176.53128051757812, 85.15504455566406, 81.41876983642578, 37.1262092590332, 39.33153533935547, 6.948964595794678, 141.50357055664062, 213.23594665527344, 4.280440330505371, 56.142356872558594, 164.79763793945312, 38.87630081176758, 125.47659301757812, 75.82695007324219, 26.027128219604492, 107.6030502319336, 188.91571044921875, 230.0181427001953, 153.31085205078125, 9.466669082641602, 246.35684204101562, 95.4657211303711, 99.66508483886719, 254.16159057617188, 160.71214294433594, 8.388956069946289, 18.720497131347656, 144.32876586914062, 14.10983657836914, 49.437660217285156, 34.781959533691406, 109.54390716552734, 94.79367065429688, 210.6529541015625, 90.8371353149414, 46.24050521850586, 91.02348327636719, 15.265815734863281, 131.9168701171875, 17.20817756652832, 75.05104064941406, 128.69940185546875, 188.8363037109375, 44.53120422363281, 55.5115852355957, 118.73483276367188, 55.72274398803711, 93.53215026855469, 150.61383056640625, 159.525634765625, 159.43402099609375, 175.59742736816406, 77.57380676269531, 16.04959487915039, 13.338679313659668, 40.5783805847168, 34.54091262817383, 185.94847106933594, 133.12863159179688, 96.92975616455078, 188.28677368164062, 83.4435806274414, 27.88433837890625, 19.99883270263672, 19.858600616455078, 100.80999755859375, 14.386981010437012, 133.65940856933594, 187.86474609375, 26.652883529663086, 39.27046585083008, 218.91856384277344, 62.68889236450195, 182.5823516845703, 135.11106872558594, 81.08528900146484, 160.9019775390625, 85.2937240600586, 2.8297741413116455, 12.927785873413086, 66.15040588378906, 10.745314598083496, 147.87193298339844, 51.36553192138672, 41.912174224853516, 45.80243682861328, 88.49588012695312, 136.46005249023438, 53.012691497802734, 26.18400001525879, 9.337970733642578, 13.363984107971191, 69.1821517944336, 147.45721435546875, 210.21473693847656, 21.178503036499023, 79.65750885009766, 15.393789291381836, 66.47309112548828, 149.6194305419922, 97.61763000488281, 161.37966918945312, 69.8823471069336, 159.68780517578125, 77.51107788085938, 89.09004211425781, 90.45584869384766, 24.565645217895508, 77.99208068847656, 149.9672393798828, 30.99481201171875, 143.06658935546875, 39.02620315551758, 100.42516326904297, 85.14575958251953, 57.60497283935547, 22.28280258178711, 98.8864517211914, 88.70020294189453, 180.72314453125, 87.03577423095703, 35.989742279052734, 131.2480010986328, 153.44476318359375, 149.22052001953125, 70.9090576171875, 139.54998779296875, 190.58203125, 155.64146423339844, 7.350179195404053, 15.874168395996094, 171.28317260742188, 167.0419921875, 134.33169555664062, 113.18793487548828, 181.6535186767578, 137.34942626953125, 25.2240047454834, 63.29179763793945, 13.930466651916504, 14.843811988830566, 132.56607055664062, 42.13990020751953, 146.1800079345703, 19.46192741394043, 72.50880432128906, 29.69577980041504, 60.36211013793945, 116.08172607421875, 7.07774019241333, 76.52166748046875, 49.594478607177734, 115.82198333740234, 10.888583183288574, 53.427581787109375, 25.230688095092773, 22.789255142211914, 185.9206085205078, 142.8188018798828, 66.69316864013672, 73.61070251464844, 41.7361946105957, 19.50112533569336, 81.15930938720703, 112.65729522705078, 175.08680725097656, 137.72491455078125, 47.885643005371094, 2.5792553424835205, 15.073500633239746, 21.58452033996582, 52.43891143798828, 170.27078247070312, 14.956198692321777, 72.3734359741211, 48.05728530883789, 69.83448791503906, 52.84435272216797, 25.210180282592773, 216.0555877685547, 17.98316764831543, 21.17856216430664, 61.8587760925293, 128.24246215820312, 148.65121459960938, 146.479736328125, 19.656795501708984, 73.98812866210938, 89.2066650390625, 68.3952865600586, 179.5213623046875, 46.764862060546875, 69.52422332763672, 27.685413360595703, 2.7949724197387695, 33.04402542114258, 59.74857711791992, 12.570403099060059, 114.4574203491211, 62.71944808959961, 48.04398727416992, 123.03243255615234, 222.74913024902344, 165.0463409423828, 124.24281311035156, 49.68193817138672, 105.46845245361328, 83.6221923828125, 72.5328598022461, 9.675107955932617, 80.33279418945312, 170.60804748535156, 35.477359771728516, 136.15121459960938, 170.54971313476562, 80.85572052001953, 88.67699432373047, 54.950748443603516, 79.55024719238281, 180.1016387939453, 18.950353622436523, 94.67411041259766, 80.47582244873047, 110.86481475830078, 76.13803100585938, 262.4110107421875, 16.92135238647461, 40.65846633911133, 122.48367309570312, 73.50108337402344, 50.960880279541016, 132.9904327392578, 16.482194900512695, 31.532499313354492, 82.7981948852539, 23.056020736694336, 144.3059539794922, 176.20057678222656, 125.50955963134766, 211.6354217529297, 172.1419219970703, 39.890960693359375, 147.69102478027344, 137.580810546875, 40.83913803100586, 26.29379653930664, 168.9513397216797, 55.26163864135742, 183.7527618408203, 10.872276306152344, 14.654004096984863, 194.87405395507812, 79.97994232177734, 70.39080810546875, 67.3905029296875, 61.018043518066406, 179.075927734375, 54.987693786621094, 207.18971252441406, 11.760604858398438, 112.46253967285156, 42.62912368774414, 26.589080810546875, 155.99891662597656, 183.81427001953125, 58.312522888183594, 88.21376037597656, 128.6950225830078, 80.75989532470703, 40.338409423828125, 163.67694091796875, 43.87683868408203, 82.09069061279297, 5.822437286376953, 107.13810729980469, 80.91758728027344, 113.76786041259766, 27.311986923217773, 186.83494567871094, 45.637420654296875, 99.78363800048828, 32.784725189208984, 6.300872802734375, 38.90385818481445, 131.15335083007812, 123.5160140991211, 149.7868194580078, 46.40606689453125, 211.79637145996094, 27.36054229736328, 76.84119415283203, 25.83475685119629, 75.8705062866211, 122.91929626464844, 103.68626403808594, 94.19392395019531, 142.28897094726562, 4.590908050537109, 136.8590087890625, 100.47787475585938, 7.608264923095703, 97.93922424316406, 27.429012298583984, 25.432111740112305, 157.67617797851562, 12.628765106201172, 21.63570785522461, 19.469507217407227, 150.18106079101562, 33.99544906616211, 98.4281997680664, 33.87893295288086, 96.83837127685547, 15.96152400970459, 93.86211395263672, 38.09138870239258, 199.8393096923828, 82.55075073242188, 129.83570861816406, 25.385000228881836, 11.771422386169434, 154.17276000976562, 63.95075607299805, 12.617486000061035, 26.35460662841797, 37.644203186035156, 6.767402648925781, 11.459209442138672, 59.73862075805664, 20.89914321899414, 18.913375854492188, 131.0557403564453, 120.5447998046875, 105.755615234375, 75.51396179199219, 15.515536308288574, 6.589109420776367, 87.60594940185547, 31.31954574584961, 3.3957979679107666, 12.943033218383789, 232.10406494140625, 202.1634521484375, 236.1337127685547, 182.25157165527344, 30.158782958984375, 61.98576354980469, 145.8135528564453, 219.1003875732422, 148.9505157470703, 92.6690444946289, 25.921274185180664, 261.4842224121094, 166.90432739257812, 79.24320220947266, 11.325983047485352, 69.33660888671875, 194.2847900390625, 12.823860168457031, 16.37805938720703, 10.365038871765137, 164.76446533203125, 74.06262969970703, 4.862453460693359, 109.8709487915039, 74.4206771850586, 160.14830017089844, 197.36981201171875, 97.75822448730469, 58.30442428588867, 6.987999439239502, 20.672515869140625, 177.84901428222656, 34.97454071044922, 152.6728515625, 154.539794921875, 131.4857940673828, 71.56639862060547, 79.45384979248047, 196.7952423095703, 14.479653358459473, 110.99586486816406, 14.205450057983398, 111.28267669677734, 10.662945747375488, 202.22239685058594, 49.748985290527344, 41.15739822387695, 41.63957214355469, 94.79203033447266, 55.98078536987305, 175.7747039794922, 28.381750106811523, 42.65005111694336, 137.0735321044922, 154.7901611328125, 12.029452323913574, 105.11006164550781, 26.751235961914062, 34.76717758178711, 65.40493774414062, 116.78610229492188, 113.83427429199219, 64.48831176757812, 131.35247802734375, 18.04326057434082, 60.30110549926758, 31.265213012695312, 97.86752319335938, 10.049394607543945, 176.01783752441406, 52.865116119384766, 73.75174713134766, 32.541107177734375, 3.4264726638793945, 73.05863952636719, 24.628463745117188, 45.93724822998047, 155.6953887939453, 131.87582397460938, 69.16826629638672, 149.37149047851562, 202.3943634033203, 56.11534881591797, 120.73604583740234, 12.757655143737793, 180.3280792236328, 28.013212203979492, 199.45399475097656, 58.86429977416992, 137.48348999023438, 49.645530700683594, 162.29969787597656, 68.53439331054688, 130.63525390625, 24.801605224609375, 100.72594451904297, 190.01785278320312, 31.95885467529297, 206.9939422607422, 36.5333366394043, 17.419536590576172, 119.28608703613281, 199.64642333984375, 58.81920623779297, 185.26271057128906, 10.205925941467285, 121.51862335205078, 7.208099842071533, 94.72710418701172, 143.12625122070312, 151.17478942871094, 47.09449768066406, 15.965065002441406, 100.05951690673828, 158.91212463378906, 161.91302490234375, 15.109243392944336, 128.12469482421875, 28.894285202026367, 23.524066925048828, 162.17642211914062, 37.23305130004883, 128.39971923828125, 105.06719207763672, 56.836036682128906, 43.85386657714844, 129.73464965820312, 6.420339107513428, 147.6150665283203, 216.43580627441406, 37.891090393066406, 167.96905517578125, 102.21751403808594, 46.818214416503906, 112.920654296875, 27.821529388427734, 134.347412109375, 77.51959991455078, 111.09249114990234, 52.06877899169922, 28.12971305847168, 141.23324584960938, 48.62390899658203, 38.18254852294922, 94.92656707763672, 182.1829071044922, 153.27125549316406, 41.49650573730469, 113.19129943847656, 92.08438110351562, 165.69400024414062, 60.21088790893555, 13.584117889404297, 49.78520584106445, 38.79994583129883, 139.95376586914062, 122.86579895019531, 88.83030700683594, 14.65954875946045, 93.13343811035156, 47.44098663330078, 9.703329086303711, 108.19453430175781, 27.00718116760254, 104.17281341552734, 122.0892105102539, 11.740986824035645, 36.541419982910156, 1.7473876476287842, 107.07430267333984, 20.793657302856445, 84.23403930664062, 235.17144775390625, 215.43621826171875, 88.38809204101562, 9.247553825378418, 55.729976654052734, 27.480443954467773, 12.304170608520508, 208.5691375732422, 105.98540496826172, 118.97779846191406, 190.8020782470703, 10.53535270690918, 7.0287652015686035, 87.36097717285156, 7.109503746032715, 177.2273406982422, 48.5554084777832, 73.00244903564453, 81.33171081542969, 53.38707733154297, 12.812063217163086, 173.80377197265625, 118.32404327392578, 53.052799224853516, 15.09995174407959, 64.42676544189453, 29.89569091796875, 71.41200256347656, 75.2459487915039, 34.623191833496094, 154.44532775878906, 30.37858772277832, 111.81151580810547, 80.88519287109375, 23.27048110961914, 67.19464111328125, 21.45753288269043, 38.03580856323242, 41.2175178527832, 5.453679084777832, 222.04689025878906, 170.46127319335938, 9.902098655700684, 72.46598815917969, 198.92010498046875, 59.57154083251953, 23.1481876373291, 5.264596939086914, 40.908531188964844, 111.71146392822266, 32.86214828491211, 104.63433837890625, 78.97116088867188, 42.369327545166016, 243.16542053222656, 5.668027877807617, 54.62800979614258, 53.45166015625, 17.64134407043457, 104.79502868652344, 160.3448944091797, 119.61426544189453, 46.39650344848633, 104.21151733398438, 46.561126708984375, 198.96249389648438, 194.3103485107422, 85.43550109863281, 130.87803649902344, 55.495723724365234, 3.619441032409668, 194.46026611328125, 66.6749496459961, 32.304866790771484, 20.859783172607422, 121.22215270996094, 40.09513473510742, 63.32495880126953, 106.84829711914062, 186.7231903076172, 39.78424835205078, 73.24872589111328, 164.09408569335938, 38.6790657043457, 168.08074951171875, 13.858109474182129, 181.77821350097656, 109.16217803955078, 146.87196350097656, 74.80364227294922, 28.118465423583984, 62.32637405395508, 63.043128967285156, 41.73342514038086, 112.40306854248047, 36.80124282836914, 9.219799041748047, 35.3289794921875, 70.29119110107422, 144.34271240234375, 93.33413696289062, 188.794189453125, 3.027050018310547, 193.27235412597656, 148.27206420898438, 243.82333374023438, 247.35989379882812, 143.91513061523438, 117.3038330078125, 41.710121154785156, 114.76126098632812, 114.85423278808594, 33.549381256103516, 177.813232421875, 39.8758544921875, 187.53616333007812, 165.15609741210938, 101.57573699951172, 2.833186149597168, 64.621337890625, 28.5662784576416, 22.978395462036133, 6.462488174438477, 32.4249267578125, 90.50148010253906, 10.737377166748047, 7.401365756988525, 37.09242630004883, 70.43301391601562, 151.1991729736328, 163.00711059570312, 176.9515380859375, 18.26463508605957, 62.8336181640625, 272.9029846191406, 72.22522735595703, 37.48969650268555, 232.717041015625, 149.00465393066406, 9.614781379699707, 84.9376220703125, 192.4889373779297, 66.95362091064453, 27.673465728759766, 99.951904296875, 151.94065856933594, 6.719773769378662, 52.32887268066406, 11.201208114624023, 127.43895721435547, 99.31333923339844, 24.480323791503906, 171.32618713378906, 8.938041687011719, 101.96987915039062, 53.40187454223633, 89.45397186279297, 10.879204750061035, 86.1761474609375, 107.4858627319336, 41.82530975341797, 123.22399139404297, 48.2589225769043, 42.2609977722168, 91.0724868774414, 59.15420150756836, 6.641849994659424, 140.72958374023438, 174.69668579101562, 10.790926933288574, 20.073049545288086, 161.81655883789062, 151.80886840820312, 29.425642013549805, 13.511256217956543, 116.175537109375, 41.75117874145508, 39.18523406982422, 132.2361297607422, 28.66663932800293, 145.40762329101562, 53.342567443847656, 66.16325378417969, 52.92250442504883, 20.060352325439453, 47.293556213378906, 35.42740249633789, 72.87789916992188, 121.26654052734375, 21.434993743896484, 177.7124786376953, 64.75113677978516, 87.47674560546875, 23.359729766845703, 79.232666015625, 20.743907928466797, 217.0277557373047, 88.02770233154297, 138.5716094970703, 23.858274459838867, 106.13848114013672, 38.285606384277344, 65.94100952148438, 3.733314275741577, 96.37488555908203, 148.7846221923828, 42.5904426574707, 63.433109283447266, 27.644428253173828, 5.092774868011475, 21.014095306396484, 186.9997100830078, 30.011619567871094, 116.92550659179688, 5.1450934410095215, 81.56790161132812, 77.72172546386719, 119.5179672241211, 131.1775360107422, 10.998924255371094, 9.082083702087402, 193.72036743164062, 151.09571838378906, 17.023534774780273, 102.78765869140625, 78.41111755371094, 72.84903717041016, 224.90716552734375, 86.2614974975586, 149.55636596679688, 107.34552001953125, 194.2298126220703, 226.2875518798828, 9.534526824951172, 20.135480880737305, 197.20907592773438, 70.4124755859375, 68.37657928466797, 38.32754135131836, 92.00458526611328, 229.7084503173828, 31.249155044555664, 43.65956497192383, 88.80304718017578, 146.831298828125, 138.4318084716797, 7.711848735809326, 15.996439933776855, 184.68443298339844, 108.79403686523438, 29.102582931518555, 184.99171447753906, 187.6927032470703, 209.70787048339844, 128.41522216796875, 52.27686309814453, 150.4735870361328, 37.797706604003906, 68.44974517822266, 10.00924015045166, 24.97472381591797, 6.7926106452941895, 20.33658790588379, 42.42245864868164, 126.63883209228516, 38.22520446777344, 179.87466430664062, 189.79234313964844, 126.59162902832031, 21.188108444213867, 26.08486557006836, 179.72573852539062, 11.323588371276855, 84.2092056274414, 144.00271606445312, 107.65504455566406, 66.83998107910156, 58.735076904296875, 193.49424743652344, 145.01126098632812, 122.23185729980469, 126.7149887084961, 163.96224975585938, 29.81484603881836, 101.31097412109375, 200.9773712158203, 166.15533447265625, 91.19722747802734, 47.74364471435547, 19.340682983398438, 74.39358520507812, 58.82429122924805, 123.41012573242188, 50.42425537109375, 64.4512710571289, 67.47120666503906, 199.30087280273438, 42.664730072021484, 163.1208953857422, 112.57755279541016, 36.47968673706055, 154.30120849609375, 176.6526336669922, 32.1141471862793, 71.310302734375, 63.25986099243164, 49.924015045166016, 254.88487243652344, 108.6222915649414, 29.932220458984375, 93.0113525390625, 27.41166877746582, 173.21365356445312, 26.005393981933594, 54.85172653198242, 28.582509994506836, 99.74140930175781, 2.9533286094665527, 5.987360954284668, 73.97905731201172, 30.250694274902344, 35.202518463134766, 14.460021018981934, 172.77635192871094, 6.273036003112793, 143.73233032226562, 191.5233917236328, 26.34365463256836, 101.41844177246094, 102.00184631347656, 22.318571090698242, 19.164548873901367, 97.24979400634766, 197.4362335205078, 2.040971040725708, 183.18051147460938, 148.1542205810547, 69.8384017944336, 69.97115325927734, 97.96517181396484, 54.77348327636719, 43.526954650878906, 15.828510284423828, 19.61107063293457, 70.03811645507812, 75.25160217285156, 5.5148420333862305, 132.86788940429688, 124.48065185546875, 217.68865966796875, 164.36720275878906, 193.29534912109375, 94.1444091796875, 69.9106674194336, 167.8397216796875, 46.78154373168945, 37.14090347290039, 189.74612426757812, 48.07305145263672, 215.74420166015625, 29.044170379638672, 5.817811489105225, 6.759581565856934, 78.5628890991211, 146.64366149902344, 50.25389862060547, 141.16226196289062, 161.49746704101562, 167.2310791015625, 39.1560173034668, 90.65120697021484, 242.69900512695312, 40.849002838134766, 35.835445404052734, 117.40511322021484, 182.0323944091797, 41.75749206542969, 175.3654327392578, 21.823265075683594, 36.442752838134766, 56.69327163696289, 11.544207572937012, 158.98423767089844, 70.7117919921875, 36.40914535522461, 15.141738891601562, 115.6444091796875, 38.05570602416992, 34.001556396484375, 34.28081512451172, 218.47018432617188, 46.60732650756836, 148.2178955078125, 38.82677459716797, 240.43527221679688, 35.17658615112305, 179.32054138183594, 176.5625457763672, 65.76583099365234, 56.559783935546875, 34.404361724853516, 38.96296310424805, 167.65286254882812, 209.44564819335938, 63.409915924072266, 177.8397674560547, 167.61875915527344, 173.1524200439453, 126.3271484375, 104.6019058227539, 106.96913146972656, 119.61454772949219, 152.2519073486328, 8.12081527709961, 110.19505310058594, 32.611244201660156, 205.53421020507812, 55.42506790161133, 14.99948501586914, 94.91372680664062, 94.65380096435547, 122.53692626953125, 65.04237365722656, 47.764469146728516, 35.0655517578125, 88.56944274902344, 152.1547088623047, 143.00889587402344, 4.310854911804199, 53.999210357666016, 165.8384552001953, 44.0904426574707, 139.06971740722656, 82.3824234008789, 13.32132625579834, 14.989160537719727, 89.90070343017578, 104.248779296875, 192.85618591308594, 39.6674919128418, 153.01641845703125, 126.99974822998047, 165.64736938476562, 9.891092300415039, 31.40787696838379, 64.18482208251953, 172.6746826171875, 90.98661804199219, 115.42031860351562, 24.652671813964844, 2.120994806289673, 136.99441528320312, 0.8041170239448547, 8.135004043579102, 176.60670471191406, 198.4554443359375, 92.24909210205078, 118.7115249633789, 91.1796646118164, 217.1570281982422, 7.9544219970703125, 170.37872314453125, 134.7061767578125, 63.18757247924805, 115.23564147949219, 13.696938514709473, 49.275733947753906, 34.525779724121094, 171.692626953125, 68.9342041015625, 109.69441986083984, 264.1661682128906, 208.88821411132812, 214.3177032470703, 80.4853286743164, 53.32759094238281, 182.9371795654297, 119.6683578491211, 8.058125495910645, 181.1494903564453, 113.20746612548828, 172.77418518066406, 208.5386505126953, 55.76183319091797, 3.918300151824951, 9.755629539489746, 175.75848388671875, 192.32992553710938, 24.441892623901367, 59.419769287109375, 50.76559066772461, 173.55838012695312, 115.04083251953125, 108.12393188476562, 17.471054077148438, 26.0728816986084, 6.362867832183838, 192.39028930664062, 7.47615909576416, 108.14190673828125, 103.33395385742188, 26.160747528076172, 50.77600860595703, 8.222986221313477, 134.0044708251953, 166.9036102294922, 40.55366134643555, 115.31227111816406, 20.95391082763672, 93.43966674804688, 197.02410888671875, 186.55615234375, 27.18553352355957, 210.00523376464844, 63.69095993041992, 37.31774139404297, 209.52105712890625, 13.323576927185059, 5.870142459869385, 10.013535499572754, 67.6347885131836, 81.2821044921875, 59.56783676147461, 126.14010620117188, 14.141463279724121, 58.573219299316406, 25.739593505859375, 15.990367889404297, 11.271354675292969, 72.26345825195312, 36.383243560791016, 227.26333618164062, 19.32044219970703, 25.183683395385742, 102.17652893066406, 101.87385559082031, 139.917724609375, 159.57513427734375, 15.159948348999023, 135.177734375, 74.4542465209961, 49.67022705078125, 173.32237243652344, 176.9093017578125, 15.89475154876709, 104.53340148925781, 179.4169464111328, 48.948482513427734, 144.31790161132812, 23.425893783569336, 90.10049438476562]\n"
     ]
    }
   ],
   "source": [
    "print(\"Predicted Data\")\n",
    "print(test_data_prediction.tolist())"
   ]
  },
  {
   "cell_type": "code",
   "execution_count": 106,
   "metadata": {},
   "outputs": [
    {
     "name": "stdout",
     "output_type": "stream",
     "text": [
      "Original Data\n",
      "\n",
      "[127.0, 224.0, 38.0, 6.0, 137.0, 27.0, 60.0, 58.0, 108.0, 31.0, 92.0, 115.0, 119.0, 8.0, 91.0, 48.0, 23.0, 119.0, 30.0, 92.0, 22.0, 4.0, 68.0, 163.0, 54.0, 207.0, 39.0, 123.0, 66.0, 34.0, 21.0, 154.0, 25.0, 15.0, 120.0, 119.0, 126.0, 225.0, 25.0, 143.0, 99.0, 181.0, 148.0, 194.0, 63.0, 67.0, 55.0, 192.0, 192.0, 10.0, 23.0, 131.0, 27.0, 168.0, 141.0, 106.0, 155.0, 104.0, 211.0, 81.0, 37.0, 153.0, 33.0, 3.0, 26.0, 257.0, 21.0, 61.0, 68.0, 236.0, 94.0, 20.0, 117.0, 22.0, 109.0, 194.0, 249.0, 63.0, 33.0, 68.0, 153.0, 25.0, 45.0, 88.0, 112.0, 57.0, 114.0, 181.0, 53.0, 182.0, 23.0, 50.0, 72.0, 116.0, 73.0, 97.0, 60.0, 95.0, 41.0, 77.0, 2.0, 16.0, 165.0, 190.0, 178.0, 46.0, 110.0, 51.0, 11.0, 77.0, 230.0, 70.0, 91.0, 84.0, 9.0, 102.0, 113.0, 33.0, 85.0, 182.0, 126.0, 35.0, 83.0, 56.0, 46.0, 57.0, 36.0, 79.0, 177.0, 93.0, 133.0, 39.0, 137.0, 151.0, 314.0, 95.0, 13.0, 48.0, 177.0, 199.0, 159.0, 45.0, 43.0, 113.0, 111.0, 47.0, 101.0, 25.0, 31.0, 45.0, 32.0, 182.0, 127.0, 79.0, 44.0, 30.0, 106.0, 181.0, 19.0, 26.0, 90.0, 150.0, 119.0, 48.0, 57.0, 142.0, 34.0, 221.0, 180.0, 150.0, 10.0, 15.0, 106.0, 25.0, 211.0, 142.0, 158.0, 132.0, 40.0, 17.0, 223.0, 144.0, 59.0, 92.0, 25.0, 97.0, 26.0, 152.0, 82.0, 202.0, 235.0, 71.0, 76.0, 13.0, 142.0, 162.0, 79.0, 107.0, 8.0, 135.0, 23.0, 109.0, 28.0, 97.0, 54.0, 130.0, 3.0, 64.0, 13.0, 22.0, 11.0, 122.0, 61.0, 110.0, 123.0, 66.0, 154.0, 91.0, 13.0, 10.0, 179.0, 58.0, 126.0, 26.0, 105.0, 62.0, 63.0, 64.0, 49.0, 73.0, 9.0, 104.0, 110.0, 40.0, 17.0, 93.0, 71.0, 232.0, 240.0, 59.0, 48.0, 162.0, 9.0, 173.0, 146.0, 229.0, 47.0, 45.0, 144.0, 96.0, 8.0, 171.0, 36.0, 74.0, 106.0, 38.0, 69.0, 53.0, 67.0, 131.0, 198.0, 121.0, 69.0, 203.0, 148.0, 101.0, 59.0, 52.0, 143.0, 104.0, 105.0, 27.0, 155.0, 59.0, 69.0, 81.0, 161.0, 152.0, 176.0, 264.0, 89.0, 64.0, 59.0, 21.0, 16.0, 33.0, 50.0, 187.0, 99.0, 19.0, 43.0, 132.0, 36.0, 185.0, 141.0, 158.0, 131.0, 36.0, 137.0, 38.0, 88.0, 232.0, 116.0, 15.0, 107.0, 69.0, 60.0, 44.0, 67.0, 41.0, 101.0, 210.0, 24.0, 101.0, 28.0, 100.0, 20.0, 110.0, 27.0, 148.0, 75.0, 15.0, 51.0, 51.0, 41.0, 137.0, 30.0, 15.0, 58.0, 117.0, 83.0, 53.0, 27.0, 51.0, 106.0, 193.0, 138.0, 77.0, 160.0, 84.0, 93.0, 54.0, 211.0, 56.0, 104.0, 214.0, 155.0, 212.0, 193.0, 18.0, 139.0, 98.0, 170.0, 190.0, 23.0, 66.0, 12.0, 55.0, 44.0, 80.0, 135.0, 105.0, 207.0, 94.0, 7.0, 185.0, 33.0, 136.0, 96.0, 102.0, 54.0, 133.0, 259.0, 206.0, 73.0, 53.0, 40.0, 195.0, 70.0, 131.0, 13.0, 160.0, 30.0, 22.0, 195.0, 204.0, 21.0, 125.0, 28.0, 14.0, 183.0, 22.0, 129.0, 55.0, 118.0, 84.0, 123.0, 31.0, 47.0, 22.0, 22.0, 20.0, 52.0, 203.0, 166.0, 259.0, 194.0, 35.0, 23.0, 59.0, 61.0, 92.0, 8.0, 198.0, 90.0, 51.0, 34.0, 63.0, 132.0, 54.0, 106.0, 111.0, 141.0, 26.0, 45.0, 200.0, 89.0, 55.0, 125.0, 141.0, 172.0, 189.0, 66.0, 98.0, 67.0, 168.0, 46.0, 16.0, 11.0, 5.0, 172.0, 49.0, 129.0, 128.0, 22.0, 10.0, 35.0, 125.0, 128.0, 157.0, 108.0, 8.0, 47.0, 112.0, 84.0, 20.0, 195.0, 136.0, 111.0, 177.0, 61.0, 70.0, 41.0, 97.0, 90.0, 98.0, 2.0, 174.0, 77.0, 31.0, 5.0, 17.0, 164.0, 28.0, 74.0, 12.0, 191.0, 78.0, 19.0, 144.0, 112.0, 8.0, 91.0, 17.0, 129.0, 35.0, 18.0, 86.0, 101.0, 164.0, 50.0, 17.0, 10.0, 46.0, 125.0, 3.0, 5.0, 117.0, 90.0, 48.0, 112.0, 55.0, 212.0, 11.0, 173.0, 50.0, 196.0, 9.0, 9.0, 132.0, 7.0, 12.0, 23.0, 84.0, 75.0, 108.0, 156.0, 64.0, 31.0, 53.0, 75.0, 18.0, 11.0, 25.0, 127.0, 14.0, 68.0, 127.0, 198.0, 129.0, 206.0, 16.0, 240.0, 22.0, 137.0, 13.0, 36.0, 34.0, 36.0, 22.0, 117.0, 133.0, 124.0, 142.0, 1.0, 7.0, 37.0, 13.0, 11.0, 85.0, 147.0, 13.0, 110.0, 177.0, 65.0, 104.0, 164.0, 19.0, 211.0, 74.0, 76.0, 18.0, 171.0, 227.0, 22.0, 5.0, 105.0, 17.0, 16.0, 34.0, 58.0, 9.0, 43.0, 126.0, 16.0, 62.0, 198.0, 53.0, 164.0, 172.0, 98.0, 217.0, 64.0, 138.0, 144.0, 48.0, 215.0, 71.0, 114.0, 62.0, 115.0, 37.0, 24.0, 25.0, 142.0, 27.0, 212.0, 65.0, 21.0, 80.0, 141.0, 27.0, 81.0, 156.0, 46.0, 1.0, 280.0, 135.0, 108.0, 93.0, 104.0, 203.0, 103.0, 159.0, 52.0, 116.0, 59.0, 131.0, 139.0, 119.0, 90.0, 90.0, 75.0, 199.0, 132.0, 17.0, 117.0, 28.0, 140.0, 83.0, 174.0, 89.0, 47.0, 31.0, 146.0, 157.0, 21.0, 67.0, 100.0, 201.0, 12.0, 85.0, 41.0, 82.0, 28.0, 29.0, 52.0, 62.0, 51.0, 151.0, 100.0, 5.0, 112.0, 53.0, 6.0, 147.0, 96.0, 80.0, 111.0, 22.0, 79.0, 68.0, 17.0, 12.0, 206.0, 191.0, 80.0, 106.0, 5.0, 5.0, 173.0, 161.0, 3.0, 248.0, 55.0, 100.0, 64.0, 65.0, 43.0, 160.0, 50.0, 123.0, 187.0, 31.0, 29.0, 34.0, 149.0, 93.0, 65.0, 131.0, 128.0, 135.0, 148.0, 116.0, 115.0, 100.0, 56.0, 64.0, 169.0, 91.0, 103.0, 142.0, 77.0, 30.0, 142.0, 38.0, 44.0, 46.0, 161.0, 109.0, 100.0, 42.0, 118.0, 36.0, 178.0, 38.0, 91.0, 31.0, 129.0, 120.0, 158.0, 42.0, 144.0, 118.0, 189.0, 97.0, 143.0, 67.0, 7.0, 193.0, 180.0, 3.0, 8.0, 44.0, 38.0, 150.0, 57.0, 151.0, 94.0, 172.0, 58.0, 146.0, 72.0, 129.0, 184.0, 12.0, 123.0, 9.0, 42.0, 27.0, 118.0, 22.0, 230.0, 98.0, 64.0, 178.0, 16.0, 102.0, 73.0, 66.0, 44.0, 22.0, 108.0, 34.0, 152.0, 15.0, 190.0, 30.0, 101.0, 91.0, 109.0, 200.0, 63.0, 158.0, 72.0, 23.0, 41.0, 147.0, 121.0, 4.0, 52.0, 29.0, 181.0, 161.0, 76.0, 85.0, 147.0, 78.0, 5.0, 4.0, 144.0, 103.0, 112.0, 123.0, 148.0, 241.0, 22.0, 72.0, 25.0, 96.0, 42.0, 69.0, 5.0, 30.0, 102.0, 58.0, 163.0, 82.0, 99.0, 86.0, 135.0, 53.0, 12.0, 76.0, 202.0, 105.0, 190.0, 105.0, 119.0, 16.0, 16.0, 57.0, 168.0, 194.0, 97.0, 183.0, 36.0, 15.0, 18.0, 231.0, 20.0, 126.0, 21.0, 91.0, 101.0, 151.0, 128.0, 33.0, 44.0, 126.0, 81.0, 51.0, 85.0, 67.0, 43.0, 133.0, 80.0, 222.0, 175.0, 188.0, 11.0, 80.0, 134.0, 9.0, 46.0, 155.0, 30.0, 137.0, 132.0, 98.0, 74.0, 46.0, 19.0, 50.0, 47.0, 79.0, 132.0, 125.0, 141.0, 16.0, 38.0, 149.0, 82.0, 195.0, 111.0, 189.0, 129.0, 159.0, 41.0, 43.0, 62.0, 154.0, 238.0, 74.0, 83.0, 119.0, 18.0, 165.0, 13.0, 24.0, 33.0, 57.0, 170.0, 43.0, 150.0, 69.0, 93.0, 43.0, 106.0, 201.0, 168.0, 38.0, 157.0, 131.0, 186.0, 128.0, 170.0, 41.0, 83.0, 66.0, 22.0, 7.0, 25.0, 199.0, 221.0, 174.0, 170.0, 135.0, 84.0, 149.0, 120.0, 42.0, 166.0, 233.0, 163.0, 23.0, 49.0, 22.0, 31.0, 180.0, 79.0, 153.0, 81.0, 95.0, 52.0, 21.0, 33.0, 30.0, 143.0, 120.0, 26.0, 73.0, 94.0, 12.0, 67.0, 61.0, 70.0, 114.0, 25.0, 207.0, 158.0, 131.0, 131.0, 3.0, 145.0, 105.0, 18.0, 151.0, 188.0, 59.0, 27.0, 51.0, 33.0, 109.0, 157.0, 34.0, 146.0, 180.0, 10.0, 212.0, 175.0, 64.0, 110.0, 110.0, 169.0, 57.0, 44.0, 78.0, 121.0, 21.0, 97.0, 7.0, 32.0, 50.0, 105.0, 118.0, 63.0, 17.0, 54.0, 137.0, 194.0, 203.0, 175.0, 24.0, 7.0, 73.0, 24.0, 106.0, 188.0, 41.0, 172.0, 115.0, 197.0, 82.0, 22.0, 101.0, 65.0, 66.0, 104.0, 14.0, 135.0, 141.0, 65.0, 82.0, 56.0, 204.0, 16.0, 175.0, 23.0, 130.0, 184.0, 42.0, 128.0, 22.0, 81.0, 59.0, 38.0, 59.0, 19.0, 112.0, 104.0, 74.0, 50.0, 230.0, 197.0, 100.0, 87.0, 17.0, 36.0, 53.0, 30.0, 113.0, 17.0, 135.0, 105.0, 40.0, 167.0, 103.0, 113.0, 10.0, 211.0, 37.0, 41.0, 10.0, 79.0, 88.0, 16.0, 201.0, 209.0, 114.0, 11.0, 3.0, 162.0, 25.0, 53.0, 4.0, 32.0, 66.0, 7.0, 118.0, 52.0, 203.0, 26.0, 42.0, 88.0, 68.0, 108.0, 199.0, 110.0, 57.0, 38.0, 64.0, 56.0, 31.0, 49.0, 7.0, 77.0, 155.0, 81.0, 100.0, 61.0, 156.0, 113.0, 169.0, 100.0, 76.0, 74.0, 143.0, 28.0, 66.0, 121.0, 68.0, 80.0, 193.0, 113.0, 144.0, 243.0, 110.0, 24.0, 47.0, 107.0, 195.0, 2.0, 120.0, 32.0, 5.0, 121.0, 226.0, 236.0, 96.0, 134.0, 58.0, 17.0, 24.0, 52.0, 70.0, 102.0, 103.0, 44.0, 87.0, 191.0, 125.0, 34.0, 16.0, 176.0, 108.0, 35.0, 9.0, 98.0, 71.0, 4.0, 20.0, 94.0, 148.0, 6.0, 48.0, 7.0, 37.0, 223.0, 76.0, 80.0, 126.0, 42.0, 35.0, 63.0, 145.0, 12.0, 37.0, 67.0, 58.0, 180.0, 131.0, 172.0, 115.0, 18.0, 12.0, 71.0, 124.0, 173.0, 48.0, 9.0, 108.0, 39.0, 93.0, 110.0, 3.0, 147.0, 14.0, 67.0, 56.0, 40.0, 9.0, 79.0, 143.0, 149.0, 67.0, 77.0, 117.0, 7.0, 159.0, 115.0, 93.0, 77.0, 135.0, 123.0, 163.0, 59.0, 35.0, 21.0, 135.0, 81.0, 122.0, 25.0, 30.0, 153.0, 94.0, 209.0, 33.0, 44.0, 90.0, 40.0, 139.0, 32.0, 5.0, 160.0, 134.0, 164.0, 90.0, 35.0, 50.0, 60.0, 54.0, 57.0, 200.0, 12.0, 169.0, 167.0, 145.0, 238.0, 161.0, 152.0, 4.0, 20.0, 35.0, 41.0, 192.0, 180.0, 85.0, 171.0, 209.0, 10.0, 13.0, 55.0, 40.0, 189.0, 6.0, 26.0, 117.0, 188.0, 140.0, 71.0, 153.0, 18.0, 231.0, 136.0, 137.0, 124.0, 67.0, 42.0, 137.0, 12.0, 60.0, 186.0, 10.0, 96.0, 155.0, 20.0, 132.0, 18.0, 41.0, 114.0, 23.0, 43.0, 30.0, 219.0, 42.0, 124.0, 84.0, 17.0, 52.0, 148.0, 13.0, 78.0, 35.0, 187.0, 67.0, 32.0, 51.0, 190.0, 192.0, 173.0, 60.0, 165.0, 17.0, 12.0, 157.0, 185.0, 183.0, 20.0, 84.0, 162.0, 126.0, 170.0, 51.0, 102.0, 131.0, 12.0, 10.0, 80.0, 161.0, 123.0, 116.0, 55.0, 12.0, 194.0, 88.0, 8.0, 48.0, 51.0, 21.0, 61.0, 205.0, 28.0, 192.0, 84.0, 194.0, 113.0, 95.0, 104.0, 239.0, 203.0, 8.0, 6.0, 17.0, 29.0, 148.0, 23.0, 6.0, 118.0, 29.0, 67.0, 11.0, 171.0, 85.0, 25.0, 115.0, 126.0, 175.0, 100.0, 125.0, 30.0, 93.0, 22.0, 85.0, 31.0, 136.0, 32.0, 178.0, 31.0, 22.0, 78.0, 83.0, 29.0, 58.0, 130.0, 151.0, 14.0, 30.0, 158.0, 119.0, 49.0, 53.0, 54.0, 90.0, 164.0, 19.0, 163.0, 82.0, 9.0, 200.0, 40.0, 141.0, 7.0, 52.0, 37.0, 45.0, 166.0, 53.0, 14.0, 43.0, 69.0, 186.0, 113.0, 23.0, 81.0, 66.0, 142.0, 86.0, 20.0, 25.0, 12.0, 63.0, 149.0, 96.0, 26.0, 57.0, 31.0, 39.0, 59.0, 95.0, 108.0, 189.0, 77.0, 3.0, 206.0, 152.0, 28.0, 66.0, 201.0, 45.0, 78.0, 43.0, 168.0, 5.0, 198.0, 9.0, 91.0, 172.0, 21.0, 20.0, 223.0, 37.0, 52.0, 12.0, 92.0, 94.0, 62.0, 121.0, 142.0, 54.0, 74.0, 83.0, 186.0, 111.0, 60.0, 142.0, 102.0, 89.0, 52.0, 100.0, 128.0, 25.0, 112.0, 99.0, 154.0, 75.0, 28.0, 4.0, 151.0, 24.0, 21.0, 179.0, 14.0, 33.0, 99.0, 5.0, 2.0, 184.0, 99.0, 9.0, 7.0, 17.0, 12.0, 52.0, 21.0, 39.0, 179.0, 103.0, 86.0, 129.0, 123.0, 187.0, 80.0, 103.0, 86.0, 141.0, 136.0, 62.0, 48.0, 62.0, 45.0, 138.0, 108.0, 221.0, 77.0, 8.0, 108.0, 55.0, 69.0, 179.0, 14.0, 98.0, 15.0, 42.0, 114.0, 21.0, 119.0, 47.0, 60.0, 72.0, 74.0, 93.0, 238.0, 47.0, 12.0, 10.0, 20.0, 128.0, 148.0, 138.0, 44.0, 137.0, 29.0, 69.0, 29.0, 214.0, 66.0, 59.0, 121.0, 43.0, 93.0, 63.0, 181.0, 48.0, 23.0, 154.0, 31.0, 32.0, 165.0, 39.0, 13.0, 15.0, 31.0, 29.0, 14.0, 133.0, 24.0, 223.0, 70.0, 59.0, 83.0, 104.0, 143.0, 173.0, 52.0, 13.0, 105.0, 34.0, 121.0, 212.0, 69.0, 74.0, 178.0, 83.0, 21.0, 99.0, 30.0, 42.0, 68.0, 152.0, 65.0, 214.0, 133.0, 48.0, 38.0, 32.0, 165.0, 67.0, 120.0, 173.0, 17.0, 27.0, 43.0, 10.0, 7.0, 162.0, 145.0, 88.0, 6.0, 45.0, 37.0, 74.0, 86.0, 48.0, 91.0, 31.0, 8.0, 21.0, 106.0, 161.0, 24.0, 183.0, 100.0, 58.0, 77.0, 30.0, 76.0, 96.0, 20.0, 12.0, 183.0, 100.0, 130.0, 48.0, 67.0, 16.0, 185.0, 37.0, 162.0, 89.0, 210.0, 104.0, 11.0, 65.0, 175.0, 60.0, 105.0, 147.0, 121.0, 81.0, 198.0, 83.0, 41.0, 33.0, 183.0, 134.0, 131.0, 141.0, 29.0, 211.0, 12.0, 35.0, 53.0, 131.0, 108.0, 49.0, 24.0, 118.0, 37.0, 42.0, 111.0, 35.0, 138.0, 17.0, 62.0, 132.0, 170.0, 9.0, 101.0, 147.0, 24.0, 153.0, 22.0, 202.0, 75.0, 174.0, 11.0, 89.0, 42.0, 47.0, 105.0, 129.0, 57.0, 131.0, 61.0, 77.0, 16.0, 48.0, 182.0, 24.0, 91.0, 133.0, 150.0, 143.0, 71.0, 175.0, 79.0, 26.0, 67.0, 26.0, 55.0, 104.0, 57.0, 198.0, 230.0, 142.0, 169.0, 5.0, 42.0, 91.0, 57.0, 73.0, 15.0, 78.0, 3.0, 121.0, 19.0, 231.0, 70.0, 49.0, 85.0, 20.0, 86.0, 15.0, 59.0, 198.0, 171.0, 143.0, 171.0, 36.0, 10.0, 98.0, 7.0, 57.0, 116.0, 181.0, 165.0, 172.0, 104.0, 26.0, 20.0, 43.0, 214.0, 36.0, 107.0, 79.0, 56.0, 80.0, 13.0, 165.0, 125.0, 134.0, 19.0, 245.0, 16.0, 16.0, 181.0, 144.0, 175.0, 120.0, 149.0, 176.0, 10.0, 31.0, 149.0, 69.0, 120.0, 105.0, 13.0, 40.0, 125.0, 9.0, 18.0, 82.0, 73.0, 35.0, 186.0, 223.0, 183.0, 52.0, 48.0, 36.0, 35.0, 44.0, 113.0, 61.0, 5.0, 76.0, 70.0, 82.0, 153.0, 36.0, 228.0, 110.0, 62.0, 171.0, 36.0, 62.0, 80.0, 42.0, 165.0, 27.0, 17.0, 20.0, 114.0, 236.0, 66.0, 104.0, 39.0, 166.0, 108.0, 41.0, 10.0, 4.0, 41.0, 179.0, 73.0, 217.0, 136.0, 107.0, 49.0, 26.0, 20.0, 145.0, 10.0, 83.0, 71.0, 186.0, 166.0, 16.0, 230.0, 202.0, 28.0, 59.0, 61.0, 98.0, 143.0, 144.0, 59.0, 150.0, 28.0, 25.0, 9.0, 43.0, 191.0, 124.0, 147.0, 143.0, 210.0, 46.0, 130.0, 78.0, 11.0, 64.0, 92.0, 24.0, 156.0, 30.0, 92.0, 145.0, 122.0, 36.0, 231.0, 28.0, 179.0, 175.0, 120.0, 51.0, 132.0, 8.0, 65.0, 9.0, 25.0, 205.0, 145.0, 32.0, 110.0, 171.0, 183.0, 7.0, 107.0, 147.0, 60.0, 132.0, 72.0, 47.0, 115.0, 93.0, 36.0, 201.0, 11.0, 14.0, 170.0, 42.0, 14.0, 69.0, 137.0, 58.0, 73.0, 131.0, 88.0, 76.0, 148.0, 115.0, 138.0, 77.0, 122.0, 102.0, 6.0, 56.0, 118.0, 160.0, 147.0, 147.0, 69.0, 44.0, 229.0, 13.0, 156.0, 92.0, 40.0, 7.0, 84.0, 9.0, 119.0, 21.0, 63.0, 45.0, 87.0, 5.0, 158.0, 18.0, 7.0, 96.0, 133.0, 169.0, 161.0, 26.0, 104.0, 50.0, 187.0, 28.0, 88.0, 63.0, 6.0, 91.0, 181.0, 80.0, 80.0, 34.0, 42.0, 7.0, 145.0, 217.0, 4.0, 58.0, 164.0, 40.0, 128.0, 75.0, 26.0, 104.0, 188.0, 229.0, 151.0, 9.0, 252.0, 97.0, 98.0, 264.0, 161.0, 8.0, 18.0, 145.0, 13.0, 46.0, 33.0, 110.0, 94.0, 211.0, 89.0, 50.0, 92.0, 14.0, 131.0, 17.0, 73.0, 129.0, 187.0, 45.0, 57.0, 121.0, 56.0, 90.0, 149.0, 156.0, 158.0, 173.0, 78.0, 16.0, 14.0, 41.0, 35.0, 184.0, 131.0, 95.0, 188.0, 84.0, 27.0, 20.0, 19.0, 95.0, 15.0, 130.0, 185.0, 30.0, 39.0, 216.0, 64.0, 183.0, 133.0, 81.0, 158.0, 82.0, 3.0, 12.0, 65.0, 11.0, 146.0, 51.0, 41.0, 45.0, 89.0, 136.0, 52.0, 25.0, 8.0, 14.0, 67.0, 148.0, 205.0, 21.0, 81.0, 15.0, 66.0, 147.0, 99.0, 158.0, 72.0, 160.0, 79.0, 91.0, 91.0, 24.0, 72.0, 151.0, 30.0, 146.0, 38.0, 97.0, 84.0, 58.0, 22.0, 98.0, 87.0, 184.0, 87.0, 35.0, 132.0, 154.0, 151.0, 72.0, 138.0, 195.0, 155.0, 7.0, 16.0, 171.0, 164.0, 134.0, 117.0, 184.0, 138.0, 27.0, 63.0, 14.0, 15.0, 132.0, 40.0, 145.0, 20.0, 70.0, 28.0, 60.0, 117.0, 6.0, 77.0, 51.0, 119.0, 11.0, 56.0, 28.0, 22.0, 186.0, 141.0, 67.0, 74.0, 43.0, 19.0, 81.0, 112.0, 175.0, 147.0, 47.0, 3.0, 15.0, 22.0, 53.0, 171.0, 15.0, 73.0, 49.0, 71.0, 56.0, 25.0, 214.0, 19.0, 22.0, 64.0, 131.0, 149.0, 146.0, 20.0, 73.0, 88.0, 70.0, 181.0, 47.0, 69.0, 27.0, 3.0, 32.0, 62.0, 12.0, 116.0, 64.0, 47.0, 122.0, 227.0, 167.0, 123.0, 48.0, 104.0, 83.0, 72.0, 9.0, 85.0, 170.0, 32.0, 137.0, 166.0, 81.0, 87.0, 56.0, 82.0, 179.0, 20.0, 96.0, 77.0, 112.0, 73.0, 265.0, 17.0, 40.0, 123.0, 74.0, 49.0, 135.0, 17.0, 32.0, 83.0, 24.0, 146.0, 178.0, 124.0, 213.0, 168.0, 39.0, 145.0, 139.0, 41.0, 27.0, 166.0, 56.0, 182.0, 11.0, 13.0, 193.0, 76.0, 72.0, 68.0, 65.0, 177.0, 56.0, 206.0, 12.0, 109.0, 42.0, 27.0, 155.0, 184.0, 57.0, 90.0, 129.0, 84.0, 41.0, 165.0, 42.0, 86.0, 6.0, 110.0, 79.0, 111.0, 27.0, 188.0, 47.0, 98.0, 35.0, 6.0, 40.0, 133.0, 122.0, 151.0, 44.0, 213.0, 26.0, 76.0, 26.0, 76.0, 119.0, 96.0, 96.0, 143.0, 4.0, 139.0, 100.0, 8.0, 102.0, 29.0, 25.0, 159.0, 13.0, 23.0, 20.0, 150.0, 34.0, 96.0, 35.0, 94.0, 18.0, 94.0, 37.0, 201.0, 84.0, 131.0, 26.0, 12.0, 158.0, 65.0, 12.0, 26.0, 37.0, 7.0, 11.0, 61.0, 21.0, 18.0, 135.0, 120.0, 109.0, 75.0, 16.0, 7.0, 88.0, 32.0, 4.0, 13.0, 231.0, 202.0, 231.0, 180.0, 31.0, 64.0, 145.0, 223.0, 148.0, 89.0, 26.0, 259.0, 167.0, 75.0, 11.0, 69.0, 194.0, 12.0, 16.0, 10.0, 165.0, 75.0, 4.0, 113.0, 75.0, 155.0, 196.0, 92.0, 60.0, 7.0, 20.0, 180.0, 35.0, 151.0, 153.0, 126.0, 71.0, 81.0, 197.0, 14.0, 104.0, 15.0, 114.0, 10.0, 206.0, 48.0, 42.0, 42.0, 100.0, 54.0, 176.0, 29.0, 43.0, 138.0, 153.0, 11.0, 103.0, 26.0, 35.0, 65.0, 116.0, 115.0, 64.0, 133.0, 18.0, 62.0, 30.0, 91.0, 10.0, 183.0, 52.0, 71.0, 31.0, 3.0, 73.0, 26.0, 45.0, 153.0, 127.0, 70.0, 150.0, 203.0, 56.0, 120.0, 12.0, 183.0, 29.0, 190.0, 59.0, 134.0, 49.0, 164.0, 70.0, 130.0, 25.0, 102.0, 184.0, 32.0, 209.0, 37.0, 18.0, 124.0, 200.0, 58.0, 184.0, 10.0, 111.0, 7.0, 95.0, 143.0, 154.0, 47.0, 16.0, 105.0, 157.0, 163.0, 15.0, 124.0, 28.0, 24.0, 165.0, 38.0, 132.0, 106.0, 55.0, 43.0, 132.0, 6.0, 145.0, 211.0, 39.0, 167.0, 99.0, 48.0, 113.0, 27.0, 132.0, 79.0, 111.0, 53.0, 28.0, 143.0, 49.0, 37.0, 95.0, 182.0, 151.0, 42.0, 109.0, 93.0, 164.0, 59.0, 14.0, 49.0, 38.0, 141.0, 123.0, 86.0, 16.0, 91.0, 45.0, 10.0, 106.0, 27.0, 106.0, 119.0, 12.0, 36.0, 2.0, 107.0, 21.0, 85.0, 236.0, 220.0, 87.0, 9.0, 56.0, 27.0, 11.0, 207.0, 106.0, 121.0, 193.0, 11.0, 7.0, 88.0, 8.0, 176.0, 47.0, 75.0, 81.0, 54.0, 13.0, 173.0, 118.0, 54.0, 14.0, 65.0, 30.0, 69.0, 74.0, 35.0, 153.0, 30.0, 114.0, 80.0, 24.0, 68.0, 21.0, 38.0, 43.0, 6.0, 221.0, 168.0, 9.0, 68.0, 198.0, 59.0, 23.0, 5.0, 40.0, 117.0, 31.0, 104.0, 78.0, 41.0, 254.0, 6.0, 54.0, 54.0, 17.0, 103.0, 158.0, 118.0, 48.0, 104.0, 44.0, 198.0, 195.0, 83.0, 124.0, 56.0, 4.0, 196.0, 68.0, 34.0, 22.0, 120.0, 40.0, 64.0, 107.0, 189.0, 37.0, 77.0, 165.0, 37.0, 167.0, 13.0, 179.0, 110.0, 149.0, 76.0, 29.0, 63.0, 65.0, 43.0, 111.0, 35.0, 9.0, 35.0, 73.0, 146.0, 94.0, 191.0, 3.0, 197.0, 152.0, 246.0, 250.0, 145.0, 115.0, 41.0, 115.0, 112.0, 33.0, 177.0, 38.0, 186.0, 165.0, 98.0, 3.0, 65.0, 27.0, 25.0, 5.0, 31.0, 88.0, 11.0, 6.0, 37.0, 70.0, 152.0, 164.0, 177.0, 17.0, 63.0, 266.0, 73.0, 38.0, 232.0, 149.0, 9.0, 87.0, 195.0, 68.0, 28.0, 101.0, 150.0, 6.0, 53.0, 11.0, 130.0, 98.0, 23.0, 171.0, 9.0, 102.0, 53.0, 90.0, 11.0, 85.0, 107.0, 42.0, 125.0, 50.0, 43.0, 91.0, 59.0, 7.0, 141.0, 180.0, 11.0, 21.0, 160.0, 150.0, 29.0, 12.0, 113.0, 41.0, 41.0, 132.0, 30.0, 147.0, 55.0, 62.0, 55.0, 19.0, 47.0, 36.0, 72.0, 120.0, 22.0, 178.0, 63.0, 87.0, 23.0, 82.0, 22.0, 218.0, 86.0, 140.0, 24.0, 99.0, 39.0, 68.0, 4.0, 104.0, 149.0, 43.0, 66.0, 27.0, 5.0, 22.0, 186.0, 32.0, 117.0, 4.0, 80.0, 78.0, 117.0, 131.0, 11.0, 9.0, 195.0, 147.0, 17.0, 101.0, 78.0, 76.0, 222.0, 82.0, 151.0, 108.0, 192.0, 229.0, 9.0, 20.0, 196.0, 67.0, 71.0, 38.0, 93.0, 234.0, 32.0, 45.0, 87.0, 144.0, 136.0, 7.0, 15.0, 185.0, 108.0, 28.0, 187.0, 188.0, 210.0, 130.0, 52.0, 151.0, 38.0, 64.0, 10.0, 26.0, 7.0, 21.0, 40.0, 129.0, 37.0, 181.0, 188.0, 129.0, 22.0, 26.0, 177.0, 11.0, 84.0, 144.0, 107.0, 67.0, 59.0, 192.0, 146.0, 122.0, 132.0, 166.0, 29.0, 99.0, 203.0, 171.0, 91.0, 48.0, 19.0, 76.0, 58.0, 121.0, 52.0, 64.0, 67.0, 201.0, 41.0, 166.0, 111.0, 35.0, 151.0, 179.0, 31.0, 71.0, 64.0, 51.0, 255.0, 105.0, 29.0, 91.0, 26.0, 172.0, 26.0, 54.0, 29.0, 101.0, 3.0, 6.0, 75.0, 30.0, 36.0, 13.0, 170.0, 7.0, 146.0, 194.0, 26.0, 101.0, 101.0, 22.0, 19.0, 100.0, 197.0, 3.0, 183.0, 149.0, 69.0, 67.0, 99.0, 55.0, 42.0, 15.0, 20.0, 71.0, 76.0, 6.0, 132.0, 121.0, 223.0, 166.0, 196.0, 93.0, 69.0, 168.0, 48.0, 36.0, 187.0, 54.0, 212.0, 30.0, 6.0, 7.0, 80.0, 149.0, 49.0, 140.0, 164.0, 172.0, 38.0, 91.0, 242.0, 40.0, 36.0, 115.0, 181.0, 42.0, 177.0, 22.0, 37.0, 57.0, 11.0, 159.0, 70.0, 36.0, 17.0, 115.0, 39.0, 34.0, 35.0, 222.0, 46.0, 151.0, 41.0, 248.0, 36.0, 181.0, 181.0, 65.0, 58.0, 35.0, 40.0, 170.0, 214.0, 65.0, 173.0, 167.0, 172.0, 126.0, 106.0, 106.0, 116.0, 149.0, 7.0, 107.0, 33.0, 206.0, 55.0, 16.0, 95.0, 91.0, 123.0, 65.0, 49.0, 34.0, 87.0, 150.0, 141.0, 4.0, 55.0, 165.0, 43.0, 138.0, 82.0, 13.0, 15.0, 88.0, 105.0, 192.0, 39.0, 155.0, 123.0, 167.0, 10.0, 31.0, 62.0, 171.0, 92.0, 122.0, 25.0, 3.0, 136.0, 1.0, 7.0, 177.0, 201.0, 91.0, 119.0, 94.0, 216.0, 7.0, 162.0, 134.0, 62.0, 113.0, 13.0, 50.0, 33.0, 172.0, 71.0, 107.0, 276.0, 207.0, 216.0, 80.0, 54.0, 179.0, 124.0, 9.0, 181.0, 115.0, 174.0, 206.0, 56.0, 3.0, 10.0, 179.0, 192.0, 25.0, 58.0, 45.0, 172.0, 111.0, 107.0, 17.0, 29.0, 6.0, 194.0, 8.0, 108.0, 102.0, 28.0, 49.0, 8.0, 134.0, 166.0, 40.0, 116.0, 22.0, 91.0, 203.0, 184.0, 29.0, 211.0, 67.0, 39.0, 210.0, 13.0, 7.0, 9.0, 68.0, 81.0, 59.0, 125.0, 14.0, 56.0, 26.0, 16.0, 11.0, 74.0, 37.0, 221.0, 19.0, 25.0, 104.0, 103.0, 140.0, 158.0, 16.0, 139.0, 74.0, 49.0, 173.0, 171.0, 16.0, 110.0, 177.0, 49.0, 145.0, 24.0, 90.0]\n"
     ]
    }
   ],
   "source": [
    "print(\"Original Data\\n\")\n",
    "print(Y_test.tolist())"
   ]
  },
  {
   "cell_type": "markdown",
   "metadata": {},
   "source": [
    "Mean Absolute Error"
   ]
  },
  {
   "cell_type": "code",
   "execution_count": 99,
   "metadata": {},
   "outputs": [
    {
     "name": "stdout",
     "output_type": "stream",
     "text": [
      "Mean Absolute Error =  1.4833678883314132\n"
     ]
    }
   ],
   "source": [
    "mae = metrics.mean_absolute_error(Y_test, test_data_prediction)\n",
    "print(\"Mean Absolute Error = \", mae)"
   ]
  }
 ],
 "metadata": {
  "kernelspec": {
   "display_name": "base",
   "language": "python",
   "name": "python3"
  },
  "language_info": {
   "codemirror_mode": {
    "name": "ipython",
    "version": 3
   },
   "file_extension": ".py",
   "mimetype": "text/x-python",
   "name": "python",
   "nbconvert_exporter": "python",
   "pygments_lexer": "ipython3",
   "version": "3.12.1"
  }
 },
 "nbformat": 4,
 "nbformat_minor": 2
}
